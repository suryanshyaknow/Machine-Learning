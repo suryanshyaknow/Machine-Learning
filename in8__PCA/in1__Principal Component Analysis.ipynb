{
 "cells": [
  {
   "cell_type": "markdown",
   "id": "ea259f82",
   "metadata": {},
   "source": [
    "## # PCA implemented manually:"
   ]
  },
  {
   "cell_type": "code",
   "execution_count": 1,
   "id": "deeb3a13",
   "metadata": {},
   "outputs": [],
   "source": [
    "import pandas as pd\n",
    "import numpy as np\n",
    "from sklearn.preprocessing import StandardScaler\n",
    "import seaborn as sns\n",
    "import matplotlib.pyplot as plt"
   ]
  },
  {
   "cell_type": "code",
   "execution_count": 2,
   "id": "5f7f4f9c",
   "metadata": {},
   "outputs": [
    {
     "data": {
      "text/plain": [
       "array([[ 3,  7],\n",
       "       [-4, -6],\n",
       "       [ 7,  8],\n",
       "       [ 1, -1],\n",
       "       [-4, -1],\n",
       "       [-3, -7]])"
      ]
     },
     "execution_count": 2,
     "metadata": {},
     "output_type": "execute_result"
    }
   ],
   "source": [
    "A = np.array([\n",
    "    [3, 7],\n",
    "    [-4, -6],\n",
    "    [7, 8],\n",
    "    [1, -1], \n",
    "    [-4, -1],\n",
    "    [-3, -7]\n",
    "])\n",
    "A"
   ]
  },
  {
   "cell_type": "code",
   "execution_count": 3,
   "id": "15372630",
   "metadata": {},
   "outputs": [
    {
     "data": {
      "text/html": [
       "<div>\n",
       "<style scoped>\n",
       "    .dataframe tbody tr th:only-of-type {\n",
       "        vertical-align: middle;\n",
       "    }\n",
       "\n",
       "    .dataframe tbody tr th {\n",
       "        vertical-align: top;\n",
       "    }\n",
       "\n",
       "    .dataframe thead th {\n",
       "        text-align: right;\n",
       "    }\n",
       "</style>\n",
       "<table border=\"1\" class=\"dataframe\">\n",
       "  <thead>\n",
       "    <tr style=\"text-align: right;\">\n",
       "      <th></th>\n",
       "      <th>A0</th>\n",
       "      <th>A1</th>\n",
       "    </tr>\n",
       "  </thead>\n",
       "  <tbody>\n",
       "    <tr>\n",
       "      <th>0</th>\n",
       "      <td>3</td>\n",
       "      <td>7</td>\n",
       "    </tr>\n",
       "    <tr>\n",
       "      <th>1</th>\n",
       "      <td>-4</td>\n",
       "      <td>-6</td>\n",
       "    </tr>\n",
       "    <tr>\n",
       "      <th>2</th>\n",
       "      <td>7</td>\n",
       "      <td>8</td>\n",
       "    </tr>\n",
       "    <tr>\n",
       "      <th>3</th>\n",
       "      <td>1</td>\n",
       "      <td>-1</td>\n",
       "    </tr>\n",
       "    <tr>\n",
       "      <th>4</th>\n",
       "      <td>-4</td>\n",
       "      <td>-1</td>\n",
       "    </tr>\n",
       "    <tr>\n",
       "      <th>5</th>\n",
       "      <td>-3</td>\n",
       "      <td>-7</td>\n",
       "    </tr>\n",
       "  </tbody>\n",
       "</table>\n",
       "</div>"
      ],
      "text/plain": [
       "   A0  A1\n",
       "0   3   7\n",
       "1  -4  -6\n",
       "2   7   8\n",
       "3   1  -1\n",
       "4  -4  -1\n",
       "5  -3  -7"
      ]
     },
     "execution_count": 3,
     "metadata": {},
     "output_type": "execute_result"
    }
   ],
   "source": [
    "df = pd.DataFrame(A, columns=['A0', 'A1'])\n",
    "df"
   ]
  },
  {
   "cell_type": "markdown",
   "id": "a824be87",
   "metadata": {},
   "source": [
    "### Note: `First and foremost we're supposed to standard normalize the data no matter what.`"
   ]
  },
  {
   "cell_type": "code",
   "execution_count": 4,
   "id": "200eada1",
   "metadata": {},
   "outputs": [
    {
     "name": "stderr",
     "output_type": "stream",
     "text": [
      "C:\\Users\\Admin\\anaconda3\\lib\\site-packages\\seaborn\\distributions.py:2619: FutureWarning: `distplot` is a deprecated function and will be removed in a future version. Please adapt your code to use either `displot` (a figure-level function with similar flexibility) or `histplot` (an axes-level function for histograms).\n",
      "  warnings.warn(msg, FutureWarning)\n"
     ]
    },
    {
     "data": {
      "text/plain": [
       "<AxesSubplot:ylabel='Density'>"
      ]
     },
     "execution_count": 4,
     "metadata": {},
     "output_type": "execute_result"
    },
    {
     "data": {
      "image/png": "[encoded data removed]",
      "text/plain": [
       "<Figure size 432x288 with 1 Axes>"
      ]
     },
     "metadata": {
      "needs_background": "light"
     },
     "output_type": "display_data"
    }
   ],
   "source": [
    "sns.distplot(df)"
   ]
  },
  {
   "cell_type": "markdown",
   "id": "4e2634a4",
   "metadata": {},
   "source": [
    "## `Covariance` and `Correlation` are two terms that are opposed and are both used in statistics and regression analysis. \n",
    "- ### `Covariance` shows you how the two variables differ, \n",
    "- ### whereas `Correlation` shows you how the two variables are related."
   ]
  },
  {
   "cell_type": "markdown",
   "id": "2c232b74",
   "metadata": {},
   "source": [
    "### # Covariance:"
   ]
  },
  {
   "cell_type": "code",
   "execution_count": 5,
   "id": "d56b959f",
   "metadata": {},
   "outputs": [
    {
     "data": {
      "text/html": [
       "<div>\n",
       "<style scoped>\n",
       "    .dataframe tbody tr th:only-of-type {\n",
       "        vertical-align: middle;\n",
       "    }\n",
       "\n",
       "    .dataframe tbody tr th {\n",
       "        vertical-align: top;\n",
       "    }\n",
       "\n",
       "    .dataframe thead th {\n",
       "        text-align: right;\n",
       "    }\n",
       "</style>\n",
       "<table border=\"1\" class=\"dataframe\">\n",
       "  <thead>\n",
       "    <tr style=\"text-align: right;\">\n",
       "      <th></th>\n",
       "      <th>A0</th>\n",
       "      <th>A1</th>\n",
       "    </tr>\n",
       "  </thead>\n",
       "  <tbody>\n",
       "    <tr>\n",
       "      <th>A0</th>\n",
       "      <td>20.0</td>\n",
       "      <td>25.0</td>\n",
       "    </tr>\n",
       "    <tr>\n",
       "      <th>A1</th>\n",
       "      <td>25.0</td>\n",
       "      <td>40.0</td>\n",
       "    </tr>\n",
       "  </tbody>\n",
       "</table>\n",
       "</div>"
      ],
      "text/plain": [
       "      A0    A1\n",
       "A0  20.0  25.0\n",
       "A1  25.0  40.0"
      ]
     },
     "execution_count": 5,
     "metadata": {},
     "output_type": "execute_result"
    }
   ],
   "source": [
    "df.cov()"
   ]
  },
  {
   "cell_type": "code",
   "execution_count": 6,
   "id": "3f8ede88",
   "metadata": {},
   "outputs": [
    {
     "data": {
      "text/plain": [
       "array([[ 3,  7],\n",
       "       [-4, -6],\n",
       "       [ 7,  8],\n",
       "       [ 1, -1],\n",
       "       [-4, -1],\n",
       "       [-3, -7]])"
      ]
     },
     "execution_count": 6,
     "metadata": {},
     "output_type": "execute_result"
    }
   ],
   "source": [
    "A"
   ]
  },
  {
   "cell_type": "code",
   "execution_count": 7,
   "id": "1ba5e371",
   "metadata": {},
   "outputs": [
    {
     "data": {
      "text/plain": [
       "array([[20., 25.],\n",
       "       [25., 40.]])"
      ]
     },
     "execution_count": 7,
     "metadata": {},
     "output_type": "execute_result"
    }
   ],
   "source": [
    "### Covariance also = Transposeof(A) * A / n-1\n",
    "\n",
    "sigma = A.T @ A/ (len(A)-1)\n",
    "sigma"
   ]
  },
  {
   "cell_type": "code",
   "execution_count": 8,
   "id": "a08bc1e9",
   "metadata": {},
   "outputs": [
    {
     "data": {
      "text/plain": [
       "(array([ 3.07417596, 56.92582404]),\n",
       " array([[-0.82806723, -0.56062881],\n",
       "        [ 0.56062881, -0.82806723]]))"
      ]
     },
     "execution_count": 8,
     "metadata": {},
     "output_type": "execute_result"
    }
   ],
   "source": [
    "### Computing the eigenvalues and right eigenvectors of a square array i.e. the `Cov` matrix here \n",
    "\n",
    "np.linalg.eig(sigma)"
   ]
  },
  {
   "cell_type": "code",
   "execution_count": 9,
   "id": "4adaf77d",
   "metadata": {},
   "outputs": [
    {
     "data": {
      "text/plain": [
       "array([ 3.07417596, 56.92582404])"
      ]
     },
     "execution_count": 9,
     "metadata": {},
     "output_type": "execute_result"
    }
   ],
   "source": [
    "### Computing the eigenvalues and right eigenvectors of a square array i.e. the `Cov` matrix here \n",
    "\n",
    "vals, vecs = np.linalg.eig(sigma)\n",
    "vals # principal components"
   ]
  },
  {
   "cell_type": "markdown",
   "id": "8a3402ce",
   "metadata": {},
   "source": [
    "### Note: The `PC1 (the First Principal Component)` will be `the higher val of Lambda`. And accordingly the <br><br>corrosponding vector will be the respective `Principal Component`."
   ]
  },
  {
   "cell_type": "code",
   "execution_count": 10,
   "id": "b2a59e29",
   "metadata": {},
   "outputs": [
    {
     "data": {
      "text/plain": [
       "array([ 3.07417596, 56.92582404])"
      ]
     },
     "execution_count": 10,
     "metadata": {},
     "output_type": "execute_result"
    }
   ],
   "source": [
    "vals # EigenVals"
   ]
  },
  {
   "cell_type": "code",
   "execution_count": 13,
   "id": "f21e4db3",
   "metadata": {},
   "outputs": [
    {
     "data": {
      "text/html": [
       "<div>\n",
       "<style scoped>\n",
       "    .dataframe tbody tr th:only-of-type {\n",
       "        vertical-align: middle;\n",
       "    }\n",
       "\n",
       "    .dataframe tbody tr th {\n",
       "        vertical-align: top;\n",
       "    }\n",
       "\n",
       "    .dataframe thead th {\n",
       "        text-align: right;\n",
       "    }\n",
       "</style>\n",
       "<table border=\"1\" class=\"dataframe\">\n",
       "  <thead>\n",
       "    <tr style=\"text-align: right;\">\n",
       "      <th></th>\n",
       "      <th>0</th>\n",
       "      <th>1</th>\n",
       "    </tr>\n",
       "  </thead>\n",
       "  <tbody>\n",
       "    <tr>\n",
       "      <th>0</th>\n",
       "      <td>-0.828067</td>\n",
       "      <td>-0.560629</td>\n",
       "    </tr>\n",
       "    <tr>\n",
       "      <th>1</th>\n",
       "      <td>0.560629</td>\n",
       "      <td>-0.828067</td>\n",
       "    </tr>\n",
       "  </tbody>\n",
       "</table>\n",
       "</div>"
      ],
      "text/plain": [
       "          0         1\n",
       "0 -0.828067 -0.560629\n",
       "1  0.560629 -0.828067"
      ]
     },
     "execution_count": 13,
     "metadata": {},
     "output_type": "execute_result"
    }
   ],
   "source": [
    "pd.DataFrame(vecs) # EigenVecs"
   ]
  },
  {
   "cell_type": "code",
   "execution_count": 14,
   "id": "8034f9b2",
   "metadata": {},
   "outputs": [
    {
     "name": "stdout",
     "output_type": "stream",
     "text": [
      "The PC1: \n"
     ]
    },
    {
     "data": {
      "text/plain": [
       "array([ -7.47835704,   7.21091862, -10.54893951,   0.26743842,\n",
       "         3.07058247,   7.47835704])"
      ]
     },
     "execution_count": 14,
     "metadata": {},
     "output_type": "execute_result"
    }
   ],
   "source": [
    "### First Principal Component, PC1\n",
    "\n",
    "print(\"The PC1: \")\n",
    "A @ vecs[:, 1] # because of the higher eigen value"
   ]
  },
  {
   "cell_type": "code",
   "execution_count": 15,
   "id": "9545e1c9",
   "metadata": {},
   "outputs": [
    {
     "name": "stdout",
     "output_type": "stream",
     "text": [
      "The PC2: \n"
     ]
    },
    {
     "data": {
      "text/plain": [
       "array([ 1.44019997, -0.05150393, -1.31144014, -1.38869604,  2.75164011,\n",
       "       -1.44019997])"
      ]
     },
     "execution_count": 15,
     "metadata": {},
     "output_type": "execute_result"
    }
   ],
   "source": [
    "### Second Principal Component, PC2\n",
    "\n",
    "print(\"The PC2: \")\n",
    "A @ vecs[:, 0] # because of the lower eigen value"
   ]
  },
  {
   "cell_type": "code",
   "execution_count": 16,
   "id": "bbb92acc",
   "metadata": {},
   "outputs": [
    {
     "data": {
      "text/html": [
       "<div>\n",
       "<style scoped>\n",
       "    .dataframe tbody tr th:only-of-type {\n",
       "        vertical-align: middle;\n",
       "    }\n",
       "\n",
       "    .dataframe tbody tr th {\n",
       "        vertical-align: top;\n",
       "    }\n",
       "\n",
       "    .dataframe thead th {\n",
       "        text-align: right;\n",
       "    }\n",
       "</style>\n",
       "<table border=\"1\" class=\"dataframe\">\n",
       "  <thead>\n",
       "    <tr style=\"text-align: right;\">\n",
       "      <th></th>\n",
       "      <th>0</th>\n",
       "      <th>1</th>\n",
       "    </tr>\n",
       "  </thead>\n",
       "  <tbody>\n",
       "    <tr>\n",
       "      <th>0</th>\n",
       "      <td>20.0</td>\n",
       "      <td>25.0</td>\n",
       "    </tr>\n",
       "    <tr>\n",
       "      <th>1</th>\n",
       "      <td>25.0</td>\n",
       "      <td>40.0</td>\n",
       "    </tr>\n",
       "  </tbody>\n",
       "</table>\n",
       "</div>"
      ],
      "text/plain": [
       "      0     1\n",
       "0  20.0  25.0\n",
       "1  25.0  40.0"
      ]
     },
     "execution_count": 16,
     "metadata": {},
     "output_type": "execute_result"
    }
   ],
   "source": [
    "pd.DataFrame(A).cov()"
   ]
  },
  {
   "cell_type": "markdown",
   "id": "d304543f",
   "metadata": {},
   "source": [
    "### # Let's try to replicate the process on a different dataset: "
   ]
  },
  {
   "cell_type": "code",
   "execution_count": 17,
   "id": "a2c7178e",
   "metadata": {},
   "outputs": [
    {
     "data": {
      "text/plain": [
       "['anagrams',\n",
       " 'anscombe',\n",
       " 'attention',\n",
       " 'brain_networks',\n",
       " 'car_crashes',\n",
       " 'diamonds',\n",
       " 'dots',\n",
       " 'dowjones',\n",
       " 'exercise',\n",
       " 'flights',\n",
       " 'fmri',\n",
       " 'geyser',\n",
       " 'glue',\n",
       " 'healthexp',\n",
       " 'iris',\n",
       " 'mpg',\n",
       " 'penguins',\n",
       " 'planets',\n",
       " 'seaice',\n",
       " 'taxis',\n",
       " 'tips',\n",
       " 'titanic']"
      ]
     },
     "execution_count": 17,
     "metadata": {},
     "output_type": "execute_result"
    }
   ],
   "source": [
    "datasets = sns.get_dataset_names()\n",
    "datasets"
   ]
  },
  {
   "cell_type": "code",
   "execution_count": 18,
   "id": "7f797601",
   "metadata": {},
   "outputs": [
    {
     "data": {
      "text/html": [
       "<div>\n",
       "<style scoped>\n",
       "    .dataframe tbody tr th:only-of-type {\n",
       "        vertical-align: middle;\n",
       "    }\n",
       "\n",
       "    .dataframe tbody tr th {\n",
       "        vertical-align: top;\n",
       "    }\n",
       "\n",
       "    .dataframe thead th {\n",
       "        text-align: right;\n",
       "    }\n",
       "</style>\n",
       "<table border=\"1\" class=\"dataframe\">\n",
       "  <thead>\n",
       "    <tr style=\"text-align: right;\">\n",
       "      <th></th>\n",
       "      <th>species</th>\n",
       "      <th>island</th>\n",
       "      <th>bill_length_mm</th>\n",
       "      <th>bill_depth_mm</th>\n",
       "      <th>flipper_length_mm</th>\n",
       "      <th>body_mass_g</th>\n",
       "      <th>sex</th>\n",
       "    </tr>\n",
       "  </thead>\n",
       "  <tbody>\n",
       "    <tr>\n",
       "      <th>0</th>\n",
       "      <td>Adelie</td>\n",
       "      <td>Torgersen</td>\n",
       "      <td>39.1</td>\n",
       "      <td>18.7</td>\n",
       "      <td>181.0</td>\n",
       "      <td>3750.0</td>\n",
       "      <td>Male</td>\n",
       "    </tr>\n",
       "    <tr>\n",
       "      <th>1</th>\n",
       "      <td>Adelie</td>\n",
       "      <td>Torgersen</td>\n",
       "      <td>39.5</td>\n",
       "      <td>17.4</td>\n",
       "      <td>186.0</td>\n",
       "      <td>3800.0</td>\n",
       "      <td>Female</td>\n",
       "    </tr>\n",
       "    <tr>\n",
       "      <th>2</th>\n",
       "      <td>Adelie</td>\n",
       "      <td>Torgersen</td>\n",
       "      <td>40.3</td>\n",
       "      <td>18.0</td>\n",
       "      <td>195.0</td>\n",
       "      <td>3250.0</td>\n",
       "      <td>Female</td>\n",
       "    </tr>\n",
       "    <tr>\n",
       "      <th>3</th>\n",
       "      <td>Adelie</td>\n",
       "      <td>Torgersen</td>\n",
       "      <td>NaN</td>\n",
       "      <td>NaN</td>\n",
       "      <td>NaN</td>\n",
       "      <td>NaN</td>\n",
       "      <td>NaN</td>\n",
       "    </tr>\n",
       "    <tr>\n",
       "      <th>4</th>\n",
       "      <td>Adelie</td>\n",
       "      <td>Torgersen</td>\n",
       "      <td>36.7</td>\n",
       "      <td>19.3</td>\n",
       "      <td>193.0</td>\n",
       "      <td>3450.0</td>\n",
       "      <td>Female</td>\n",
       "    </tr>\n",
       "    <tr>\n",
       "      <th>...</th>\n",
       "      <td>...</td>\n",
       "      <td>...</td>\n",
       "      <td>...</td>\n",
       "      <td>...</td>\n",
       "      <td>...</td>\n",
       "      <td>...</td>\n",
       "      <td>...</td>\n",
       "    </tr>\n",
       "    <tr>\n",
       "      <th>339</th>\n",
       "      <td>Gentoo</td>\n",
       "      <td>Biscoe</td>\n",
       "      <td>NaN</td>\n",
       "      <td>NaN</td>\n",
       "      <td>NaN</td>\n",
       "      <td>NaN</td>\n",
       "      <td>NaN</td>\n",
       "    </tr>\n",
       "    <tr>\n",
       "      <th>340</th>\n",
       "      <td>Gentoo</td>\n",
       "      <td>Biscoe</td>\n",
       "      <td>46.8</td>\n",
       "      <td>14.3</td>\n",
       "      <td>215.0</td>\n",
       "      <td>4850.0</td>\n",
       "      <td>Female</td>\n",
       "    </tr>\n",
       "    <tr>\n",
       "      <th>341</th>\n",
       "      <td>Gentoo</td>\n",
       "      <td>Biscoe</td>\n",
       "      <td>50.4</td>\n",
       "      <td>15.7</td>\n",
       "      <td>222.0</td>\n",
       "      <td>5750.0</td>\n",
       "      <td>Male</td>\n",
       "    </tr>\n",
       "    <tr>\n",
       "      <th>342</th>\n",
       "      <td>Gentoo</td>\n",
       "      <td>Biscoe</td>\n",
       "      <td>45.2</td>\n",
       "      <td>14.8</td>\n",
       "      <td>212.0</td>\n",
       "      <td>5200.0</td>\n",
       "      <td>Female</td>\n",
       "    </tr>\n",
       "    <tr>\n",
       "      <th>343</th>\n",
       "      <td>Gentoo</td>\n",
       "      <td>Biscoe</td>\n",
       "      <td>49.9</td>\n",
       "      <td>16.1</td>\n",
       "      <td>213.0</td>\n",
       "      <td>5400.0</td>\n",
       "      <td>Male</td>\n",
       "    </tr>\n",
       "  </tbody>\n",
       "</table>\n",
       "<p>344 rows × 7 columns</p>\n",
       "</div>"
      ],
      "text/plain": [
       "    species     island  bill_length_mm  bill_depth_mm  flipper_length_mm  \\\n",
       "0    Adelie  Torgersen            39.1           18.7              181.0   \n",
       "1    Adelie  Torgersen            39.5           17.4              186.0   \n",
       "2    Adelie  Torgersen            40.3           18.0              195.0   \n",
       "3    Adelie  Torgersen             NaN            NaN                NaN   \n",
       "4    Adelie  Torgersen            36.7           19.3              193.0   \n",
       "..      ...        ...             ...            ...                ...   \n",
       "339  Gentoo     Biscoe             NaN            NaN                NaN   \n",
       "340  Gentoo     Biscoe            46.8           14.3              215.0   \n",
       "341  Gentoo     Biscoe            50.4           15.7              222.0   \n",
       "342  Gentoo     Biscoe            45.2           14.8              212.0   \n",
       "343  Gentoo     Biscoe            49.9           16.1              213.0   \n",
       "\n",
       "     body_mass_g     sex  \n",
       "0         3750.0    Male  \n",
       "1         3800.0  Female  \n",
       "2         3250.0  Female  \n",
       "3            NaN     NaN  \n",
       "4         3450.0  Female  \n",
       "..           ...     ...  \n",
       "339          NaN     NaN  \n",
       "340       4850.0  Female  \n",
       "341       5750.0    Male  \n",
       "342       5200.0  Female  \n",
       "343       5400.0    Male  \n",
       "\n",
       "[344 rows x 7 columns]"
      ]
     },
     "execution_count": 18,
     "metadata": {},
     "output_type": "execute_result"
    }
   ],
   "source": [
    "## Loading the penguin dataset\n",
    "\n",
    "df1 = sns.load_dataset(datasets[-6])\n",
    "df1"
   ]
  },
  {
   "cell_type": "code",
   "execution_count": 19,
   "id": "91f18ac2",
   "metadata": {},
   "outputs": [
    {
     "data": {
      "text/html": [
       "<div>\n",
       "<style scoped>\n",
       "    .dataframe tbody tr th:only-of-type {\n",
       "        vertical-align: middle;\n",
       "    }\n",
       "\n",
       "    .dataframe tbody tr th {\n",
       "        vertical-align: top;\n",
       "    }\n",
       "\n",
       "    .dataframe thead th {\n",
       "        text-align: right;\n",
       "    }\n",
       "</style>\n",
       "<table border=\"1\" class=\"dataframe\">\n",
       "  <thead>\n",
       "    <tr style=\"text-align: right;\">\n",
       "      <th></th>\n",
       "      <th>bill_length_mm</th>\n",
       "      <th>bill_depth_mm</th>\n",
       "      <th>flipper_length_mm</th>\n",
       "      <th>body_mass_g</th>\n",
       "    </tr>\n",
       "  </thead>\n",
       "  <tbody>\n",
       "    <tr>\n",
       "      <th>0</th>\n",
       "      <td>39.1</td>\n",
       "      <td>18.7</td>\n",
       "      <td>181.0</td>\n",
       "      <td>3750.0</td>\n",
       "    </tr>\n",
       "    <tr>\n",
       "      <th>1</th>\n",
       "      <td>39.5</td>\n",
       "      <td>17.4</td>\n",
       "      <td>186.0</td>\n",
       "      <td>3800.0</td>\n",
       "    </tr>\n",
       "    <tr>\n",
       "      <th>2</th>\n",
       "      <td>40.3</td>\n",
       "      <td>18.0</td>\n",
       "      <td>195.0</td>\n",
       "      <td>3250.0</td>\n",
       "    </tr>\n",
       "    <tr>\n",
       "      <th>3</th>\n",
       "      <td>NaN</td>\n",
       "      <td>NaN</td>\n",
       "      <td>NaN</td>\n",
       "      <td>NaN</td>\n",
       "    </tr>\n",
       "    <tr>\n",
       "      <th>4</th>\n",
       "      <td>36.7</td>\n",
       "      <td>19.3</td>\n",
       "      <td>193.0</td>\n",
       "      <td>3450.0</td>\n",
       "    </tr>\n",
       "    <tr>\n",
       "      <th>...</th>\n",
       "      <td>...</td>\n",
       "      <td>...</td>\n",
       "      <td>...</td>\n",
       "      <td>...</td>\n",
       "    </tr>\n",
       "    <tr>\n",
       "      <th>339</th>\n",
       "      <td>NaN</td>\n",
       "      <td>NaN</td>\n",
       "      <td>NaN</td>\n",
       "      <td>NaN</td>\n",
       "    </tr>\n",
       "    <tr>\n",
       "      <th>340</th>\n",
       "      <td>46.8</td>\n",
       "      <td>14.3</td>\n",
       "      <td>215.0</td>\n",
       "      <td>4850.0</td>\n",
       "    </tr>\n",
       "    <tr>\n",
       "      <th>341</th>\n",
       "      <td>50.4</td>\n",
       "      <td>15.7</td>\n",
       "      <td>222.0</td>\n",
       "      <td>5750.0</td>\n",
       "    </tr>\n",
       "    <tr>\n",
       "      <th>342</th>\n",
       "      <td>45.2</td>\n",
       "      <td>14.8</td>\n",
       "      <td>212.0</td>\n",
       "      <td>5200.0</td>\n",
       "    </tr>\n",
       "    <tr>\n",
       "      <th>343</th>\n",
       "      <td>49.9</td>\n",
       "      <td>16.1</td>\n",
       "      <td>213.0</td>\n",
       "      <td>5400.0</td>\n",
       "    </tr>\n",
       "  </tbody>\n",
       "</table>\n",
       "<p>344 rows × 4 columns</p>\n",
       "</div>"
      ],
      "text/plain": [
       "     bill_length_mm  bill_depth_mm  flipper_length_mm  body_mass_g\n",
       "0              39.1           18.7              181.0       3750.0\n",
       "1              39.5           17.4              186.0       3800.0\n",
       "2              40.3           18.0              195.0       3250.0\n",
       "3               NaN            NaN                NaN          NaN\n",
       "4              36.7           19.3              193.0       3450.0\n",
       "..              ...            ...                ...          ...\n",
       "339             NaN            NaN                NaN          NaN\n",
       "340            46.8           14.3              215.0       4850.0\n",
       "341            50.4           15.7              222.0       5750.0\n",
       "342            45.2           14.8              212.0       5200.0\n",
       "343            49.9           16.1              213.0       5400.0\n",
       "\n",
       "[344 rows x 4 columns]"
      ]
     },
     "execution_count": 19,
     "metadata": {},
     "output_type": "execute_result"
    }
   ],
   "source": [
    "dfx = df1.drop(columns=[\"species\", \"island\", 'sex'])\n",
    "dfx"
   ]
  },
  {
   "cell_type": "code",
   "execution_count": 20,
   "id": "4aad7cd1",
   "metadata": {},
   "outputs": [
    {
     "data": {
      "text/html": [
       "<div>\n",
       "<style scoped>\n",
       "    .dataframe tbody tr th:only-of-type {\n",
       "        vertical-align: middle;\n",
       "    }\n",
       "\n",
       "    .dataframe tbody tr th {\n",
       "        vertical-align: top;\n",
       "    }\n",
       "\n",
       "    .dataframe thead th {\n",
       "        text-align: right;\n",
       "    }\n",
       "</style>\n",
       "<table border=\"1\" class=\"dataframe\">\n",
       "  <thead>\n",
       "    <tr style=\"text-align: right;\">\n",
       "      <th></th>\n",
       "      <th>bill_length_mm</th>\n",
       "      <th>bill_depth_mm</th>\n",
       "      <th>flipper_length_mm</th>\n",
       "      <th>body_mass_g</th>\n",
       "    </tr>\n",
       "  </thead>\n",
       "  <tbody>\n",
       "    <tr>\n",
       "      <th>0</th>\n",
       "      <td>-0.884499</td>\n",
       "      <td>0.785449</td>\n",
       "      <td>-1.418347</td>\n",
       "      <td>-0.564142</td>\n",
       "    </tr>\n",
       "    <tr>\n",
       "      <th>1</th>\n",
       "      <td>-0.811126</td>\n",
       "      <td>0.126188</td>\n",
       "      <td>-1.062250</td>\n",
       "      <td>-0.501703</td>\n",
       "    </tr>\n",
       "    <tr>\n",
       "      <th>2</th>\n",
       "      <td>-0.664380</td>\n",
       "      <td>0.430462</td>\n",
       "      <td>-0.421277</td>\n",
       "      <td>-1.188532</td>\n",
       "    </tr>\n",
       "    <tr>\n",
       "      <th>3</th>\n",
       "      <td>NaN</td>\n",
       "      <td>NaN</td>\n",
       "      <td>NaN</td>\n",
       "      <td>NaN</td>\n",
       "    </tr>\n",
       "    <tr>\n",
       "      <th>4</th>\n",
       "      <td>-1.324737</td>\n",
       "      <td>1.089724</td>\n",
       "      <td>-0.563715</td>\n",
       "      <td>-0.938776</td>\n",
       "    </tr>\n",
       "    <tr>\n",
       "      <th>...</th>\n",
       "      <td>...</td>\n",
       "      <td>...</td>\n",
       "      <td>...</td>\n",
       "      <td>...</td>\n",
       "    </tr>\n",
       "    <tr>\n",
       "      <th>339</th>\n",
       "      <td>NaN</td>\n",
       "      <td>NaN</td>\n",
       "      <td>NaN</td>\n",
       "      <td>NaN</td>\n",
       "    </tr>\n",
       "    <tr>\n",
       "      <th>340</th>\n",
       "      <td>0.527932</td>\n",
       "      <td>-1.445897</td>\n",
       "      <td>1.003109</td>\n",
       "      <td>0.809516</td>\n",
       "    </tr>\n",
       "    <tr>\n",
       "      <th>341</th>\n",
       "      <td>1.188289</td>\n",
       "      <td>-0.735923</td>\n",
       "      <td>1.501644</td>\n",
       "      <td>1.933419</td>\n",
       "    </tr>\n",
       "    <tr>\n",
       "      <th>342</th>\n",
       "      <td>0.234440</td>\n",
       "      <td>-1.192335</td>\n",
       "      <td>0.789451</td>\n",
       "      <td>1.246590</td>\n",
       "    </tr>\n",
       "    <tr>\n",
       "      <th>343</th>\n",
       "      <td>1.096572</td>\n",
       "      <td>-0.533073</td>\n",
       "      <td>0.860670</td>\n",
       "      <td>1.496346</td>\n",
       "    </tr>\n",
       "  </tbody>\n",
       "</table>\n",
       "<p>344 rows × 4 columns</p>\n",
       "</div>"
      ],
      "text/plain": [
       "     bill_length_mm  bill_depth_mm  flipper_length_mm  body_mass_g\n",
       "0         -0.884499       0.785449          -1.418347    -0.564142\n",
       "1         -0.811126       0.126188          -1.062250    -0.501703\n",
       "2         -0.664380       0.430462          -0.421277    -1.188532\n",
       "3               NaN            NaN                NaN          NaN\n",
       "4         -1.324737       1.089724          -0.563715    -0.938776\n",
       "..              ...            ...                ...          ...\n",
       "339             NaN            NaN                NaN          NaN\n",
       "340        0.527932      -1.445897           1.003109     0.809516\n",
       "341        1.188289      -0.735923           1.501644     1.933419\n",
       "342        0.234440      -1.192335           0.789451     1.246590\n",
       "343        1.096572      -0.533073           0.860670     1.496346\n",
       "\n",
       "[344 rows x 4 columns]"
      ]
     },
     "execution_count": 20,
     "metadata": {},
     "output_type": "execute_result"
    }
   ],
   "source": [
    "### Standard Normalization of the relevant columns\n",
    "\n",
    "scaler = StandardScaler()\n",
    "dfx_scaled = scaler.fit_transform(dfx)\n",
    "\n",
    "dfx1 = pd.DataFrame(dfx_scaled, columns=dfx.columns)\n",
    "dfx1"
   ]
  },
  {
   "cell_type": "code",
   "execution_count": 21,
   "id": "fff03e02",
   "metadata": {},
   "outputs": [
    {
     "data": {
      "text/html": [
       "<div>\n",
       "<style scoped>\n",
       "    .dataframe tbody tr th:only-of-type {\n",
       "        vertical-align: middle;\n",
       "    }\n",
       "\n",
       "    .dataframe tbody tr th {\n",
       "        vertical-align: top;\n",
       "    }\n",
       "\n",
       "    .dataframe thead th {\n",
       "        text-align: right;\n",
       "    }\n",
       "</style>\n",
       "<table border=\"1\" class=\"dataframe\">\n",
       "  <thead>\n",
       "    <tr style=\"text-align: right;\">\n",
       "      <th></th>\n",
       "      <th>bill_length_mm</th>\n",
       "      <th>bill_depth_mm</th>\n",
       "      <th>flipper_length_mm</th>\n",
       "      <th>body_mass_g</th>\n",
       "    </tr>\n",
       "  </thead>\n",
       "  <tbody>\n",
       "    <tr>\n",
       "      <th>0</th>\n",
       "      <td>-0.884499</td>\n",
       "      <td>0.785449</td>\n",
       "      <td>-1.418347</td>\n",
       "      <td>-0.564142</td>\n",
       "    </tr>\n",
       "    <tr>\n",
       "      <th>1</th>\n",
       "      <td>-0.811126</td>\n",
       "      <td>0.126188</td>\n",
       "      <td>-1.062250</td>\n",
       "      <td>-0.501703</td>\n",
       "    </tr>\n",
       "    <tr>\n",
       "      <th>2</th>\n",
       "      <td>-0.664380</td>\n",
       "      <td>0.430462</td>\n",
       "      <td>-0.421277</td>\n",
       "      <td>-1.188532</td>\n",
       "    </tr>\n",
       "    <tr>\n",
       "      <th>4</th>\n",
       "      <td>-1.324737</td>\n",
       "      <td>1.089724</td>\n",
       "      <td>-0.563715</td>\n",
       "      <td>-0.938776</td>\n",
       "    </tr>\n",
       "    <tr>\n",
       "      <th>5</th>\n",
       "      <td>-0.847812</td>\n",
       "      <td>1.748985</td>\n",
       "      <td>-0.777373</td>\n",
       "      <td>-0.689020</td>\n",
       "    </tr>\n",
       "    <tr>\n",
       "      <th>...</th>\n",
       "      <td>...</td>\n",
       "      <td>...</td>\n",
       "      <td>...</td>\n",
       "      <td>...</td>\n",
       "    </tr>\n",
       "    <tr>\n",
       "      <th>338</th>\n",
       "      <td>0.601305</td>\n",
       "      <td>-1.750171</td>\n",
       "      <td>0.931890</td>\n",
       "      <td>0.903175</td>\n",
       "    </tr>\n",
       "    <tr>\n",
       "      <th>340</th>\n",
       "      <td>0.527932</td>\n",
       "      <td>-1.445897</td>\n",
       "      <td>1.003109</td>\n",
       "      <td>0.809516</td>\n",
       "    </tr>\n",
       "    <tr>\n",
       "      <th>341</th>\n",
       "      <td>1.188289</td>\n",
       "      <td>-0.735923</td>\n",
       "      <td>1.501644</td>\n",
       "      <td>1.933419</td>\n",
       "    </tr>\n",
       "    <tr>\n",
       "      <th>342</th>\n",
       "      <td>0.234440</td>\n",
       "      <td>-1.192335</td>\n",
       "      <td>0.789451</td>\n",
       "      <td>1.246590</td>\n",
       "    </tr>\n",
       "    <tr>\n",
       "      <th>343</th>\n",
       "      <td>1.096572</td>\n",
       "      <td>-0.533073</td>\n",
       "      <td>0.860670</td>\n",
       "      <td>1.496346</td>\n",
       "    </tr>\n",
       "  </tbody>\n",
       "</table>\n",
       "<p>342 rows × 4 columns</p>\n",
       "</div>"
      ],
      "text/plain": [
       "     bill_length_mm  bill_depth_mm  flipper_length_mm  body_mass_g\n",
       "0         -0.884499       0.785449          -1.418347    -0.564142\n",
       "1         -0.811126       0.126188          -1.062250    -0.501703\n",
       "2         -0.664380       0.430462          -0.421277    -1.188532\n",
       "4         -1.324737       1.089724          -0.563715    -0.938776\n",
       "5         -0.847812       1.748985          -0.777373    -0.689020\n",
       "..              ...            ...                ...          ...\n",
       "338        0.601305      -1.750171           0.931890     0.903175\n",
       "340        0.527932      -1.445897           1.003109     0.809516\n",
       "341        1.188289      -0.735923           1.501644     1.933419\n",
       "342        0.234440      -1.192335           0.789451     1.246590\n",
       "343        1.096572      -0.533073           0.860670     1.496346\n",
       "\n",
       "[342 rows x 4 columns]"
      ]
     },
     "execution_count": 21,
     "metadata": {},
     "output_type": "execute_result"
    }
   ],
   "source": [
    "dfx1.dropna(inplace=True)\n",
    "dfx1"
   ]
  },
  {
   "cell_type": "code",
   "execution_count": 22,
   "id": "6cf9197e",
   "metadata": {},
   "outputs": [
    {
     "name": "stderr",
     "output_type": "stream",
     "text": [
      "C:\\Users\\Admin\\anaconda3\\lib\\site-packages\\seaborn\\distributions.py:2619: FutureWarning: `distplot` is a deprecated function and will be removed in a future version. Please adapt your code to use either `displot` (a figure-level function with similar flexibility) or `histplot` (an axes-level function for histograms).\n",
      "  warnings.warn(msg, FutureWarning)\n"
     ]
    },
    {
     "data": {
      "text/plain": [
       "<AxesSubplot:ylabel='Density'>"
      ]
     },
     "execution_count": 22,
     "metadata": {},
     "output_type": "execute_result"
    },
    {
     "data": {
      "image/png": "[encoded data removed]",
      "text/plain": [
       "<Figure size 432x288 with 1 Axes>"
      ]
     },
     "metadata": {
      "needs_background": "light"
     },
     "output_type": "display_data"
    }
   ],
   "source": [
    "sns.distplot(dfx)"
   ]
  },
  {
   "cell_type": "code",
   "execution_count": 23,
   "id": "51547102",
   "metadata": {},
   "outputs": [
    {
     "name": "stderr",
     "output_type": "stream",
     "text": [
      "C:\\Users\\Admin\\anaconda3\\lib\\site-packages\\seaborn\\distributions.py:2619: FutureWarning: `distplot` is a deprecated function and will be removed in a future version. Please adapt your code to use either `displot` (a figure-level function with similar flexibility) or `histplot` (an axes-level function for histograms).\n",
      "  warnings.warn(msg, FutureWarning)\n"
     ]
    },
    {
     "data": {
      "text/plain": [
       "<AxesSubplot:ylabel='Density'>"
      ]
     },
     "execution_count": 23,
     "metadata": {},
     "output_type": "execute_result"
    },
    {
     "data": {
      "image/png": "[encoded data removed]",
      "text/plain": [
       "<Figure size 432x288 with 1 Axes>"
      ]
     },
     "metadata": {
      "needs_background": "light"
     },
     "output_type": "display_data"
    }
   ],
   "source": [
    "sns.distplot(dfx1)"
   ]
  },
  {
   "cell_type": "code",
   "execution_count": 24,
   "id": "91991544",
   "metadata": {},
   "outputs": [
    {
     "data": {
      "text/html": [
       "        <script type=\"text/javascript\">\n",
       "        window.PlotlyConfig = {MathJaxConfig: 'local'};\n",
       "        if (window.MathJax) {MathJax.Hub.Config({SVG: {font: \"STIX-Web\"}});}\n",
       "        if (typeof require !== 'undefined') {\n",
       "        require.undef(\"plotly\");\n",
       "        requirejs.config({\n",
       "            paths: {\n",
       "                'plotly': ['https://cdn.plot.ly/plotly-2.9.0.min']\n",
       "            }\n",
       "        });\n",
       "        require(['plotly'], function(Plotly) {\n",
       "            window._Plotly = Plotly;\n",
       "        });\n",
       "        }\n",
       "        </script>\n",
       "        "
      ]
     },
     "metadata": {},
     "output_type": "display_data"
    },
    {
     "data": {
      "application/vnd.plotly.v1+json": {
       "config": {
        "linkText": "Export to plot.ly",
        "plotlyServerURL": "https://plot.ly",
        "showLink": true
       },
       "data": [
        {
         "histfunc": "count",
         "histnorm": "",
         "marker": {
          "color": "rgba(255, 153, 51, 1.0)",
          "line": {
           "color": "#4D5663",
           "width": 1.3
          }
         },
         "name": "bill_length_mm",
         "opacity": 0.8,
         "orientation": "v",
         "type": "histogram",
         "x": [
          39.1,
          39.5,
          40.3,
          null,
          36.7,
          39.3,
          38.9,
          39.2,
          34.1,
          42,
          37.8,
          37.8,
          41.1,
          38.6,
          34.6,
          36.6,
          38.7,
          42.5,
          34.4,
          46,
          37.8,
          37.7,
          35.9,
          38.2,
          38.8,
          35.3,
          40.6,
          40.5,
          37.9,
          40.5,
          39.5,
          37.2,
          39.5,
          40.9,
          36.4,
          39.2,
          38.8,
          42.2,
          37.6,
          39.8,
          36.5,
          40.8,
          36,
          44.1,
          37,
          39.6,
          41.1,
          37.5,
          36,
          42.3,
          39.6,
          40.1,
          35,
          42,
          34.5,
          41.4,
          39,
          40.6,
          36.5,
          37.6,
          35.7,
          41.3,
          37.6,
          41.1,
          36.4,
          41.6,
          35.5,
          41.1,
          35.9,
          41.8,
          33.5,
          39.7,
          39.6,
          45.8,
          35.5,
          42.8,
          40.9,
          37.2,
          36.2,
          42.1,
          34.6,
          42.9,
          36.7,
          35.1,
          37.3,
          41.3,
          36.3,
          36.9,
          38.3,
          38.9,
          35.7,
          41.1,
          34,
          39.6,
          36.2,
          40.8,
          38.1,
          40.3,
          33.1,
          43.2,
          35,
          41,
          37.7,
          37.8,
          37.9,
          39.7,
          38.6,
          38.2,
          38.1,
          43.2,
          38.1,
          45.6,
          39.7,
          42.2,
          39.6,
          42.7,
          38.6,
          37.3,
          35.7,
          41.1,
          36.2,
          37.7,
          40.2,
          41.4,
          35.2,
          40.6,
          38.8,
          41.5,
          39,
          44.1,
          38.5,
          43.1,
          36.8,
          37.5,
          38.1,
          41.1,
          35.6,
          40.2,
          37,
          39.7,
          40.2,
          40.6,
          32.1,
          40.7,
          37.3,
          39,
          39.2,
          36.6,
          36,
          37.8,
          36,
          41.5,
          46.5,
          50,
          51.3,
          45.4,
          52.7,
          45.2,
          46.1,
          51.3,
          46,
          51.3,
          46.6,
          51.7,
          47,
          52,
          45.9,
          50.5,
          50.3,
          58,
          46.4,
          49.2,
          42.4,
          48.5,
          43.2,
          50.6,
          46.7,
          52,
          50.5,
          49.5,
          46.4,
          52.8,
          40.9,
          54.2,
          42.5,
          51,
          49.7,
          47.5,
          47.6,
          52,
          46.9,
          53.5,
          49,
          46.2,
          50.9,
          45.5,
          50.9,
          50.8,
          50.1,
          49,
          51.5,
          49.8,
          48.1,
          51.4,
          45.7,
          50.7,
          42.5,
          52.2,
          45.2,
          49.3,
          50.2,
          45.6,
          51.9,
          46.8,
          45.7,
          55.8,
          43.5,
          49.6,
          50.8,
          50.2,
          46.1,
          50,
          48.7,
          50,
          47.6,
          46.5,
          45.4,
          46.7,
          43.3,
          46.8,
          40.9,
          49,
          45.5,
          48.4,
          45.8,
          49.3,
          42,
          49.2,
          46.2,
          48.7,
          50.2,
          45.1,
          46.5,
          46.3,
          42.9,
          46.1,
          44.5,
          47.8,
          48.2,
          50,
          47.3,
          42.8,
          45.1,
          59.6,
          49.1,
          48.4,
          42.6,
          44.4,
          44,
          48.7,
          42.7,
          49.6,
          45.3,
          49.6,
          50.5,
          43.6,
          45.5,
          50.5,
          44.9,
          45.2,
          46.6,
          48.5,
          45.1,
          50.1,
          46.5,
          45,
          43.8,
          45.5,
          43.2,
          50.4,
          45.3,
          46.2,
          45.7,
          54.3,
          45.8,
          49.8,
          46.2,
          49.5,
          43.5,
          50.7,
          47.7,
          46.4,
          48.2,
          46.5,
          46.4,
          48.6,
          47.5,
          51.1,
          45.2,
          45.2,
          49.1,
          52.5,
          47.4,
          50,
          44.9,
          50.8,
          43.4,
          51.3,
          47.5,
          52.1,
          47.5,
          52.2,
          45.5,
          49.5,
          44.5,
          50.8,
          49.4,
          46.9,
          48.4,
          51.1,
          48.5,
          55.9,
          47.2,
          49.1,
          47.3,
          46.8,
          41.7,
          53.4,
          43.3,
          48.1,
          50.5,
          49.8,
          43.5,
          51.5,
          46.2,
          55.1,
          44.5,
          48.8,
          47.2,
          null,
          46.8,
          50.4,
          45.2,
          49.9
         ],
         "xaxis": "x",
         "yaxis": "y"
        },
        {
         "histfunc": "count",
         "histnorm": "",
         "marker": {
          "color": "rgba(55, 128, 191, 1.0)",
          "line": {
           "color": "#4D5663",
           "width": 1.3
          }
         },
         "name": "bill_depth_mm",
         "opacity": 0.8,
         "orientation": "v",
         "type": "histogram",
         "x": [
          18.7,
          17.4,
          18,
          null,
          19.3,
          20.6,
          17.8,
          19.6,
          18.1,
          20.2,
          17.1,
          17.3,
          17.6,
          21.2,
          21.1,
          17.8,
          19,
          20.7,
          18.4,
          21.5,
          18.3,
          18.7,
          19.2,
          18.1,
          17.2,
          18.9,
          18.6,
          17.9,
          18.6,
          18.9,
          16.7,
          18.1,
          17.8,
          18.9,
          17,
          21.1,
          20,
          18.5,
          19.3,
          19.1,
          18,
          18.4,
          18.5,
          19.7,
          16.9,
          18.8,
          19,
          18.9,
          17.9,
          21.2,
          17.7,
          18.9,
          17.9,
          19.5,
          18.1,
          18.6,
          17.5,
          18.8,
          16.6,
          19.1,
          16.9,
          21.1,
          17,
          18.2,
          17.1,
          18,
          16.2,
          19.1,
          16.6,
          19.4,
          19,
          18.4,
          17.2,
          18.9,
          17.5,
          18.5,
          16.8,
          19.4,
          16.1,
          19.1,
          17.2,
          17.6,
          18.8,
          19.4,
          17.8,
          20.3,
          19.5,
          18.6,
          19.2,
          18.8,
          18,
          18.1,
          17.1,
          18.1,
          17.3,
          18.9,
          18.6,
          18.5,
          16.1,
          18.5,
          17.9,
          20,
          16,
          20,
          18.6,
          18.9,
          17.2,
          20,
          17,
          19,
          16.5,
          20.3,
          17.7,
          19.5,
          20.7,
          18.3,
          17,
          20.5,
          17,
          18.6,
          17.2,
          19.8,
          17,
          18.5,
          15.9,
          19,
          17.6,
          18.3,
          17.1,
          18,
          17.9,
          19.2,
          18.5,
          18.5,
          17.6,
          17.5,
          17.5,
          20.1,
          16.5,
          17.9,
          17.1,
          17.2,
          15.5,
          17,
          16.8,
          18.7,
          18.6,
          18.4,
          17.8,
          18.1,
          17.1,
          18.5,
          17.9,
          19.5,
          19.2,
          18.7,
          19.8,
          17.8,
          18.2,
          18.2,
          18.9,
          19.9,
          17.8,
          20.3,
          17.3,
          18.1,
          17.1,
          19.6,
          20,
          17.8,
          18.6,
          18.2,
          17.3,
          17.5,
          16.6,
          19.4,
          17.9,
          19,
          18.4,
          19,
          17.8,
          20,
          16.6,
          20.8,
          16.7,
          18.8,
          18.6,
          16.8,
          18.3,
          20.7,
          16.6,
          19.9,
          19.5,
          17.5,
          19.1,
          17,
          17.9,
          18.5,
          17.9,
          19.6,
          18.7,
          17.3,
          16.4,
          19,
          17.3,
          19.7,
          17.3,
          18.8,
          16.6,
          19.9,
          18.8,
          19.4,
          19.5,
          16.5,
          17,
          19.8,
          18.1,
          18.2,
          19,
          18.7,
          13.2,
          16.3,
          14.1,
          15.2,
          14.5,
          13.5,
          14.6,
          15.3,
          13.4,
          15.4,
          13.7,
          16.1,
          13.7,
          14.6,
          14.6,
          15.7,
          13.5,
          15.2,
          14.5,
          15.1,
          14.3,
          14.5,
          14.5,
          15.8,
          13.1,
          15.1,
          14.3,
          15,
          14.3,
          15.3,
          15.3,
          14.2,
          14.5,
          17,
          14.8,
          16.3,
          13.7,
          17.3,
          13.6,
          15.7,
          13.7,
          16,
          13.7,
          15,
          15.9,
          13.9,
          13.9,
          15.9,
          13.3,
          15.8,
          14.2,
          14.1,
          14.4,
          15,
          14.4,
          15.4,
          13.9,
          15,
          14.5,
          15.3,
          13.8,
          14.9,
          13.9,
          15.7,
          14.2,
          16.8,
          14.4,
          16.2,
          14.2,
          15,
          15,
          15.6,
          15.6,
          14.8,
          15,
          16,
          14.2,
          16.3,
          13.8,
          16.4,
          14.5,
          15.6,
          14.6,
          15.9,
          13.8,
          17.3,
          14.4,
          14.2,
          14,
          17,
          15,
          17.1,
          14.5,
          16.1,
          14.7,
          15.7,
          15.8,
          14.6,
          14.4,
          16.5,
          15,
          17,
          15.5,
          15,
          13.8,
          16.1,
          14.7,
          15.8,
          14,
          15.1,
          15.2,
          15.9,
          15.2,
          16.3,
          14.1,
          16,
          15.7,
          16.2,
          13.7,
          null,
          14.3,
          15.7,
          14.8,
          16.1
         ],
         "xaxis": "x2",
         "yaxis": "y2"
        },
        {
         "histfunc": "count",
         "histnorm": "",
         "marker": {
          "color": "rgba(50, 171, 96, 1.0)",
          "line": {
           "color": "#4D5663",
           "width": 1.3
          }
         },
         "name": "flipper_length_mm",
         "opacity": 0.8,
         "orientation": "v",
         "type": "histogram",
         "x": [
          181,
          186,
          195,
          null,
          193,
          190,
          181,
          195,
          193,
          190,
          186,
          180,
          182,
          191,
          198,
          185,
          195,
          197,
          184,
          194,
          174,
          180,
          189,
          185,
          180,
          187,
          183,
          187,
          172,
          180,
          178,
          178,
          188,
          184,
          195,
          196,
          190,
          180,
          181,
          184,
          182,
          195,
          186,
          196,
          185,
          190,
          182,
          179,
          190,
          191,
          186,
          188,
          190,
          200,
          187,
          191,
          186,
          193,
          181,
          194,
          185,
          195,
          185,
          192,
          184,
          192,
          195,
          188,
          190,
          198,
          190,
          190,
          196,
          197,
          190,
          195,
          191,
          184,
          187,
          195,
          189,
          196,
          187,
          193,
          191,
          194,
          190,
          189,
          189,
          190,
          202,
          205,
          185,
          186,
          187,
          208,
          190,
          196,
          178,
          192,
          192,
          203,
          183,
          190,
          193,
          184,
          199,
          190,
          181,
          197,
          198,
          191,
          193,
          197,
          191,
          196,
          188,
          199,
          189,
          189,
          187,
          198,
          176,
          202,
          186,
          199,
          191,
          195,
          191,
          210,
          190,
          197,
          193,
          199,
          187,
          190,
          191,
          200,
          185,
          193,
          193,
          187,
          188,
          190,
          192,
          185,
          190,
          184,
          195,
          193,
          187,
          201,
          192,
          196,
          193,
          188,
          197,
          198,
          178,
          197,
          195,
          198,
          193,
          194,
          185,
          201,
          190,
          201,
          197,
          181,
          190,
          195,
          181,
          191,
          187,
          193,
          195,
          197,
          200,
          200,
          191,
          205,
          187,
          201,
          187,
          203,
          195,
          199,
          195,
          210,
          192,
          205,
          210,
          187,
          196,
          196,
          196,
          201,
          190,
          212,
          187,
          198,
          199,
          201,
          193,
          203,
          187,
          197,
          191,
          203,
          202,
          194,
          206,
          189,
          195,
          207,
          202,
          193,
          210,
          198,
          211,
          230,
          210,
          218,
          215,
          210,
          211,
          219,
          209,
          215,
          214,
          216,
          214,
          213,
          210,
          217,
          210,
          221,
          209,
          222,
          218,
          215,
          213,
          215,
          215,
          215,
          216,
          215,
          210,
          220,
          222,
          209,
          207,
          230,
          220,
          220,
          213,
          219,
          208,
          208,
          208,
          225,
          210,
          216,
          222,
          217,
          210,
          225,
          213,
          215,
          210,
          220,
          210,
          225,
          217,
          220,
          208,
          220,
          208,
          224,
          208,
          221,
          214,
          231,
          219,
          230,
          214,
          229,
          220,
          223,
          216,
          221,
          221,
          217,
          216,
          230,
          209,
          220,
          215,
          223,
          212,
          221,
          212,
          224,
          212,
          228,
          218,
          218,
          212,
          230,
          218,
          228,
          212,
          224,
          214,
          226,
          216,
          222,
          203,
          225,
          219,
          228,
          215,
          228,
          216,
          215,
          210,
          219,
          208,
          209,
          216,
          229,
          213,
          230,
          217,
          230,
          217,
          222,
          214,
          null,
          215,
          222,
          212,
          213
         ],
         "xaxis": "x3",
         "yaxis": "y3"
        },
        {
         "histfunc": "count",
         "histnorm": "",
         "marker": {
          "color": "rgba(128, 0, 128, 1.0)",
          "line": {
           "color": "#4D5663",
           "width": 1.3
          }
         },
         "name": "body_mass_g",
         "opacity": 0.8,
         "orientation": "v",
         "type": "histogram",
         "x": [
          3750,
          3800,
          3250,
          null,
          3450,
          3650,
          3625,
          4675,
          3475,
          4250,
          3300,
          3700,
          3200,
          3800,
          4400,
          3700,
          3450,
          4500,
          3325,
          4200,
          3400,
          3600,
          3800,
          3950,
          3800,
          3800,
          3550,
          3200,
          3150,
          3950,
          3250,
          3900,
          3300,
          3900,
          3325,
          4150,
          3950,
          3550,
          3300,
          4650,
          3150,
          3900,
          3100,
          4400,
          3000,
          4600,
          3425,
          2975,
          3450,
          4150,
          3500,
          4300,
          3450,
          4050,
          2900,
          3700,
          3550,
          3800,
          2850,
          3750,
          3150,
          4400,
          3600,
          4050,
          2850,
          3950,
          3350,
          4100,
          3050,
          4450,
          3600,
          3900,
          3550,
          4150,
          3700,
          4250,
          3700,
          3900,
          3550,
          4000,
          3200,
          4700,
          3800,
          4200,
          3350,
          3550,
          3800,
          3500,
          3950,
          3600,
          3550,
          4300,
          3400,
          4450,
          3300,
          4300,
          3700,
          4350,
          2900,
          4100,
          3725,
          4725,
          3075,
          4250,
          2925,
          3550,
          3750,
          3900,
          3175,
          4775,
          3825,
          4600,
          3200,
          4275,
          3900,
          4075,
          2900,
          3775,
          3350,
          3325,
          3150,
          3500,
          3450,
          3875,
          3050,
          4000,
          3275,
          4300,
          3050,
          4000,
          3325,
          3500,
          3500,
          4475,
          3425,
          3900,
          3175,
          3975,
          3400,
          4250,
          3400,
          3475,
          3050,
          3725,
          3000,
          3650,
          4250,
          3475,
          3450,
          3750,
          3700,
          4000,
          3500,
          3900,
          3650,
          3525,
          3725,
          3950,
          3250,
          3750,
          4150,
          3700,
          3800,
          3775,
          3700,
          4050,
          3575,
          4050,
          3300,
          3700,
          3450,
          4400,
          3600,
          3400,
          2900,
          3800,
          3300,
          4150,
          3400,
          3800,
          3700,
          4550,
          3200,
          4300,
          3350,
          4100,
          3600,
          3900,
          3850,
          4800,
          2700,
          4500,
          3950,
          3650,
          3550,
          3500,
          3675,
          4450,
          3400,
          4300,
          3250,
          3675,
          3325,
          3950,
          3600,
          4050,
          3350,
          3450,
          3250,
          4050,
          3800,
          3525,
          3950,
          3650,
          3650,
          4000,
          3400,
          3775,
          4100,
          3775,
          4500,
          5700,
          4450,
          5700,
          5400,
          4550,
          4800,
          5200,
          4400,
          5150,
          4650,
          5550,
          4650,
          5850,
          4200,
          5850,
          4150,
          6300,
          4800,
          5350,
          5700,
          5000,
          4400,
          5050,
          5000,
          5100,
          4100,
          5650,
          4600,
          5550,
          5250,
          4700,
          5050,
          6050,
          5150,
          5400,
          4950,
          5250,
          4350,
          5350,
          3950,
          5700,
          4300,
          4750,
          5550,
          4900,
          4200,
          5400,
          5100,
          5300,
          4850,
          5300,
          4400,
          5000,
          4900,
          5050,
          4300,
          5000,
          4450,
          5550,
          4200,
          5300,
          4400,
          5650,
          4700,
          5700,
          4650,
          5800,
          4700,
          5550,
          4750,
          5000,
          5100,
          5200,
          4700,
          5800,
          4600,
          6000,
          4750,
          5950,
          4625,
          5450,
          4725,
          5350,
          4750,
          5600,
          4600,
          5300,
          4875,
          5550,
          4950,
          5400,
          4750,
          5650,
          4850,
          5200,
          4925,
          4875,
          4625,
          5250,
          4850,
          5600,
          4975,
          5500,
          4725,
          5500,
          4700,
          5500,
          4575,
          5500,
          5000,
          5950,
          4650,
          5500,
          4375,
          5850,
          4875,
          6000,
          4925,
          null,
          4850,
          5750,
          5200,
          5400
         ],
         "xaxis": "x4",
         "yaxis": "y4"
        }
       ],
       "layout": {
        "barmode": "overlay",
        "legend": {
         "bgcolor": "#F5F6F9",
         "font": {
          "color": "#4D5663"
         }
        },
        "paper_bgcolor": "#F5F6F9",
        "plot_bgcolor": "#F5F6F9",
        "template": {
         "data": {
          "bar": [
           {
            "error_x": {
             "color": "#2a3f5f"
            },
            "error_y": {
             "color": "#2a3f5f"
            },
            "marker": {
             "line": {
              "color": "#E5ECF6",
              "width": 0.5
             },
             "pattern": {
              "fillmode": "overlay",
              "size": 10,
              "solidity": 0.2
             }
            },
            "type": "bar"
           }
          ],
          "barpolar": [
           {
            "marker": {
             "line": {
              "color": "#E5ECF6",
              "width": 0.5
             },
             "pattern": {
              "fillmode": "overlay",
              "size": 10,
              "solidity": 0.2
             }
            },
            "type": "barpolar"
           }
          ],
          "carpet": [
           {
            "aaxis": {
             "endlinecolor": "#2a3f5f",
             "gridcolor": "white",
             "linecolor": "white",
             "minorgridcolor": "white",
             "startlinecolor": "#2a3f5f"
            },
            "baxis": {
             "endlinecolor": "#2a3f5f",
             "gridcolor": "white",
             "linecolor": "white",
             "minorgridcolor": "white",
             "startlinecolor": "#2a3f5f"
            },
            "type": "carpet"
           }
          ],
          "choropleth": [
           {
            "colorbar": {
             "outlinewidth": 0,
             "ticks": ""
            },
            "type": "choropleth"
           }
          ],
          "contour": [
           {
            "colorbar": {
             "outlinewidth": 0,
             "ticks": ""
            },
            "colorscale": [
             [
              0,
              "#0d0887"
             ],
             [
              0.1111111111111111,
              "#46039f"
             ],
             [
              0.2222222222222222,
              "#7201a8"
             ],
             [
              0.3333333333333333,
              "#9c179e"
             ],
             [
              0.4444444444444444,
              "#bd3786"
             ],
             [
              0.5555555555555556,
              "#d8576b"
             ],
             [
              0.6666666666666666,
              "#ed7953"
             ],
             [
              0.7777777777777778,
              "#fb9f3a"
             ],
             [
              0.8888888888888888,
              "#fdca26"
             ],
             [
              1,
              "#f0f921"
             ]
            ],
            "type": "contour"
           }
          ],
          "contourcarpet": [
           {
            "colorbar": {
             "outlinewidth": 0,
             "ticks": ""
            },
            "type": "contourcarpet"
           }
          ],
          "heatmap": [
           {
            "colorbar": {
             "outlinewidth": 0,
             "ticks": ""
            },
            "colorscale": [
             [
              0,
              "#0d0887"
             ],
             [
              0.1111111111111111,
              "#46039f"
             ],
             [
              0.2222222222222222,
              "#7201a8"
             ],
             [
              0.3333333333333333,
              "#9c179e"
             ],
             [
              0.4444444444444444,
              "#bd3786"
             ],
             [
              0.5555555555555556,
              "#d8576b"
             ],
             [
              0.6666666666666666,
              "#ed7953"
             ],
             [
              0.7777777777777778,
              "#fb9f3a"
             ],
             [
              0.8888888888888888,
              "#fdca26"
             ],
             [
              1,
              "#f0f921"
             ]
            ],
            "type": "heatmap"
           }
          ],
          "heatmapgl": [
           {
            "colorbar": {
             "outlinewidth": 0,
             "ticks": ""
            },
            "colorscale": [
             [
              0,
              "#0d0887"
             ],
             [
              0.1111111111111111,
              "#46039f"
             ],
             [
              0.2222222222222222,
              "#7201a8"
             ],
             [
              0.3333333333333333,
              "#9c179e"
             ],
             [
              0.4444444444444444,
              "#bd3786"
             ],
             [
              0.5555555555555556,
              "#d8576b"
             ],
             [
              0.6666666666666666,
              "#ed7953"
             ],
             [
              0.7777777777777778,
              "#fb9f3a"
             ],
             [
              0.8888888888888888,
              "#fdca26"
             ],
             [
              1,
              "#f0f921"
             ]
            ],
            "type": "heatmapgl"
           }
          ],
          "histogram": [
           {
            "marker": {
             "pattern": {
              "fillmode": "overlay",
              "size": 10,
              "solidity": 0.2
             }
            },
            "type": "histogram"
           }
          ],
          "histogram2d": [
           {
            "colorbar": {
             "outlinewidth": 0,
             "ticks": ""
            },
            "colorscale": [
             [
              0,
              "#0d0887"
             ],
             [
              0.1111111111111111,
              "#46039f"
             ],
             [
              0.2222222222222222,
              "#7201a8"
             ],
             [
              0.3333333333333333,
              "#9c179e"
             ],
             [
              0.4444444444444444,
              "#bd3786"
             ],
             [
              0.5555555555555556,
              "#d8576b"
             ],
             [
              0.6666666666666666,
              "#ed7953"
             ],
             [
              0.7777777777777778,
              "#fb9f3a"
             ],
             [
              0.8888888888888888,
              "#fdca26"
             ],
             [
              1,
              "#f0f921"
             ]
            ],
            "type": "histogram2d"
           }
          ],
          "histogram2dcontour": [
           {
            "colorbar": {
             "outlinewidth": 0,
             "ticks": ""
            },
            "colorscale": [
             [
              0,
              "#0d0887"
             ],
             [
              0.1111111111111111,
              "#46039f"
             ],
             [
              0.2222222222222222,
              "#7201a8"
             ],
             [
              0.3333333333333333,
              "#9c179e"
             ],
             [
              0.4444444444444444,
              "#bd3786"
             ],
             [
              0.5555555555555556,
              "#d8576b"
             ],
             [
              0.6666666666666666,
              "#ed7953"
             ],
             [
              0.7777777777777778,
              "#fb9f3a"
             ],
             [
              0.8888888888888888,
              "#fdca26"
             ],
             [
              1,
              "#f0f921"
             ]
            ],
            "type": "histogram2dcontour"
           }
          ],
          "mesh3d": [
           {
            "colorbar": {
             "outlinewidth": 0,
             "ticks": ""
            },
            "type": "mesh3d"
           }
          ],
          "parcoords": [
           {
            "line": {
             "colorbar": {
              "outlinewidth": 0,
              "ticks": ""
             }
            },
            "type": "parcoords"
           }
          ],
          "pie": [
           {
            "automargin": true,
            "type": "pie"
           }
          ],
          "scatter": [
           {
            "marker": {
             "colorbar": {
              "outlinewidth": 0,
              "ticks": ""
             }
            },
            "type": "scatter"
           }
          ],
          "scatter3d": [
           {
            "line": {
             "colorbar": {
              "outlinewidth": 0,
              "ticks": ""
             }
            },
            "marker": {
             "colorbar": {
              "outlinewidth": 0,
              "ticks": ""
             }
            },
            "type": "scatter3d"
           }
          ],
          "scattercarpet": [
           {
            "marker": {
             "colorbar": {
              "outlinewidth": 0,
              "ticks": ""
             }
            },
            "type": "scattercarpet"
           }
          ],
          "scattergeo": [
           {
            "marker": {
             "colorbar": {
              "outlinewidth": 0,
              "ticks": ""
             }
            },
            "type": "scattergeo"
           }
          ],
          "scattergl": [
           {
            "marker": {
             "colorbar": {
              "outlinewidth": 0,
              "ticks": ""
             }
            },
            "type": "scattergl"
           }
          ],
          "scattermapbox": [
           {
            "marker": {
             "colorbar": {
              "outlinewidth": 0,
              "ticks": ""
             }
            },
            "type": "scattermapbox"
           }
          ],
          "scatterpolar": [
           {
            "marker": {
             "colorbar": {
              "outlinewidth": 0,
              "ticks": ""
             }
            },
            "type": "scatterpolar"
           }
          ],
          "scatterpolargl": [
           {
            "marker": {
             "colorbar": {
              "outlinewidth": 0,
              "ticks": ""
             }
            },
            "type": "scatterpolargl"
           }
          ],
          "scatterternary": [
           {
            "marker": {
             "colorbar": {
              "outlinewidth": 0,
              "ticks": ""
             }
            },
            "type": "scatterternary"
           }
          ],
          "surface": [
           {
            "colorbar": {
             "outlinewidth": 0,
             "ticks": ""
            },
            "colorscale": [
             [
              0,
              "#0d0887"
             ],
             [
              0.1111111111111111,
              "#46039f"
             ],
             [
              0.2222222222222222,
              "#7201a8"
             ],
             [
              0.3333333333333333,
              "#9c179e"
             ],
             [
              0.4444444444444444,
              "#bd3786"
             ],
             [
              0.5555555555555556,
              "#d8576b"
             ],
             [
              0.6666666666666666,
              "#ed7953"
             ],
             [
              0.7777777777777778,
              "#fb9f3a"
             ],
             [
              0.8888888888888888,
              "#fdca26"
             ],
             [
              1,
              "#f0f921"
             ]
            ],
            "type": "surface"
           }
          ],
          "table": [
           {
            "cells": {
             "fill": {
              "color": "#EBF0F8"
             },
             "line": {
              "color": "white"
             }
            },
            "header": {
             "fill": {
              "color": "#C8D4E3"
             },
             "line": {
              "color": "white"
             }
            },
            "type": "table"
           }
          ]
         },
         "layout": {
          "annotationdefaults": {
           "arrowcolor": "#2a3f5f",
           "arrowhead": 0,
           "arrowwidth": 1
          },
          "autotypenumbers": "strict",
          "coloraxis": {
           "colorbar": {
            "outlinewidth": 0,
            "ticks": ""
           }
          },
          "colorscale": {
           "diverging": [
            [
             0,
             "#8e0152"
            ],
            [
             0.1,
             "#c51b7d"
            ],
            [
             0.2,
             "#de77ae"
            ],
            [
             0.3,
             "#f1b6da"
            ],
            [
             0.4,
             "#fde0ef"
            ],
            [
             0.5,
             "#f7f7f7"
            ],
            [
             0.6,
             "#e6f5d0"
            ],
            [
             0.7,
             "#b8e186"
            ],
            [
             0.8,
             "#7fbc41"
            ],
            [
             0.9,
             "#4d9221"
            ],
            [
             1,
             "#276419"
            ]
           ],
           "sequential": [
            [
             0,
             "#0d0887"
            ],
            [
             0.1111111111111111,
             "#46039f"
            ],
            [
             0.2222222222222222,
             "#7201a8"
            ],
            [
             0.3333333333333333,
             "#9c179e"
            ],
            [
             0.4444444444444444,
             "#bd3786"
            ],
            [
             0.5555555555555556,
             "#d8576b"
            ],
            [
             0.6666666666666666,
             "#ed7953"
            ],
            [
             0.7777777777777778,
             "#fb9f3a"
            ],
            [
             0.8888888888888888,
             "#fdca26"
            ],
            [
             1,
             "#f0f921"
            ]
           ],
           "sequentialminus": [
            [
             0,
             "#0d0887"
            ],
            [
             0.1111111111111111,
             "#46039f"
            ],
            [
             0.2222222222222222,
             "#7201a8"
            ],
            [
             0.3333333333333333,
             "#9c179e"
            ],
            [
             0.4444444444444444,
             "#bd3786"
            ],
            [
             0.5555555555555556,
             "#d8576b"
            ],
            [
             0.6666666666666666,
             "#ed7953"
            ],
            [
             0.7777777777777778,
             "#fb9f3a"
            ],
            [
             0.8888888888888888,
             "#fdca26"
            ],
            [
             1,
             "#f0f921"
            ]
           ]
          },
          "colorway": [
           "#636efa",
           "#EF553B",
           "#00cc96",
           "#ab63fa",
           "#FFA15A",
           "#19d3f3",
           "#FF6692",
           "#B6E880",
           "#FF97FF",
           "#FECB52"
          ],
          "font": {
           "color": "#2a3f5f"
          },
          "geo": {
           "bgcolor": "white",
           "lakecolor": "white",
           "landcolor": "#E5ECF6",
           "showlakes": true,
           "showland": true,
           "subunitcolor": "white"
          },
          "hoverlabel": {
           "align": "left"
          },
          "hovermode": "closest",
          "mapbox": {
           "style": "light"
          },
          "paper_bgcolor": "white",
          "plot_bgcolor": "#E5ECF6",
          "polar": {
           "angularaxis": {
            "gridcolor": "white",
            "linecolor": "white",
            "ticks": ""
           },
           "bgcolor": "#E5ECF6",
           "radialaxis": {
            "gridcolor": "white",
            "linecolor": "white",
            "ticks": ""
           }
          },
          "scene": {
           "xaxis": {
            "backgroundcolor": "#E5ECF6",
            "gridcolor": "white",
            "gridwidth": 2,
            "linecolor": "white",
            "showbackground": true,
            "ticks": "",
            "zerolinecolor": "white"
           },
           "yaxis": {
            "backgroundcolor": "#E5ECF6",
            "gridcolor": "white",
            "gridwidth": 2,
            "linecolor": "white",
            "showbackground": true,
            "ticks": "",
            "zerolinecolor": "white"
           },
           "zaxis": {
            "backgroundcolor": "#E5ECF6",
            "gridcolor": "white",
            "gridwidth": 2,
            "linecolor": "white",
            "showbackground": true,
            "ticks": "",
            "zerolinecolor": "white"
           }
          },
          "shapedefaults": {
           "line": {
            "color": "#2a3f5f"
           }
          },
          "ternary": {
           "aaxis": {
            "gridcolor": "white",
            "linecolor": "white",
            "ticks": ""
           },
           "baxis": {
            "gridcolor": "white",
            "linecolor": "white",
            "ticks": ""
           },
           "bgcolor": "#E5ECF6",
           "caxis": {
            "gridcolor": "white",
            "linecolor": "white",
            "ticks": ""
           }
          },
          "title": {
           "x": 0.05
          },
          "xaxis": {
           "automargin": true,
           "gridcolor": "white",
           "linecolor": "white",
           "ticks": "",
           "title": {
            "standoff": 15
           },
           "zerolinecolor": "white",
           "zerolinewidth": 2
          },
          "yaxis": {
           "automargin": true,
           "gridcolor": "white",
           "linecolor": "white",
           "ticks": "",
           "title": {
            "standoff": 15
           },
           "zerolinecolor": "white",
           "zerolinewidth": 2
          }
         }
        },
        "title": {
         "font": {
          "color": "#4D5663"
         }
        },
        "xaxis": {
         "anchor": "y",
         "domain": [
          0,
          0.45
         ],
         "gridcolor": "#E1E5ED",
         "showgrid": true,
         "tickfont": {
          "color": "#4D5663"
         },
         "title": {
          "font": {
           "color": "#4D5663"
          },
          "text": ""
         },
         "zerolinecolor": "#E1E5ED"
        },
        "xaxis2": {
         "anchor": "y2",
         "domain": [
          0.55,
          1
         ],
         "gridcolor": "#E1E5ED",
         "showgrid": true,
         "tickfont": {
          "color": "#4D5663"
         },
         "title": {
          "font": {
           "color": "#4D5663"
          },
          "text": ""
         },
         "zerolinecolor": "#E1E5ED"
        },
        "xaxis3": {
         "anchor": "y3",
         "domain": [
          0,
          0.45
         ],
         "gridcolor": "#E1E5ED",
         "showgrid": true,
         "tickfont": {
          "color": "#4D5663"
         },
         "title": {
          "font": {
           "color": "#4D5663"
          },
          "text": ""
         },
         "zerolinecolor": "#E1E5ED"
        },
        "xaxis4": {
         "anchor": "y4",
         "domain": [
          0.55,
          1
         ],
         "gridcolor": "#E1E5ED",
         "showgrid": true,
         "tickfont": {
          "color": "#4D5663"
         },
         "title": {
          "font": {
           "color": "#4D5663"
          },
          "text": ""
         },
         "zerolinecolor": "#E1E5ED"
        },
        "yaxis": {
         "anchor": "x",
         "domain": [
          0.575,
          1
         ],
         "gridcolor": "#E1E5ED",
         "showgrid": true,
         "tickfont": {
          "color": "#4D5663"
         },
         "title": {
          "font": {
           "color": "#4D5663"
          },
          "text": ""
         },
         "zerolinecolor": "#E1E5ED"
        },
        "yaxis2": {
         "anchor": "x2",
         "domain": [
          0.575,
          1
         ],
         "gridcolor": "#E1E5ED",
         "showgrid": true,
         "tickfont": {
          "color": "#4D5663"
         },
         "title": {
          "font": {
           "color": "#4D5663"
          },
          "text": ""
         },
         "zerolinecolor": "#E1E5ED"
        },
        "yaxis3": {
         "anchor": "x3",
         "domain": [
          0,
          0.425
         ],
         "gridcolor": "#E1E5ED",
         "showgrid": true,
         "tickfont": {
          "color": "#4D5663"
         },
         "title": {
          "font": {
           "color": "#4D5663"
          },
          "text": ""
         },
         "zerolinecolor": "#E1E5ED"
        },
        "yaxis4": {
         "anchor": "x4",
         "domain": [
          0,
          0.425
         ],
         "gridcolor": "#E1E5ED",
         "showgrid": true,
         "tickfont": {
          "color": "#4D5663"
         },
         "title": {
          "font": {
           "color": "#4D5663"
          },
          "text": ""
         },
         "zerolinecolor": "#E1E5ED"
        }
       }
      },
      "text/html": [
       "<div>                            <div id=\"29dae71a-6737-46cd-ad66-54b85e877807\" class=\"plotly-graph-div\" style=\"height:525px; width:100%;\"></div>            <script type=\"text/javascript\">                require([\"plotly\"], function(Plotly) {                    window.PLOTLYENV=window.PLOTLYENV || {};\n",
       "                    window.PLOTLYENV.BASE_URL='https://plot.ly';                                    if (document.getElementById(\"29dae71a-6737-46cd-ad66-54b85e877807\")) {                    Plotly.newPlot(                        \"29dae71a-6737-46cd-ad66-54b85e877807\",                        [{\"histfunc\":\"count\",\"histnorm\":\"\",\"marker\":{\"color\":\"rgba(255, 153, 51, 1.0)\",\"line\":{\"color\":\"#4D5663\",\"width\":1.3}},\"name\":\"bill_length_mm\",\"opacity\":0.8,\"orientation\":\"v\",\"x\":[39.1,39.5,40.3,null,36.7,39.3,38.9,39.2,34.1,42.0,37.8,37.8,41.1,38.6,34.6,36.6,38.7,42.5,34.4,46.0,37.8,37.7,35.9,38.2,38.8,35.3,40.6,40.5,37.9,40.5,39.5,37.2,39.5,40.9,36.4,39.2,38.8,42.2,37.6,39.8,36.5,40.8,36.0,44.1,37.0,39.6,41.1,37.5,36.0,42.3,39.6,40.1,35.0,42.0,34.5,41.4,39.0,40.6,36.5,37.6,35.7,41.3,37.6,41.1,36.4,41.6,35.5,41.1,35.9,41.8,33.5,39.7,39.6,45.8,35.5,42.8,40.9,37.2,36.2,42.1,34.6,42.9,36.7,35.1,37.3,41.3,36.3,36.9,38.3,38.9,35.7,41.1,34.0,39.6,36.2,40.8,38.1,40.3,33.1,43.2,35.0,41.0,37.7,37.8,37.9,39.7,38.6,38.2,38.1,43.2,38.1,45.6,39.7,42.2,39.6,42.7,38.6,37.3,35.7,41.1,36.2,37.7,40.2,41.4,35.2,40.6,38.8,41.5,39.0,44.1,38.5,43.1,36.8,37.5,38.1,41.1,35.6,40.2,37.0,39.7,40.2,40.6,32.1,40.7,37.3,39.0,39.2,36.6,36.0,37.8,36.0,41.5,46.5,50.0,51.3,45.4,52.7,45.2,46.1,51.3,46.0,51.3,46.6,51.7,47.0,52.0,45.9,50.5,50.3,58.0,46.4,49.2,42.4,48.5,43.2,50.6,46.7,52.0,50.5,49.5,46.4,52.8,40.9,54.2,42.5,51.0,49.7,47.5,47.6,52.0,46.9,53.5,49.0,46.2,50.9,45.5,50.9,50.8,50.1,49.0,51.5,49.8,48.1,51.4,45.7,50.7,42.5,52.2,45.2,49.3,50.2,45.6,51.9,46.8,45.7,55.8,43.5,49.6,50.8,50.2,46.1,50.0,48.7,50.0,47.6,46.5,45.4,46.7,43.3,46.8,40.9,49.0,45.5,48.4,45.8,49.3,42.0,49.2,46.2,48.7,50.2,45.1,46.5,46.3,42.9,46.1,44.5,47.8,48.2,50.0,47.3,42.8,45.1,59.6,49.1,48.4,42.6,44.4,44.0,48.7,42.7,49.6,45.3,49.6,50.5,43.6,45.5,50.5,44.9,45.2,46.6,48.5,45.1,50.1,46.5,45.0,43.8,45.5,43.2,50.4,45.3,46.2,45.7,54.3,45.8,49.8,46.2,49.5,43.5,50.7,47.7,46.4,48.2,46.5,46.4,48.6,47.5,51.1,45.2,45.2,49.1,52.5,47.4,50.0,44.9,50.8,43.4,51.3,47.5,52.1,47.5,52.2,45.5,49.5,44.5,50.8,49.4,46.9,48.4,51.1,48.5,55.9,47.2,49.1,47.3,46.8,41.7,53.4,43.3,48.1,50.5,49.8,43.5,51.5,46.2,55.1,44.5,48.8,47.2,null,46.8,50.4,45.2,49.9],\"xaxis\":\"x\",\"yaxis\":\"y\",\"type\":\"histogram\"},{\"histfunc\":\"count\",\"histnorm\":\"\",\"marker\":{\"color\":\"rgba(55, 128, 191, 1.0)\",\"line\":{\"color\":\"#4D5663\",\"width\":1.3}},\"name\":\"bill_depth_mm\",\"opacity\":0.8,\"orientation\":\"v\",\"x\":[18.7,17.4,18.0,null,19.3,20.6,17.8,19.6,18.1,20.2,17.1,17.3,17.6,21.2,21.1,17.8,19.0,20.7,18.4,21.5,18.3,18.7,19.2,18.1,17.2,18.9,18.6,17.9,18.6,18.9,16.7,18.1,17.8,18.9,17.0,21.1,20.0,18.5,19.3,19.1,18.0,18.4,18.5,19.7,16.9,18.8,19.0,18.9,17.9,21.2,17.7,18.9,17.9,19.5,18.1,18.6,17.5,18.8,16.6,19.1,16.9,21.1,17.0,18.2,17.1,18.0,16.2,19.1,16.6,19.4,19.0,18.4,17.2,18.9,17.5,18.5,16.8,19.4,16.1,19.1,17.2,17.6,18.8,19.4,17.8,20.3,19.5,18.6,19.2,18.8,18.0,18.1,17.1,18.1,17.3,18.9,18.6,18.5,16.1,18.5,17.9,20.0,16.0,20.0,18.6,18.9,17.2,20.0,17.0,19.0,16.5,20.3,17.7,19.5,20.7,18.3,17.0,20.5,17.0,18.6,17.2,19.8,17.0,18.5,15.9,19.0,17.6,18.3,17.1,18.0,17.9,19.2,18.5,18.5,17.6,17.5,17.5,20.1,16.5,17.9,17.1,17.2,15.5,17.0,16.8,18.7,18.6,18.4,17.8,18.1,17.1,18.5,17.9,19.5,19.2,18.7,19.8,17.8,18.2,18.2,18.9,19.9,17.8,20.3,17.3,18.1,17.1,19.6,20.0,17.8,18.6,18.2,17.3,17.5,16.6,19.4,17.9,19.0,18.4,19.0,17.8,20.0,16.6,20.8,16.7,18.8,18.6,16.8,18.3,20.7,16.6,19.9,19.5,17.5,19.1,17.0,17.9,18.5,17.9,19.6,18.7,17.3,16.4,19.0,17.3,19.7,17.3,18.8,16.6,19.9,18.8,19.4,19.5,16.5,17.0,19.8,18.1,18.2,19.0,18.7,13.2,16.3,14.1,15.2,14.5,13.5,14.6,15.3,13.4,15.4,13.7,16.1,13.7,14.6,14.6,15.7,13.5,15.2,14.5,15.1,14.3,14.5,14.5,15.8,13.1,15.1,14.3,15.0,14.3,15.3,15.3,14.2,14.5,17.0,14.8,16.3,13.7,17.3,13.6,15.7,13.7,16.0,13.7,15.0,15.9,13.9,13.9,15.9,13.3,15.8,14.2,14.1,14.4,15.0,14.4,15.4,13.9,15.0,14.5,15.3,13.8,14.9,13.9,15.7,14.2,16.8,14.4,16.2,14.2,15.0,15.0,15.6,15.6,14.8,15.0,16.0,14.2,16.3,13.8,16.4,14.5,15.6,14.6,15.9,13.8,17.3,14.4,14.2,14.0,17.0,15.0,17.1,14.5,16.1,14.7,15.7,15.8,14.6,14.4,16.5,15.0,17.0,15.5,15.0,13.8,16.1,14.7,15.8,14.0,15.1,15.2,15.9,15.2,16.3,14.1,16.0,15.7,16.2,13.7,null,14.3,15.7,14.8,16.1],\"xaxis\":\"x2\",\"yaxis\":\"y2\",\"type\":\"histogram\"},{\"histfunc\":\"count\",\"histnorm\":\"\",\"marker\":{\"color\":\"rgba(50, 171, 96, 1.0)\",\"line\":{\"color\":\"#4D5663\",\"width\":1.3}},\"name\":\"flipper_length_mm\",\"opacity\":0.8,\"orientation\":\"v\",\"x\":[181.0,186.0,195.0,null,193.0,190.0,181.0,195.0,193.0,190.0,186.0,180.0,182.0,191.0,198.0,185.0,195.0,197.0,184.0,194.0,174.0,180.0,189.0,185.0,180.0,187.0,183.0,187.0,172.0,180.0,178.0,178.0,188.0,184.0,195.0,196.0,190.0,180.0,181.0,184.0,182.0,195.0,186.0,196.0,185.0,190.0,182.0,179.0,190.0,191.0,186.0,188.0,190.0,200.0,187.0,191.0,186.0,193.0,181.0,194.0,185.0,195.0,185.0,192.0,184.0,192.0,195.0,188.0,190.0,198.0,190.0,190.0,196.0,197.0,190.0,195.0,191.0,184.0,187.0,195.0,189.0,196.0,187.0,193.0,191.0,194.0,190.0,189.0,189.0,190.0,202.0,205.0,185.0,186.0,187.0,208.0,190.0,196.0,178.0,192.0,192.0,203.0,183.0,190.0,193.0,184.0,199.0,190.0,181.0,197.0,198.0,191.0,193.0,197.0,191.0,196.0,188.0,199.0,189.0,189.0,187.0,198.0,176.0,202.0,186.0,199.0,191.0,195.0,191.0,210.0,190.0,197.0,193.0,199.0,187.0,190.0,191.0,200.0,185.0,193.0,193.0,187.0,188.0,190.0,192.0,185.0,190.0,184.0,195.0,193.0,187.0,201.0,192.0,196.0,193.0,188.0,197.0,198.0,178.0,197.0,195.0,198.0,193.0,194.0,185.0,201.0,190.0,201.0,197.0,181.0,190.0,195.0,181.0,191.0,187.0,193.0,195.0,197.0,200.0,200.0,191.0,205.0,187.0,201.0,187.0,203.0,195.0,199.0,195.0,210.0,192.0,205.0,210.0,187.0,196.0,196.0,196.0,201.0,190.0,212.0,187.0,198.0,199.0,201.0,193.0,203.0,187.0,197.0,191.0,203.0,202.0,194.0,206.0,189.0,195.0,207.0,202.0,193.0,210.0,198.0,211.0,230.0,210.0,218.0,215.0,210.0,211.0,219.0,209.0,215.0,214.0,216.0,214.0,213.0,210.0,217.0,210.0,221.0,209.0,222.0,218.0,215.0,213.0,215.0,215.0,215.0,216.0,215.0,210.0,220.0,222.0,209.0,207.0,230.0,220.0,220.0,213.0,219.0,208.0,208.0,208.0,225.0,210.0,216.0,222.0,217.0,210.0,225.0,213.0,215.0,210.0,220.0,210.0,225.0,217.0,220.0,208.0,220.0,208.0,224.0,208.0,221.0,214.0,231.0,219.0,230.0,214.0,229.0,220.0,223.0,216.0,221.0,221.0,217.0,216.0,230.0,209.0,220.0,215.0,223.0,212.0,221.0,212.0,224.0,212.0,228.0,218.0,218.0,212.0,230.0,218.0,228.0,212.0,224.0,214.0,226.0,216.0,222.0,203.0,225.0,219.0,228.0,215.0,228.0,216.0,215.0,210.0,219.0,208.0,209.0,216.0,229.0,213.0,230.0,217.0,230.0,217.0,222.0,214.0,null,215.0,222.0,212.0,213.0],\"xaxis\":\"x3\",\"yaxis\":\"y3\",\"type\":\"histogram\"},{\"histfunc\":\"count\",\"histnorm\":\"\",\"marker\":{\"color\":\"rgba(128, 0, 128, 1.0)\",\"line\":{\"color\":\"#4D5663\",\"width\":1.3}},\"name\":\"body_mass_g\",\"opacity\":0.8,\"orientation\":\"v\",\"x\":[3750.0,3800.0,3250.0,null,3450.0,3650.0,3625.0,4675.0,3475.0,4250.0,3300.0,3700.0,3200.0,3800.0,4400.0,3700.0,3450.0,4500.0,3325.0,4200.0,3400.0,3600.0,3800.0,3950.0,3800.0,3800.0,3550.0,3200.0,3150.0,3950.0,3250.0,3900.0,3300.0,3900.0,3325.0,4150.0,3950.0,3550.0,3300.0,4650.0,3150.0,3900.0,3100.0,4400.0,3000.0,4600.0,3425.0,2975.0,3450.0,4150.0,3500.0,4300.0,3450.0,4050.0,2900.0,3700.0,3550.0,3800.0,2850.0,3750.0,3150.0,4400.0,3600.0,4050.0,2850.0,3950.0,3350.0,4100.0,3050.0,4450.0,3600.0,3900.0,3550.0,4150.0,3700.0,4250.0,3700.0,3900.0,3550.0,4000.0,3200.0,4700.0,3800.0,4200.0,3350.0,3550.0,3800.0,3500.0,3950.0,3600.0,3550.0,4300.0,3400.0,4450.0,3300.0,4300.0,3700.0,4350.0,2900.0,4100.0,3725.0,4725.0,3075.0,4250.0,2925.0,3550.0,3750.0,3900.0,3175.0,4775.0,3825.0,4600.0,3200.0,4275.0,3900.0,4075.0,2900.0,3775.0,3350.0,3325.0,3150.0,3500.0,3450.0,3875.0,3050.0,4000.0,3275.0,4300.0,3050.0,4000.0,3325.0,3500.0,3500.0,4475.0,3425.0,3900.0,3175.0,3975.0,3400.0,4250.0,3400.0,3475.0,3050.0,3725.0,3000.0,3650.0,4250.0,3475.0,3450.0,3750.0,3700.0,4000.0,3500.0,3900.0,3650.0,3525.0,3725.0,3950.0,3250.0,3750.0,4150.0,3700.0,3800.0,3775.0,3700.0,4050.0,3575.0,4050.0,3300.0,3700.0,3450.0,4400.0,3600.0,3400.0,2900.0,3800.0,3300.0,4150.0,3400.0,3800.0,3700.0,4550.0,3200.0,4300.0,3350.0,4100.0,3600.0,3900.0,3850.0,4800.0,2700.0,4500.0,3950.0,3650.0,3550.0,3500.0,3675.0,4450.0,3400.0,4300.0,3250.0,3675.0,3325.0,3950.0,3600.0,4050.0,3350.0,3450.0,3250.0,4050.0,3800.0,3525.0,3950.0,3650.0,3650.0,4000.0,3400.0,3775.0,4100.0,3775.0,4500.0,5700.0,4450.0,5700.0,5400.0,4550.0,4800.0,5200.0,4400.0,5150.0,4650.0,5550.0,4650.0,5850.0,4200.0,5850.0,4150.0,6300.0,4800.0,5350.0,5700.0,5000.0,4400.0,5050.0,5000.0,5100.0,4100.0,5650.0,4600.0,5550.0,5250.0,4700.0,5050.0,6050.0,5150.0,5400.0,4950.0,5250.0,4350.0,5350.0,3950.0,5700.0,4300.0,4750.0,5550.0,4900.0,4200.0,5400.0,5100.0,5300.0,4850.0,5300.0,4400.0,5000.0,4900.0,5050.0,4300.0,5000.0,4450.0,5550.0,4200.0,5300.0,4400.0,5650.0,4700.0,5700.0,4650.0,5800.0,4700.0,5550.0,4750.0,5000.0,5100.0,5200.0,4700.0,5800.0,4600.0,6000.0,4750.0,5950.0,4625.0,5450.0,4725.0,5350.0,4750.0,5600.0,4600.0,5300.0,4875.0,5550.0,4950.0,5400.0,4750.0,5650.0,4850.0,5200.0,4925.0,4875.0,4625.0,5250.0,4850.0,5600.0,4975.0,5500.0,4725.0,5500.0,4700.0,5500.0,4575.0,5500.0,5000.0,5950.0,4650.0,5500.0,4375.0,5850.0,4875.0,6000.0,4925.0,null,4850.0,5750.0,5200.0,5400.0],\"xaxis\":\"x4\",\"yaxis\":\"y4\",\"type\":\"histogram\"}],                        {\"barmode\":\"overlay\",\"legend\":{\"bgcolor\":\"#F5F6F9\",\"font\":{\"color\":\"#4D5663\"}},\"paper_bgcolor\":\"#F5F6F9\",\"plot_bgcolor\":\"#F5F6F9\",\"template\":{\"data\":{\"barpolar\":[{\"marker\":{\"line\":{\"color\":\"#E5ECF6\",\"width\":0.5},\"pattern\":{\"fillmode\":\"overlay\",\"size\":10,\"solidity\":0.2}},\"type\":\"barpolar\"}],\"bar\":[{\"error_x\":{\"color\":\"#2a3f5f\"},\"error_y\":{\"color\":\"#2a3f5f\"},\"marker\":{\"line\":{\"color\":\"#E5ECF6\",\"width\":0.5},\"pattern\":{\"fillmode\":\"overlay\",\"size\":10,\"solidity\":0.2}},\"type\":\"bar\"}],\"carpet\":[{\"aaxis\":{\"endlinecolor\":\"#2a3f5f\",\"gridcolor\":\"white\",\"linecolor\":\"white\",\"minorgridcolor\":\"white\",\"startlinecolor\":\"#2a3f5f\"},\"baxis\":{\"endlinecolor\":\"#2a3f5f\",\"gridcolor\":\"white\",\"linecolor\":\"white\",\"minorgridcolor\":\"white\",\"startlinecolor\":\"#2a3f5f\"},\"type\":\"carpet\"}],\"choropleth\":[{\"colorbar\":{\"outlinewidth\":0,\"ticks\":\"\"},\"type\":\"choropleth\"}],\"contourcarpet\":[{\"colorbar\":{\"outlinewidth\":0,\"ticks\":\"\"},\"type\":\"contourcarpet\"}],\"contour\":[{\"colorbar\":{\"outlinewidth\":0,\"ticks\":\"\"},\"colorscale\":[[0.0,\"#0d0887\"],[0.1111111111111111,\"#46039f\"],[0.2222222222222222,\"#7201a8\"],[0.3333333333333333,\"#9c179e\"],[0.4444444444444444,\"#bd3786\"],[0.5555555555555556,\"#d8576b\"],[0.6666666666666666,\"#ed7953\"],[0.7777777777777778,\"#fb9f3a\"],[0.8888888888888888,\"#fdca26\"],[1.0,\"#f0f921\"]],\"type\":\"contour\"}],\"heatmapgl\":[{\"colorbar\":{\"outlinewidth\":0,\"ticks\":\"\"},\"colorscale\":[[0.0,\"#0d0887\"],[0.1111111111111111,\"#46039f\"],[0.2222222222222222,\"#7201a8\"],[0.3333333333333333,\"#9c179e\"],[0.4444444444444444,\"#bd3786\"],[0.5555555555555556,\"#d8576b\"],[0.6666666666666666,\"#ed7953\"],[0.7777777777777778,\"#fb9f3a\"],[0.8888888888888888,\"#fdca26\"],[1.0,\"#f0f921\"]],\"type\":\"heatmapgl\"}],\"heatmap\":[{\"colorbar\":{\"outlinewidth\":0,\"ticks\":\"\"},\"colorscale\":[[0.0,\"#0d0887\"],[0.1111111111111111,\"#46039f\"],[0.2222222222222222,\"#7201a8\"],[0.3333333333333333,\"#9c179e\"],[0.4444444444444444,\"#bd3786\"],[0.5555555555555556,\"#d8576b\"],[0.6666666666666666,\"#ed7953\"],[0.7777777777777778,\"#fb9f3a\"],[0.8888888888888888,\"#fdca26\"],[1.0,\"#f0f921\"]],\"type\":\"heatmap\"}],\"histogram2dcontour\":[{\"colorbar\":{\"outlinewidth\":0,\"ticks\":\"\"},\"colorscale\":[[0.0,\"#0d0887\"],[0.1111111111111111,\"#46039f\"],[0.2222222222222222,\"#7201a8\"],[0.3333333333333333,\"#9c179e\"],[0.4444444444444444,\"#bd3786\"],[0.5555555555555556,\"#d8576b\"],[0.6666666666666666,\"#ed7953\"],[0.7777777777777778,\"#fb9f3a\"],[0.8888888888888888,\"#fdca26\"],[1.0,\"#f0f921\"]],\"type\":\"histogram2dcontour\"}],\"histogram2d\":[{\"colorbar\":{\"outlinewidth\":0,\"ticks\":\"\"},\"colorscale\":[[0.0,\"#0d0887\"],[0.1111111111111111,\"#46039f\"],[0.2222222222222222,\"#7201a8\"],[0.3333333333333333,\"#9c179e\"],[0.4444444444444444,\"#bd3786\"],[0.5555555555555556,\"#d8576b\"],[0.6666666666666666,\"#ed7953\"],[0.7777777777777778,\"#fb9f3a\"],[0.8888888888888888,\"#fdca26\"],[1.0,\"#f0f921\"]],\"type\":\"histogram2d\"}],\"histogram\":[{\"marker\":{\"pattern\":{\"fillmode\":\"overlay\",\"size\":10,\"solidity\":0.2}},\"type\":\"histogram\"}],\"mesh3d\":[{\"colorbar\":{\"outlinewidth\":0,\"ticks\":\"\"},\"type\":\"mesh3d\"}],\"parcoords\":[{\"line\":{\"colorbar\":{\"outlinewidth\":0,\"ticks\":\"\"}},\"type\":\"parcoords\"}],\"pie\":[{\"automargin\":true,\"type\":\"pie\"}],\"scatter3d\":[{\"line\":{\"colorbar\":{\"outlinewidth\":0,\"ticks\":\"\"}},\"marker\":{\"colorbar\":{\"outlinewidth\":0,\"ticks\":\"\"}},\"type\":\"scatter3d\"}],\"scattercarpet\":[{\"marker\":{\"colorbar\":{\"outlinewidth\":0,\"ticks\":\"\"}},\"type\":\"scattercarpet\"}],\"scattergeo\":[{\"marker\":{\"colorbar\":{\"outlinewidth\":0,\"ticks\":\"\"}},\"type\":\"scattergeo\"}],\"scattergl\":[{\"marker\":{\"colorbar\":{\"outlinewidth\":0,\"ticks\":\"\"}},\"type\":\"scattergl\"}],\"scattermapbox\":[{\"marker\":{\"colorbar\":{\"outlinewidth\":0,\"ticks\":\"\"}},\"type\":\"scattermapbox\"}],\"scatterpolargl\":[{\"marker\":{\"colorbar\":{\"outlinewidth\":0,\"ticks\":\"\"}},\"type\":\"scatterpolargl\"}],\"scatterpolar\":[{\"marker\":{\"colorbar\":{\"outlinewidth\":0,\"ticks\":\"\"}},\"type\":\"scatterpolar\"}],\"scatter\":[{\"marker\":{\"colorbar\":{\"outlinewidth\":0,\"ticks\":\"\"}},\"type\":\"scatter\"}],\"scatterternary\":[{\"marker\":{\"colorbar\":{\"outlinewidth\":0,\"ticks\":\"\"}},\"type\":\"scatterternary\"}],\"surface\":[{\"colorbar\":{\"outlinewidth\":0,\"ticks\":\"\"},\"colorscale\":[[0.0,\"#0d0887\"],[0.1111111111111111,\"#46039f\"],[0.2222222222222222,\"#7201a8\"],[0.3333333333333333,\"#9c179e\"],[0.4444444444444444,\"#bd3786\"],[0.5555555555555556,\"#d8576b\"],[0.6666666666666666,\"#ed7953\"],[0.7777777777777778,\"#fb9f3a\"],[0.8888888888888888,\"#fdca26\"],[1.0,\"#f0f921\"]],\"type\":\"surface\"}],\"table\":[{\"cells\":{\"fill\":{\"color\":\"#EBF0F8\"},\"line\":{\"color\":\"white\"}},\"header\":{\"fill\":{\"color\":\"#C8D4E3\"},\"line\":{\"color\":\"white\"}},\"type\":\"table\"}]},\"layout\":{\"annotationdefaults\":{\"arrowcolor\":\"#2a3f5f\",\"arrowhead\":0,\"arrowwidth\":1},\"autotypenumbers\":\"strict\",\"coloraxis\":{\"colorbar\":{\"outlinewidth\":0,\"ticks\":\"\"}},\"colorscale\":{\"diverging\":[[0,\"#8e0152\"],[0.1,\"#c51b7d\"],[0.2,\"#de77ae\"],[0.3,\"#f1b6da\"],[0.4,\"#fde0ef\"],[0.5,\"#f7f7f7\"],[0.6,\"#e6f5d0\"],[0.7,\"#b8e186\"],[0.8,\"#7fbc41\"],[0.9,\"#4d9221\"],[1,\"#276419\"]],\"sequential\":[[0.0,\"#0d0887\"],[0.1111111111111111,\"#46039f\"],[0.2222222222222222,\"#7201a8\"],[0.3333333333333333,\"#9c179e\"],[0.4444444444444444,\"#bd3786\"],[0.5555555555555556,\"#d8576b\"],[0.6666666666666666,\"#ed7953\"],[0.7777777777777778,\"#fb9f3a\"],[0.8888888888888888,\"#fdca26\"],[1.0,\"#f0f921\"]],\"sequentialminus\":[[0.0,\"#0d0887\"],[0.1111111111111111,\"#46039f\"],[0.2222222222222222,\"#7201a8\"],[0.3333333333333333,\"#9c179e\"],[0.4444444444444444,\"#bd3786\"],[0.5555555555555556,\"#d8576b\"],[0.6666666666666666,\"#ed7953\"],[0.7777777777777778,\"#fb9f3a\"],[0.8888888888888888,\"#fdca26\"],[1.0,\"#f0f921\"]]},\"colorway\":[\"#636efa\",\"#EF553B\",\"#00cc96\",\"#ab63fa\",\"#FFA15A\",\"#19d3f3\",\"#FF6692\",\"#B6E880\",\"#FF97FF\",\"#FECB52\"],\"font\":{\"color\":\"#2a3f5f\"},\"geo\":{\"bgcolor\":\"white\",\"lakecolor\":\"white\",\"landcolor\":\"#E5ECF6\",\"showlakes\":true,\"showland\":true,\"subunitcolor\":\"white\"},\"hoverlabel\":{\"align\":\"left\"},\"hovermode\":\"closest\",\"mapbox\":{\"style\":\"light\"},\"paper_bgcolor\":\"white\",\"plot_bgcolor\":\"#E5ECF6\",\"polar\":{\"angularaxis\":{\"gridcolor\":\"white\",\"linecolor\":\"white\",\"ticks\":\"\"},\"bgcolor\":\"#E5ECF6\",\"radialaxis\":{\"gridcolor\":\"white\",\"linecolor\":\"white\",\"ticks\":\"\"}},\"scene\":{\"xaxis\":{\"backgroundcolor\":\"#E5ECF6\",\"gridcolor\":\"white\",\"gridwidth\":2,\"linecolor\":\"white\",\"showbackground\":true,\"ticks\":\"\",\"zerolinecolor\":\"white\"},\"yaxis\":{\"backgroundcolor\":\"#E5ECF6\",\"gridcolor\":\"white\",\"gridwidth\":2,\"linecolor\":\"white\",\"showbackground\":true,\"ticks\":\"\",\"zerolinecolor\":\"white\"},\"zaxis\":{\"backgroundcolor\":\"#E5ECF6\",\"gridcolor\":\"white\",\"gridwidth\":2,\"linecolor\":\"white\",\"showbackground\":true,\"ticks\":\"\",\"zerolinecolor\":\"white\"}},\"shapedefaults\":{\"line\":{\"color\":\"#2a3f5f\"}},\"ternary\":{\"aaxis\":{\"gridcolor\":\"white\",\"linecolor\":\"white\",\"ticks\":\"\"},\"baxis\":{\"gridcolor\":\"white\",\"linecolor\":\"white\",\"ticks\":\"\"},\"bgcolor\":\"#E5ECF6\",\"caxis\":{\"gridcolor\":\"white\",\"linecolor\":\"white\",\"ticks\":\"\"}},\"title\":{\"x\":0.05},\"xaxis\":{\"automargin\":true,\"gridcolor\":\"white\",\"linecolor\":\"white\",\"ticks\":\"\",\"title\":{\"standoff\":15},\"zerolinecolor\":\"white\",\"zerolinewidth\":2},\"yaxis\":{\"automargin\":true,\"gridcolor\":\"white\",\"linecolor\":\"white\",\"ticks\":\"\",\"title\":{\"standoff\":15},\"zerolinecolor\":\"white\",\"zerolinewidth\":2}}},\"title\":{\"font\":{\"color\":\"#4D5663\"}},\"xaxis\":{\"anchor\":\"y\",\"domain\":[0.0,0.45],\"gridcolor\":\"#E1E5ED\",\"showgrid\":true,\"tickfont\":{\"color\":\"#4D5663\"},\"title\":{\"font\":{\"color\":\"#4D5663\"},\"text\":\"\"},\"zerolinecolor\":\"#E1E5ED\"},\"yaxis\":{\"anchor\":\"x\",\"domain\":[0.575,1.0],\"gridcolor\":\"#E1E5ED\",\"showgrid\":true,\"tickfont\":{\"color\":\"#4D5663\"},\"title\":{\"font\":{\"color\":\"#4D5663\"},\"text\":\"\"},\"zerolinecolor\":\"#E1E5ED\"},\"xaxis2\":{\"anchor\":\"y2\",\"domain\":[0.55,1.0],\"gridcolor\":\"#E1E5ED\",\"showgrid\":true,\"tickfont\":{\"color\":\"#4D5663\"},\"title\":{\"font\":{\"color\":\"#4D5663\"},\"text\":\"\"},\"zerolinecolor\":\"#E1E5ED\"},\"yaxis2\":{\"anchor\":\"x2\",\"domain\":[0.575,1.0],\"gridcolor\":\"#E1E5ED\",\"showgrid\":true,\"tickfont\":{\"color\":\"#4D5663\"},\"title\":{\"font\":{\"color\":\"#4D5663\"},\"text\":\"\"},\"zerolinecolor\":\"#E1E5ED\"},\"xaxis3\":{\"anchor\":\"y3\",\"domain\":[0.0,0.45],\"gridcolor\":\"#E1E5ED\",\"showgrid\":true,\"tickfont\":{\"color\":\"#4D5663\"},\"title\":{\"font\":{\"color\":\"#4D5663\"},\"text\":\"\"},\"zerolinecolor\":\"#E1E5ED\"},\"yaxis3\":{\"anchor\":\"x3\",\"domain\":[0.0,0.425],\"gridcolor\":\"#E1E5ED\",\"showgrid\":true,\"tickfont\":{\"color\":\"#4D5663\"},\"title\":{\"font\":{\"color\":\"#4D5663\"},\"text\":\"\"},\"zerolinecolor\":\"#E1E5ED\"},\"xaxis4\":{\"anchor\":\"y4\",\"domain\":[0.55,1.0],\"gridcolor\":\"#E1E5ED\",\"showgrid\":true,\"tickfont\":{\"color\":\"#4D5663\"},\"title\":{\"font\":{\"color\":\"#4D5663\"},\"text\":\"\"},\"zerolinecolor\":\"#E1E5ED\"},\"yaxis4\":{\"anchor\":\"x4\",\"domain\":[0.0,0.425],\"gridcolor\":\"#E1E5ED\",\"showgrid\":true,\"tickfont\":{\"color\":\"#4D5663\"},\"title\":{\"font\":{\"color\":\"#4D5663\"},\"text\":\"\"},\"zerolinecolor\":\"#E1E5ED\"}},                        {\"showLink\": true, \"linkText\": \"Export to plot.ly\", \"plotlyServerURL\": \"https://plot.ly\", \"responsive\": true}                    ).then(function(){\n",
       "                            \n",
       "var gd = document.getElementById('29dae71a-6737-46cd-ad66-54b85e877807');\n",
       "var x = new MutationObserver(function (mutations, observer) {{\n",
       "        var display = window.getComputedStyle(gd).display;\n",
       "        if (!display || display === 'none') {{\n",
       "            console.log([gd, 'removed!']);\n",
       "            Plotly.purge(gd);\n",
       "            observer.disconnect();\n",
       "        }}\n",
       "}});\n",
       "\n",
       "// Listen for the removal of the full notebook cells\n",
       "var notebookContainer = gd.closest('#notebook-container');\n",
       "if (notebookContainer) {{\n",
       "    x.observe(notebookContainer, {childList: true});\n",
       "}}\n",
       "\n",
       "// Listen for the clearing of the current output cell\n",
       "var outputEl = gd.closest('.output');\n",
       "if (outputEl) {{\n",
       "    x.observe(outputEl, {childList: true});\n",
       "}}\n",
       "\n",
       "                        })                };                });            </script>        </div>"
      ]
     },
     "metadata": {},
     "output_type": "display_data"
    }
   ],
   "source": [
    "import plotly.offline as iplot\n",
    "import cufflinks as cf\n",
    "cf.go_offline()\n",
    "\n",
    "dfx.iplot(kind='hist', subplots=True)"
   ]
  },
  {
   "cell_type": "code",
   "execution_count": 25,
   "id": "fae08701",
   "metadata": {},
   "outputs": [
    {
     "data": {
      "application/vnd.plotly.v1+json": {
       "config": {
        "linkText": "Export to plot.ly",
        "plotlyServerURL": "https://plot.ly",
        "showLink": true
       },
       "data": [
        {
         "histfunc": "count",
         "histnorm": "",
         "marker": {
          "color": "rgba(255, 153, 51, 1.0)",
          "line": {
           "color": "#4D5663",
           "width": 1.3
          }
         },
         "name": "bill_length_mm",
         "opacity": 0.8,
         "orientation": "v",
         "type": "histogram",
         "x": [
          -0.8844987420334891,
          -0.8111257337803929,
          -0.6643797172742005,
          -1.3247367915520676,
          -0.8478122379069417,
          -0.9211852461600378,
          -0.8661554899702147,
          -1.8016613451971948,
          -0.3525444321985401,
          -1.1229610188560535,
          -1.1229610188560535,
          -0.5176337007680069,
          -0.9762150023498597,
          -1.7099450848808242,
          -1.343080043615342,
          -0.9578717502865853,
          -0.2608281718821695,
          -1.746631589007373,
          0.3811856503324245,
          -1.1229610188560535,
          -1.1413042709193264,
          -1.4714828080582614,
          -1.0495880106029558,
          -0.9395284982233122,
          -1.5815423204379062,
          -0.6093499610843774,
          -0.6276932131476518,
          -1.104617766792779,
          -0.6276932131476518,
          -0.8111257337803929,
          -1.233020531235697,
          -0.8111257337803929,
          -0.5543202048945556,
          -1.3797665477418908,
          -0.8661554899702147,
          -0.9395284982233122,
          -0.3158579280719913,
          -1.1596475229826009,
          -0.7560959775905711,
          -1.3614232956786163,
          -0.5726634569578299,
          -1.453139555994987,
          0.03266386113021659,
          -1.2697070353622457,
          -0.7927824817171185,
          -0.5176337007680069,
          -1.1779907750458751,
          -1.453139555994987,
          -0.2975146760087182,
          -0.7927824817171185,
          -0.7010662214007479,
          -1.636572076627728,
          -0.3525444321985401,
          -1.7282883369440987,
          -0.462603944578185,
          -0.9028419940967635,
          -0.6093499610843774,
          -1.3614232956786163,
          -1.1596475229826009,
          -1.5081693121848088,
          -0.4809471966414594,
          -1.1596475229826009,
          -0.5176337007680069,
          -1.3797665477418908,
          -0.42591744045163626,
          -1.5448558163113575,
          -0.5176337007680069,
          -1.4714828080582614,
          -0.3892309363250888,
          -1.9117208575768398,
          -0.7744392296538442,
          -0.7927824817171185,
          0.34449914620587574,
          -1.5448558163113575,
          -0.20579841569234766,
          -0.5543202048945556,
          -1.233020531235697,
          -1.4164530518684382,
          -0.3342011801352657,
          -1.7099450848808242,
          -0.1874551636290733,
          -1.3247367915520676,
          -1.6182288245644536,
          -1.2146772791724239,
          -0.4809471966414594,
          -1.398109799805165,
          -1.2880502874255202,
          -1.031244758539683,
          -0.9211852461600378,
          -1.5081693121848088,
          -0.5176337007680069,
          -1.8200045972604693,
          -0.7927824817171185,
          -1.4164530518684382,
          -0.5726634569578299,
          -1.0679312626662303,
          -0.6643797172742005,
          -1.985093865829936,
          -0.1324254074392502,
          -1.636572076627728,
          -0.5359769528312812,
          -1.1413042709193264,
          -1.1229610188560535,
          -1.104617766792779,
          -0.7744392296538442,
          -0.9762150023498597,
          -1.0495880106029558,
          -1.0679312626662303,
          -0.1324254074392502,
          -1.0679312626662303,
          0.3078126420793283,
          -0.7744392296538442,
          -0.3158579280719913,
          -0.7927824817171185,
          -0.22414166775562075,
          -0.9762150023498597,
          -1.2146772791724239,
          -1.5081693121848088,
          -0.5176337007680069,
          -1.4164530518684382,
          -1.1413042709193264,
          -0.6827229693374736,
          -0.462603944578185,
          -1.5998855725011794,
          -0.6093499610843774,
          -0.9395284982233122,
          -0.4442606925149106,
          -0.9028419940967635,
          0.03266386113021659,
          -0.9945582544131341,
          -0.15076865950252455,
          -1.3063935394887944,
          -1.1779907750458751,
          -1.0679312626662303,
          -0.5176337007680069,
          -1.526512564248083,
          -0.6827229693374736,
          -1.2697070353622457,
          -0.7744392296538442,
          -0.6827229693374736,
          -0.6093499610843774,
          -2.168526386462677,
          -0.591006709021103,
          -1.2146772791724239,
          -0.9028419940967635,
          -0.8661554899702147,
          -1.343080043615342,
          -1.453139555994987,
          -1.1229610188560535,
          -1.453139555994987,
          -0.4442606925149106,
          0.47290191064879505,
          1.114915732863389,
          1.353378009685952,
          0.27112613795277957,
          1.6101835385717906,
          0.23443963382623212,
          0.3995289023956989,
          1.353378009685952,
          0.3811856503324245,
          1.353378009685952,
          0.49124516271206947,
          1.4267510179390495,
          0.5646181709651656,
          1.4817807741288713,
          0.3628423982691501,
          1.2066319931797596,
          1.1699454890532108,
          2.5823758979253184,
          0.4545586585855207,
          0.9681697163571966,
          -0.27917142394544386,
          0.8397669519142773,
          -0.1324254074392502,
          1.224975245243034,
          0.5095884147753438,
          1.4817807741288713,
          1.2066319931797596,
          1.0231994725470186,
          0.4545586585855207,
          1.6285267906350638,
          -0.5543202048945556,
          1.8853323195209024,
          -0.2608281718821695,
          1.2983482534961301,
          1.0598859766735673,
          0.6563344312815362,
          0.6746776833448106,
          1.4817807741288713,
          0.5462749189018913,
          1.756929555077983,
          0.9314832122306479,
          0.41787215445897324,
          1.280005001432856,
          0.28946939001605393,
          1.280005001432856,
          1.2616617493695814,
          1.1332589849266634,
          0.9314832122306479,
          1.3900645138125007,
          1.0782292287368402,
          0.7663939436611812,
          1.3717212617492265,
          0.32615589414260265,
          1.2433184973063083,
          -0.2608281718821695,
          1.51846727825542,
          0.23443963382623212,
          0.9865129684204698,
          1.151602236989938,
          0.3078126420793283,
          1.463437522065597,
          0.5279316668386169,
          0.32615589414260265,
          2.178824352533287,
          -0.07739565124942835,
          1.0415427246102928,
          1.2616617493695814,
          1.151602236989938,
          0.3995289023956989,
          1.114915732863389,
          0.8764534560408261,
          1.114915732863389,
          0.6746776833448106,
          0.47290191064879505,
          0.27112613795277957,
          0.5095884147753438,
          -0.1140821553759771,
          0.5279316668386169,
          -0.5543202048945556,
          0.9314832122306479,
          0.28946939001605393,
          0.8214236998510029,
          0.34449914620587574,
          0.9865129684204698,
          -0.3525444321985401,
          0.9681697163571966,
          0.41787215445897324,
          0.8764534560408261,
          1.151602236989938,
          0.21609638176295773,
          0.47290191064879505,
          0.43621540652224633,
          -0.1874551636290733,
          0.3995289023956989,
          0.10603686938331279,
          0.711364187471358,
          0.7847371957244555,
          1.114915732863389,
          0.6196479271549875,
          -0.20579841569234766,
          0.21609638176295773,
          2.875867930937704,
          0.9498264642939223,
          0.8214236998510029,
          -0.2424849198188951,
          0.08769361732003841,
          0.014320609066942217,
          0.8764534560408261,
          -0.22414166775562075,
          1.0415427246102928,
          0.2527828858895052,
          1.0415427246102928,
          1.2066319931797596,
          -0.05905239918615398,
          0.28946939001605393,
          1.2066319931797596,
          0.17940987763640898,
          0.23443963382623212,
          0.49124516271206947,
          0.8397669519142773,
          0.21609638176295773,
          1.1332589849266634,
          0.47290191064879505,
          0.19775312969968337,
          -0.022365895059606532,
          0.28946939001605393,
          -0.1324254074392502,
          1.1882887411164853,
          0.2527828858895052,
          0.41787215445897324,
          0.32615589414260265,
          1.9036755715841756,
          0.34449914620587574,
          1.0782292287368402,
          0.41787215445897324,
          1.0231994725470186,
          -0.07739565124942835,
          1.2433184973063083,
          0.693020935408085,
          0.4545586585855207,
          0.7847371957244555,
          0.47290191064879505,
          0.4545586585855207,
          0.8581102039775518,
          0.6563344312815362,
          1.3166915055594046,
          0.23443963382623212,
          0.23443963382623212,
          0.9498264642939223,
          1.573497034445242,
          0.6379911792182619,
          1.114915732863389,
          0.17940987763640898,
          1.2616617493695814,
          -0.09573890331270273,
          1.353378009685952,
          0.6563344312815362,
          1.5001240261921458,
          0.6563344312815362,
          1.51846727825542,
          0.28946939001605393,
          1.0231994725470186,
          0.10603686938331279,
          1.2616617493695814,
          1.0048562204837441,
          0.5462749189018913,
          0.8214236998510029,
          1.3166915055594046,
          0.8397669519142773,
          2.1971676045965616,
          0.6013046750917144,
          0.9498264642939223,
          0.6196479271549875,
          0.5279316668386169,
          -0.4075741883883619,
          1.7385863030147086,
          -0.1140821553759771,
          0.7663939436611812,
          1.2066319931797596,
          1.0782292287368402,
          -0.07739565124942835,
          1.3900645138125007,
          0.41787215445897324,
          2.0504215880903693,
          0.10603686938331279,
          0.8947967081040992,
          0.6013046750917144,
          0.5279316668386169,
          1.1882887411164853,
          0.23443963382623212,
          1.0965724808001147
         ],
         "xaxis": "x",
         "yaxis": "y"
        },
        {
         "histfunc": "count",
         "histnorm": "",
         "marker": {
          "color": "rgba(55, 128, 191, 1.0)",
          "line": {
           "color": "#4D5663",
           "width": 1.3
          }
         },
         "name": "bill_depth_mm",
         "opacity": 0.8,
         "orientation": "v",
         "type": "histogram",
         "x": [
          0.7854492273303164,
          0.12618789738683958,
          0.4304623573607525,
          1.0897236873042293,
          1.7489850172477062,
          0.3290375373694488,
          1.2418609172911859,
          0.48117476735640524,
          1.546135377265097,
          -0.02594933260011508,
          0.07547548739118863,
          0.2276127173781451,
          2.053259477221617,
          2.0025470672259664,
          0.3290375373694488,
          0.9375864573172729,
          1.799697427243357,
          0.63331199734336,
          2.205396707208574,
          0.582599587347709,
          0.7854492273303164,
          1.0390112773085765,
          0.48117476735640524,
          0.02476307739553587,
          0.8868740473216201,
          0.7347368173346654,
          0.37974994736509976,
          0.7347368173346654,
          0.8868740473216201,
          -0.2287989725827243,
          0.48117476735640524,
          0.3290375373694488,
          0.8868740473216201,
          -0.07666174259576784,
          2.0025470672259664,
          1.4447105572737933,
          0.6840244073390127,
          1.0897236873042293,
          0.9882988673129256,
          0.4304623573607525,
          0.63331199734336,
          0.6840244073390127,
          1.2925733272868367,
          -0.1273741525914206,
          0.8361616373259692,
          0.9375864573172729,
          0.8868740473216201,
          0.37974994736509976,
          2.053259477221617,
          0.27832512737379606,
          0.8868740473216201,
          0.37974994736509976,
          1.191148507295533,
          0.48117476735640524,
          0.7347368173346654,
          0.17690030738249232,
          0.8361616373259692,
          -0.27951138257837527,
          0.9882988673129256,
          -0.1273741525914206,
          2.0025470672259664,
          -0.07666174259576784,
          0.5318871773520563,
          -0.02594933260011508,
          0.4304623573607525,
          -0.48236102256098445,
          0.9882988673129256,
          -0.27951138257837527,
          1.1404360972998802,
          0.9375864573172729,
          0.63331199734336,
          0.02476307739553587,
          0.8868740473216201,
          0.17690030738249232,
          0.6840244073390127,
          -0.17808656258707153,
          1.1404360972998802,
          -0.5330734325566354,
          0.9882988673129256,
          0.02476307739553587,
          0.2276127173781451,
          0.8361616373259692,
          1.1404360972998802,
          0.3290375373694488,
          1.5968477872607496,
          1.191148507295533,
          0.7347368173346654,
          1.0390112773085765,
          0.8361616373259692,
          0.4304623573607525,
          0.48117476735640524,
          -0.02594933260011508,
          0.48117476735640524,
          0.07547548739118863,
          0.8868740473216201,
          0.7347368173346654,
          0.6840244073390127,
          -0.5330734325566354,
          0.6840244073390127,
          0.37974994736509976,
          1.4447105572737933,
          -0.5837858425522882,
          1.4447105572737933,
          0.7347368173346654,
          0.8868740473216201,
          0.02476307739553587,
          1.4447105572737933,
          -0.07666174259576784,
          0.9375864573172729,
          -0.330223792574028,
          1.5968477872607496,
          0.27832512737379606,
          1.191148507295533,
          1.799697427243357,
          0.582599587347709,
          -0.07666174259576784,
          1.6982726072520533,
          -0.07666174259576784,
          0.7347368173346654,
          0.02476307739553587,
          1.3432857372824896,
          -0.07666174259576784,
          0.6840244073390127,
          -0.63449825254794,
          0.9375864573172729,
          0.2276127173781451,
          0.582599587347709,
          -0.02594933260011508,
          0.4304623573607525,
          0.37974994736509976,
          1.0390112773085765,
          0.6840244073390127,
          0.6840244073390127,
          0.2276127173781451,
          0.17690030738249232,
          0.17690030738249232,
          1.495422967269446,
          -0.330223792574028,
          0.37974994736509976,
          -0.02594933260011508,
          0.02476307739553587,
          -0.8373478925305483,
          -0.07666174259576784,
          -0.17808656258707153,
          0.7854492273303164,
          0.7347368173346654,
          0.63331199734336,
          0.3290375373694488,
          0.48117476735640524,
          -0.02594933260011508,
          0.6840244073390127,
          0.37974994736509976,
          1.191148507295533,
          1.0390112773085765,
          0.7854492273303164,
          1.3432857372824896,
          0.3290375373694488,
          0.5318871773520563,
          0.5318871773520563,
          0.8868740473216201,
          1.3939981472781404,
          0.3290375373694488,
          1.5968477872607496,
          0.07547548739118863,
          0.48117476735640524,
          -0.02594933260011508,
          1.2418609172911859,
          1.4447105572737933,
          0.3290375373694488,
          0.7347368173346654,
          0.5318871773520563,
          0.07547548739118863,
          0.17690030738249232,
          -0.27951138257837527,
          1.1404360972998802,
          0.37974994736509976,
          0.9375864573172729,
          0.63331199734336,
          0.9375864573172729,
          0.3290375373694488,
          1.4447105572737933,
          -0.27951138257837527,
          1.8504098372390099,
          -0.2287989725827243,
          0.8361616373259692,
          0.7347368173346654,
          -0.17808656258707153,
          0.582599587347709,
          1.799697427243357,
          -0.27951138257837527,
          1.3939981472781404,
          1.191148507295533,
          0.17690030738249232,
          0.9882988673129256,
          -0.07666174259576784,
          0.37974994736509976,
          0.6840244073390127,
          0.37974994736509976,
          1.2418609172911859,
          0.7854492273303164,
          0.07547548739118863,
          -0.38093620256968075,
          0.9375864573172729,
          0.07547548739118863,
          1.2925733272868367,
          0.07547548739118863,
          0.8361616373259692,
          -0.27951138257837527,
          1.3939981472781404,
          0.8361616373259692,
          1.1404360972998802,
          1.191148507295533,
          -0.330223792574028,
          -0.07666174259576784,
          1.3432857372824896,
          0.48117476735640524,
          0.5318871773520563,
          0.9375864573172729,
          0.7854492273303164,
          -2.0037333224305454,
          -0.4316486125653317,
          -1.547321632469677,
          -0.9894851225175048,
          -1.3444719924870687,
          -1.851596092443589,
          -1.2937595824914168,
          -0.938772712521852,
          -1.9023085024392408,
          -0.8880603025262002,
          -1.7501712724522853,
          -0.5330734325566354,
          -1.7501712724522853,
          -1.2937595824914168,
          -1.2937595824914168,
          -0.7359230725392446,
          -1.851596092443589,
          -0.9894851225175048,
          -1.3444719924870687,
          -1.0401975325131567,
          -1.4458968124783724,
          -1.3444719924870687,
          -1.3444719924870687,
          -0.6852106625435919,
          -2.0544457324261973,
          -1.0401975325131567,
          -1.4458968124783724,
          -1.0909099425088085,
          -1.4458968124783724,
          -0.938772712521852,
          -0.938772712521852,
          -1.496609222474025,
          -1.3444719924870687,
          -0.07666174259576784,
          -1.1923347625001122,
          -0.4316486125653317,
          -1.7501712724522853,
          0.07547548739118863,
          -1.800883682447937,
          -0.7359230725392446,
          -1.7501712724522853,
          -0.5837858425522882,
          -1.7501712724522853,
          -1.0909099425088085,
          -0.63449825254794,
          -1.6487464524609807,
          -1.6487464524609807,
          -0.63449825254794,
          -1.9530209124348927,
          -0.6852106625435919,
          -1.496609222474025,
          -1.547321632469677,
          -1.3951844024827205,
          -1.0909099425088085,
          -1.3951844024827205,
          -0.8880603025262002,
          -1.6487464524609807,
          -1.0909099425088085,
          -1.3444719924870687,
          -0.938772712521852,
          -1.6994588624566325,
          -1.1416223525044604,
          -1.6487464524609807,
          -0.7359230725392446,
          -1.496609222474025,
          -0.17808656258707153,
          -1.3951844024827205,
          -0.48236102256098445,
          -1.496609222474025,
          -1.0909099425088085,
          -1.0909099425088085,
          -0.7866354825348965,
          -0.7866354825348965,
          -1.1923347625001122,
          -1.0909099425088085,
          -0.5837858425522882,
          -1.496609222474025,
          -0.4316486125653317,
          -1.6994588624566325,
          -0.38093620256968075,
          -1.3444719924870687,
          -0.7866354825348965,
          -1.2937595824914168,
          -0.63449825254794,
          -1.6994588624566325,
          0.07547548739118863,
          -1.3951844024827205,
          -1.496609222474025,
          -1.5980340424653288,
          -0.07666174259576784,
          -1.0909099425088085,
          -0.02594933260011508,
          -1.3444719924870687,
          -0.5330734325566354,
          -1.243047172495765,
          -0.7359230725392446,
          -0.6852106625435919,
          -1.2937595824914168,
          -1.3951844024827205,
          -0.330223792574028,
          -1.0909099425088085,
          -0.07666174259576784,
          -0.8373478925305483,
          -1.0909099425088085,
          -1.6994588624566325,
          -0.5330734325566354,
          -1.243047172495765,
          -0.6852106625435919,
          -1.5980340424653288,
          -1.0401975325131567,
          -0.9894851225175048,
          -0.63449825254794,
          -0.9894851225175048,
          -0.4316486125653317,
          -1.547321632469677,
          -0.5837858425522882,
          -0.7359230725392446,
          -0.48236102256098445,
          -1.7501712724522853,
          -1.4458968124783724,
          -0.7359230725392446,
          -1.1923347625001122,
          -0.5330734325566354
         ],
         "xaxis": "x2",
         "yaxis": "y2"
        },
        {
         "histfunc": "count",
         "histnorm": "",
         "marker": {
          "color": "rgba(50, 171, 96, 1.0)",
          "line": {
           "color": "#4D5663",
           "width": 1.3
          }
         },
         "name": "flipper_length_mm",
         "opacity": 0.8,
         "orientation": "v",
         "type": "histogram",
         "x": [
          -1.418346649339451,
          -1.0622502214477376,
          -0.4212766512426535,
          -0.5637152223993389,
          -0.7773730791343669,
          -1.418346649339451,
          -0.4212766512426535,
          -0.5637152223993389,
          -0.7773730791343669,
          -1.0622502214477376,
          -1.4895659349177937,
          -1.3471273637611083,
          -0.7061537935560243,
          -0.20761879450762552,
          -1.1334695070260803,
          -0.4212766512426535,
          -0.2788380800859682,
          -1.204688792604423,
          -0.4924959368209962,
          -1.9168816483878497,
          -1.4895659349177937,
          -0.8485923647127096,
          -1.1334695070260803,
          -1.4895659349177937,
          -0.991030935869395,
          -1.2759080781827656,
          -0.991030935869395,
          -2.059320219544535,
          -1.4895659349177937,
          -1.632004506074479,
          -1.632004506074479,
          -0.9198116502910523,
          -1.204688792604423,
          -0.4212766512426535,
          -0.3500573656643109,
          -0.7773730791343669,
          -1.4895659349177937,
          -1.418346649339451,
          -1.204688792604423,
          -1.3471273637611083,
          -0.4212766512426535,
          -1.0622502214477376,
          -0.3500573656643109,
          -1.1334695070260803,
          -0.7773730791343669,
          -1.3471273637611083,
          -1.5607852204961363,
          -0.7773730791343669,
          -0.7061537935560243,
          -1.0622502214477376,
          -0.9198116502910523,
          -0.7773730791343669,
          -0.06518022335094019,
          -0.991030935869395,
          -0.7061537935560243,
          -1.0622502214477376,
          -0.5637152223993389,
          -1.418346649339451,
          -0.4924959368209962,
          -1.1334695070260803,
          -0.4212766512426535,
          -1.1334695070260803,
          -0.6349345079776816,
          -1.204688792604423,
          -0.6349345079776816,
          -0.4212766512426535,
          -0.9198116502910523,
          -0.7773730791343669,
          -0.20761879450762552,
          -0.7773730791343669,
          -0.7773730791343669,
          -0.3500573656643109,
          -0.2788380800859682,
          -0.7773730791343669,
          -0.4212766512426535,
          -0.7061537935560243,
          -1.204688792604423,
          -0.991030935869395,
          -0.4212766512426535,
          -0.8485923647127096,
          -0.3500573656643109,
          -0.991030935869395,
          -0.5637152223993389,
          -0.7061537935560243,
          -0.4924959368209962,
          -0.7773730791343669,
          -0.8485923647127096,
          -0.8485923647127096,
          -0.7773730791343669,
          0.07725834780574516,
          0.29091620454077316,
          -1.1334695070260803,
          -1.0622502214477376,
          -0.991030935869395,
          0.5045740612758012,
          -0.7773730791343669,
          -0.3500573656643109,
          -1.632004506074479,
          -0.6349345079776816,
          -0.6349345079776816,
          0.14847763338408781,
          -1.2759080781827656,
          -0.7773730791343669,
          -0.5637152223993389,
          -1.204688792604423,
          -0.13639950892928285,
          -0.7773730791343669,
          -1.418346649339451,
          -0.2788380800859682,
          -0.20761879450762552,
          -0.7061537935560243,
          -0.5637152223993389,
          -0.2788380800859682,
          -0.7061537935560243,
          -0.3500573656643109,
          -0.9198116502910523,
          -0.13639950892928285,
          -0.8485923647127096,
          -0.8485923647127096,
          -0.991030935869395,
          -0.20761879450762552,
          -1.7744430772311643,
          0.07725834780574516,
          -1.0622502214477376,
          -0.13639950892928285,
          -0.7061537935560243,
          -0.4212766512426535,
          -0.7061537935560243,
          0.6470126324324865,
          -0.7773730791343669,
          -0.2788380800859682,
          -0.5637152223993389,
          -0.13639950892928285,
          -0.991030935869395,
          -0.7773730791343669,
          -0.7061537935560243,
          -0.06518022335094019,
          -1.1334695070260803,
          -0.5637152223993389,
          -0.5637152223993389,
          -0.991030935869395,
          -0.9198116502910523,
          -0.7773730791343669,
          -0.6349345079776816,
          -1.1334695070260803,
          -0.7773730791343669,
          -1.204688792604423,
          -0.4212766512426535,
          -0.5637152223993389,
          -0.991030935869395,
          0.006039062227402485,
          -0.6349345079776816,
          -0.3500573656643109,
          -0.5637152223993389,
          -0.9198116502910523,
          -0.2788380800859682,
          -0.20761879450762552,
          -1.632004506074479,
          -0.2788380800859682,
          -0.4212766512426535,
          -0.20761879450762552,
          -0.5637152223993389,
          -0.4924959368209962,
          -1.1334695070260803,
          0.006039062227402485,
          -0.7773730791343669,
          0.006039062227402485,
          -0.2788380800859682,
          -1.418346649339451,
          -0.7773730791343669,
          -0.4212766512426535,
          -1.418346649339451,
          -0.7061537935560243,
          -0.991030935869395,
          -0.5637152223993389,
          -0.4212766512426535,
          -0.2788380800859682,
          -0.06518022335094019,
          -0.06518022335094019,
          -0.7061537935560243,
          0.29091620454077316,
          -0.991030935869395,
          0.006039062227402485,
          -0.991030935869395,
          0.14847763338408781,
          -0.4212766512426535,
          -0.13639950892928285,
          -0.4212766512426535,
          0.6470126324324865,
          -0.6349345079776816,
          0.29091620454077316,
          0.6470126324324865,
          -0.991030935869395,
          -0.3500573656643109,
          -0.3500573656643109,
          -0.3500573656643109,
          0.006039062227402485,
          -0.7773730791343669,
          0.7894512035891719,
          -0.991030935869395,
          -0.20761879450762552,
          -0.13639950892928285,
          0.006039062227402485,
          -0.5637152223993389,
          0.14847763338408781,
          -0.991030935869395,
          -0.2788380800859682,
          -0.7061537935560243,
          0.14847763338408781,
          0.07725834780574516,
          -0.4924959368209962,
          0.36213549011911583,
          -0.8485923647127096,
          -0.4212766512426535,
          0.4333547756974585,
          0.07725834780574516,
          -0.5637152223993389,
          0.6470126324324865,
          -0.20761879450762552,
          0.7182319180108292,
          2.07139834399934,
          0.6470126324324865,
          1.216766917059228,
          1.0031090603241999,
          0.6470126324324865,
          0.7182319180108292,
          1.2879862026375706,
          0.5757933468541439,
          1.0031090603241999,
          0.9318897747458572,
          1.0743283459025426,
          0.9318897747458572,
          0.8606704891675145,
          0.6470126324324865,
          1.1455476314808852,
          0.6470126324324865,
          1.430424773794256,
          0.5757933468541439,
          1.5016440593725986,
          1.216766917059228,
          1.0031090603241999,
          0.8606704891675145,
          1.0031090603241999,
          1.0031090603241999,
          1.0031090603241999,
          1.0743283459025426,
          1.0031090603241999,
          0.6470126324324865,
          1.3592054882159132,
          1.5016440593725986,
          0.5757933468541439,
          0.4333547756974585,
          2.07139834399934,
          1.3592054882159132,
          1.3592054882159132,
          0.8606704891675145,
          1.2879862026375706,
          0.5045740612758012,
          0.5045740612758012,
          0.5045740612758012,
          1.7153019161076266,
          0.6470126324324865,
          1.0743283459025426,
          1.5016440593725986,
          1.1455476314808852,
          0.6470126324324865,
          1.7153019161076266,
          0.8606704891675145,
          1.0031090603241999,
          0.6470126324324865,
          1.3592054882159132,
          0.6470126324324865,
          1.7153019161076266,
          1.1455476314808852,
          1.3592054882159132,
          0.5045740612758012,
          1.3592054882159132,
          0.5045740612758012,
          1.644082630529284,
          0.5045740612758012,
          1.430424773794256,
          0.9318897747458572,
          2.1426176295776824,
          1.2879862026375706,
          2.07139834399934,
          0.9318897747458572,
          2.000179058420997,
          1.3592054882159132,
          1.5728633449509413,
          1.0743283459025426,
          1.430424773794256,
          1.430424773794256,
          1.1455476314808852,
          1.0743283459025426,
          2.07139834399934,
          0.5757933468541439,
          1.3592054882159132,
          1.0031090603241999,
          1.5728633449509413,
          0.7894512035891719,
          1.430424773794256,
          0.7894512035891719,
          1.644082630529284,
          0.7894512035891719,
          1.9289597728426546,
          1.216766917059228,
          1.216766917059228,
          0.7894512035891719,
          2.07139834399934,
          1.216766917059228,
          1.9289597728426546,
          0.7894512035891719,
          1.644082630529284,
          0.9318897747458572,
          1.7865212016859693,
          1.0743283459025426,
          1.5016440593725986,
          0.14847763338408781,
          1.7153019161076266,
          1.2879862026375706,
          1.9289597728426546,
          1.0031090603241999,
          1.9289597728426546,
          1.0743283459025426,
          1.0031090603241999,
          0.6470126324324865,
          1.2879862026375706,
          0.5045740612758012,
          0.5757933468541439,
          1.0743283459025426,
          2.000179058420997,
          0.8606704891675145,
          2.07139834399934,
          1.1455476314808852,
          2.07139834399934,
          1.1455476314808852,
          1.5016440593725986,
          0.9318897747458572,
          1.0031090603241999,
          1.5016440593725986,
          0.7894512035891719,
          0.8606704891675145
         ],
         "xaxis": "x3",
         "yaxis": "y3"
        },
        {
         "histfunc": "count",
         "histnorm": "",
         "marker": {
          "color": "rgba(128, 0, 128, 1.0)",
          "line": {
           "color": "#4D5663",
           "width": 1.3
          }
         },
         "name": "body_mass_g",
         "opacity": 0.8,
         "orientation": "v",
         "type": "histogram",
         "x": [
          -0.5641420770995511,
          -0.5017030510904746,
          -1.1885323371903165,
          -0.9387762331540104,
          -0.6890201291177043,
          -0.7202396421222425,
          0.5909799040683649,
          -0.9075567201494721,
          0.06024818299121429,
          -1.1260933111812401,
          -0.6265811031086277,
          -1.250971363199393,
          -0.5017030510904746,
          0.24756526101844392,
          -0.6265811031086277,
          -0.9387762331540104,
          0.372443313036597,
          -1.0948737981767018,
          -0.002190843017862255,
          -1.001215259163087,
          -0.7514591551267807,
          -0.5017030510904746,
          -0.31438597306324495,
          -0.5017030510904746,
          -0.5017030510904746,
          -0.8138981811358573,
          -1.250971363199393,
          -1.3134103892084696,
          -0.31438597306324495,
          -1.1885323371903165,
          -0.37682499907232153,
          -1.1260933111812401,
          -0.37682499907232153,
          -1.0948737981767018,
          -0.06462986902693879,
          -0.31438597306324495,
          -0.8138981811358573,
          -1.1260933111812401,
          0.5597603910638266,
          -1.3134103892084696,
          -0.37682499907232153,
          -1.3758494152175462,
          0.24756526101844392,
          -1.5007274672356992,
          0.4973213650547501,
          -0.9699957461585487,
          -1.5319469802402375,
          -0.9387762331540104,
          -0.06462986902693879,
          -0.8763372071449338,
          0.12268720900029083,
          -0.9387762331540104,
          -0.18950792104509187,
          -1.6256055192538523,
          -0.6265811031086277,
          -0.8138981811358573,
          -0.5017030510904746,
          -1.688044545262929,
          -0.5641420770995511,
          -1.3134103892084696,
          0.24756526101844392,
          -0.7514591551267807,
          -0.18950792104509187,
          -1.688044545262929,
          -0.31438597306324495,
          -1.0636542851721635,
          -0.12706889503601534,
          -1.4382884412266228,
          0.3100042870275205,
          -0.7514591551267807,
          -0.37682499907232153,
          -0.8138981811358573,
          -0.06462986902693879,
          -0.6265811031086277,
          0.06024818299121429,
          -0.6265811031086277,
          -0.37682499907232153,
          -0.8138981811358573,
          -0.2519469470541684,
          -1.250971363199393,
          0.6221994170729032,
          -0.5017030510904746,
          -0.002190843017862255,
          -1.0636542851721635,
          -0.8138981811358573,
          -0.5017030510904746,
          -0.8763372071449338,
          -0.31438597306324495,
          -0.7514591551267807,
          -0.8138981811358573,
          0.12268720900029083,
          -1.001215259163087,
          0.3100042870275205,
          -1.1260933111812401,
          0.12268720900029083,
          -0.6265811031086277,
          0.18512623500936737,
          -1.6256055192538523,
          -0.12706889503601534,
          -0.5953615901040894,
          0.6534189300774415,
          -1.4070689282220845,
          0.06024818299121429,
          -1.594386006249314,
          -0.8138981811358573,
          -0.5641420770995511,
          -0.37682499907232153,
          -1.2821908762039314,
          0.715857956086518,
          -0.47048353808593635,
          0.4973213650547501,
          -1.250971363199393,
          0.09146769599575257,
          -0.37682499907232153,
          -0.1582884080405536,
          -1.6256055192538523,
          -0.5329225640950128,
          -1.0636542851721635,
          -1.0948737981767018,
          -1.3134103892084696,
          -0.8763372071449338,
          -0.9387762331540104,
          -0.40804451207685977,
          -1.4382884412266228,
          -0.2519469470541684,
          -1.1573128241857782,
          0.12268720900029083,
          -1.4382884412266228,
          -0.2519469470541684,
          -1.0948737981767018,
          -0.8763372071449338,
          -0.8763372071449338,
          0.3412238000320587,
          -0.9699957461585487,
          -0.37682499907232153,
          -1.2821908762039314,
          -0.2831664600587067,
          -1.001215259163087,
          0.06024818299121429,
          -1.001215259163087,
          -0.9075567201494721,
          -1.4382884412266228,
          -0.5953615901040894,
          -1.5007274672356992,
          -0.6890201291177043,
          0.06024818299121429,
          -0.9075567201494721,
          -0.9387762331540104,
          -0.5641420770995511,
          -0.6265811031086277,
          -0.2519469470541684,
          -0.8763372071449338,
          -0.37682499907232153,
          -0.6890201291177043,
          -0.8451176941403956,
          -0.5953615901040894,
          -0.31438597306324495,
          -1.1885323371903165,
          -0.5641420770995511,
          -0.06462986902693879,
          -0.6265811031086277,
          -0.5017030510904746,
          -0.5329225640950128,
          -0.6265811031086277,
          -0.18950792104509187,
          -0.782678668131319,
          -0.18950792104509187,
          -1.1260933111812401,
          -0.6265811031086277,
          -0.9387762331540104,
          0.24756526101844392,
          -0.7514591551267807,
          -1.001215259163087,
          -1.6256055192538523,
          -0.5017030510904746,
          -1.1260933111812401,
          -0.06462986902693879,
          -1.001215259163087,
          -0.5017030510904746,
          -0.6265811031086277,
          0.4348823390456735,
          -1.250971363199393,
          0.12268720900029083,
          -1.0636542851721635,
          -0.12706889503601534,
          -0.7514591551267807,
          -0.37682499907232153,
          -0.43926402508139806,
          0.7470774690910562,
          -1.8753616232901584,
          0.372443313036597,
          -0.31438597306324495,
          -0.6890201291177043,
          -0.8138981811358573,
          -0.8763372071449338,
          -0.657800616113166,
          0.3100042870275205,
          -1.001215259163087,
          0.12268720900029083,
          -1.1885323371903165,
          -0.657800616113166,
          -1.0948737981767018,
          -0.31438597306324495,
          -0.7514591551267807,
          -0.18950792104509187,
          -1.0636542851721635,
          -0.9387762331540104,
          -1.1885323371903165,
          -0.18950792104509187,
          -0.5017030510904746,
          -0.8451176941403956,
          -0.31438597306324495,
          -0.6890201291177043,
          -0.6890201291177043,
          -0.2519469470541684,
          -1.001215259163087,
          -0.5329225640950128,
          -0.12706889503601534,
          -0.5329225640950128,
          0.372443313036597,
          1.870979937254434,
          0.3100042870275205,
          1.870979937254434,
          1.4963457811999747,
          0.4348823390456735,
          0.7470774690910562,
          1.2465896771636686,
          0.24756526101844392,
          1.184150651154592,
          0.5597603910638266,
          1.6836628592272045,
          0.5597603910638266,
          2.0582970152816635,
          -0.002190843017862255,
          2.0582970152816635,
          -0.06462986902693879,
          2.6202482493633523,
          0.7470774690910562,
          1.4339067551908982,
          1.870979937254434,
          0.9968335731273624,
          0.24756526101844392,
          1.059272599136439,
          0.9968335731273624,
          1.1217116251455155,
          -0.12706889503601534,
          1.8085409112453574,
          0.4973213650547501,
          1.6836628592272045,
          1.3090287031727452,
          0.6221994170729032,
          1.059272599136439,
          2.30805311931797,
          1.184150651154592,
          1.4963457811999747,
          0.9343945471182858,
          1.3090287031727452,
          0.18512623500936737,
          1.4339067551908982,
          -0.31438597306324495,
          1.870979937254434,
          0.12268720900029083,
          0.6846384430819797,
          1.6836628592272045,
          0.8719555211092094,
          -0.002190843017862255,
          1.4963457811999747,
          1.1217116251455155,
          1.3714677291818216,
          0.8095164951001328,
          1.3714677291818216,
          0.24756526101844392,
          0.9968335731273624,
          0.8719555211092094,
          1.059272599136439,
          0.12268720900029083,
          0.9968335731273624,
          0.3100042870275205,
          1.6836628592272045,
          -0.002190843017862255,
          1.3714677291818216,
          0.24756526101844392,
          1.8085409112453574,
          0.6221994170729032,
          1.870979937254434,
          0.5597603910638266,
          1.9958579892725872,
          0.6221994170729032,
          1.6836628592272045,
          0.6846384430819797,
          0.9968335731273624,
          1.1217116251455155,
          1.2465896771636686,
          0.6221994170729032,
          1.9958579892725872,
          0.4973213650547501,
          2.2456140933088933,
          0.6846384430819797,
          2.1831750672998167,
          0.5285408780592884,
          1.5587848072090513,
          0.6534189300774415,
          1.4339067551908982,
          0.6846384430819797,
          1.7461018852362808,
          0.4973213650547501,
          1.3714677291818216,
          0.8407360081046711,
          1.6836628592272045,
          0.9343945471182858,
          1.4963457811999747,
          0.6846384430819797,
          1.8085409112453574,
          0.8095164951001328,
          1.2465896771636686,
          0.9031750341137476,
          0.8407360081046711,
          0.5285408780592884,
          1.3090287031727452,
          0.8095164951001328,
          1.7461018852362808,
          0.9656140601228241,
          1.621223833218128,
          0.6534189300774415,
          1.621223833218128,
          0.6221994170729032,
          1.621223833218128,
          0.4661018520502118,
          1.621223833218128,
          0.9968335731273624,
          2.1831750672998167,
          0.5597603910638266,
          1.621223833218128,
          0.21634574801390563,
          2.0582970152816635,
          0.8407360081046711,
          2.2456140933088933,
          0.9031750341137476,
          0.8095164951001328,
          1.9334189632635106,
          1.2465896771636686,
          1.4963457811999747
         ],
         "xaxis": "x4",
         "yaxis": "y4"
        }
       ],
       "layout": {
        "barmode": "overlay",
        "legend": {
         "bgcolor": "#F5F6F9",
         "font": {
          "color": "#4D5663"
         }
        },
        "paper_bgcolor": "#F5F6F9",
        "plot_bgcolor": "#F5F6F9",
        "template": {
         "data": {
          "bar": [
           {
            "error_x": {
             "color": "#2a3f5f"
            },
            "error_y": {
             "color": "#2a3f5f"
            },
            "marker": {
             "line": {
              "color": "#E5ECF6",
              "width": 0.5
             },
             "pattern": {
              "fillmode": "overlay",
              "size": 10,
              "solidity": 0.2
             }
            },
            "type": "bar"
           }
          ],
          "barpolar": [
           {
            "marker": {
             "line": {
              "color": "#E5ECF6",
              "width": 0.5
             },
             "pattern": {
              "fillmode": "overlay",
              "size": 10,
              "solidity": 0.2
             }
            },
            "type": "barpolar"
           }
          ],
          "carpet": [
           {
            "aaxis": {
             "endlinecolor": "#2a3f5f",
             "gridcolor": "white",
             "linecolor": "white",
             "minorgridcolor": "white",
             "startlinecolor": "#2a3f5f"
            },
            "baxis": {
             "endlinecolor": "#2a3f5f",
             "gridcolor": "white",
             "linecolor": "white",
             "minorgridcolor": "white",
             "startlinecolor": "#2a3f5f"
            },
            "type": "carpet"
           }
          ],
          "choropleth": [
           {
            "colorbar": {
             "outlinewidth": 0,
             "ticks": ""
            },
            "type": "choropleth"
           }
          ],
          "contour": [
           {
            "colorbar": {
             "outlinewidth": 0,
             "ticks": ""
            },
            "colorscale": [
             [
              0,
              "#0d0887"
             ],
             [
              0.1111111111111111,
              "#46039f"
             ],
             [
              0.2222222222222222,
              "#7201a8"
             ],
             [
              0.3333333333333333,
              "#9c179e"
             ],
             [
              0.4444444444444444,
              "#bd3786"
             ],
             [
              0.5555555555555556,
              "#d8576b"
             ],
             [
              0.6666666666666666,
              "#ed7953"
             ],
             [
              0.7777777777777778,
              "#fb9f3a"
             ],
             [
              0.8888888888888888,
              "#fdca26"
             ],
             [
              1,
              "#f0f921"
             ]
            ],
            "type": "contour"
           }
          ],
          "contourcarpet": [
           {
            "colorbar": {
             "outlinewidth": 0,
             "ticks": ""
            },
            "type": "contourcarpet"
           }
          ],
          "heatmap": [
           {
            "colorbar": {
             "outlinewidth": 0,
             "ticks": ""
            },
            "colorscale": [
             [
              0,
              "#0d0887"
             ],
             [
              0.1111111111111111,
              "#46039f"
             ],
             [
              0.2222222222222222,
              "#7201a8"
             ],
             [
              0.3333333333333333,
              "#9c179e"
             ],
             [
              0.4444444444444444,
              "#bd3786"
             ],
             [
              0.5555555555555556,
              "#d8576b"
             ],
             [
              0.6666666666666666,
              "#ed7953"
             ],
             [
              0.7777777777777778,
              "#fb9f3a"
             ],
             [
              0.8888888888888888,
              "#fdca26"
             ],
             [
              1,
              "#f0f921"
             ]
            ],
            "type": "heatmap"
           }
          ],
          "heatmapgl": [
           {
            "colorbar": {
             "outlinewidth": 0,
             "ticks": ""
            },
            "colorscale": [
             [
              0,
              "#0d0887"
             ],
             [
              0.1111111111111111,
              "#46039f"
             ],
             [
              0.2222222222222222,
              "#7201a8"
             ],
             [
              0.3333333333333333,
              "#9c179e"
             ],
             [
              0.4444444444444444,
              "#bd3786"
             ],
             [
              0.5555555555555556,
              "#d8576b"
             ],
             [
              0.6666666666666666,
              "#ed7953"
             ],
             [
              0.7777777777777778,
              "#fb9f3a"
             ],
             [
              0.8888888888888888,
              "#fdca26"
             ],
             [
              1,
              "#f0f921"
             ]
            ],
            "type": "heatmapgl"
           }
          ],
          "histogram": [
           {
            "marker": {
             "pattern": {
              "fillmode": "overlay",
              "size": 10,
              "solidity": 0.2
             }
            },
            "type": "histogram"
           }
          ],
          "histogram2d": [
           {
            "colorbar": {
             "outlinewidth": 0,
             "ticks": ""
            },
            "colorscale": [
             [
              0,
              "#0d0887"
             ],
             [
              0.1111111111111111,
              "#46039f"
             ],
             [
              0.2222222222222222,
              "#7201a8"
             ],
             [
              0.3333333333333333,
              "#9c179e"
             ],
             [
              0.4444444444444444,
              "#bd3786"
             ],
             [
              0.5555555555555556,
              "#d8576b"
             ],
             [
              0.6666666666666666,
              "#ed7953"
             ],
             [
              0.7777777777777778,
              "#fb9f3a"
             ],
             [
              0.8888888888888888,
              "#fdca26"
             ],
             [
              1,
              "#f0f921"
             ]
            ],
            "type": "histogram2d"
           }
          ],
          "histogram2dcontour": [
           {
            "colorbar": {
             "outlinewidth": 0,
             "ticks": ""
            },
            "colorscale": [
             [
              0,
              "#0d0887"
             ],
             [
              0.1111111111111111,
              "#46039f"
             ],
             [
              0.2222222222222222,
              "#7201a8"
             ],
             [
              0.3333333333333333,
              "#9c179e"
             ],
             [
              0.4444444444444444,
              "#bd3786"
             ],
             [
              0.5555555555555556,
              "#d8576b"
             ],
             [
              0.6666666666666666,
              "#ed7953"
             ],
             [
              0.7777777777777778,
              "#fb9f3a"
             ],
             [
              0.8888888888888888,
              "#fdca26"
             ],
             [
              1,
              "#f0f921"
             ]
            ],
            "type": "histogram2dcontour"
           }
          ],
          "mesh3d": [
           {
            "colorbar": {
             "outlinewidth": 0,
             "ticks": ""
            },
            "type": "mesh3d"
           }
          ],
          "parcoords": [
           {
            "line": {
             "colorbar": {
              "outlinewidth": 0,
              "ticks": ""
             }
            },
            "type": "parcoords"
           }
          ],
          "pie": [
           {
            "automargin": true,
            "type": "pie"
           }
          ],
          "scatter": [
           {
            "marker": {
             "colorbar": {
              "outlinewidth": 0,
              "ticks": ""
             }
            },
            "type": "scatter"
           }
          ],
          "scatter3d": [
           {
            "line": {
             "colorbar": {
              "outlinewidth": 0,
              "ticks": ""
             }
            },
            "marker": {
             "colorbar": {
              "outlinewidth": 0,
              "ticks": ""
             }
            },
            "type": "scatter3d"
           }
          ],
          "scattercarpet": [
           {
            "marker": {
             "colorbar": {
              "outlinewidth": 0,
              "ticks": ""
             }
            },
            "type": "scattercarpet"
           }
          ],
          "scattergeo": [
           {
            "marker": {
             "colorbar": {
              "outlinewidth": 0,
              "ticks": ""
             }
            },
            "type": "scattergeo"
           }
          ],
          "scattergl": [
           {
            "marker": {
             "colorbar": {
              "outlinewidth": 0,
              "ticks": ""
             }
            },
            "type": "scattergl"
           }
          ],
          "scattermapbox": [
           {
            "marker": {
             "colorbar": {
              "outlinewidth": 0,
              "ticks": ""
             }
            },
            "type": "scattermapbox"
           }
          ],
          "scatterpolar": [
           {
            "marker": {
             "colorbar": {
              "outlinewidth": 0,
              "ticks": ""
             }
            },
            "type": "scatterpolar"
           }
          ],
          "scatterpolargl": [
           {
            "marker": {
             "colorbar": {
              "outlinewidth": 0,
              "ticks": ""
             }
            },
            "type": "scatterpolargl"
           }
          ],
          "scatterternary": [
           {
            "marker": {
             "colorbar": {
              "outlinewidth": 0,
              "ticks": ""
             }
            },
            "type": "scatterternary"
           }
          ],
          "surface": [
           {
            "colorbar": {
             "outlinewidth": 0,
             "ticks": ""
            },
            "colorscale": [
             [
              0,
              "#0d0887"
             ],
             [
              0.1111111111111111,
              "#46039f"
             ],
             [
              0.2222222222222222,
              "#7201a8"
             ],
             [
              0.3333333333333333,
              "#9c179e"
             ],
             [
              0.4444444444444444,
              "#bd3786"
             ],
             [
              0.5555555555555556,
              "#d8576b"
             ],
             [
              0.6666666666666666,
              "#ed7953"
             ],
             [
              0.7777777777777778,
              "#fb9f3a"
             ],
             [
              0.8888888888888888,
              "#fdca26"
             ],
             [
              1,
              "#f0f921"
             ]
            ],
            "type": "surface"
           }
          ],
          "table": [
           {
            "cells": {
             "fill": {
              "color": "#EBF0F8"
             },
             "line": {
              "color": "white"
             }
            },
            "header": {
             "fill": {
              "color": "#C8D4E3"
             },
             "line": {
              "color": "white"
             }
            },
            "type": "table"
           }
          ]
         },
         "layout": {
          "annotationdefaults": {
           "arrowcolor": "#2a3f5f",
           "arrowhead": 0,
           "arrowwidth": 1
          },
          "autotypenumbers": "strict",
          "coloraxis": {
           "colorbar": {
            "outlinewidth": 0,
            "ticks": ""
           }
          },
          "colorscale": {
           "diverging": [
            [
             0,
             "#8e0152"
            ],
            [
             0.1,
             "#c51b7d"
            ],
            [
             0.2,
             "#de77ae"
            ],
            [
             0.3,
             "#f1b6da"
            ],
            [
             0.4,
             "#fde0ef"
            ],
            [
             0.5,
             "#f7f7f7"
            ],
            [
             0.6,
             "#e6f5d0"
            ],
            [
             0.7,
             "#b8e186"
            ],
            [
             0.8,
             "#7fbc41"
            ],
            [
             0.9,
             "#4d9221"
            ],
            [
             1,
             "#276419"
            ]
           ],
           "sequential": [
            [
             0,
             "#0d0887"
            ],
            [
             0.1111111111111111,
             "#46039f"
            ],
            [
             0.2222222222222222,
             "#7201a8"
            ],
            [
             0.3333333333333333,
             "#9c179e"
            ],
            [
             0.4444444444444444,
             "#bd3786"
            ],
            [
             0.5555555555555556,
             "#d8576b"
            ],
            [
             0.6666666666666666,
             "#ed7953"
            ],
            [
             0.7777777777777778,
             "#fb9f3a"
            ],
            [
             0.8888888888888888,
             "#fdca26"
            ],
            [
             1,
             "#f0f921"
            ]
           ],
           "sequentialminus": [
            [
             0,
             "#0d0887"
            ],
            [
             0.1111111111111111,
             "#46039f"
            ],
            [
             0.2222222222222222,
             "#7201a8"
            ],
            [
             0.3333333333333333,
             "#9c179e"
            ],
            [
             0.4444444444444444,
             "#bd3786"
            ],
            [
             0.5555555555555556,
             "#d8576b"
            ],
            [
             0.6666666666666666,
             "#ed7953"
            ],
            [
             0.7777777777777778,
             "#fb9f3a"
            ],
            [
             0.8888888888888888,
             "#fdca26"
            ],
            [
             1,
             "#f0f921"
            ]
           ]
          },
          "colorway": [
           "#636efa",
           "#EF553B",
           "#00cc96",
           "#ab63fa",
           "#FFA15A",
           "#19d3f3",
           "#FF6692",
           "#B6E880",
           "#FF97FF",
           "#FECB52"
          ],
          "font": {
           "color": "#2a3f5f"
          },
          "geo": {
           "bgcolor": "white",
           "lakecolor": "white",
           "landcolor": "#E5ECF6",
           "showlakes": true,
           "showland": true,
           "subunitcolor": "white"
          },
          "hoverlabel": {
           "align": "left"
          },
          "hovermode": "closest",
          "mapbox": {
           "style": "light"
          },
          "paper_bgcolor": "white",
          "plot_bgcolor": "#E5ECF6",
          "polar": {
           "angularaxis": {
            "gridcolor": "white",
            "linecolor": "white",
            "ticks": ""
           },
           "bgcolor": "#E5ECF6",
           "radialaxis": {
            "gridcolor": "white",
            "linecolor": "white",
            "ticks": ""
           }
          },
          "scene": {
           "xaxis": {
            "backgroundcolor": "#E5ECF6",
            "gridcolor": "white",
            "gridwidth": 2,
            "linecolor": "white",
            "showbackground": true,
            "ticks": "",
            "zerolinecolor": "white"
           },
           "yaxis": {
            "backgroundcolor": "#E5ECF6",
            "gridcolor": "white",
            "gridwidth": 2,
            "linecolor": "white",
            "showbackground": true,
            "ticks": "",
            "zerolinecolor": "white"
           },
           "zaxis": {
            "backgroundcolor": "#E5ECF6",
            "gridcolor": "white",
            "gridwidth": 2,
            "linecolor": "white",
            "showbackground": true,
            "ticks": "",
            "zerolinecolor": "white"
           }
          },
          "shapedefaults": {
           "line": {
            "color": "#2a3f5f"
           }
          },
          "ternary": {
           "aaxis": {
            "gridcolor": "white",
            "linecolor": "white",
            "ticks": ""
           },
           "baxis": {
            "gridcolor": "white",
            "linecolor": "white",
            "ticks": ""
           },
           "bgcolor": "#E5ECF6",
           "caxis": {
            "gridcolor": "white",
            "linecolor": "white",
            "ticks": ""
           }
          },
          "title": {
           "x": 0.05
          },
          "xaxis": {
           "automargin": true,
           "gridcolor": "white",
           "linecolor": "white",
           "ticks": "",
           "title": {
            "standoff": 15
           },
           "zerolinecolor": "white",
           "zerolinewidth": 2
          },
          "yaxis": {
           "automargin": true,
           "gridcolor": "white",
           "linecolor": "white",
           "ticks": "",
           "title": {
            "standoff": 15
           },
           "zerolinecolor": "white",
           "zerolinewidth": 2
          }
         }
        },
        "title": {
         "font": {
          "color": "#4D5663"
         }
        },
        "xaxis": {
         "anchor": "y",
         "domain": [
          0,
          0.45
         ],
         "gridcolor": "#E1E5ED",
         "showgrid": true,
         "tickfont": {
          "color": "#4D5663"
         },
         "title": {
          "font": {
           "color": "#4D5663"
          },
          "text": ""
         },
         "zerolinecolor": "#E1E5ED"
        },
        "xaxis2": {
         "anchor": "y2",
         "domain": [
          0.55,
          1
         ],
         "gridcolor": "#E1E5ED",
         "showgrid": true,
         "tickfont": {
          "color": "#4D5663"
         },
         "title": {
          "font": {
           "color": "#4D5663"
          },
          "text": ""
         },
         "zerolinecolor": "#E1E5ED"
        },
        "xaxis3": {
         "anchor": "y3",
         "domain": [
          0,
          0.45
         ],
         "gridcolor": "#E1E5ED",
         "showgrid": true,
         "tickfont": {
          "color": "#4D5663"
         },
         "title": {
          "font": {
           "color": "#4D5663"
          },
          "text": ""
         },
         "zerolinecolor": "#E1E5ED"
        },
        "xaxis4": {
         "anchor": "y4",
         "domain": [
          0.55,
          1
         ],
         "gridcolor": "#E1E5ED",
         "showgrid": true,
         "tickfont": {
          "color": "#4D5663"
         },
         "title": {
          "font": {
           "color": "#4D5663"
          },
          "text": ""
         },
         "zerolinecolor": "#E1E5ED"
        },
        "yaxis": {
         "anchor": "x",
         "domain": [
          0.575,
          1
         ],
         "gridcolor": "#E1E5ED",
         "showgrid": true,
         "tickfont": {
          "color": "#4D5663"
         },
         "title": {
          "font": {
           "color": "#4D5663"
          },
          "text": ""
         },
         "zerolinecolor": "#E1E5ED"
        },
        "yaxis2": {
         "anchor": "x2",
         "domain": [
          0.575,
          1
         ],
         "gridcolor": "#E1E5ED",
         "showgrid": true,
         "tickfont": {
          "color": "#4D5663"
         },
         "title": {
          "font": {
           "color": "#4D5663"
          },
          "text": ""
         },
         "zerolinecolor": "#E1E5ED"
        },
        "yaxis3": {
         "anchor": "x3",
         "domain": [
          0,
          0.425
         ],
         "gridcolor": "#E1E5ED",
         "showgrid": true,
         "tickfont": {
          "color": "#4D5663"
         },
         "title": {
          "font": {
           "color": "#4D5663"
          },
          "text": ""
         },
         "zerolinecolor": "#E1E5ED"
        },
        "yaxis4": {
         "anchor": "x4",
         "domain": [
          0,
          0.425
         ],
         "gridcolor": "#E1E5ED",
         "showgrid": true,
         "tickfont": {
          "color": "#4D5663"
         },
         "title": {
          "font": {
           "color": "#4D5663"
          },
          "text": ""
         },
         "zerolinecolor": "#E1E5ED"
        }
       }
      },
      "text/html": [
       "<div>                            <div id=\"f95dc2bf-8bfe-4f8c-bfac-07a2de60b6c4\" class=\"plotly-graph-div\" style=\"height:525px; width:100%;\"></div>            <script type=\"text/javascript\">                require([\"plotly\"], function(Plotly) {                    window.PLOTLYENV=window.PLOTLYENV || {};\n",
       "                    window.PLOTLYENV.BASE_URL='https://plot.ly';                                    if (document.getElementById(\"f95dc2bf-8bfe-4f8c-bfac-07a2de60b6c4\")) {                    Plotly.newPlot(                        \"f95dc2bf-8bfe-4f8c-bfac-07a2de60b6c4\",                        [{\"histfunc\":\"count\",\"histnorm\":\"\",\"marker\":{\"color\":\"rgba(255, 153, 51, 1.0)\",\"line\":{\"color\":\"#4D5663\",\"width\":1.3}},\"name\":\"bill_length_mm\",\"opacity\":0.8,\"orientation\":\"v\",\"x\":[-0.8844987420334891,-0.8111257337803929,-0.6643797172742005,-1.3247367915520676,-0.8478122379069417,-0.9211852461600378,-0.8661554899702147,-1.8016613451971948,-0.3525444321985401,-1.1229610188560535,-1.1229610188560535,-0.5176337007680069,-0.9762150023498597,-1.7099450848808242,-1.343080043615342,-0.9578717502865853,-0.2608281718821695,-1.746631589007373,0.3811856503324245,-1.1229610188560535,-1.1413042709193264,-1.4714828080582614,-1.0495880106029558,-0.9395284982233122,-1.5815423204379062,-0.6093499610843774,-0.6276932131476518,-1.104617766792779,-0.6276932131476518,-0.8111257337803929,-1.233020531235697,-0.8111257337803929,-0.5543202048945556,-1.3797665477418908,-0.8661554899702147,-0.9395284982233122,-0.3158579280719913,-1.1596475229826009,-0.7560959775905711,-1.3614232956786163,-0.5726634569578299,-1.453139555994987,0.03266386113021659,-1.2697070353622457,-0.7927824817171185,-0.5176337007680069,-1.1779907750458751,-1.453139555994987,-0.2975146760087182,-0.7927824817171185,-0.7010662214007479,-1.636572076627728,-0.3525444321985401,-1.7282883369440987,-0.462603944578185,-0.9028419940967635,-0.6093499610843774,-1.3614232956786163,-1.1596475229826009,-1.5081693121848088,-0.4809471966414594,-1.1596475229826009,-0.5176337007680069,-1.3797665477418908,-0.42591744045163626,-1.5448558163113575,-0.5176337007680069,-1.4714828080582614,-0.3892309363250888,-1.9117208575768398,-0.7744392296538442,-0.7927824817171185,0.34449914620587574,-1.5448558163113575,-0.20579841569234766,-0.5543202048945556,-1.233020531235697,-1.4164530518684382,-0.3342011801352657,-1.7099450848808242,-0.1874551636290733,-1.3247367915520676,-1.6182288245644536,-1.2146772791724239,-0.4809471966414594,-1.398109799805165,-1.2880502874255202,-1.031244758539683,-0.9211852461600378,-1.5081693121848088,-0.5176337007680069,-1.8200045972604693,-0.7927824817171185,-1.4164530518684382,-0.5726634569578299,-1.0679312626662303,-0.6643797172742005,-1.985093865829936,-0.1324254074392502,-1.636572076627728,-0.5359769528312812,-1.1413042709193264,-1.1229610188560535,-1.104617766792779,-0.7744392296538442,-0.9762150023498597,-1.0495880106029558,-1.0679312626662303,-0.1324254074392502,-1.0679312626662303,0.3078126420793283,-0.7744392296538442,-0.3158579280719913,-0.7927824817171185,-0.22414166775562075,-0.9762150023498597,-1.2146772791724239,-1.5081693121848088,-0.5176337007680069,-1.4164530518684382,-1.1413042709193264,-0.6827229693374736,-0.462603944578185,-1.5998855725011794,-0.6093499610843774,-0.9395284982233122,-0.4442606925149106,-0.9028419940967635,0.03266386113021659,-0.9945582544131341,-0.15076865950252455,-1.3063935394887944,-1.1779907750458751,-1.0679312626662303,-0.5176337007680069,-1.526512564248083,-0.6827229693374736,-1.2697070353622457,-0.7744392296538442,-0.6827229693374736,-0.6093499610843774,-2.168526386462677,-0.591006709021103,-1.2146772791724239,-0.9028419940967635,-0.8661554899702147,-1.343080043615342,-1.453139555994987,-1.1229610188560535,-1.453139555994987,-0.4442606925149106,0.47290191064879505,1.114915732863389,1.353378009685952,0.27112613795277957,1.6101835385717906,0.23443963382623212,0.3995289023956989,1.353378009685952,0.3811856503324245,1.353378009685952,0.49124516271206947,1.4267510179390495,0.5646181709651656,1.4817807741288713,0.3628423982691501,1.2066319931797596,1.1699454890532108,2.5823758979253184,0.4545586585855207,0.9681697163571966,-0.27917142394544386,0.8397669519142773,-0.1324254074392502,1.224975245243034,0.5095884147753438,1.4817807741288713,1.2066319931797596,1.0231994725470186,0.4545586585855207,1.6285267906350638,-0.5543202048945556,1.8853323195209024,-0.2608281718821695,1.2983482534961301,1.0598859766735673,0.6563344312815362,0.6746776833448106,1.4817807741288713,0.5462749189018913,1.756929555077983,0.9314832122306479,0.41787215445897324,1.280005001432856,0.28946939001605393,1.280005001432856,1.2616617493695814,1.1332589849266634,0.9314832122306479,1.3900645138125007,1.0782292287368402,0.7663939436611812,1.3717212617492265,0.32615589414260265,1.2433184973063083,-0.2608281718821695,1.51846727825542,0.23443963382623212,0.9865129684204698,1.151602236989938,0.3078126420793283,1.463437522065597,0.5279316668386169,0.32615589414260265,2.178824352533287,-0.07739565124942835,1.0415427246102928,1.2616617493695814,1.151602236989938,0.3995289023956989,1.114915732863389,0.8764534560408261,1.114915732863389,0.6746776833448106,0.47290191064879505,0.27112613795277957,0.5095884147753438,-0.1140821553759771,0.5279316668386169,-0.5543202048945556,0.9314832122306479,0.28946939001605393,0.8214236998510029,0.34449914620587574,0.9865129684204698,-0.3525444321985401,0.9681697163571966,0.41787215445897324,0.8764534560408261,1.151602236989938,0.21609638176295773,0.47290191064879505,0.43621540652224633,-0.1874551636290733,0.3995289023956989,0.10603686938331279,0.711364187471358,0.7847371957244555,1.114915732863389,0.6196479271549875,-0.20579841569234766,0.21609638176295773,2.875867930937704,0.9498264642939223,0.8214236998510029,-0.2424849198188951,0.08769361732003841,0.014320609066942217,0.8764534560408261,-0.22414166775562075,1.0415427246102928,0.2527828858895052,1.0415427246102928,1.2066319931797596,-0.05905239918615398,0.28946939001605393,1.2066319931797596,0.17940987763640898,0.23443963382623212,0.49124516271206947,0.8397669519142773,0.21609638176295773,1.1332589849266634,0.47290191064879505,0.19775312969968337,-0.022365895059606532,0.28946939001605393,-0.1324254074392502,1.1882887411164853,0.2527828858895052,0.41787215445897324,0.32615589414260265,1.9036755715841756,0.34449914620587574,1.0782292287368402,0.41787215445897324,1.0231994725470186,-0.07739565124942835,1.2433184973063083,0.693020935408085,0.4545586585855207,0.7847371957244555,0.47290191064879505,0.4545586585855207,0.8581102039775518,0.6563344312815362,1.3166915055594046,0.23443963382623212,0.23443963382623212,0.9498264642939223,1.573497034445242,0.6379911792182619,1.114915732863389,0.17940987763640898,1.2616617493695814,-0.09573890331270273,1.353378009685952,0.6563344312815362,1.5001240261921458,0.6563344312815362,1.51846727825542,0.28946939001605393,1.0231994725470186,0.10603686938331279,1.2616617493695814,1.0048562204837441,0.5462749189018913,0.8214236998510029,1.3166915055594046,0.8397669519142773,2.1971676045965616,0.6013046750917144,0.9498264642939223,0.6196479271549875,0.5279316668386169,-0.4075741883883619,1.7385863030147086,-0.1140821553759771,0.7663939436611812,1.2066319931797596,1.0782292287368402,-0.07739565124942835,1.3900645138125007,0.41787215445897324,2.0504215880903693,0.10603686938331279,0.8947967081040992,0.6013046750917144,0.5279316668386169,1.1882887411164853,0.23443963382623212,1.0965724808001147],\"xaxis\":\"x\",\"yaxis\":\"y\",\"type\":\"histogram\"},{\"histfunc\":\"count\",\"histnorm\":\"\",\"marker\":{\"color\":\"rgba(55, 128, 191, 1.0)\",\"line\":{\"color\":\"#4D5663\",\"width\":1.3}},\"name\":\"bill_depth_mm\",\"opacity\":0.8,\"orientation\":\"v\",\"x\":[0.7854492273303164,0.12618789738683958,0.4304623573607525,1.0897236873042293,1.7489850172477062,0.3290375373694488,1.2418609172911859,0.48117476735640524,1.546135377265097,-0.02594933260011508,0.07547548739118863,0.2276127173781451,2.053259477221617,2.0025470672259664,0.3290375373694488,0.9375864573172729,1.799697427243357,0.63331199734336,2.205396707208574,0.582599587347709,0.7854492273303164,1.0390112773085765,0.48117476735640524,0.02476307739553587,0.8868740473216201,0.7347368173346654,0.37974994736509976,0.7347368173346654,0.8868740473216201,-0.2287989725827243,0.48117476735640524,0.3290375373694488,0.8868740473216201,-0.07666174259576784,2.0025470672259664,1.4447105572737933,0.6840244073390127,1.0897236873042293,0.9882988673129256,0.4304623573607525,0.63331199734336,0.6840244073390127,1.2925733272868367,-0.1273741525914206,0.8361616373259692,0.9375864573172729,0.8868740473216201,0.37974994736509976,2.053259477221617,0.27832512737379606,0.8868740473216201,0.37974994736509976,1.191148507295533,0.48117476735640524,0.7347368173346654,0.17690030738249232,0.8361616373259692,-0.27951138257837527,0.9882988673129256,-0.1273741525914206,2.0025470672259664,-0.07666174259576784,0.5318871773520563,-0.02594933260011508,0.4304623573607525,-0.48236102256098445,0.9882988673129256,-0.27951138257837527,1.1404360972998802,0.9375864573172729,0.63331199734336,0.02476307739553587,0.8868740473216201,0.17690030738249232,0.6840244073390127,-0.17808656258707153,1.1404360972998802,-0.5330734325566354,0.9882988673129256,0.02476307739553587,0.2276127173781451,0.8361616373259692,1.1404360972998802,0.3290375373694488,1.5968477872607496,1.191148507295533,0.7347368173346654,1.0390112773085765,0.8361616373259692,0.4304623573607525,0.48117476735640524,-0.02594933260011508,0.48117476735640524,0.07547548739118863,0.8868740473216201,0.7347368173346654,0.6840244073390127,-0.5330734325566354,0.6840244073390127,0.37974994736509976,1.4447105572737933,-0.5837858425522882,1.4447105572737933,0.7347368173346654,0.8868740473216201,0.02476307739553587,1.4447105572737933,-0.07666174259576784,0.9375864573172729,-0.330223792574028,1.5968477872607496,0.27832512737379606,1.191148507295533,1.799697427243357,0.582599587347709,-0.07666174259576784,1.6982726072520533,-0.07666174259576784,0.7347368173346654,0.02476307739553587,1.3432857372824896,-0.07666174259576784,0.6840244073390127,-0.63449825254794,0.9375864573172729,0.2276127173781451,0.582599587347709,-0.02594933260011508,0.4304623573607525,0.37974994736509976,1.0390112773085765,0.6840244073390127,0.6840244073390127,0.2276127173781451,0.17690030738249232,0.17690030738249232,1.495422967269446,-0.330223792574028,0.37974994736509976,-0.02594933260011508,0.02476307739553587,-0.8373478925305483,-0.07666174259576784,-0.17808656258707153,0.7854492273303164,0.7347368173346654,0.63331199734336,0.3290375373694488,0.48117476735640524,-0.02594933260011508,0.6840244073390127,0.37974994736509976,1.191148507295533,1.0390112773085765,0.7854492273303164,1.3432857372824896,0.3290375373694488,0.5318871773520563,0.5318871773520563,0.8868740473216201,1.3939981472781404,0.3290375373694488,1.5968477872607496,0.07547548739118863,0.48117476735640524,-0.02594933260011508,1.2418609172911859,1.4447105572737933,0.3290375373694488,0.7347368173346654,0.5318871773520563,0.07547548739118863,0.17690030738249232,-0.27951138257837527,1.1404360972998802,0.37974994736509976,0.9375864573172729,0.63331199734336,0.9375864573172729,0.3290375373694488,1.4447105572737933,-0.27951138257837527,1.8504098372390099,-0.2287989725827243,0.8361616373259692,0.7347368173346654,-0.17808656258707153,0.582599587347709,1.799697427243357,-0.27951138257837527,1.3939981472781404,1.191148507295533,0.17690030738249232,0.9882988673129256,-0.07666174259576784,0.37974994736509976,0.6840244073390127,0.37974994736509976,1.2418609172911859,0.7854492273303164,0.07547548739118863,-0.38093620256968075,0.9375864573172729,0.07547548739118863,1.2925733272868367,0.07547548739118863,0.8361616373259692,-0.27951138257837527,1.3939981472781404,0.8361616373259692,1.1404360972998802,1.191148507295533,-0.330223792574028,-0.07666174259576784,1.3432857372824896,0.48117476735640524,0.5318871773520563,0.9375864573172729,0.7854492273303164,-2.0037333224305454,-0.4316486125653317,-1.547321632469677,-0.9894851225175048,-1.3444719924870687,-1.851596092443589,-1.2937595824914168,-0.938772712521852,-1.9023085024392408,-0.8880603025262002,-1.7501712724522853,-0.5330734325566354,-1.7501712724522853,-1.2937595824914168,-1.2937595824914168,-0.7359230725392446,-1.851596092443589,-0.9894851225175048,-1.3444719924870687,-1.0401975325131567,-1.4458968124783724,-1.3444719924870687,-1.3444719924870687,-0.6852106625435919,-2.0544457324261973,-1.0401975325131567,-1.4458968124783724,-1.0909099425088085,-1.4458968124783724,-0.938772712521852,-0.938772712521852,-1.496609222474025,-1.3444719924870687,-0.07666174259576784,-1.1923347625001122,-0.4316486125653317,-1.7501712724522853,0.07547548739118863,-1.800883682447937,-0.7359230725392446,-1.7501712724522853,-0.5837858425522882,-1.7501712724522853,-1.0909099425088085,-0.63449825254794,-1.6487464524609807,-1.6487464524609807,-0.63449825254794,-1.9530209124348927,-0.6852106625435919,-1.496609222474025,-1.547321632469677,-1.3951844024827205,-1.0909099425088085,-1.3951844024827205,-0.8880603025262002,-1.6487464524609807,-1.0909099425088085,-1.3444719924870687,-0.938772712521852,-1.6994588624566325,-1.1416223525044604,-1.6487464524609807,-0.7359230725392446,-1.496609222474025,-0.17808656258707153,-1.3951844024827205,-0.48236102256098445,-1.496609222474025,-1.0909099425088085,-1.0909099425088085,-0.7866354825348965,-0.7866354825348965,-1.1923347625001122,-1.0909099425088085,-0.5837858425522882,-1.496609222474025,-0.4316486125653317,-1.6994588624566325,-0.38093620256968075,-1.3444719924870687,-0.7866354825348965,-1.2937595824914168,-0.63449825254794,-1.6994588624566325,0.07547548739118863,-1.3951844024827205,-1.496609222474025,-1.5980340424653288,-0.07666174259576784,-1.0909099425088085,-0.02594933260011508,-1.3444719924870687,-0.5330734325566354,-1.243047172495765,-0.7359230725392446,-0.6852106625435919,-1.2937595824914168,-1.3951844024827205,-0.330223792574028,-1.0909099425088085,-0.07666174259576784,-0.8373478925305483,-1.0909099425088085,-1.6994588624566325,-0.5330734325566354,-1.243047172495765,-0.6852106625435919,-1.5980340424653288,-1.0401975325131567,-0.9894851225175048,-0.63449825254794,-0.9894851225175048,-0.4316486125653317,-1.547321632469677,-0.5837858425522882,-0.7359230725392446,-0.48236102256098445,-1.7501712724522853,-1.4458968124783724,-0.7359230725392446,-1.1923347625001122,-0.5330734325566354],\"xaxis\":\"x2\",\"yaxis\":\"y2\",\"type\":\"histogram\"},{\"histfunc\":\"count\",\"histnorm\":\"\",\"marker\":{\"color\":\"rgba(50, 171, 96, 1.0)\",\"line\":{\"color\":\"#4D5663\",\"width\":1.3}},\"name\":\"flipper_length_mm\",\"opacity\":0.8,\"orientation\":\"v\",\"x\":[-1.418346649339451,-1.0622502214477376,-0.4212766512426535,-0.5637152223993389,-0.7773730791343669,-1.418346649339451,-0.4212766512426535,-0.5637152223993389,-0.7773730791343669,-1.0622502214477376,-1.4895659349177937,-1.3471273637611083,-0.7061537935560243,-0.20761879450762552,-1.1334695070260803,-0.4212766512426535,-0.2788380800859682,-1.204688792604423,-0.4924959368209962,-1.9168816483878497,-1.4895659349177937,-0.8485923647127096,-1.1334695070260803,-1.4895659349177937,-0.991030935869395,-1.2759080781827656,-0.991030935869395,-2.059320219544535,-1.4895659349177937,-1.632004506074479,-1.632004506074479,-0.9198116502910523,-1.204688792604423,-0.4212766512426535,-0.3500573656643109,-0.7773730791343669,-1.4895659349177937,-1.418346649339451,-1.204688792604423,-1.3471273637611083,-0.4212766512426535,-1.0622502214477376,-0.3500573656643109,-1.1334695070260803,-0.7773730791343669,-1.3471273637611083,-1.5607852204961363,-0.7773730791343669,-0.7061537935560243,-1.0622502214477376,-0.9198116502910523,-0.7773730791343669,-0.06518022335094019,-0.991030935869395,-0.7061537935560243,-1.0622502214477376,-0.5637152223993389,-1.418346649339451,-0.4924959368209962,-1.1334695070260803,-0.4212766512426535,-1.1334695070260803,-0.6349345079776816,-1.204688792604423,-0.6349345079776816,-0.4212766512426535,-0.9198116502910523,-0.7773730791343669,-0.20761879450762552,-0.7773730791343669,-0.7773730791343669,-0.3500573656643109,-0.2788380800859682,-0.7773730791343669,-0.4212766512426535,-0.7061537935560243,-1.204688792604423,-0.991030935869395,-0.4212766512426535,-0.8485923647127096,-0.3500573656643109,-0.991030935869395,-0.5637152223993389,-0.7061537935560243,-0.4924959368209962,-0.7773730791343669,-0.8485923647127096,-0.8485923647127096,-0.7773730791343669,0.07725834780574516,0.29091620454077316,-1.1334695070260803,-1.0622502214477376,-0.991030935869395,0.5045740612758012,-0.7773730791343669,-0.3500573656643109,-1.632004506074479,-0.6349345079776816,-0.6349345079776816,0.14847763338408781,-1.2759080781827656,-0.7773730791343669,-0.5637152223993389,-1.204688792604423,-0.13639950892928285,-0.7773730791343669,-1.418346649339451,-0.2788380800859682,-0.20761879450762552,-0.7061537935560243,-0.5637152223993389,-0.2788380800859682,-0.7061537935560243,-0.3500573656643109,-0.9198116502910523,-0.13639950892928285,-0.8485923647127096,-0.8485923647127096,-0.991030935869395,-0.20761879450762552,-1.7744430772311643,0.07725834780574516,-1.0622502214477376,-0.13639950892928285,-0.7061537935560243,-0.4212766512426535,-0.7061537935560243,0.6470126324324865,-0.7773730791343669,-0.2788380800859682,-0.5637152223993389,-0.13639950892928285,-0.991030935869395,-0.7773730791343669,-0.7061537935560243,-0.06518022335094019,-1.1334695070260803,-0.5637152223993389,-0.5637152223993389,-0.991030935869395,-0.9198116502910523,-0.7773730791343669,-0.6349345079776816,-1.1334695070260803,-0.7773730791343669,-1.204688792604423,-0.4212766512426535,-0.5637152223993389,-0.991030935869395,0.006039062227402485,-0.6349345079776816,-0.3500573656643109,-0.5637152223993389,-0.9198116502910523,-0.2788380800859682,-0.20761879450762552,-1.632004506074479,-0.2788380800859682,-0.4212766512426535,-0.20761879450762552,-0.5637152223993389,-0.4924959368209962,-1.1334695070260803,0.006039062227402485,-0.7773730791343669,0.006039062227402485,-0.2788380800859682,-1.418346649339451,-0.7773730791343669,-0.4212766512426535,-1.418346649339451,-0.7061537935560243,-0.991030935869395,-0.5637152223993389,-0.4212766512426535,-0.2788380800859682,-0.06518022335094019,-0.06518022335094019,-0.7061537935560243,0.29091620454077316,-0.991030935869395,0.006039062227402485,-0.991030935869395,0.14847763338408781,-0.4212766512426535,-0.13639950892928285,-0.4212766512426535,0.6470126324324865,-0.6349345079776816,0.29091620454077316,0.6470126324324865,-0.991030935869395,-0.3500573656643109,-0.3500573656643109,-0.3500573656643109,0.006039062227402485,-0.7773730791343669,0.7894512035891719,-0.991030935869395,-0.20761879450762552,-0.13639950892928285,0.006039062227402485,-0.5637152223993389,0.14847763338408781,-0.991030935869395,-0.2788380800859682,-0.7061537935560243,0.14847763338408781,0.07725834780574516,-0.4924959368209962,0.36213549011911583,-0.8485923647127096,-0.4212766512426535,0.4333547756974585,0.07725834780574516,-0.5637152223993389,0.6470126324324865,-0.20761879450762552,0.7182319180108292,2.07139834399934,0.6470126324324865,1.216766917059228,1.0031090603241999,0.6470126324324865,0.7182319180108292,1.2879862026375706,0.5757933468541439,1.0031090603241999,0.9318897747458572,1.0743283459025426,0.9318897747458572,0.8606704891675145,0.6470126324324865,1.1455476314808852,0.6470126324324865,1.430424773794256,0.5757933468541439,1.5016440593725986,1.216766917059228,1.0031090603241999,0.8606704891675145,1.0031090603241999,1.0031090603241999,1.0031090603241999,1.0743283459025426,1.0031090603241999,0.6470126324324865,1.3592054882159132,1.5016440593725986,0.5757933468541439,0.4333547756974585,2.07139834399934,1.3592054882159132,1.3592054882159132,0.8606704891675145,1.2879862026375706,0.5045740612758012,0.5045740612758012,0.5045740612758012,1.7153019161076266,0.6470126324324865,1.0743283459025426,1.5016440593725986,1.1455476314808852,0.6470126324324865,1.7153019161076266,0.8606704891675145,1.0031090603241999,0.6470126324324865,1.3592054882159132,0.6470126324324865,1.7153019161076266,1.1455476314808852,1.3592054882159132,0.5045740612758012,1.3592054882159132,0.5045740612758012,1.644082630529284,0.5045740612758012,1.430424773794256,0.9318897747458572,2.1426176295776824,1.2879862026375706,2.07139834399934,0.9318897747458572,2.000179058420997,1.3592054882159132,1.5728633449509413,1.0743283459025426,1.430424773794256,1.430424773794256,1.1455476314808852,1.0743283459025426,2.07139834399934,0.5757933468541439,1.3592054882159132,1.0031090603241999,1.5728633449509413,0.7894512035891719,1.430424773794256,0.7894512035891719,1.644082630529284,0.7894512035891719,1.9289597728426546,1.216766917059228,1.216766917059228,0.7894512035891719,2.07139834399934,1.216766917059228,1.9289597728426546,0.7894512035891719,1.644082630529284,0.9318897747458572,1.7865212016859693,1.0743283459025426,1.5016440593725986,0.14847763338408781,1.7153019161076266,1.2879862026375706,1.9289597728426546,1.0031090603241999,1.9289597728426546,1.0743283459025426,1.0031090603241999,0.6470126324324865,1.2879862026375706,0.5045740612758012,0.5757933468541439,1.0743283459025426,2.000179058420997,0.8606704891675145,2.07139834399934,1.1455476314808852,2.07139834399934,1.1455476314808852,1.5016440593725986,0.9318897747458572,1.0031090603241999,1.5016440593725986,0.7894512035891719,0.8606704891675145],\"xaxis\":\"x3\",\"yaxis\":\"y3\",\"type\":\"histogram\"},{\"histfunc\":\"count\",\"histnorm\":\"\",\"marker\":{\"color\":\"rgba(128, 0, 128, 1.0)\",\"line\":{\"color\":\"#4D5663\",\"width\":1.3}},\"name\":\"body_mass_g\",\"opacity\":0.8,\"orientation\":\"v\",\"x\":[-0.5641420770995511,-0.5017030510904746,-1.1885323371903165,-0.9387762331540104,-0.6890201291177043,-0.7202396421222425,0.5909799040683649,-0.9075567201494721,0.06024818299121429,-1.1260933111812401,-0.6265811031086277,-1.250971363199393,-0.5017030510904746,0.24756526101844392,-0.6265811031086277,-0.9387762331540104,0.372443313036597,-1.0948737981767018,-0.002190843017862255,-1.001215259163087,-0.7514591551267807,-0.5017030510904746,-0.31438597306324495,-0.5017030510904746,-0.5017030510904746,-0.8138981811358573,-1.250971363199393,-1.3134103892084696,-0.31438597306324495,-1.1885323371903165,-0.37682499907232153,-1.1260933111812401,-0.37682499907232153,-1.0948737981767018,-0.06462986902693879,-0.31438597306324495,-0.8138981811358573,-1.1260933111812401,0.5597603910638266,-1.3134103892084696,-0.37682499907232153,-1.3758494152175462,0.24756526101844392,-1.5007274672356992,0.4973213650547501,-0.9699957461585487,-1.5319469802402375,-0.9387762331540104,-0.06462986902693879,-0.8763372071449338,0.12268720900029083,-0.9387762331540104,-0.18950792104509187,-1.6256055192538523,-0.6265811031086277,-0.8138981811358573,-0.5017030510904746,-1.688044545262929,-0.5641420770995511,-1.3134103892084696,0.24756526101844392,-0.7514591551267807,-0.18950792104509187,-1.688044545262929,-0.31438597306324495,-1.0636542851721635,-0.12706889503601534,-1.4382884412266228,0.3100042870275205,-0.7514591551267807,-0.37682499907232153,-0.8138981811358573,-0.06462986902693879,-0.6265811031086277,0.06024818299121429,-0.6265811031086277,-0.37682499907232153,-0.8138981811358573,-0.2519469470541684,-1.250971363199393,0.6221994170729032,-0.5017030510904746,-0.002190843017862255,-1.0636542851721635,-0.8138981811358573,-0.5017030510904746,-0.8763372071449338,-0.31438597306324495,-0.7514591551267807,-0.8138981811358573,0.12268720900029083,-1.001215259163087,0.3100042870275205,-1.1260933111812401,0.12268720900029083,-0.6265811031086277,0.18512623500936737,-1.6256055192538523,-0.12706889503601534,-0.5953615901040894,0.6534189300774415,-1.4070689282220845,0.06024818299121429,-1.594386006249314,-0.8138981811358573,-0.5641420770995511,-0.37682499907232153,-1.2821908762039314,0.715857956086518,-0.47048353808593635,0.4973213650547501,-1.250971363199393,0.09146769599575257,-0.37682499907232153,-0.1582884080405536,-1.6256055192538523,-0.5329225640950128,-1.0636542851721635,-1.0948737981767018,-1.3134103892084696,-0.8763372071449338,-0.9387762331540104,-0.40804451207685977,-1.4382884412266228,-0.2519469470541684,-1.1573128241857782,0.12268720900029083,-1.4382884412266228,-0.2519469470541684,-1.0948737981767018,-0.8763372071449338,-0.8763372071449338,0.3412238000320587,-0.9699957461585487,-0.37682499907232153,-1.2821908762039314,-0.2831664600587067,-1.001215259163087,0.06024818299121429,-1.001215259163087,-0.9075567201494721,-1.4382884412266228,-0.5953615901040894,-1.5007274672356992,-0.6890201291177043,0.06024818299121429,-0.9075567201494721,-0.9387762331540104,-0.5641420770995511,-0.6265811031086277,-0.2519469470541684,-0.8763372071449338,-0.37682499907232153,-0.6890201291177043,-0.8451176941403956,-0.5953615901040894,-0.31438597306324495,-1.1885323371903165,-0.5641420770995511,-0.06462986902693879,-0.6265811031086277,-0.5017030510904746,-0.5329225640950128,-0.6265811031086277,-0.18950792104509187,-0.782678668131319,-0.18950792104509187,-1.1260933111812401,-0.6265811031086277,-0.9387762331540104,0.24756526101844392,-0.7514591551267807,-1.001215259163087,-1.6256055192538523,-0.5017030510904746,-1.1260933111812401,-0.06462986902693879,-1.001215259163087,-0.5017030510904746,-0.6265811031086277,0.4348823390456735,-1.250971363199393,0.12268720900029083,-1.0636542851721635,-0.12706889503601534,-0.7514591551267807,-0.37682499907232153,-0.43926402508139806,0.7470774690910562,-1.8753616232901584,0.372443313036597,-0.31438597306324495,-0.6890201291177043,-0.8138981811358573,-0.8763372071449338,-0.657800616113166,0.3100042870275205,-1.001215259163087,0.12268720900029083,-1.1885323371903165,-0.657800616113166,-1.0948737981767018,-0.31438597306324495,-0.7514591551267807,-0.18950792104509187,-1.0636542851721635,-0.9387762331540104,-1.1885323371903165,-0.18950792104509187,-0.5017030510904746,-0.8451176941403956,-0.31438597306324495,-0.6890201291177043,-0.6890201291177043,-0.2519469470541684,-1.001215259163087,-0.5329225640950128,-0.12706889503601534,-0.5329225640950128,0.372443313036597,1.870979937254434,0.3100042870275205,1.870979937254434,1.4963457811999747,0.4348823390456735,0.7470774690910562,1.2465896771636686,0.24756526101844392,1.184150651154592,0.5597603910638266,1.6836628592272045,0.5597603910638266,2.0582970152816635,-0.002190843017862255,2.0582970152816635,-0.06462986902693879,2.6202482493633523,0.7470774690910562,1.4339067551908982,1.870979937254434,0.9968335731273624,0.24756526101844392,1.059272599136439,0.9968335731273624,1.1217116251455155,-0.12706889503601534,1.8085409112453574,0.4973213650547501,1.6836628592272045,1.3090287031727452,0.6221994170729032,1.059272599136439,2.30805311931797,1.184150651154592,1.4963457811999747,0.9343945471182858,1.3090287031727452,0.18512623500936737,1.4339067551908982,-0.31438597306324495,1.870979937254434,0.12268720900029083,0.6846384430819797,1.6836628592272045,0.8719555211092094,-0.002190843017862255,1.4963457811999747,1.1217116251455155,1.3714677291818216,0.8095164951001328,1.3714677291818216,0.24756526101844392,0.9968335731273624,0.8719555211092094,1.059272599136439,0.12268720900029083,0.9968335731273624,0.3100042870275205,1.6836628592272045,-0.002190843017862255,1.3714677291818216,0.24756526101844392,1.8085409112453574,0.6221994170729032,1.870979937254434,0.5597603910638266,1.9958579892725872,0.6221994170729032,1.6836628592272045,0.6846384430819797,0.9968335731273624,1.1217116251455155,1.2465896771636686,0.6221994170729032,1.9958579892725872,0.4973213650547501,2.2456140933088933,0.6846384430819797,2.1831750672998167,0.5285408780592884,1.5587848072090513,0.6534189300774415,1.4339067551908982,0.6846384430819797,1.7461018852362808,0.4973213650547501,1.3714677291818216,0.8407360081046711,1.6836628592272045,0.9343945471182858,1.4963457811999747,0.6846384430819797,1.8085409112453574,0.8095164951001328,1.2465896771636686,0.9031750341137476,0.8407360081046711,0.5285408780592884,1.3090287031727452,0.8095164951001328,1.7461018852362808,0.9656140601228241,1.621223833218128,0.6534189300774415,1.621223833218128,0.6221994170729032,1.621223833218128,0.4661018520502118,1.621223833218128,0.9968335731273624,2.1831750672998167,0.5597603910638266,1.621223833218128,0.21634574801390563,2.0582970152816635,0.8407360081046711,2.2456140933088933,0.9031750341137476,0.8095164951001328,1.9334189632635106,1.2465896771636686,1.4963457811999747],\"xaxis\":\"x4\",\"yaxis\":\"y4\",\"type\":\"histogram\"}],                        {\"barmode\":\"overlay\",\"legend\":{\"bgcolor\":\"#F5F6F9\",\"font\":{\"color\":\"#4D5663\"}},\"paper_bgcolor\":\"#F5F6F9\",\"plot_bgcolor\":\"#F5F6F9\",\"template\":{\"data\":{\"barpolar\":[{\"marker\":{\"line\":{\"color\":\"#E5ECF6\",\"width\":0.5},\"pattern\":{\"fillmode\":\"overlay\",\"size\":10,\"solidity\":0.2}},\"type\":\"barpolar\"}],\"bar\":[{\"error_x\":{\"color\":\"#2a3f5f\"},\"error_y\":{\"color\":\"#2a3f5f\"},\"marker\":{\"line\":{\"color\":\"#E5ECF6\",\"width\":0.5},\"pattern\":{\"fillmode\":\"overlay\",\"size\":10,\"solidity\":0.2}},\"type\":\"bar\"}],\"carpet\":[{\"aaxis\":{\"endlinecolor\":\"#2a3f5f\",\"gridcolor\":\"white\",\"linecolor\":\"white\",\"minorgridcolor\":\"white\",\"startlinecolor\":\"#2a3f5f\"},\"baxis\":{\"endlinecolor\":\"#2a3f5f\",\"gridcolor\":\"white\",\"linecolor\":\"white\",\"minorgridcolor\":\"white\",\"startlinecolor\":\"#2a3f5f\"},\"type\":\"carpet\"}],\"choropleth\":[{\"colorbar\":{\"outlinewidth\":0,\"ticks\":\"\"},\"type\":\"choropleth\"}],\"contourcarpet\":[{\"colorbar\":{\"outlinewidth\":0,\"ticks\":\"\"},\"type\":\"contourcarpet\"}],\"contour\":[{\"colorbar\":{\"outlinewidth\":0,\"ticks\":\"\"},\"colorscale\":[[0.0,\"#0d0887\"],[0.1111111111111111,\"#46039f\"],[0.2222222222222222,\"#7201a8\"],[0.3333333333333333,\"#9c179e\"],[0.4444444444444444,\"#bd3786\"],[0.5555555555555556,\"#d8576b\"],[0.6666666666666666,\"#ed7953\"],[0.7777777777777778,\"#fb9f3a\"],[0.8888888888888888,\"#fdca26\"],[1.0,\"#f0f921\"]],\"type\":\"contour\"}],\"heatmapgl\":[{\"colorbar\":{\"outlinewidth\":0,\"ticks\":\"\"},\"colorscale\":[[0.0,\"#0d0887\"],[0.1111111111111111,\"#46039f\"],[0.2222222222222222,\"#7201a8\"],[0.3333333333333333,\"#9c179e\"],[0.4444444444444444,\"#bd3786\"],[0.5555555555555556,\"#d8576b\"],[0.6666666666666666,\"#ed7953\"],[0.7777777777777778,\"#fb9f3a\"],[0.8888888888888888,\"#fdca26\"],[1.0,\"#f0f921\"]],\"type\":\"heatmapgl\"}],\"heatmap\":[{\"colorbar\":{\"outlinewidth\":0,\"ticks\":\"\"},\"colorscale\":[[0.0,\"#0d0887\"],[0.1111111111111111,\"#46039f\"],[0.2222222222222222,\"#7201a8\"],[0.3333333333333333,\"#9c179e\"],[0.4444444444444444,\"#bd3786\"],[0.5555555555555556,\"#d8576b\"],[0.6666666666666666,\"#ed7953\"],[0.7777777777777778,\"#fb9f3a\"],[0.8888888888888888,\"#fdca26\"],[1.0,\"#f0f921\"]],\"type\":\"heatmap\"}],\"histogram2dcontour\":[{\"colorbar\":{\"outlinewidth\":0,\"ticks\":\"\"},\"colorscale\":[[0.0,\"#0d0887\"],[0.1111111111111111,\"#46039f\"],[0.2222222222222222,\"#7201a8\"],[0.3333333333333333,\"#9c179e\"],[0.4444444444444444,\"#bd3786\"],[0.5555555555555556,\"#d8576b\"],[0.6666666666666666,\"#ed7953\"],[0.7777777777777778,\"#fb9f3a\"],[0.8888888888888888,\"#fdca26\"],[1.0,\"#f0f921\"]],\"type\":\"histogram2dcontour\"}],\"histogram2d\":[{\"colorbar\":{\"outlinewidth\":0,\"ticks\":\"\"},\"colorscale\":[[0.0,\"#0d0887\"],[0.1111111111111111,\"#46039f\"],[0.2222222222222222,\"#7201a8\"],[0.3333333333333333,\"#9c179e\"],[0.4444444444444444,\"#bd3786\"],[0.5555555555555556,\"#d8576b\"],[0.6666666666666666,\"#ed7953\"],[0.7777777777777778,\"#fb9f3a\"],[0.8888888888888888,\"#fdca26\"],[1.0,\"#f0f921\"]],\"type\":\"histogram2d\"}],\"histogram\":[{\"marker\":{\"pattern\":{\"fillmode\":\"overlay\",\"size\":10,\"solidity\":0.2}},\"type\":\"histogram\"}],\"mesh3d\":[{\"colorbar\":{\"outlinewidth\":0,\"ticks\":\"\"},\"type\":\"mesh3d\"}],\"parcoords\":[{\"line\":{\"colorbar\":{\"outlinewidth\":0,\"ticks\":\"\"}},\"type\":\"parcoords\"}],\"pie\":[{\"automargin\":true,\"type\":\"pie\"}],\"scatter3d\":[{\"line\":{\"colorbar\":{\"outlinewidth\":0,\"ticks\":\"\"}},\"marker\":{\"colorbar\":{\"outlinewidth\":0,\"ticks\":\"\"}},\"type\":\"scatter3d\"}],\"scattercarpet\":[{\"marker\":{\"colorbar\":{\"outlinewidth\":0,\"ticks\":\"\"}},\"type\":\"scattercarpet\"}],\"scattergeo\":[{\"marker\":{\"colorbar\":{\"outlinewidth\":0,\"ticks\":\"\"}},\"type\":\"scattergeo\"}],\"scattergl\":[{\"marker\":{\"colorbar\":{\"outlinewidth\":0,\"ticks\":\"\"}},\"type\":\"scattergl\"}],\"scattermapbox\":[{\"marker\":{\"colorbar\":{\"outlinewidth\":0,\"ticks\":\"\"}},\"type\":\"scattermapbox\"}],\"scatterpolargl\":[{\"marker\":{\"colorbar\":{\"outlinewidth\":0,\"ticks\":\"\"}},\"type\":\"scatterpolargl\"}],\"scatterpolar\":[{\"marker\":{\"colorbar\":{\"outlinewidth\":0,\"ticks\":\"\"}},\"type\":\"scatterpolar\"}],\"scatter\":[{\"marker\":{\"colorbar\":{\"outlinewidth\":0,\"ticks\":\"\"}},\"type\":\"scatter\"}],\"scatterternary\":[{\"marker\":{\"colorbar\":{\"outlinewidth\":0,\"ticks\":\"\"}},\"type\":\"scatterternary\"}],\"surface\":[{\"colorbar\":{\"outlinewidth\":0,\"ticks\":\"\"},\"colorscale\":[[0.0,\"#0d0887\"],[0.1111111111111111,\"#46039f\"],[0.2222222222222222,\"#7201a8\"],[0.3333333333333333,\"#9c179e\"],[0.4444444444444444,\"#bd3786\"],[0.5555555555555556,\"#d8576b\"],[0.6666666666666666,\"#ed7953\"],[0.7777777777777778,\"#fb9f3a\"],[0.8888888888888888,\"#fdca26\"],[1.0,\"#f0f921\"]],\"type\":\"surface\"}],\"table\":[{\"cells\":{\"fill\":{\"color\":\"#EBF0F8\"},\"line\":{\"color\":\"white\"}},\"header\":{\"fill\":{\"color\":\"#C8D4E3\"},\"line\":{\"color\":\"white\"}},\"type\":\"table\"}]},\"layout\":{\"annotationdefaults\":{\"arrowcolor\":\"#2a3f5f\",\"arrowhead\":0,\"arrowwidth\":1},\"autotypenumbers\":\"strict\",\"coloraxis\":{\"colorbar\":{\"outlinewidth\":0,\"ticks\":\"\"}},\"colorscale\":{\"diverging\":[[0,\"#8e0152\"],[0.1,\"#c51b7d\"],[0.2,\"#de77ae\"],[0.3,\"#f1b6da\"],[0.4,\"#fde0ef\"],[0.5,\"#f7f7f7\"],[0.6,\"#e6f5d0\"],[0.7,\"#b8e186\"],[0.8,\"#7fbc41\"],[0.9,\"#4d9221\"],[1,\"#276419\"]],\"sequential\":[[0.0,\"#0d0887\"],[0.1111111111111111,\"#46039f\"],[0.2222222222222222,\"#7201a8\"],[0.3333333333333333,\"#9c179e\"],[0.4444444444444444,\"#bd3786\"],[0.5555555555555556,\"#d8576b\"],[0.6666666666666666,\"#ed7953\"],[0.7777777777777778,\"#fb9f3a\"],[0.8888888888888888,\"#fdca26\"],[1.0,\"#f0f921\"]],\"sequentialminus\":[[0.0,\"#0d0887\"],[0.1111111111111111,\"#46039f\"],[0.2222222222222222,\"#7201a8\"],[0.3333333333333333,\"#9c179e\"],[0.4444444444444444,\"#bd3786\"],[0.5555555555555556,\"#d8576b\"],[0.6666666666666666,\"#ed7953\"],[0.7777777777777778,\"#fb9f3a\"],[0.8888888888888888,\"#fdca26\"],[1.0,\"#f0f921\"]]},\"colorway\":[\"#636efa\",\"#EF553B\",\"#00cc96\",\"#ab63fa\",\"#FFA15A\",\"#19d3f3\",\"#FF6692\",\"#B6E880\",\"#FF97FF\",\"#FECB52\"],\"font\":{\"color\":\"#2a3f5f\"},\"geo\":{\"bgcolor\":\"white\",\"lakecolor\":\"white\",\"landcolor\":\"#E5ECF6\",\"showlakes\":true,\"showland\":true,\"subunitcolor\":\"white\"},\"hoverlabel\":{\"align\":\"left\"},\"hovermode\":\"closest\",\"mapbox\":{\"style\":\"light\"},\"paper_bgcolor\":\"white\",\"plot_bgcolor\":\"#E5ECF6\",\"polar\":{\"angularaxis\":{\"gridcolor\":\"white\",\"linecolor\":\"white\",\"ticks\":\"\"},\"bgcolor\":\"#E5ECF6\",\"radialaxis\":{\"gridcolor\":\"white\",\"linecolor\":\"white\",\"ticks\":\"\"}},\"scene\":{\"xaxis\":{\"backgroundcolor\":\"#E5ECF6\",\"gridcolor\":\"white\",\"gridwidth\":2,\"linecolor\":\"white\",\"showbackground\":true,\"ticks\":\"\",\"zerolinecolor\":\"white\"},\"yaxis\":{\"backgroundcolor\":\"#E5ECF6\",\"gridcolor\":\"white\",\"gridwidth\":2,\"linecolor\":\"white\",\"showbackground\":true,\"ticks\":\"\",\"zerolinecolor\":\"white\"},\"zaxis\":{\"backgroundcolor\":\"#E5ECF6\",\"gridcolor\":\"white\",\"gridwidth\":2,\"linecolor\":\"white\",\"showbackground\":true,\"ticks\":\"\",\"zerolinecolor\":\"white\"}},\"shapedefaults\":{\"line\":{\"color\":\"#2a3f5f\"}},\"ternary\":{\"aaxis\":{\"gridcolor\":\"white\",\"linecolor\":\"white\",\"ticks\":\"\"},\"baxis\":{\"gridcolor\":\"white\",\"linecolor\":\"white\",\"ticks\":\"\"},\"bgcolor\":\"#E5ECF6\",\"caxis\":{\"gridcolor\":\"white\",\"linecolor\":\"white\",\"ticks\":\"\"}},\"title\":{\"x\":0.05},\"xaxis\":{\"automargin\":true,\"gridcolor\":\"white\",\"linecolor\":\"white\",\"ticks\":\"\",\"title\":{\"standoff\":15},\"zerolinecolor\":\"white\",\"zerolinewidth\":2},\"yaxis\":{\"automargin\":true,\"gridcolor\":\"white\",\"linecolor\":\"white\",\"ticks\":\"\",\"title\":{\"standoff\":15},\"zerolinecolor\":\"white\",\"zerolinewidth\":2}}},\"title\":{\"font\":{\"color\":\"#4D5663\"}},\"xaxis\":{\"anchor\":\"y\",\"domain\":[0.0,0.45],\"gridcolor\":\"#E1E5ED\",\"showgrid\":true,\"tickfont\":{\"color\":\"#4D5663\"},\"title\":{\"font\":{\"color\":\"#4D5663\"},\"text\":\"\"},\"zerolinecolor\":\"#E1E5ED\"},\"yaxis\":{\"anchor\":\"x\",\"domain\":[0.575,1.0],\"gridcolor\":\"#E1E5ED\",\"showgrid\":true,\"tickfont\":{\"color\":\"#4D5663\"},\"title\":{\"font\":{\"color\":\"#4D5663\"},\"text\":\"\"},\"zerolinecolor\":\"#E1E5ED\"},\"xaxis2\":{\"anchor\":\"y2\",\"domain\":[0.55,1.0],\"gridcolor\":\"#E1E5ED\",\"showgrid\":true,\"tickfont\":{\"color\":\"#4D5663\"},\"title\":{\"font\":{\"color\":\"#4D5663\"},\"text\":\"\"},\"zerolinecolor\":\"#E1E5ED\"},\"yaxis2\":{\"anchor\":\"x2\",\"domain\":[0.575,1.0],\"gridcolor\":\"#E1E5ED\",\"showgrid\":true,\"tickfont\":{\"color\":\"#4D5663\"},\"title\":{\"font\":{\"color\":\"#4D5663\"},\"text\":\"\"},\"zerolinecolor\":\"#E1E5ED\"},\"xaxis3\":{\"anchor\":\"y3\",\"domain\":[0.0,0.45],\"gridcolor\":\"#E1E5ED\",\"showgrid\":true,\"tickfont\":{\"color\":\"#4D5663\"},\"title\":{\"font\":{\"color\":\"#4D5663\"},\"text\":\"\"},\"zerolinecolor\":\"#E1E5ED\"},\"yaxis3\":{\"anchor\":\"x3\",\"domain\":[0.0,0.425],\"gridcolor\":\"#E1E5ED\",\"showgrid\":true,\"tickfont\":{\"color\":\"#4D5663\"},\"title\":{\"font\":{\"color\":\"#4D5663\"},\"text\":\"\"},\"zerolinecolor\":\"#E1E5ED\"},\"xaxis4\":{\"anchor\":\"y4\",\"domain\":[0.55,1.0],\"gridcolor\":\"#E1E5ED\",\"showgrid\":true,\"tickfont\":{\"color\":\"#4D5663\"},\"title\":{\"font\":{\"color\":\"#4D5663\"},\"text\":\"\"},\"zerolinecolor\":\"#E1E5ED\"},\"yaxis4\":{\"anchor\":\"x4\",\"domain\":[0.0,0.425],\"gridcolor\":\"#E1E5ED\",\"showgrid\":true,\"tickfont\":{\"color\":\"#4D5663\"},\"title\":{\"font\":{\"color\":\"#4D5663\"},\"text\":\"\"},\"zerolinecolor\":\"#E1E5ED\"}},                        {\"showLink\": true, \"linkText\": \"Export to plot.ly\", \"plotlyServerURL\": \"https://plot.ly\", \"responsive\": true}                    ).then(function(){\n",
       "                            \n",
       "var gd = document.getElementById('f95dc2bf-8bfe-4f8c-bfac-07a2de60b6c4');\n",
       "var x = new MutationObserver(function (mutations, observer) {{\n",
       "        var display = window.getComputedStyle(gd).display;\n",
       "        if (!display || display === 'none') {{\n",
       "            console.log([gd, 'removed!']);\n",
       "            Plotly.purge(gd);\n",
       "            observer.disconnect();\n",
       "        }}\n",
       "}});\n",
       "\n",
       "// Listen for the removal of the full notebook cells\n",
       "var notebookContainer = gd.closest('#notebook-container');\n",
       "if (notebookContainer) {{\n",
       "    x.observe(notebookContainer, {childList: true});\n",
       "}}\n",
       "\n",
       "// Listen for the clearing of the current output cell\n",
       "var outputEl = gd.closest('.output');\n",
       "if (outputEl) {{\n",
       "    x.observe(outputEl, {childList: true});\n",
       "}}\n",
       "\n",
       "                        })                };                });            </script>        </div>"
      ]
     },
     "metadata": {},
     "output_type": "display_data"
    }
   ],
   "source": [
    "dfx1.iplot(kind='hist', subplots=True)"
   ]
  },
  {
   "cell_type": "markdown",
   "id": "a56e1ddc",
   "metadata": {},
   "source": [
    "### Standard Normalization done!"
   ]
  },
  {
   "cell_type": "code",
   "execution_count": 26,
   "id": "d1541732",
   "metadata": {},
   "outputs": [
    {
     "data": {
      "text/html": [
       "<div>\n",
       "<style scoped>\n",
       "    .dataframe tbody tr th:only-of-type {\n",
       "        vertical-align: middle;\n",
       "    }\n",
       "\n",
       "    .dataframe tbody tr th {\n",
       "        vertical-align: top;\n",
       "    }\n",
       "\n",
       "    .dataframe thead th {\n",
       "        text-align: right;\n",
       "    }\n",
       "</style>\n",
       "<table border=\"1\" class=\"dataframe\">\n",
       "  <thead>\n",
       "    <tr style=\"text-align: right;\">\n",
       "      <th></th>\n",
       "      <th>bill_length_mm</th>\n",
       "      <th>bill_depth_mm</th>\n",
       "      <th>flipper_length_mm</th>\n",
       "      <th>body_mass_g</th>\n",
       "    </tr>\n",
       "  </thead>\n",
       "  <tbody>\n",
       "    <tr>\n",
       "      <th>count</th>\n",
       "      <td>3.420000e+02</td>\n",
       "      <td>3.420000e+02</td>\n",
       "      <td>3.420000e+02</td>\n",
       "      <td>3.420000e+02</td>\n",
       "    </tr>\n",
       "    <tr>\n",
       "      <th>mean</th>\n",
       "      <td>-9.024620e-17</td>\n",
       "      <td>-1.793562e-15</td>\n",
       "      <td>-6.395144e-16</td>\n",
       "      <td>8.894769e-17</td>\n",
       "    </tr>\n",
       "    <tr>\n",
       "      <th>std</th>\n",
       "      <td>1.001465e+00</td>\n",
       "      <td>1.001465e+00</td>\n",
       "      <td>1.001465e+00</td>\n",
       "      <td>1.001465e+00</td>\n",
       "    </tr>\n",
       "    <tr>\n",
       "      <th>min</th>\n",
       "      <td>-2.168526e+00</td>\n",
       "      <td>-2.054446e+00</td>\n",
       "      <td>-2.059320e+00</td>\n",
       "      <td>-1.875362e+00</td>\n",
       "    </tr>\n",
       "    <tr>\n",
       "      <th>25%</th>\n",
       "      <td>-8.615697e-01</td>\n",
       "      <td>-7.866355e-01</td>\n",
       "      <td>-7.773731e-01</td>\n",
       "      <td>-8.138982e-01</td>\n",
       "    </tr>\n",
       "    <tr>\n",
       "      <th>50%</th>\n",
       "      <td>9.686524e-02</td>\n",
       "      <td>7.547549e-02</td>\n",
       "      <td>-2.788381e-01</td>\n",
       "      <td>-1.895079e-01</td>\n",
       "    </tr>\n",
       "    <tr>\n",
       "      <th>75%</th>\n",
       "      <td>8.397670e-01</td>\n",
       "      <td>7.854492e-01</td>\n",
       "      <td>8.606705e-01</td>\n",
       "      <td>6.846384e-01</td>\n",
       "    </tr>\n",
       "    <tr>\n",
       "      <th>max</th>\n",
       "      <td>2.875868e+00</td>\n",
       "      <td>2.205397e+00</td>\n",
       "      <td>2.142618e+00</td>\n",
       "      <td>2.620248e+00</td>\n",
       "    </tr>\n",
       "  </tbody>\n",
       "</table>\n",
       "</div>"
      ],
      "text/plain": [
       "       bill_length_mm  bill_depth_mm  flipper_length_mm   body_mass_g\n",
       "count    3.420000e+02   3.420000e+02       3.420000e+02  3.420000e+02\n",
       "mean    -9.024620e-17  -1.793562e-15      -6.395144e-16  8.894769e-17\n",
       "std      1.001465e+00   1.001465e+00       1.001465e+00  1.001465e+00\n",
       "min     -2.168526e+00  -2.054446e+00      -2.059320e+00 -1.875362e+00\n",
       "25%     -8.615697e-01  -7.866355e-01      -7.773731e-01 -8.138982e-01\n",
       "50%      9.686524e-02   7.547549e-02      -2.788381e-01 -1.895079e-01\n",
       "75%      8.397670e-01   7.854492e-01       8.606705e-01  6.846384e-01\n",
       "max      2.875868e+00   2.205397e+00       2.142618e+00  2.620248e+00"
      ]
     },
     "execution_count": 26,
     "metadata": {},
     "output_type": "execute_result"
    }
   ],
   "source": [
    "dfx1.describe()"
   ]
  },
  {
   "cell_type": "code",
   "execution_count": 27,
   "id": "0a0b59c3",
   "metadata": {},
   "outputs": [
    {
     "data": {
      "text/plain": [
       "(342, 4)"
      ]
     },
     "execution_count": 27,
     "metadata": {},
     "output_type": "execute_result"
    }
   ],
   "source": [
    "dfx1.shape"
   ]
  },
  {
   "cell_type": "code",
   "execution_count": 28,
   "id": "8a5a33ae",
   "metadata": {},
   "outputs": [
    {
     "data": {
      "text/html": [
       "<div>\n",
       "<style scoped>\n",
       "    .dataframe tbody tr th:only-of-type {\n",
       "        vertical-align: middle;\n",
       "    }\n",
       "\n",
       "    .dataframe tbody tr th {\n",
       "        vertical-align: top;\n",
       "    }\n",
       "\n",
       "    .dataframe thead th {\n",
       "        text-align: right;\n",
       "    }\n",
       "</style>\n",
       "<table border=\"1\" class=\"dataframe\">\n",
       "  <thead>\n",
       "    <tr style=\"text-align: right;\">\n",
       "      <th></th>\n",
       "      <th>bill_length_mm</th>\n",
       "      <th>bill_depth_mm</th>\n",
       "      <th>flipper_length_mm</th>\n",
       "      <th>body_mass_g</th>\n",
       "    </tr>\n",
       "  </thead>\n",
       "  <tbody>\n",
       "    <tr>\n",
       "      <th>bill_length_mm</th>\n",
       "      <td>1.002933</td>\n",
       "      <td>-0.235742</td>\n",
       "      <td>0.658106</td>\n",
       "      <td>0.596855</td>\n",
       "    </tr>\n",
       "    <tr>\n",
       "      <th>bill_depth_mm</th>\n",
       "      <td>-0.235742</td>\n",
       "      <td>1.002933</td>\n",
       "      <td>-0.585563</td>\n",
       "      <td>-0.473300</td>\n",
       "    </tr>\n",
       "    <tr>\n",
       "      <th>flipper_length_mm</th>\n",
       "      <td>0.658106</td>\n",
       "      <td>-0.585563</td>\n",
       "      <td>1.002933</td>\n",
       "      <td>0.873757</td>\n",
       "    </tr>\n",
       "    <tr>\n",
       "      <th>body_mass_g</th>\n",
       "      <td>0.596855</td>\n",
       "      <td>-0.473300</td>\n",
       "      <td>0.873757</td>\n",
       "      <td>1.002933</td>\n",
       "    </tr>\n",
       "  </tbody>\n",
       "</table>\n",
       "</div>"
      ],
      "text/plain": [
       "                   bill_length_mm  bill_depth_mm  flipper_length_mm  \\\n",
       "bill_length_mm           1.002933      -0.235742           0.658106   \n",
       "bill_depth_mm           -0.235742       1.002933          -0.585563   \n",
       "flipper_length_mm        0.658106      -0.585563           1.002933   \n",
       "body_mass_g              0.596855      -0.473300           0.873757   \n",
       "\n",
       "                   body_mass_g  \n",
       "bill_length_mm        0.596855  \n",
       "bill_depth_mm        -0.473300  \n",
       "flipper_length_mm     0.873757  \n",
       "body_mass_g           1.002933  "
      ]
     },
     "execution_count": 28,
     "metadata": {},
     "output_type": "execute_result"
    }
   ],
   "source": [
    "sigma = dfx1.cov()\n",
    "sigma"
   ]
  },
  {
   "cell_type": "code",
   "execution_count": 29,
   "id": "cb8a8ce5",
   "metadata": {},
   "outputs": [
    {
     "data": {
      "text/plain": [
       "(array([2.76183065, 0.7747822 , 0.36630698, 0.10881037]),\n",
       " array([[-0.45525033,  0.59703114,  0.64430115,  0.14552311],\n",
       "        [ 0.40033468,  0.79776657, -0.41842724, -0.16798597],\n",
       "        [-0.57601332,  0.0022822 , -0.23208397, -0.78379875],\n",
       "        [-0.54835019,  0.08436292, -0.59660012,  0.57988211]]))"
      ]
     },
     "execution_count": 29,
     "metadata": {},
     "output_type": "execute_result"
    }
   ],
   "source": [
    "### Now, let's find the EigenVal and EigenVec\n",
    "\n",
    "vals, vecs = np.linalg.eig(sigma)\n",
    "vals, vecs"
   ]
  },
  {
   "cell_type": "code",
   "execution_count": 30,
   "id": "7271964c",
   "metadata": {},
   "outputs": [
    {
     "data": {
      "text/plain": [
       "2.761830652115729"
      ]
     },
     "execution_count": 30,
     "metadata": {},
     "output_type": "execute_result"
    }
   ],
   "source": [
    "vals.max()"
   ]
  },
  {
   "cell_type": "code",
   "execution_count": 31,
   "id": "0d7e7590",
   "metadata": {},
   "outputs": [
    {
     "data": {
      "text/plain": [
       "array([-0.45525033,  0.40033468, -0.57601332, -0.54835019])"
      ]
     },
     "execution_count": 31,
     "metadata": {},
     "output_type": "execute_result"
    }
   ],
   "source": [
    "vecs[:, 0]"
   ]
  },
  {
   "cell_type": "code",
   "execution_count": 38,
   "id": "9b746de9",
   "metadata": {},
   "outputs": [
    {
     "name": "stdout",
     "output_type": "stream",
     "text": [
      "(344, 4)\n"
     ]
    },
    {
     "data": {
      "text/plain": [
       "(4,)"
      ]
     },
     "execution_count": 38,
     "metadata": {},
     "output_type": "execute_result"
    }
   ],
   "source": [
    "print(dfx.shape)\n",
    "vecs[:, 0].shape"
   ]
  },
  {
   "cell_type": "code",
   "execution_count": 39,
   "id": "7145e278",
   "metadata": {},
   "outputs": [
    {
     "data": {
      "text/plain": [
       "0      1.843445\n",
       "1      1.306762\n",
       "2      1.369181\n",
       "4      1.878827\n",
       "5      1.911748\n",
       "         ...   \n",
       "338   -2.006436\n",
       "340   -1.840886\n",
       "341   -2.760742\n",
       "342   -1.722364\n",
       "343   -2.028902\n",
       "Length: 342, dtype: float64"
      ]
     },
     "execution_count": 39,
     "metadata": {},
     "output_type": "execute_result"
    }
   ],
   "source": [
    "## PC1\n",
    "\n",
    "dfx1 @ vecs[:, 0]"
   ]
  },
  {
   "cell_type": "code",
   "execution_count": 40,
   "id": "64c77964",
   "metadata": {},
   "outputs": [
    {
     "data": {
      "text/plain": [
       "0      0.047702\n",
       "1     -0.428348\n",
       "2     -0.154476\n",
       "4     -0.002048\n",
       "5      0.829210\n",
       "         ...   \n",
       "338   -0.958909\n",
       "340   -0.767714\n",
       "341    0.288886\n",
       "342   -0.704269\n",
       "343    0.357620\n",
       "Length: 342, dtype: float64"
      ]
     },
     "execution_count": 40,
     "metadata": {},
     "output_type": "execute_result"
    }
   ],
   "source": [
    "### PC2\n",
    "\n",
    "dfx1 @  vecs[:, 1]"
   ]
  },
  {
   "cell_type": "markdown",
   "id": "db57399c",
   "metadata": {},
   "source": [
    "### # Replicating the process on yet another dataset:"
   ]
  },
  {
   "cell_type": "code",
   "execution_count": 41,
   "id": "be04b41a",
   "metadata": {},
   "outputs": [
    {
     "data": {
      "text/html": [
       "<div>\n",
       "<style scoped>\n",
       "    .dataframe tbody tr th:only-of-type {\n",
       "        vertical-align: middle;\n",
       "    }\n",
       "\n",
       "    .dataframe tbody tr th {\n",
       "        vertical-align: top;\n",
       "    }\n",
       "\n",
       "    .dataframe thead th {\n",
       "        text-align: right;\n",
       "    }\n",
       "</style>\n",
       "<table border=\"1\" class=\"dataframe\">\n",
       "  <thead>\n",
       "    <tr style=\"text-align: right;\">\n",
       "      <th></th>\n",
       "      <th>Id number</th>\n",
       "      <th>RI</th>\n",
       "      <th>Na</th>\n",
       "      <th>Mg</th>\n",
       "      <th>Al</th>\n",
       "      <th>Si</th>\n",
       "      <th>K</th>\n",
       "      <th>Ca</th>\n",
       "      <th>Ba</th>\n",
       "      <th>Fe</th>\n",
       "      <th>Type of glass</th>\n",
       "    </tr>\n",
       "  </thead>\n",
       "  <tbody>\n",
       "    <tr>\n",
       "      <th>0</th>\n",
       "      <td>1</td>\n",
       "      <td>1.52101</td>\n",
       "      <td>13.64</td>\n",
       "      <td>4.49</td>\n",
       "      <td>1.10</td>\n",
       "      <td>71.78</td>\n",
       "      <td>0.06</td>\n",
       "      <td>8.75</td>\n",
       "      <td>0.00</td>\n",
       "      <td>0.0</td>\n",
       "      <td>1</td>\n",
       "    </tr>\n",
       "    <tr>\n",
       "      <th>1</th>\n",
       "      <td>2</td>\n",
       "      <td>1.51761</td>\n",
       "      <td>13.89</td>\n",
       "      <td>3.60</td>\n",
       "      <td>1.36</td>\n",
       "      <td>72.73</td>\n",
       "      <td>0.48</td>\n",
       "      <td>7.83</td>\n",
       "      <td>0.00</td>\n",
       "      <td>0.0</td>\n",
       "      <td>1</td>\n",
       "    </tr>\n",
       "    <tr>\n",
       "      <th>2</th>\n",
       "      <td>3</td>\n",
       "      <td>1.51618</td>\n",
       "      <td>13.53</td>\n",
       "      <td>3.55</td>\n",
       "      <td>1.54</td>\n",
       "      <td>72.99</td>\n",
       "      <td>0.39</td>\n",
       "      <td>7.78</td>\n",
       "      <td>0.00</td>\n",
       "      <td>0.0</td>\n",
       "      <td>1</td>\n",
       "    </tr>\n",
       "    <tr>\n",
       "      <th>3</th>\n",
       "      <td>4</td>\n",
       "      <td>1.51766</td>\n",
       "      <td>13.21</td>\n",
       "      <td>3.69</td>\n",
       "      <td>1.29</td>\n",
       "      <td>72.61</td>\n",
       "      <td>0.57</td>\n",
       "      <td>8.22</td>\n",
       "      <td>0.00</td>\n",
       "      <td>0.0</td>\n",
       "      <td>1</td>\n",
       "    </tr>\n",
       "    <tr>\n",
       "      <th>4</th>\n",
       "      <td>5</td>\n",
       "      <td>1.51742</td>\n",
       "      <td>13.27</td>\n",
       "      <td>3.62</td>\n",
       "      <td>1.24</td>\n",
       "      <td>73.08</td>\n",
       "      <td>0.55</td>\n",
       "      <td>8.07</td>\n",
       "      <td>0.00</td>\n",
       "      <td>0.0</td>\n",
       "      <td>1</td>\n",
       "    </tr>\n",
       "    <tr>\n",
       "      <th>...</th>\n",
       "      <td>...</td>\n",
       "      <td>...</td>\n",
       "      <td>...</td>\n",
       "      <td>...</td>\n",
       "      <td>...</td>\n",
       "      <td>...</td>\n",
       "      <td>...</td>\n",
       "      <td>...</td>\n",
       "      <td>...</td>\n",
       "      <td>...</td>\n",
       "      <td>...</td>\n",
       "    </tr>\n",
       "    <tr>\n",
       "      <th>209</th>\n",
       "      <td>210</td>\n",
       "      <td>1.51623</td>\n",
       "      <td>14.14</td>\n",
       "      <td>0.00</td>\n",
       "      <td>2.88</td>\n",
       "      <td>72.61</td>\n",
       "      <td>0.08</td>\n",
       "      <td>9.18</td>\n",
       "      <td>1.06</td>\n",
       "      <td>0.0</td>\n",
       "      <td>7</td>\n",
       "    </tr>\n",
       "    <tr>\n",
       "      <th>210</th>\n",
       "      <td>211</td>\n",
       "      <td>1.51685</td>\n",
       "      <td>14.92</td>\n",
       "      <td>0.00</td>\n",
       "      <td>1.99</td>\n",
       "      <td>73.06</td>\n",
       "      <td>0.00</td>\n",
       "      <td>8.40</td>\n",
       "      <td>1.59</td>\n",
       "      <td>0.0</td>\n",
       "      <td>7</td>\n",
       "    </tr>\n",
       "    <tr>\n",
       "      <th>211</th>\n",
       "      <td>212</td>\n",
       "      <td>1.52065</td>\n",
       "      <td>14.36</td>\n",
       "      <td>0.00</td>\n",
       "      <td>2.02</td>\n",
       "      <td>73.42</td>\n",
       "      <td>0.00</td>\n",
       "      <td>8.44</td>\n",
       "      <td>1.64</td>\n",
       "      <td>0.0</td>\n",
       "      <td>7</td>\n",
       "    </tr>\n",
       "    <tr>\n",
       "      <th>212</th>\n",
       "      <td>213</td>\n",
       "      <td>1.51651</td>\n",
       "      <td>14.38</td>\n",
       "      <td>0.00</td>\n",
       "      <td>1.94</td>\n",
       "      <td>73.61</td>\n",
       "      <td>0.00</td>\n",
       "      <td>8.48</td>\n",
       "      <td>1.57</td>\n",
       "      <td>0.0</td>\n",
       "      <td>7</td>\n",
       "    </tr>\n",
       "    <tr>\n",
       "      <th>213</th>\n",
       "      <td>214</td>\n",
       "      <td>1.51711</td>\n",
       "      <td>14.23</td>\n",
       "      <td>0.00</td>\n",
       "      <td>2.08</td>\n",
       "      <td>73.36</td>\n",
       "      <td>0.00</td>\n",
       "      <td>8.62</td>\n",
       "      <td>1.67</td>\n",
       "      <td>0.0</td>\n",
       "      <td>7</td>\n",
       "    </tr>\n",
       "  </tbody>\n",
       "</table>\n",
       "<p>214 rows × 11 columns</p>\n",
       "</div>"
      ],
      "text/plain": [
       "     Id number       RI     Na    Mg    Al     Si     K    Ca    Ba   Fe  \\\n",
       "0            1  1.52101  13.64  4.49  1.10  71.78  0.06  8.75  0.00  0.0   \n",
       "1            2  1.51761  13.89  3.60  1.36  72.73  0.48  7.83  0.00  0.0   \n",
       "2            3  1.51618  13.53  3.55  1.54  72.99  0.39  7.78  0.00  0.0   \n",
       "3            4  1.51766  13.21  3.69  1.29  72.61  0.57  8.22  0.00  0.0   \n",
       "4            5  1.51742  13.27  3.62  1.24  73.08  0.55  8.07  0.00  0.0   \n",
       "..         ...      ...    ...   ...   ...    ...   ...   ...   ...  ...   \n",
       "209        210  1.51623  14.14  0.00  2.88  72.61  0.08  9.18  1.06  0.0   \n",
       "210        211  1.51685  14.92  0.00  1.99  73.06  0.00  8.40  1.59  0.0   \n",
       "211        212  1.52065  14.36  0.00  2.02  73.42  0.00  8.44  1.64  0.0   \n",
       "212        213  1.51651  14.38  0.00  1.94  73.61  0.00  8.48  1.57  0.0   \n",
       "213        214  1.51711  14.23  0.00  2.08  73.36  0.00  8.62  1.67  0.0   \n",
       "\n",
       "     Type of glass  \n",
       "0                1  \n",
       "1                1  \n",
       "2                1  \n",
       "3                1  \n",
       "4                1  \n",
       "..             ...  \n",
       "209              7  \n",
       "210              7  \n",
       "211              7  \n",
       "212              7  \n",
       "213              7  \n",
       "\n",
       "[214 rows x 11 columns]"
      ]
     },
     "execution_count": 41,
     "metadata": {},
     "output_type": "execute_result"
    }
   ],
   "source": [
    "df2 = pd.read_csv(\"https://gist.githubusercontent.com/yifancui/e1d5ce0ba59ba0c275c0e2efed542a37/raw/dde7dbca24429542ff78964b83aaf064142dd771/data.csv\")\n",
    "df2"
   ]
  },
  {
   "cell_type": "code",
   "execution_count": 42,
   "id": "20b06560",
   "metadata": {},
   "outputs": [
    {
     "data": {
      "text/html": [
       "<div>\n",
       "<style scoped>\n",
       "    .dataframe tbody tr th:only-of-type {\n",
       "        vertical-align: middle;\n",
       "    }\n",
       "\n",
       "    .dataframe tbody tr th {\n",
       "        vertical-align: top;\n",
       "    }\n",
       "\n",
       "    .dataframe thead th {\n",
       "        text-align: right;\n",
       "    }\n",
       "</style>\n",
       "<table border=\"1\" class=\"dataframe\">\n",
       "  <thead>\n",
       "    <tr style=\"text-align: right;\">\n",
       "      <th></th>\n",
       "      <th>RI</th>\n",
       "      <th>Na</th>\n",
       "      <th>Mg</th>\n",
       "      <th>Al</th>\n",
       "      <th>Si</th>\n",
       "      <th>K</th>\n",
       "      <th>Ca</th>\n",
       "      <th>Ba</th>\n",
       "      <th>Fe</th>\n",
       "    </tr>\n",
       "  </thead>\n",
       "  <tbody>\n",
       "    <tr>\n",
       "      <th>0</th>\n",
       "      <td>1.52101</td>\n",
       "      <td>13.64</td>\n",
       "      <td>4.49</td>\n",
       "      <td>1.10</td>\n",
       "      <td>71.78</td>\n",
       "      <td>0.06</td>\n",
       "      <td>8.75</td>\n",
       "      <td>0.00</td>\n",
       "      <td>0.0</td>\n",
       "    </tr>\n",
       "    <tr>\n",
       "      <th>1</th>\n",
       "      <td>1.51761</td>\n",
       "      <td>13.89</td>\n",
       "      <td>3.60</td>\n",
       "      <td>1.36</td>\n",
       "      <td>72.73</td>\n",
       "      <td>0.48</td>\n",
       "      <td>7.83</td>\n",
       "      <td>0.00</td>\n",
       "      <td>0.0</td>\n",
       "    </tr>\n",
       "    <tr>\n",
       "      <th>2</th>\n",
       "      <td>1.51618</td>\n",
       "      <td>13.53</td>\n",
       "      <td>3.55</td>\n",
       "      <td>1.54</td>\n",
       "      <td>72.99</td>\n",
       "      <td>0.39</td>\n",
       "      <td>7.78</td>\n",
       "      <td>0.00</td>\n",
       "      <td>0.0</td>\n",
       "    </tr>\n",
       "    <tr>\n",
       "      <th>3</th>\n",
       "      <td>1.51766</td>\n",
       "      <td>13.21</td>\n",
       "      <td>3.69</td>\n",
       "      <td>1.29</td>\n",
       "      <td>72.61</td>\n",
       "      <td>0.57</td>\n",
       "      <td>8.22</td>\n",
       "      <td>0.00</td>\n",
       "      <td>0.0</td>\n",
       "    </tr>\n",
       "    <tr>\n",
       "      <th>4</th>\n",
       "      <td>1.51742</td>\n",
       "      <td>13.27</td>\n",
       "      <td>3.62</td>\n",
       "      <td>1.24</td>\n",
       "      <td>73.08</td>\n",
       "      <td>0.55</td>\n",
       "      <td>8.07</td>\n",
       "      <td>0.00</td>\n",
       "      <td>0.0</td>\n",
       "    </tr>\n",
       "    <tr>\n",
       "      <th>...</th>\n",
       "      <td>...</td>\n",
       "      <td>...</td>\n",
       "      <td>...</td>\n",
       "      <td>...</td>\n",
       "      <td>...</td>\n",
       "      <td>...</td>\n",
       "      <td>...</td>\n",
       "      <td>...</td>\n",
       "      <td>...</td>\n",
       "    </tr>\n",
       "    <tr>\n",
       "      <th>209</th>\n",
       "      <td>1.51623</td>\n",
       "      <td>14.14</td>\n",
       "      <td>0.00</td>\n",
       "      <td>2.88</td>\n",
       "      <td>72.61</td>\n",
       "      <td>0.08</td>\n",
       "      <td>9.18</td>\n",
       "      <td>1.06</td>\n",
       "      <td>0.0</td>\n",
       "    </tr>\n",
       "    <tr>\n",
       "      <th>210</th>\n",
       "      <td>1.51685</td>\n",
       "      <td>14.92</td>\n",
       "      <td>0.00</td>\n",
       "      <td>1.99</td>\n",
       "      <td>73.06</td>\n",
       "      <td>0.00</td>\n",
       "      <td>8.40</td>\n",
       "      <td>1.59</td>\n",
       "      <td>0.0</td>\n",
       "    </tr>\n",
       "    <tr>\n",
       "      <th>211</th>\n",
       "      <td>1.52065</td>\n",
       "      <td>14.36</td>\n",
       "      <td>0.00</td>\n",
       "      <td>2.02</td>\n",
       "      <td>73.42</td>\n",
       "      <td>0.00</td>\n",
       "      <td>8.44</td>\n",
       "      <td>1.64</td>\n",
       "      <td>0.0</td>\n",
       "    </tr>\n",
       "    <tr>\n",
       "      <th>212</th>\n",
       "      <td>1.51651</td>\n",
       "      <td>14.38</td>\n",
       "      <td>0.00</td>\n",
       "      <td>1.94</td>\n",
       "      <td>73.61</td>\n",
       "      <td>0.00</td>\n",
       "      <td>8.48</td>\n",
       "      <td>1.57</td>\n",
       "      <td>0.0</td>\n",
       "    </tr>\n",
       "    <tr>\n",
       "      <th>213</th>\n",
       "      <td>1.51711</td>\n",
       "      <td>14.23</td>\n",
       "      <td>0.00</td>\n",
       "      <td>2.08</td>\n",
       "      <td>73.36</td>\n",
       "      <td>0.00</td>\n",
       "      <td>8.62</td>\n",
       "      <td>1.67</td>\n",
       "      <td>0.0</td>\n",
       "    </tr>\n",
       "  </tbody>\n",
       "</table>\n",
       "<p>214 rows × 9 columns</p>\n",
       "</div>"
      ],
      "text/plain": [
       "          RI     Na    Mg    Al     Si     K    Ca    Ba   Fe\n",
       "0    1.52101  13.64  4.49  1.10  71.78  0.06  8.75  0.00  0.0\n",
       "1    1.51761  13.89  3.60  1.36  72.73  0.48  7.83  0.00  0.0\n",
       "2    1.51618  13.53  3.55  1.54  72.99  0.39  7.78  0.00  0.0\n",
       "3    1.51766  13.21  3.69  1.29  72.61  0.57  8.22  0.00  0.0\n",
       "4    1.51742  13.27  3.62  1.24  73.08  0.55  8.07  0.00  0.0\n",
       "..       ...    ...   ...   ...    ...   ...   ...   ...  ...\n",
       "209  1.51623  14.14  0.00  2.88  72.61  0.08  9.18  1.06  0.0\n",
       "210  1.51685  14.92  0.00  1.99  73.06  0.00  8.40  1.59  0.0\n",
       "211  1.52065  14.36  0.00  2.02  73.42  0.00  8.44  1.64  0.0\n",
       "212  1.51651  14.38  0.00  1.94  73.61  0.00  8.48  1.57  0.0\n",
       "213  1.51711  14.23  0.00  2.08  73.36  0.00  8.62  1.67  0.0\n",
       "\n",
       "[214 rows x 9 columns]"
      ]
     },
     "execution_count": 42,
     "metadata": {},
     "output_type": "execute_result"
    }
   ],
   "source": [
    "df2_r = df2.drop(columns=['Id number', 'Type of glass'])\n",
    "df2_r"
   ]
  },
  {
   "cell_type": "code",
   "execution_count": 43,
   "id": "40915e4f",
   "metadata": {},
   "outputs": [
    {
     "data": {
      "application/vnd.plotly.v1+json": {
       "config": {
        "linkText": "Export to plot.ly",
        "plotlyServerURL": "https://plot.ly",
        "showLink": true
       },
       "data": [
        {
         "histfunc": "count",
         "histnorm": "",
         "marker": {
          "color": "rgba(255, 153, 51, 1.0)",
          "line": {
           "color": "#4D5663",
           "width": 1.3
          }
         },
         "name": "RI",
         "opacity": 0.8,
         "orientation": "v",
         "type": "histogram",
         "x": [
          1.52101,
          1.51761,
          1.51618,
          1.51766,
          1.51742,
          1.51596,
          1.51743,
          1.51756,
          1.51918,
          1.51755,
          1.51571,
          1.51763,
          1.51589,
          1.51748,
          1.51763,
          1.51761,
          1.51784,
          1.52196,
          1.51911,
          1.51735,
          1.5175,
          1.51966,
          1.51736,
          1.51751,
          1.5172,
          1.51764,
          1.51793,
          1.51721,
          1.51768,
          1.51784,
          1.51768,
          1.51747,
          1.51775,
          1.51753,
          1.51783,
          1.51567,
          1.51909,
          1.51797,
          1.52213,
          1.52213,
          1.51793,
          1.51755,
          1.51779,
          1.5221,
          1.51786,
          1.519,
          1.51869,
          1.52667,
          1.52223,
          1.51898,
          1.5232,
          1.51926,
          1.51808,
          1.51837,
          1.51778,
          1.51769,
          1.51215,
          1.51824,
          1.51754,
          1.51754,
          1.51905,
          1.51977,
          1.52172,
          1.52227,
          1.52172,
          1.52099,
          1.52152,
          1.52152,
          1.52152,
          1.523,
          1.51574,
          1.51848,
          1.51593,
          1.51631,
          1.51596,
          1.5159,
          1.51645,
          1.51627,
          1.51613,
          1.5159,
          1.51592,
          1.51593,
          1.51646,
          1.51594,
          1.51409,
          1.51625,
          1.51569,
          1.51645,
          1.51618,
          1.5164,
          1.51841,
          1.51605,
          1.51588,
          1.5159,
          1.51629,
          1.5186,
          1.51841,
          1.51743,
          1.51689,
          1.51811,
          1.51655,
          1.5173,
          1.5182,
          1.52725,
          1.5241,
          1.52475,
          1.53125,
          1.53393,
          1.52222,
          1.51818,
          1.52664,
          1.52739,
          1.52777,
          1.51892,
          1.51847,
          1.51846,
          1.51829,
          1.51708,
          1.51673,
          1.51652,
          1.51844,
          1.51663,
          1.51687,
          1.51707,
          1.52177,
          1.51872,
          1.51667,
          1.52081,
          1.52068,
          1.5202,
          1.52177,
          1.52614,
          1.51813,
          1.518,
          1.51811,
          1.51789,
          1.51806,
          1.51711,
          1.51674,
          1.51674,
          1.5169,
          1.51851,
          1.51662,
          1.51709,
          1.5166,
          1.51839,
          1.51769,
          1.5161,
          1.5167,
          1.51643,
          1.51665,
          1.52127,
          1.51779,
          1.5161,
          1.51694,
          1.51646,
          1.51655,
          1.52121,
          1.51776,
          1.51796,
          1.51832,
          1.51934,
          1.52211,
          1.51514,
          1.51915,
          1.52171,
          1.52151,
          1.51969,
          1.51666,
          1.51994,
          1.52369,
          1.51316,
          1.51321,
          1.52043,
          1.52058,
          1.52119,
          1.51905,
          1.51937,
          1.51829,
          1.51852,
          1.51299,
          1.51888,
          1.51916,
          1.51969,
          1.51115,
          1.51131,
          1.51838,
          1.52315,
          1.52247,
          1.52365,
          1.51613,
          1.51602,
          1.51623,
          1.51719,
          1.51683,
          1.51545,
          1.51556,
          1.51727,
          1.51531,
          1.51609,
          1.51508,
          1.51653,
          1.51514,
          1.51658,
          1.51617,
          1.51732,
          1.51645,
          1.51831,
          1.5164,
          1.51623,
          1.51685,
          1.52065,
          1.51651,
          1.51711
         ],
         "xaxis": "x",
         "yaxis": "y"
        },
        {
         "histfunc": "count",
         "histnorm": "",
         "marker": {
          "color": "rgba(55, 128, 191, 1.0)",
          "line": {
           "color": "#4D5663",
           "width": 1.3
          }
         },
         "name": "Na",
         "opacity": 0.8,
         "orientation": "v",
         "type": "histogram",
         "x": [
          13.64,
          13.89,
          13.53,
          13.21,
          13.27,
          12.79,
          13.3,
          13.15,
          14.04,
          13,
          12.72,
          12.8,
          12.88,
          12.86,
          12.61,
          12.81,
          12.68,
          14.36,
          13.9,
          13.02,
          12.82,
          14.77,
          12.78,
          12.81,
          13.38,
          12.98,
          13.21,
          12.87,
          12.56,
          13.08,
          12.65,
          12.84,
          12.85,
          12.57,
          12.69,
          13.29,
          13.89,
          12.74,
          14.21,
          14.21,
          12.79,
          12.71,
          13.21,
          13.73,
          12.73,
          13.49,
          13.19,
          13.99,
          13.21,
          13.58,
          13.72,
          13.2,
          13.43,
          13.14,
          13.21,
          12.45,
          12.99,
          12.87,
          13.48,
          13.39,
          13.6,
          13.81,
          13.51,
          14.17,
          13.48,
          13.69,
          13.05,
          13.05,
          13.12,
          13.31,
          14.86,
          13.64,
          13.09,
          13.34,
          13.02,
          13.02,
          13.44,
          13,
          13.92,
          12.82,
          12.86,
          13.25,
          13.41,
          13.09,
          14.25,
          13.36,
          13.24,
          13.4,
          13.01,
          12.55,
          12.93,
          12.9,
          13.12,
          13.24,
          12.71,
          13.36,
          13.02,
          12.2,
          12.67,
          12.96,
          12.75,
          12.35,
          12.62,
          13.8,
          13.83,
          11.45,
          10.73,
          12.3,
          14.43,
          13.72,
          11.23,
          11.02,
          12.64,
          13.46,
          13.1,
          13.41,
          13.24,
          13.72,
          13.3,
          13.56,
          13.25,
          12.93,
          13.23,
          13.48,
          13.2,
          12.93,
          12.94,
          13.78,
          13.55,
          13.98,
          13.75,
          13.7,
          13.43,
          13.71,
          13.33,
          13.19,
          13,
          12.89,
          12.79,
          12.87,
          13.33,
          13.2,
          12.85,
          13,
          12.99,
          12.85,
          13.65,
          13.33,
          13.24,
          12.16,
          13.14,
          14.32,
          13.64,
          13.42,
          12.86,
          13.04,
          13.41,
          14.03,
          13.53,
          13.5,
          13.33,
          13.64,
          14.19,
          14.01,
          12.73,
          11.56,
          11.03,
          12.64,
          12.86,
          13.27,
          13.44,
          13.02,
          13,
          13.38,
          12.85,
          12.97,
          14,
          13.79,
          14.46,
          14.09,
          14.4,
          14.99,
          14.15,
          14.56,
          17.38,
          13.69,
          14.32,
          13.44,
          14.86,
          15.79,
          13.88,
          14.85,
          14.2,
          14.75,
          14.56,
          14.14,
          13.87,
          14.7,
          14.38,
          15.01,
          15.15,
          11.95,
          14.85,
          14.8,
          14.95,
          14.95,
          14.94,
          14.39,
          14.37,
          14.14,
          14.92,
          14.36,
          14.38,
          14.23
         ],
         "xaxis": "x2",
         "yaxis": "y2"
        },
        {
         "histfunc": "count",
         "histnorm": "",
         "marker": {
          "color": "rgba(50, 171, 96, 1.0)",
          "line": {
           "color": "#4D5663",
           "width": 1.3
          }
         },
         "name": "Mg",
         "opacity": 0.8,
         "orientation": "v",
         "type": "histogram",
         "x": [
          4.49,
          3.6,
          3.55,
          3.69,
          3.62,
          3.61,
          3.6,
          3.61,
          3.58,
          3.6,
          3.46,
          3.66,
          3.43,
          3.56,
          3.59,
          3.54,
          3.67,
          3.85,
          3.73,
          3.54,
          3.55,
          3.75,
          3.62,
          3.57,
          3.5,
          3.54,
          3.48,
          3.48,
          3.52,
          3.49,
          3.56,
          3.5,
          3.48,
          3.47,
          3.54,
          3.45,
          3.53,
          3.48,
          3.82,
          3.82,
          3.5,
          3.42,
          3.39,
          3.84,
          3.43,
          3.48,
          3.37,
          3.7,
          3.77,
          3.35,
          3.72,
          3.33,
          2.87,
          2.84,
          2.81,
          2.71,
          3.47,
          3.48,
          3.74,
          3.66,
          3.62,
          3.58,
          3.86,
          3.81,
          3.74,
          3.59,
          3.65,
          3.65,
          3.58,
          3.58,
          3.67,
          3.87,
          3.59,
          3.57,
          3.56,
          3.58,
          3.61,
          3.58,
          3.52,
          3.52,
          3.52,
          3.45,
          3.55,
          3.52,
          3.09,
          3.58,
          3.49,
          3.49,
          3.5,
          3.48,
          3.74,
          3.44,
          3.41,
          3.34,
          3.33,
          3.43,
          3.62,
          3.25,
          2.88,
          2.96,
          2.85,
          2.72,
          2.76,
          3.15,
          2.9,
          0,
          0,
          0,
          0,
          0,
          0,
          0,
          0,
          3.83,
          3.97,
          3.89,
          3.9,
          3.68,
          3.64,
          3.57,
          3.76,
          3.54,
          3.54,
          3.48,
          3.68,
          3.66,
          3.61,
          2.28,
          2.09,
          1.35,
          1.01,
          0,
          3.98,
          3.93,
          3.85,
          3.9,
          3.8,
          3.62,
          3.52,
          3.56,
          3.54,
          3.63,
          3.51,
          3.47,
          3.18,
          3.67,
          3.66,
          3.53,
          3.57,
          3.52,
          3.45,
          3.9,
          3.65,
          3.4,
          3.58,
          3.4,
          3.39,
          3.76,
          3.41,
          3.36,
          3.34,
          3.54,
          3.78,
          2.68,
          1.85,
          1.88,
          1.71,
          0,
          0,
          0,
          0,
          0,
          0,
          0,
          1.61,
          0.33,
          2.39,
          2.41,
          2.24,
          2.19,
          1.74,
          0.78,
          0,
          0,
          0,
          3.2,
          3.26,
          3.34,
          2.2,
          1.83,
          1.78,
          0,
          0,
          0,
          0,
          0,
          0,
          0,
          0,
          0,
          0,
          0,
          0,
          0,
          0,
          0,
          0,
          0,
          0,
          0,
          0,
          0,
          0,
          0
         ],
         "xaxis": "x3",
         "yaxis": "y3"
        },
        {
         "histfunc": "count",
         "histnorm": "",
         "marker": {
          "color": "rgba(128, 0, 128, 1.0)",
          "line": {
           "color": "#4D5663",
           "width": 1.3
          }
         },
         "name": "Al",
         "opacity": 0.8,
         "orientation": "v",
         "type": "histogram",
         "x": [
          1.1,
          1.36,
          1.54,
          1.29,
          1.24,
          1.62,
          1.14,
          1.05,
          1.37,
          1.36,
          1.56,
          1.27,
          1.4,
          1.27,
          1.31,
          1.23,
          1.16,
          0.89,
          1.18,
          1.69,
          1.49,
          0.29,
          1.29,
          1.35,
          1.15,
          1.21,
          1.41,
          1.33,
          1.43,
          1.28,
          1.3,
          1.14,
          1.23,
          1.38,
          1.34,
          1.21,
          1.32,
          1.35,
          0.47,
          0.47,
          1.12,
          1.2,
          1.33,
          0.72,
          1.19,
          1.35,
          1.18,
          0.71,
          0.79,
          1.23,
          0.51,
          1.28,
          1.19,
          1.28,
          1.29,
          1.29,
          1.12,
          1.29,
          1.17,
          1.19,
          1.11,
          1.32,
          0.88,
          0.78,
          0.9,
          1.12,
          0.87,
          0.87,
          0.9,
          0.82,
          1.74,
          1.27,
          1.52,
          1.57,
          1.54,
          1.51,
          1.54,
          1.54,
          1.25,
          1.9,
          2.12,
          1.43,
          1.25,
          1.55,
          2.08,
          1.49,
          1.47,
          1.52,
          1.48,
          1.87,
          1.11,
          1.45,
          1.58,
          1.47,
          1.49,
          1.43,
          1.06,
          1.16,
          1.71,
          1.43,
          1.44,
          1.63,
          0.83,
          0.66,
          1.17,
          1.88,
          2.1,
          1,
          1,
          0.56,
          0.77,
          0.75,
          0.67,
          1.26,
          1.19,
          1.33,
          1.41,
          1.81,
          1.53,
          1.47,
          1.32,
          1.62,
          1.48,
          1.71,
          1.15,
          1.56,
          1.26,
          1.43,
          1.67,
          1.63,
          1.36,
          1.36,
          1.18,
          1.54,
          1.25,
          1.3,
          1.08,
          1.57,
          1.54,
          1.64,
          1.61,
          1.07,
          1.44,
          1.79,
          1.23,
          1.24,
          1.11,
          1.34,
          1.38,
          1.35,
          1.76,
          0.83,
          0.65,
          1.22,
          1.31,
          1.26,
          1.28,
          0.58,
          1.52,
          1.63,
          1.54,
          0.75,
          0.91,
          3.5,
          1.86,
          1.56,
          1.56,
          1.65,
          1.83,
          1.76,
          1.58,
          3.04,
          3.02,
          1.4,
          2.17,
          1.51,
          1.56,
          1.19,
          1.62,
          1.66,
          1.54,
          1.74,
          2.09,
          0.56,
          0.34,
          1.81,
          2.22,
          1.23,
          2.06,
          1.31,
          1.79,
          2.38,
          2.79,
          2,
          1.98,
          2.68,
          2.54,
          2.34,
          2.66,
          2.51,
          2.25,
          1.19,
          2.42,
          1.99,
          2.27,
          1.8,
          1.87,
          1.82,
          2.74,
          2.88,
          1.99,
          2.02,
          1.94,
          2.08
         ],
         "xaxis": "x4",
         "yaxis": "y4"
        },
        {
         "histfunc": "count",
         "histnorm": "",
         "marker": {
          "color": "rgba(219, 64, 82, 1.0)",
          "line": {
           "color": "#4D5663",
           "width": 1.3
          }
         },
         "name": "Si",
         "opacity": 0.8,
         "orientation": "v",
         "type": "histogram",
         "x": [
          71.78,
          72.73,
          72.99,
          72.61,
          73.08,
          72.97,
          73.09,
          73.24,
          72.08,
          72.99,
          73.2,
          73.01,
          73.28,
          73.21,
          73.29,
          73.24,
          73.11,
          71.36,
          72.12,
          72.73,
          72.75,
          72.02,
          72.79,
          73.02,
          72.85,
          73,
          72.64,
          73.04,
          73.15,
          72.86,
          73.08,
          73.27,
          72.97,
          73.39,
          72.95,
          72.74,
          71.81,
          72.96,
          71.77,
          71.77,
          73.03,
          73.2,
          72.76,
          71.76,
          72.95,
          71.95,
          72.72,
          71.57,
          71.99,
          72.08,
          71.75,
          72.36,
          72.84,
          72.85,
          72.98,
          73.7,
          72.98,
          72.95,
          72.99,
          72.79,
          72.64,
          71.72,
          71.79,
          71.35,
          72.01,
          71.96,
          72.22,
          72.32,
          72.2,
          71.99,
          71.87,
          71.96,
          73.1,
          72.87,
          73.11,
          73.12,
          72.39,
          72.83,
          72.88,
          72.86,
          72.66,
          73.17,
          72.81,
          72.87,
          72.28,
          72.72,
          73.25,
          72.65,
          72.89,
          73.23,
          72.28,
          73.06,
          73.26,
          73.1,
          73.28,
          72.26,
          72.34,
          73.55,
          73.21,
          72.92,
          73.27,
          72.87,
          73.81,
          70.57,
          71.15,
          72.19,
          69.81,
          70.16,
          72.67,
          74.45,
          73.21,
          73.08,
          72.02,
          72.55,
          72.44,
          72.38,
          72.33,
          72.06,
          72.53,
          72.45,
          72.4,
          72.96,
          72.84,
          72.52,
          72.75,
          72.51,
          72.75,
          71.99,
          72.18,
          71.76,
          72.19,
          71.24,
          72.49,
          71.81,
          72.78,
          72.33,
          73.07,
          72.96,
          73.36,
          73.14,
          72.54,
          72.83,
          73.01,
          72.72,
          72.97,
          72.57,
          72.77,
          72.67,
          72.7,
          72.89,
          72.48,
          71.5,
          73,
          72.69,
          72.61,
          73.01,
          72.64,
          71.79,
          72.04,
          71.94,
          72.14,
          72.65,
          71.36,
          69.89,
          72.69,
          72.86,
          73.44,
          73.75,
          73.88,
          73.03,
          72.22,
          70.48,
          70.7,
          72.25,
          72.18,
          73.39,
          72.37,
          72.76,
          72.38,
          72.67,
          74.55,
          72.5,
          72.74,
          73.48,
          75.41,
          72.81,
          71.25,
          72.38,
          70.26,
          70.43,
          73.1,
          73.28,
          73.46,
          73.02,
          73.29,
          73.39,
          73.23,
          73.28,
          73.1,
          73.05,
          73.5,
          75.18,
          73.72,
          73.11,
          73.3,
          72.99,
          73.11,
          72.86,
          72.85,
          72.61,
          73.06,
          73.42,
          73.61,
          73.36
         ],
         "xaxis": "x5",
         "yaxis": "y5"
        },
        {
         "histfunc": "count",
         "histnorm": "",
         "marker": {
          "color": "rgba(0, 128, 128, 1.0)",
          "line": {
           "color": "#4D5663",
           "width": 1.3
          }
         },
         "name": "K",
         "opacity": 0.8,
         "orientation": "v",
         "type": "histogram",
         "x": [
          0.06,
          0.48,
          0.39,
          0.57,
          0.55,
          0.64,
          0.58,
          0.57,
          0.56,
          0.57,
          0.67,
          0.6,
          0.69,
          0.54,
          0.58,
          0.58,
          0.61,
          0.15,
          0.06,
          0.54,
          0.54,
          0.03,
          0.59,
          0.62,
          0.5,
          0.65,
          0.59,
          0.56,
          0.57,
          0.6,
          0.61,
          0.56,
          0.61,
          0.6,
          0.57,
          0.56,
          0.51,
          0.64,
          0.11,
          0.11,
          0.64,
          0.59,
          0.59,
          0.17,
          0.62,
          0.55,
          0.57,
          0.02,
          0.13,
          0.59,
          0.09,
          0.6,
          0.55,
          0.55,
          0.51,
          0.56,
          0.62,
          0.6,
          0.59,
          0.57,
          0.14,
          0.12,
          0.23,
          0,
          0.18,
          0.09,
          0.19,
          0.19,
          0.23,
          0.12,
          0.16,
          0.54,
          0.67,
          0.61,
          0.72,
          0.69,
          0.66,
          0.61,
          0.37,
          0.69,
          0.69,
          0.61,
          0.68,
          0.68,
          1.1,
          0.45,
          0.38,
          0.67,
          0.6,
          0.63,
          0.64,
          0.44,
          0.07,
          0.39,
          0.67,
          0.51,
          0.64,
          0.62,
          0.73,
          0.6,
          0.57,
          0.7,
          0.35,
          0.08,
          0.08,
          0.81,
          0.58,
          0.12,
          0.1,
          0,
          0,
          0,
          0.06,
          0.57,
          0.6,
          0.51,
          0.55,
          0.64,
          0.65,
          0.64,
          0.58,
          0.64,
          0.56,
          0.62,
          0.54,
          0.58,
          0.56,
          0.49,
          0.53,
          0.39,
          0.33,
          0.19,
          0.58,
          0.54,
          0.52,
          0.55,
          0.56,
          0.61,
          0.66,
          0.65,
          0.68,
          0.57,
          0.68,
          0.66,
          0.58,
          0.62,
          0.11,
          0.56,
          0.56,
          0.57,
          0.6,
          0,
          0.06,
          0.59,
          0.61,
          0.52,
          0.52,
          0.11,
          0.58,
          0.57,
          0.56,
          0.16,
          0.23,
          1.68,
          0.6,
          0.47,
          0.58,
          0.38,
          0.97,
          0.47,
          0.32,
          6.21,
          6.21,
          0.33,
          0.76,
          0.13,
          0,
          0,
          0,
          0,
          0,
          0,
          0,
          0,
          0,
          1.76,
          1.46,
          0.6,
          0.76,
          0.31,
          0,
          0,
          0.04,
          0,
          0,
          0.08,
          0.14,
          0,
          0.04,
          0.05,
          0,
          2.7,
          0,
          0,
          0,
          0,
          0,
          1.41,
          0,
          0.08,
          0,
          0,
          0,
          0
         ],
         "xaxis": "x6",
         "yaxis": "y6"
        },
        {
         "histfunc": "count",
         "histnorm": "",
         "marker": {
          "color": "rgba(255, 255, 51, 1.0)",
          "line": {
           "color": "#4D5663",
           "width": 1.3
          }
         },
         "name": "Ca",
         "opacity": 0.8,
         "orientation": "v",
         "type": "histogram",
         "x": [
          8.75,
          7.83,
          7.78,
          8.22,
          8.07,
          8.07,
          8.17,
          8.24,
          8.3,
          8.4,
          8.09,
          8.56,
          8.05,
          8.38,
          8.5,
          8.39,
          8.7,
          9.15,
          8.89,
          8.44,
          8.52,
          9,
          8.7,
          8.59,
          8.43,
          8.53,
          8.43,
          8.43,
          8.54,
          8.49,
          8.69,
          8.55,
          8.56,
          8.55,
          8.75,
          8.57,
          8.78,
          8.68,
          9.57,
          9.57,
          8.77,
          8.64,
          8.59,
          9.74,
          8.76,
          9,
          8.83,
          9.82,
          10.02,
          8.91,
          10.06,
          9.14,
          9.03,
          9.07,
          9.02,
          9.06,
          8.35,
          8.43,
          8.03,
          8.27,
          8.76,
          8.67,
          9.54,
          9.69,
          9.61,
          9.4,
          9.85,
          9.85,
          9.82,
          10.17,
          7.36,
          8.32,
          7.83,
          7.89,
          7.9,
          7.96,
          8.03,
          8.04,
          7.94,
          7.97,
          7.97,
          7.86,
          8.1,
          8.05,
          7.08,
          8.21,
          8.03,
          8.08,
          8.12,
          8.08,
          8.96,
          8.27,
          8.39,
          8.22,
          8.24,
          8.6,
          9.13,
          8.9,
          8.54,
          8.79,
          8.79,
          9.23,
          9.42,
          11.64,
          10.79,
          13.24,
          13.3,
          16.19,
          11.52,
          10.99,
          14.68,
          14.96,
          14.4,
          8.21,
          8.43,
          8.28,
          8.31,
          7.88,
          8.03,
          7.96,
          8.42,
          8.03,
          8.1,
          7.99,
          8.52,
          8.55,
          8.6,
          9.85,
          9.57,
          10.56,
          11.14,
          13.44,
          8.15,
          8.21,
          8.12,
          8.44,
          8.38,
          8.11,
          7.9,
          7.99,
          8.11,
          8.41,
          8.23,
          8.18,
          8.81,
          8.68,
          8.6,
          8.33,
          8.44,
          8.53,
          8.38,
          9.49,
          8.93,
          8.32,
          8.79,
          8.58,
          8.65,
          9.65,
          8.79,
          8.81,
          8.99,
          8.89,
          9.14,
          5.87,
          10.09,
          11.41,
          11.62,
          11.53,
          10.17,
          11.32,
          12.24,
          6.96,
          6.93,
          12.5,
          9.7,
          11.27,
          9.57,
          9.77,
          9.26,
          9.32,
          7.59,
          9.95,
          10.88,
          11.22,
          6.65,
          5.43,
          5.79,
          8.83,
          9.76,
          8.61,
          8.67,
          8.76,
          9.04,
          8.53,
          8.52,
          9.07,
          9.41,
          8.95,
          9.08,
          8.83,
          8.34,
          8.93,
          8.39,
          8.28,
          8.71,
          8.61,
          8.67,
          6.47,
          9.45,
          9.18,
          8.4,
          8.44,
          8.48,
          8.62
         ],
         "xaxis": "x7",
         "yaxis": "y7"
        },
        {
         "histfunc": "count",
         "histnorm": "",
         "marker": {
          "color": "rgba(128, 128, 0, 1.0)",
          "line": {
           "color": "#4D5663",
           "width": 1.3
          }
         },
         "name": "Ba",
         "opacity": 0.8,
         "orientation": "v",
         "type": "histogram",
         "x": [
          0,
          0,
          0,
          0,
          0,
          0,
          0,
          0,
          0,
          0,
          0,
          0,
          0,
          0,
          0,
          0,
          0,
          0,
          0,
          0,
          0,
          0,
          0,
          0,
          0,
          0,
          0,
          0,
          0,
          0,
          0,
          0,
          0.09,
          0,
          0,
          0,
          0.11,
          0,
          0,
          0,
          0,
          0,
          0,
          0,
          0,
          0,
          0,
          0,
          0,
          0,
          0,
          0,
          0,
          0,
          0,
          0,
          0,
          0,
          0,
          0,
          0,
          0.69,
          0,
          0,
          0,
          0,
          0,
          0,
          0,
          0,
          0,
          0,
          0,
          0,
          0,
          0,
          0,
          0,
          0,
          0,
          0,
          0,
          0,
          0,
          0,
          0,
          0,
          0,
          0,
          0,
          0,
          0,
          0,
          0,
          0,
          0,
          0,
          0,
          0,
          0.14,
          0.11,
          0,
          0,
          0,
          0,
          0,
          3.15,
          0,
          0,
          0,
          0,
          0,
          0,
          0,
          0,
          0,
          0,
          0,
          0,
          0,
          0,
          0,
          0,
          0,
          0,
          0,
          0,
          0,
          0.27,
          0,
          0,
          0,
          0,
          0,
          0,
          0,
          0,
          0,
          0,
          0,
          0,
          0.09,
          0.06,
          0,
          0,
          0,
          0,
          0,
          0,
          0,
          0,
          0,
          0,
          0,
          0,
          0,
          0,
          0,
          0,
          0,
          0,
          0.15,
          0,
          2.2,
          0,
          0,
          0,
          0,
          0,
          0,
          0,
          0,
          0,
          0,
          0.24,
          0,
          0,
          0,
          0,
          0,
          0,
          0,
          0,
          0,
          0,
          1.19,
          1.63,
          0,
          0,
          1.68,
          0.76,
          0.64,
          0.4,
          1.59,
          1.57,
          0.61,
          0.81,
          0.66,
          0.64,
          0.53,
          0.63,
          0,
          0.56,
          1.71,
          0.67,
          1.55,
          1.38,
          2.88,
          0.54,
          1.06,
          1.59,
          1.64,
          1.57,
          1.67
         ],
         "xaxis": "x8",
         "yaxis": "y8"
        },
        {
         "histfunc": "count",
         "histnorm": "",
         "marker": {
          "color": "rgba(251, 128, 114, 1.0)",
          "line": {
           "color": "#4D5663",
           "width": 1.3
          }
         },
         "name": "Fe",
         "opacity": 0.8,
         "orientation": "v",
         "type": "histogram",
         "x": [
          0,
          0,
          0,
          0,
          0,
          0.26,
          0,
          0,
          0,
          0.11,
          0.24,
          0,
          0.24,
          0.17,
          0,
          0,
          0,
          0,
          0,
          0.07,
          0.19,
          0,
          0,
          0,
          0,
          0,
          0,
          0,
          0,
          0,
          0.14,
          0,
          0.22,
          0.06,
          0,
          0,
          0,
          0,
          0,
          0,
          0,
          0,
          0,
          0,
          0.3,
          0,
          0.16,
          0.1,
          0,
          0,
          0.16,
          0.11,
          0,
          0,
          0.09,
          0.24,
          0.31,
          0,
          0,
          0.11,
          0,
          0,
          0.11,
          0,
          0.07,
          0,
          0.17,
          0.17,
          0.16,
          0.03,
          0.12,
          0.32,
          0,
          0,
          0,
          0,
          0,
          0,
          0.14,
          0,
          0,
          0,
          0,
          0.09,
          0,
          0,
          0,
          0.1,
          0,
          0.09,
          0.22,
          0,
          0.19,
          0,
          0,
          0,
          0.15,
          0.24,
          0,
          0,
          0.22,
          0,
          0.2,
          0,
          0,
          0.34,
          0.28,
          0.24,
          0.08,
          0,
          0,
          0,
          0,
          0.14,
          0,
          0,
          0.1,
          0,
          0.29,
          0,
          0,
          0.21,
          0,
          0,
          0,
          0.12,
          0,
          0.17,
          0.17,
          0.18,
          0,
          0.1,
          0,
          0.15,
          0,
          0.28,
          0.12,
          0,
          0,
          0,
          0,
          0.17,
          0.25,
          0,
          0.24,
          0.35,
          0,
          0,
          0.1,
          0,
          0.17,
          0,
          0,
          0,
          0,
          0,
          0,
          0,
          0,
          0.09,
          0,
          0.24,
          0.37,
          0,
          0,
          0,
          0,
          0,
          0,
          0,
          0,
          0,
          0,
          0,
          0.51,
          0.28,
          0,
          0,
          0,
          0,
          0,
          0,
          0,
          0,
          0,
          0,
          0,
          0,
          0,
          0,
          0,
          0.09,
          0.09,
          0.08,
          0.07,
          0.05,
          0.01,
          0,
          0,
          0,
          0,
          0,
          0,
          0,
          0,
          0,
          0,
          0,
          0,
          0,
          0,
          0,
          0,
          0
         ],
         "xaxis": "x9",
         "yaxis": "y9"
        }
       ],
       "layout": {
        "barmode": "overlay",
        "legend": {
         "bgcolor": "#F5F6F9",
         "font": {
          "color": "#4D5663"
         }
        },
        "paper_bgcolor": "#F5F6F9",
        "plot_bgcolor": "#F5F6F9",
        "template": {
         "data": {
          "bar": [
           {
            "error_x": {
             "color": "#2a3f5f"
            },
            "error_y": {
             "color": "#2a3f5f"
            },
            "marker": {
             "line": {
              "color": "#E5ECF6",
              "width": 0.5
             },
             "pattern": {
              "fillmode": "overlay",
              "size": 10,
              "solidity": 0.2
             }
            },
            "type": "bar"
           }
          ],
          "barpolar": [
           {
            "marker": {
             "line": {
              "color": "#E5ECF6",
              "width": 0.5
             },
             "pattern": {
              "fillmode": "overlay",
              "size": 10,
              "solidity": 0.2
             }
            },
            "type": "barpolar"
           }
          ],
          "carpet": [
           {
            "aaxis": {
             "endlinecolor": "#2a3f5f",
             "gridcolor": "white",
             "linecolor": "white",
             "minorgridcolor": "white",
             "startlinecolor": "#2a3f5f"
            },
            "baxis": {
             "endlinecolor": "#2a3f5f",
             "gridcolor": "white",
             "linecolor": "white",
             "minorgridcolor": "white",
             "startlinecolor": "#2a3f5f"
            },
            "type": "carpet"
           }
          ],
          "choropleth": [
           {
            "colorbar": {
             "outlinewidth": 0,
             "ticks": ""
            },
            "type": "choropleth"
           }
          ],
          "contour": [
           {
            "colorbar": {
             "outlinewidth": 0,
             "ticks": ""
            },
            "colorscale": [
             [
              0,
              "#0d0887"
             ],
             [
              0.1111111111111111,
              "#46039f"
             ],
             [
              0.2222222222222222,
              "#7201a8"
             ],
             [
              0.3333333333333333,
              "#9c179e"
             ],
             [
              0.4444444444444444,
              "#bd3786"
             ],
             [
              0.5555555555555556,
              "#d8576b"
             ],
             [
              0.6666666666666666,
              "#ed7953"
             ],
             [
              0.7777777777777778,
              "#fb9f3a"
             ],
             [
              0.8888888888888888,
              "#fdca26"
             ],
             [
              1,
              "#f0f921"
             ]
            ],
            "type": "contour"
           }
          ],
          "contourcarpet": [
           {
            "colorbar": {
             "outlinewidth": 0,
             "ticks": ""
            },
            "type": "contourcarpet"
           }
          ],
          "heatmap": [
           {
            "colorbar": {
             "outlinewidth": 0,
             "ticks": ""
            },
            "colorscale": [
             [
              0,
              "#0d0887"
             ],
             [
              0.1111111111111111,
              "#46039f"
             ],
             [
              0.2222222222222222,
              "#7201a8"
             ],
             [
              0.3333333333333333,
              "#9c179e"
             ],
             [
              0.4444444444444444,
              "#bd3786"
             ],
             [
              0.5555555555555556,
              "#d8576b"
             ],
             [
              0.6666666666666666,
              "#ed7953"
             ],
             [
              0.7777777777777778,
              "#fb9f3a"
             ],
             [
              0.8888888888888888,
              "#fdca26"
             ],
             [
              1,
              "#f0f921"
             ]
            ],
            "type": "heatmap"
           }
          ],
          "heatmapgl": [
           {
            "colorbar": {
             "outlinewidth": 0,
             "ticks": ""
            },
            "colorscale": [
             [
              0,
              "#0d0887"
             ],
             [
              0.1111111111111111,
              "#46039f"
             ],
             [
              0.2222222222222222,
              "#7201a8"
             ],
             [
              0.3333333333333333,
              "#9c179e"
             ],
             [
              0.4444444444444444,
              "#bd3786"
             ],
             [
              0.5555555555555556,
              "#d8576b"
             ],
             [
              0.6666666666666666,
              "#ed7953"
             ],
             [
              0.7777777777777778,
              "#fb9f3a"
             ],
             [
              0.8888888888888888,
              "#fdca26"
             ],
             [
              1,
              "#f0f921"
             ]
            ],
            "type": "heatmapgl"
           }
          ],
          "histogram": [
           {
            "marker": {
             "pattern": {
              "fillmode": "overlay",
              "size": 10,
              "solidity": 0.2
             }
            },
            "type": "histogram"
           }
          ],
          "histogram2d": [
           {
            "colorbar": {
             "outlinewidth": 0,
             "ticks": ""
            },
            "colorscale": [
             [
              0,
              "#0d0887"
             ],
             [
              0.1111111111111111,
              "#46039f"
             ],
             [
              0.2222222222222222,
              "#7201a8"
             ],
             [
              0.3333333333333333,
              "#9c179e"
             ],
             [
              0.4444444444444444,
              "#bd3786"
             ],
             [
              0.5555555555555556,
              "#d8576b"
             ],
             [
              0.6666666666666666,
              "#ed7953"
             ],
             [
              0.7777777777777778,
              "#fb9f3a"
             ],
             [
              0.8888888888888888,
              "#fdca26"
             ],
             [
              1,
              "#f0f921"
             ]
            ],
            "type": "histogram2d"
           }
          ],
          "histogram2dcontour": [
           {
            "colorbar": {
             "outlinewidth": 0,
             "ticks": ""
            },
            "colorscale": [
             [
              0,
              "#0d0887"
             ],
             [
              0.1111111111111111,
              "#46039f"
             ],
             [
              0.2222222222222222,
              "#7201a8"
             ],
             [
              0.3333333333333333,
              "#9c179e"
             ],
             [
              0.4444444444444444,
              "#bd3786"
             ],
             [
              0.5555555555555556,
              "#d8576b"
             ],
             [
              0.6666666666666666,
              "#ed7953"
             ],
             [
              0.7777777777777778,
              "#fb9f3a"
             ],
             [
              0.8888888888888888,
              "#fdca26"
             ],
             [
              1,
              "#f0f921"
             ]
            ],
            "type": "histogram2dcontour"
           }
          ],
          "mesh3d": [
           {
            "colorbar": {
             "outlinewidth": 0,
             "ticks": ""
            },
            "type": "mesh3d"
           }
          ],
          "parcoords": [
           {
            "line": {
             "colorbar": {
              "outlinewidth": 0,
              "ticks": ""
             }
            },
            "type": "parcoords"
           }
          ],
          "pie": [
           {
            "automargin": true,
            "type": "pie"
           }
          ],
          "scatter": [
           {
            "marker": {
             "colorbar": {
              "outlinewidth": 0,
              "ticks": ""
             }
            },
            "type": "scatter"
           }
          ],
          "scatter3d": [
           {
            "line": {
             "colorbar": {
              "outlinewidth": 0,
              "ticks": ""
             }
            },
            "marker": {
             "colorbar": {
              "outlinewidth": 0,
              "ticks": ""
             }
            },
            "type": "scatter3d"
           }
          ],
          "scattercarpet": [
           {
            "marker": {
             "colorbar": {
              "outlinewidth": 0,
              "ticks": ""
             }
            },
            "type": "scattercarpet"
           }
          ],
          "scattergeo": [
           {
            "marker": {
             "colorbar": {
              "outlinewidth": 0,
              "ticks": ""
             }
            },
            "type": "scattergeo"
           }
          ],
          "scattergl": [
           {
            "marker": {
             "colorbar": {
              "outlinewidth": 0,
              "ticks": ""
             }
            },
            "type": "scattergl"
           }
          ],
          "scattermapbox": [
           {
            "marker": {
             "colorbar": {
              "outlinewidth": 0,
              "ticks": ""
             }
            },
            "type": "scattermapbox"
           }
          ],
          "scatterpolar": [
           {
            "marker": {
             "colorbar": {
              "outlinewidth": 0,
              "ticks": ""
             }
            },
            "type": "scatterpolar"
           }
          ],
          "scatterpolargl": [
           {
            "marker": {
             "colorbar": {
              "outlinewidth": 0,
              "ticks": ""
             }
            },
            "type": "scatterpolargl"
           }
          ],
          "scatterternary": [
           {
            "marker": {
             "colorbar": {
              "outlinewidth": 0,
              "ticks": ""
             }
            },
            "type": "scatterternary"
           }
          ],
          "surface": [
           {
            "colorbar": {
             "outlinewidth": 0,
             "ticks": ""
            },
            "colorscale": [
             [
              0,
              "#0d0887"
             ],
             [
              0.1111111111111111,
              "#46039f"
             ],
             [
              0.2222222222222222,
              "#7201a8"
             ],
             [
              0.3333333333333333,
              "#9c179e"
             ],
             [
              0.4444444444444444,
              "#bd3786"
             ],
             [
              0.5555555555555556,
              "#d8576b"
             ],
             [
              0.6666666666666666,
              "#ed7953"
             ],
             [
              0.7777777777777778,
              "#fb9f3a"
             ],
             [
              0.8888888888888888,
              "#fdca26"
             ],
             [
              1,
              "#f0f921"
             ]
            ],
            "type": "surface"
           }
          ],
          "table": [
           {
            "cells": {
             "fill": {
              "color": "#EBF0F8"
             },
             "line": {
              "color": "white"
             }
            },
            "header": {
             "fill": {
              "color": "#C8D4E3"
             },
             "line": {
              "color": "white"
             }
            },
            "type": "table"
           }
          ]
         },
         "layout": {
          "annotationdefaults": {
           "arrowcolor": "#2a3f5f",
           "arrowhead": 0,
           "arrowwidth": 1
          },
          "autotypenumbers": "strict",
          "coloraxis": {
           "colorbar": {
            "outlinewidth": 0,
            "ticks": ""
           }
          },
          "colorscale": {
           "diverging": [
            [
             0,
             "#8e0152"
            ],
            [
             0.1,
             "#c51b7d"
            ],
            [
             0.2,
             "#de77ae"
            ],
            [
             0.3,
             "#f1b6da"
            ],
            [
             0.4,
             "#fde0ef"
            ],
            [
             0.5,
             "#f7f7f7"
            ],
            [
             0.6,
             "#e6f5d0"
            ],
            [
             0.7,
             "#b8e186"
            ],
            [
             0.8,
             "#7fbc41"
            ],
            [
             0.9,
             "#4d9221"
            ],
            [
             1,
             "#276419"
            ]
           ],
           "sequential": [
            [
             0,
             "#0d0887"
            ],
            [
             0.1111111111111111,
             "#46039f"
            ],
            [
             0.2222222222222222,
             "#7201a8"
            ],
            [
             0.3333333333333333,
             "#9c179e"
            ],
            [
             0.4444444444444444,
             "#bd3786"
            ],
            [
             0.5555555555555556,
             "#d8576b"
            ],
            [
             0.6666666666666666,
             "#ed7953"
            ],
            [
             0.7777777777777778,
             "#fb9f3a"
            ],
            [
             0.8888888888888888,
             "#fdca26"
            ],
            [
             1,
             "#f0f921"
            ]
           ],
           "sequentialminus": [
            [
             0,
             "#0d0887"
            ],
            [
             0.1111111111111111,
             "#46039f"
            ],
            [
             0.2222222222222222,
             "#7201a8"
            ],
            [
             0.3333333333333333,
             "#9c179e"
            ],
            [
             0.4444444444444444,
             "#bd3786"
            ],
            [
             0.5555555555555556,
             "#d8576b"
            ],
            [
             0.6666666666666666,
             "#ed7953"
            ],
            [
             0.7777777777777778,
             "#fb9f3a"
            ],
            [
             0.8888888888888888,
             "#fdca26"
            ],
            [
             1,
             "#f0f921"
            ]
           ]
          },
          "colorway": [
           "#636efa",
           "#EF553B",
           "#00cc96",
           "#ab63fa",
           "#FFA15A",
           "#19d3f3",
           "#FF6692",
           "#B6E880",
           "#FF97FF",
           "#FECB52"
          ],
          "font": {
           "color": "#2a3f5f"
          },
          "geo": {
           "bgcolor": "white",
           "lakecolor": "white",
           "landcolor": "#E5ECF6",
           "showlakes": true,
           "showland": true,
           "subunitcolor": "white"
          },
          "hoverlabel": {
           "align": "left"
          },
          "hovermode": "closest",
          "mapbox": {
           "style": "light"
          },
          "paper_bgcolor": "white",
          "plot_bgcolor": "#E5ECF6",
          "polar": {
           "angularaxis": {
            "gridcolor": "white",
            "linecolor": "white",
            "ticks": ""
           },
           "bgcolor": "#E5ECF6",
           "radialaxis": {
            "gridcolor": "white",
            "linecolor": "white",
            "ticks": ""
           }
          },
          "scene": {
           "xaxis": {
            "backgroundcolor": "#E5ECF6",
            "gridcolor": "white",
            "gridwidth": 2,
            "linecolor": "white",
            "showbackground": true,
            "ticks": "",
            "zerolinecolor": "white"
           },
           "yaxis": {
            "backgroundcolor": "#E5ECF6",
            "gridcolor": "white",
            "gridwidth": 2,
            "linecolor": "white",
            "showbackground": true,
            "ticks": "",
            "zerolinecolor": "white"
           },
           "zaxis": {
            "backgroundcolor": "#E5ECF6",
            "gridcolor": "white",
            "gridwidth": 2,
            "linecolor": "white",
            "showbackground": true,
            "ticks": "",
            "zerolinecolor": "white"
           }
          },
          "shapedefaults": {
           "line": {
            "color": "#2a3f5f"
           }
          },
          "ternary": {
           "aaxis": {
            "gridcolor": "white",
            "linecolor": "white",
            "ticks": ""
           },
           "baxis": {
            "gridcolor": "white",
            "linecolor": "white",
            "ticks": ""
           },
           "bgcolor": "#E5ECF6",
           "caxis": {
            "gridcolor": "white",
            "linecolor": "white",
            "ticks": ""
           }
          },
          "title": {
           "x": 0.05
          },
          "xaxis": {
           "automargin": true,
           "gridcolor": "white",
           "linecolor": "white",
           "ticks": "",
           "title": {
            "standoff": 15
           },
           "zerolinecolor": "white",
           "zerolinewidth": 2
          },
          "yaxis": {
           "automargin": true,
           "gridcolor": "white",
           "linecolor": "white",
           "ticks": "",
           "title": {
            "standoff": 15
           },
           "zerolinecolor": "white",
           "zerolinewidth": 2
          }
         }
        },
        "title": {
         "font": {
          "color": "#4D5663"
         }
        },
        "xaxis": {
         "anchor": "y",
         "domain": [
          0,
          0.45
         ],
         "gridcolor": "#E1E5ED",
         "showgrid": true,
         "tickfont": {
          "color": "#4D5663"
         },
         "title": {
          "font": {
           "color": "#4D5663"
          },
          "text": ""
         },
         "zerolinecolor": "#E1E5ED"
        },
        "xaxis10": {
         "anchor": "y10",
         "domain": [
          0.55,
          1
         ],
         "gridcolor": "#E1E5ED",
         "showgrid": true,
         "tickfont": {
          "color": "#4D5663"
         },
         "title": {
          "font": {
           "color": "#4D5663"
          },
          "text": ""
         },
         "zerolinecolor": "#E1E5ED"
        },
        "xaxis2": {
         "anchor": "y2",
         "domain": [
          0.55,
          1
         ],
         "gridcolor": "#E1E5ED",
         "showgrid": true,
         "tickfont": {
          "color": "#4D5663"
         },
         "title": {
          "font": {
           "color": "#4D5663"
          },
          "text": ""
         },
         "zerolinecolor": "#E1E5ED"
        },
        "xaxis3": {
         "anchor": "y3",
         "domain": [
          0,
          0.45
         ],
         "gridcolor": "#E1E5ED",
         "showgrid": true,
         "tickfont": {
          "color": "#4D5663"
         },
         "title": {
          "font": {
           "color": "#4D5663"
          },
          "text": ""
         },
         "zerolinecolor": "#E1E5ED"
        },
        "xaxis4": {
         "anchor": "y4",
         "domain": [
          0.55,
          1
         ],
         "gridcolor": "#E1E5ED",
         "showgrid": true,
         "tickfont": {
          "color": "#4D5663"
         },
         "title": {
          "font": {
           "color": "#4D5663"
          },
          "text": ""
         },
         "zerolinecolor": "#E1E5ED"
        },
        "xaxis5": {
         "anchor": "y5",
         "domain": [
          0,
          0.45
         ],
         "gridcolor": "#E1E5ED",
         "showgrid": true,
         "tickfont": {
          "color": "#4D5663"
         },
         "title": {
          "font": {
           "color": "#4D5663"
          },
          "text": ""
         },
         "zerolinecolor": "#E1E5ED"
        },
        "xaxis6": {
         "anchor": "y6",
         "domain": [
          0.55,
          1
         ],
         "gridcolor": "#E1E5ED",
         "showgrid": true,
         "tickfont": {
          "color": "#4D5663"
         },
         "title": {
          "font": {
           "color": "#4D5663"
          },
          "text": ""
         },
         "zerolinecolor": "#E1E5ED"
        },
        "xaxis7": {
         "anchor": "y7",
         "domain": [
          0,
          0.45
         ],
         "gridcolor": "#E1E5ED",
         "showgrid": true,
         "tickfont": {
          "color": "#4D5663"
         },
         "title": {
          "font": {
           "color": "#4D5663"
          },
          "text": ""
         },
         "zerolinecolor": "#E1E5ED"
        },
        "xaxis8": {
         "anchor": "y8",
         "domain": [
          0.55,
          1
         ],
         "gridcolor": "#E1E5ED",
         "showgrid": true,
         "tickfont": {
          "color": "#4D5663"
         },
         "title": {
          "font": {
           "color": "#4D5663"
          },
          "text": ""
         },
         "zerolinecolor": "#E1E5ED"
        },
        "xaxis9": {
         "anchor": "y9",
         "domain": [
          0,
          0.45
         ],
         "gridcolor": "#E1E5ED",
         "showgrid": true,
         "tickfont": {
          "color": "#4D5663"
         },
         "title": {
          "font": {
           "color": "#4D5663"
          },
          "text": ""
         },
         "zerolinecolor": "#E1E5ED"
        },
        "yaxis": {
         "anchor": "x",
         "domain": [
          0.848,
          1
         ],
         "gridcolor": "#E1E5ED",
         "showgrid": true,
         "tickfont": {
          "color": "#4D5663"
         },
         "title": {
          "font": {
           "color": "#4D5663"
          },
          "text": ""
         },
         "zerolinecolor": "#E1E5ED"
        },
        "yaxis10": {
         "anchor": "x10",
         "domain": [
          0,
          0.152
         ],
         "gridcolor": "#E1E5ED",
         "showgrid": true,
         "tickfont": {
          "color": "#4D5663"
         },
         "title": {
          "font": {
           "color": "#4D5663"
          },
          "text": ""
         },
         "zerolinecolor": "#E1E5ED"
        },
        "yaxis2": {
         "anchor": "x2",
         "domain": [
          0.848,
          1
         ],
         "gridcolor": "#E1E5ED",
         "showgrid": true,
         "tickfont": {
          "color": "#4D5663"
         },
         "title": {
          "font": {
           "color": "#4D5663"
          },
          "text": ""
         },
         "zerolinecolor": "#E1E5ED"
        },
        "yaxis3": {
         "anchor": "x3",
         "domain": [
          0.6359999999999999,
          0.7879999999999999
         ],
         "gridcolor": "#E1E5ED",
         "showgrid": true,
         "tickfont": {
          "color": "#4D5663"
         },
         "title": {
          "font": {
           "color": "#4D5663"
          },
          "text": ""
         },
         "zerolinecolor": "#E1E5ED"
        },
        "yaxis4": {
         "anchor": "x4",
         "domain": [
          0.6359999999999999,
          0.7879999999999999
         ],
         "gridcolor": "#E1E5ED",
         "showgrid": true,
         "tickfont": {
          "color": "#4D5663"
         },
         "title": {
          "font": {
           "color": "#4D5663"
          },
          "text": ""
         },
         "zerolinecolor": "#E1E5ED"
        },
        "yaxis5": {
         "anchor": "x5",
         "domain": [
          0.424,
          0.576
         ],
         "gridcolor": "#E1E5ED",
         "showgrid": true,
         "tickfont": {
          "color": "#4D5663"
         },
         "title": {
          "font": {
           "color": "#4D5663"
          },
          "text": ""
         },
         "zerolinecolor": "#E1E5ED"
        },
        "yaxis6": {
         "anchor": "x6",
         "domain": [
          0.424,
          0.576
         ],
         "gridcolor": "#E1E5ED",
         "showgrid": true,
         "tickfont": {
          "color": "#4D5663"
         },
         "title": {
          "font": {
           "color": "#4D5663"
          },
          "text": ""
         },
         "zerolinecolor": "#E1E5ED"
        },
        "yaxis7": {
         "anchor": "x7",
         "domain": [
          0.212,
          0.364
         ],
         "gridcolor": "#E1E5ED",
         "showgrid": true,
         "tickfont": {
          "color": "#4D5663"
         },
         "title": {
          "font": {
           "color": "#4D5663"
          },
          "text": ""
         },
         "zerolinecolor": "#E1E5ED"
        },
        "yaxis8": {
         "anchor": "x8",
         "domain": [
          0.212,
          0.364
         ],
         "gridcolor": "#E1E5ED",
         "showgrid": true,
         "tickfont": {
          "color": "#4D5663"
         },
         "title": {
          "font": {
           "color": "#4D5663"
          },
          "text": ""
         },
         "zerolinecolor": "#E1E5ED"
        },
        "yaxis9": {
         "anchor": "x9",
         "domain": [
          0,
          0.152
         ],
         "gridcolor": "#E1E5ED",
         "showgrid": true,
         "tickfont": {
          "color": "#4D5663"
         },
         "title": {
          "font": {
           "color": "#4D5663"
          },
          "text": ""
         },
         "zerolinecolor": "#E1E5ED"
        }
       }
      },
      "text/html": [
       "<div>                            <div id=\"6d49314e-4eac-4d0c-8802-52cd5a74c184\" class=\"plotly-graph-div\" style=\"height:525px; width:100%;\"></div>            <script type=\"text/javascript\">                require([\"plotly\"], function(Plotly) {                    window.PLOTLYENV=window.PLOTLYENV || {};\n",
       "                    window.PLOTLYENV.BASE_URL='https://plot.ly';                                    if (document.getElementById(\"6d49314e-4eac-4d0c-8802-52cd5a74c184\")) {                    Plotly.newPlot(                        \"6d49314e-4eac-4d0c-8802-52cd5a74c184\",                        [{\"histfunc\":\"count\",\"histnorm\":\"\",\"marker\":{\"color\":\"rgba(255, 153, 51, 1.0)\",\"line\":{\"color\":\"#4D5663\",\"width\":1.3}},\"name\":\"RI\",\"opacity\":0.8,\"orientation\":\"v\",\"x\":[1.52101,1.51761,1.51618,1.51766,1.51742,1.51596,1.51743,1.51756,1.51918,1.51755,1.51571,1.51763,1.51589,1.51748,1.51763,1.51761,1.51784,1.52196,1.51911,1.51735,1.5175,1.51966,1.51736,1.51751,1.5172,1.51764,1.51793,1.51721,1.51768,1.51784,1.51768,1.51747,1.51775,1.51753,1.51783,1.51567,1.51909,1.51797,1.52213,1.52213,1.51793,1.51755,1.51779,1.5221,1.51786,1.519,1.51869,1.52667,1.52223,1.51898,1.5232,1.51926,1.51808,1.51837,1.51778,1.51769,1.51215,1.51824,1.51754,1.51754,1.51905,1.51977,1.52172,1.52227,1.52172,1.52099,1.52152,1.52152,1.52152,1.523,1.51574,1.51848,1.51593,1.51631,1.51596,1.5159,1.51645,1.51627,1.51613,1.5159,1.51592,1.51593,1.51646,1.51594,1.51409,1.51625,1.51569,1.51645,1.51618,1.5164,1.51841,1.51605,1.51588,1.5159,1.51629,1.5186,1.51841,1.51743,1.51689,1.51811,1.51655,1.5173,1.5182,1.52725,1.5241,1.52475,1.53125,1.53393,1.52222,1.51818,1.52664,1.52739,1.52777,1.51892,1.51847,1.51846,1.51829,1.51708,1.51673,1.51652,1.51844,1.51663,1.51687,1.51707,1.52177,1.51872,1.51667,1.52081,1.52068,1.5202,1.52177,1.52614,1.51813,1.518,1.51811,1.51789,1.51806,1.51711,1.51674,1.51674,1.5169,1.51851,1.51662,1.51709,1.5166,1.51839,1.51769,1.5161,1.5167,1.51643,1.51665,1.52127,1.51779,1.5161,1.51694,1.51646,1.51655,1.52121,1.51776,1.51796,1.51832,1.51934,1.52211,1.51514,1.51915,1.52171,1.52151,1.51969,1.51666,1.51994,1.52369,1.51316,1.51321,1.52043,1.52058,1.52119,1.51905,1.51937,1.51829,1.51852,1.51299,1.51888,1.51916,1.51969,1.51115,1.51131,1.51838,1.52315,1.52247,1.52365,1.51613,1.51602,1.51623,1.51719,1.51683,1.51545,1.51556,1.51727,1.51531,1.51609,1.51508,1.51653,1.51514,1.51658,1.51617,1.51732,1.51645,1.51831,1.5164,1.51623,1.51685,1.52065,1.51651,1.51711],\"xaxis\":\"x\",\"yaxis\":\"y\",\"type\":\"histogram\"},{\"histfunc\":\"count\",\"histnorm\":\"\",\"marker\":{\"color\":\"rgba(55, 128, 191, 1.0)\",\"line\":{\"color\":\"#4D5663\",\"width\":1.3}},\"name\":\"Na\",\"opacity\":0.8,\"orientation\":\"v\",\"x\":[13.64,13.89,13.53,13.21,13.27,12.79,13.3,13.15,14.04,13.0,12.72,12.8,12.88,12.86,12.61,12.81,12.68,14.36,13.9,13.02,12.82,14.77,12.78,12.81,13.38,12.98,13.21,12.87,12.56,13.08,12.65,12.84,12.85,12.57,12.69,13.29,13.89,12.74,14.21,14.21,12.79,12.71,13.21,13.73,12.73,13.49,13.19,13.99,13.21,13.58,13.72,13.2,13.43,13.14,13.21,12.45,12.99,12.87,13.48,13.39,13.6,13.81,13.51,14.17,13.48,13.69,13.05,13.05,13.12,13.31,14.86,13.64,13.09,13.34,13.02,13.02,13.44,13.0,13.92,12.82,12.86,13.25,13.41,13.09,14.25,13.36,13.24,13.4,13.01,12.55,12.93,12.9,13.12,13.24,12.71,13.36,13.02,12.2,12.67,12.96,12.75,12.35,12.62,13.8,13.83,11.45,10.73,12.3,14.43,13.72,11.23,11.02,12.64,13.46,13.1,13.41,13.24,13.72,13.3,13.56,13.25,12.93,13.23,13.48,13.2,12.93,12.94,13.78,13.55,13.98,13.75,13.7,13.43,13.71,13.33,13.19,13.0,12.89,12.79,12.87,13.33,13.2,12.85,13.0,12.99,12.85,13.65,13.33,13.24,12.16,13.14,14.32,13.64,13.42,12.86,13.04,13.41,14.03,13.53,13.5,13.33,13.64,14.19,14.01,12.73,11.56,11.03,12.64,12.86,13.27,13.44,13.02,13.0,13.38,12.85,12.97,14.0,13.79,14.46,14.09,14.4,14.99,14.15,14.56,17.38,13.69,14.32,13.44,14.86,15.79,13.88,14.85,14.2,14.75,14.56,14.14,13.87,14.7,14.38,15.01,15.15,11.95,14.85,14.8,14.95,14.95,14.94,14.39,14.37,14.14,14.92,14.36,14.38,14.23],\"xaxis\":\"x2\",\"yaxis\":\"y2\",\"type\":\"histogram\"},{\"histfunc\":\"count\",\"histnorm\":\"\",\"marker\":{\"color\":\"rgba(50, 171, 96, 1.0)\",\"line\":{\"color\":\"#4D5663\",\"width\":1.3}},\"name\":\"Mg\",\"opacity\":0.8,\"orientation\":\"v\",\"x\":[4.49,3.6,3.55,3.69,3.62,3.61,3.6,3.61,3.58,3.6,3.46,3.66,3.43,3.56,3.59,3.54,3.67,3.85,3.73,3.54,3.55,3.75,3.62,3.57,3.5,3.54,3.48,3.48,3.52,3.49,3.56,3.5,3.48,3.47,3.54,3.45,3.53,3.48,3.82,3.82,3.5,3.42,3.39,3.84,3.43,3.48,3.37,3.7,3.77,3.35,3.72,3.33,2.87,2.84,2.81,2.71,3.47,3.48,3.74,3.66,3.62,3.58,3.86,3.81,3.74,3.59,3.65,3.65,3.58,3.58,3.67,3.87,3.59,3.57,3.56,3.58,3.61,3.58,3.52,3.52,3.52,3.45,3.55,3.52,3.09,3.58,3.49,3.49,3.5,3.48,3.74,3.44,3.41,3.34,3.33,3.43,3.62,3.25,2.88,2.96,2.85,2.72,2.76,3.15,2.9,0.0,0.0,0.0,0.0,0.0,0.0,0.0,0.0,3.83,3.97,3.89,3.9,3.68,3.64,3.57,3.76,3.54,3.54,3.48,3.68,3.66,3.61,2.28,2.09,1.35,1.01,0.0,3.98,3.93,3.85,3.9,3.8,3.62,3.52,3.56,3.54,3.63,3.51,3.47,3.18,3.67,3.66,3.53,3.57,3.52,3.45,3.9,3.65,3.4,3.58,3.4,3.39,3.76,3.41,3.36,3.34,3.54,3.78,2.68,1.85,1.88,1.71,0.0,0.0,0.0,0.0,0.0,0.0,0.0,1.61,0.33,2.39,2.41,2.24,2.19,1.74,0.78,0.0,0.0,0.0,3.2,3.26,3.34,2.2,1.83,1.78,0.0,0.0,0.0,0.0,0.0,0.0,0.0,0.0,0.0,0.0,0.0,0.0,0.0,0.0,0.0,0.0,0.0,0.0,0.0,0.0,0.0,0.0,0.0],\"xaxis\":\"x3\",\"yaxis\":\"y3\",\"type\":\"histogram\"},{\"histfunc\":\"count\",\"histnorm\":\"\",\"marker\":{\"color\":\"rgba(128, 0, 128, 1.0)\",\"line\":{\"color\":\"#4D5663\",\"width\":1.3}},\"name\":\"Al\",\"opacity\":0.8,\"orientation\":\"v\",\"x\":[1.1,1.36,1.54,1.29,1.24,1.62,1.14,1.05,1.37,1.36,1.56,1.27,1.4,1.27,1.31,1.23,1.16,0.89,1.18,1.69,1.49,0.29,1.29,1.35,1.15,1.21,1.41,1.33,1.43,1.28,1.3,1.14,1.23,1.38,1.34,1.21,1.32,1.35,0.47,0.47,1.12,1.2,1.33,0.72,1.19,1.35,1.18,0.71,0.79,1.23,0.51,1.28,1.19,1.28,1.29,1.29,1.12,1.29,1.17,1.19,1.11,1.32,0.88,0.78,0.9,1.12,0.87,0.87,0.9,0.82,1.74,1.27,1.52,1.57,1.54,1.51,1.54,1.54,1.25,1.9,2.12,1.43,1.25,1.55,2.08,1.49,1.47,1.52,1.48,1.87,1.11,1.45,1.58,1.47,1.49,1.43,1.06,1.16,1.71,1.43,1.44,1.63,0.83,0.66,1.17,1.88,2.1,1.0,1.0,0.56,0.77,0.75,0.67,1.26,1.19,1.33,1.41,1.81,1.53,1.47,1.32,1.62,1.48,1.71,1.15,1.56,1.26,1.43,1.67,1.63,1.36,1.36,1.18,1.54,1.25,1.3,1.08,1.57,1.54,1.64,1.61,1.07,1.44,1.79,1.23,1.24,1.11,1.34,1.38,1.35,1.76,0.83,0.65,1.22,1.31,1.26,1.28,0.58,1.52,1.63,1.54,0.75,0.91,3.5,1.86,1.56,1.56,1.65,1.83,1.76,1.58,3.04,3.02,1.4,2.17,1.51,1.56,1.19,1.62,1.66,1.54,1.74,2.09,0.56,0.34,1.81,2.22,1.23,2.06,1.31,1.79,2.38,2.79,2.0,1.98,2.68,2.54,2.34,2.66,2.51,2.25,1.19,2.42,1.99,2.27,1.8,1.87,1.82,2.74,2.88,1.99,2.02,1.94,2.08],\"xaxis\":\"x4\",\"yaxis\":\"y4\",\"type\":\"histogram\"},{\"histfunc\":\"count\",\"histnorm\":\"\",\"marker\":{\"color\":\"rgba(219, 64, 82, 1.0)\",\"line\":{\"color\":\"#4D5663\",\"width\":1.3}},\"name\":\"Si\",\"opacity\":0.8,\"orientation\":\"v\",\"x\":[71.78,72.73,72.99,72.61,73.08,72.97,73.09,73.24,72.08,72.99,73.2,73.01,73.28,73.21,73.29,73.24,73.11,71.36,72.12,72.73,72.75,72.02,72.79,73.02,72.85,73.0,72.64,73.04,73.15,72.86,73.08,73.27,72.97,73.39,72.95,72.74,71.81,72.96,71.77,71.77,73.03,73.2,72.76,71.76,72.95,71.95,72.72,71.57,71.99,72.08,71.75,72.36,72.84,72.85,72.98,73.7,72.98,72.95,72.99,72.79,72.64,71.72,71.79,71.35,72.01,71.96,72.22,72.32,72.2,71.99,71.87,71.96,73.1,72.87,73.11,73.12,72.39,72.83,72.88,72.86,72.66,73.17,72.81,72.87,72.28,72.72,73.25,72.65,72.89,73.23,72.28,73.06,73.26,73.1,73.28,72.26,72.34,73.55,73.21,72.92,73.27,72.87,73.81,70.57,71.15,72.19,69.81,70.16,72.67,74.45,73.21,73.08,72.02,72.55,72.44,72.38,72.33,72.06,72.53,72.45,72.4,72.96,72.84,72.52,72.75,72.51,72.75,71.99,72.18,71.76,72.19,71.24,72.49,71.81,72.78,72.33,73.07,72.96,73.36,73.14,72.54,72.83,73.01,72.72,72.97,72.57,72.77,72.67,72.7,72.89,72.48,71.5,73.0,72.69,72.61,73.01,72.64,71.79,72.04,71.94,72.14,72.65,71.36,69.89,72.69,72.86,73.44,73.75,73.88,73.03,72.22,70.48,70.7,72.25,72.18,73.39,72.37,72.76,72.38,72.67,74.55,72.5,72.74,73.48,75.41,72.81,71.25,72.38,70.26,70.43,73.1,73.28,73.46,73.02,73.29,73.39,73.23,73.28,73.1,73.05,73.5,75.18,73.72,73.11,73.3,72.99,73.11,72.86,72.85,72.61,73.06,73.42,73.61,73.36],\"xaxis\":\"x5\",\"yaxis\":\"y5\",\"type\":\"histogram\"},{\"histfunc\":\"count\",\"histnorm\":\"\",\"marker\":{\"color\":\"rgba(0, 128, 128, 1.0)\",\"line\":{\"color\":\"#4D5663\",\"width\":1.3}},\"name\":\"K\",\"opacity\":0.8,\"orientation\":\"v\",\"x\":[0.06,0.48,0.39,0.57,0.55,0.64,0.58,0.57,0.56,0.57,0.67,0.6,0.69,0.54,0.58,0.58,0.61,0.15,0.06,0.54,0.54,0.03,0.59,0.62,0.5,0.65,0.59,0.56,0.57,0.6,0.61,0.56,0.61,0.6,0.57,0.56,0.51,0.64,0.11,0.11,0.64,0.59,0.59,0.17,0.62,0.55,0.57,0.02,0.13,0.59,0.09,0.6,0.55,0.55,0.51,0.56,0.62,0.6,0.59,0.57,0.14,0.12,0.23,0.0,0.18,0.09,0.19,0.19,0.23,0.12,0.16,0.54,0.67,0.61,0.72,0.69,0.66,0.61,0.37,0.69,0.69,0.61,0.68,0.68,1.1,0.45,0.38,0.67,0.6,0.63,0.64,0.44,0.07,0.39,0.67,0.51,0.64,0.62,0.73,0.6,0.57,0.7,0.35,0.08,0.08,0.81,0.58,0.12,0.1,0.0,0.0,0.0,0.06,0.57,0.6,0.51,0.55,0.64,0.65,0.64,0.58,0.64,0.56,0.62,0.54,0.58,0.56,0.49,0.53,0.39,0.33,0.19,0.58,0.54,0.52,0.55,0.56,0.61,0.66,0.65,0.68,0.57,0.68,0.66,0.58,0.62,0.11,0.56,0.56,0.57,0.6,0.0,0.06,0.59,0.61,0.52,0.52,0.11,0.58,0.57,0.56,0.16,0.23,1.68,0.6,0.47,0.58,0.38,0.97,0.47,0.32,6.21,6.21,0.33,0.76,0.13,0.0,0.0,0.0,0.0,0.0,0.0,0.0,0.0,0.0,1.76,1.46,0.6,0.76,0.31,0.0,0.0,0.04,0.0,0.0,0.08,0.14,0.0,0.04,0.05,0.0,2.7,0.0,0.0,0.0,0.0,0.0,1.41,0.0,0.08,0.0,0.0,0.0,0.0],\"xaxis\":\"x6\",\"yaxis\":\"y6\",\"type\":\"histogram\"},{\"histfunc\":\"count\",\"histnorm\":\"\",\"marker\":{\"color\":\"rgba(255, 255, 51, 1.0)\",\"line\":{\"color\":\"#4D5663\",\"width\":1.3}},\"name\":\"Ca\",\"opacity\":0.8,\"orientation\":\"v\",\"x\":[8.75,7.83,7.78,8.22,8.07,8.07,8.17,8.24,8.3,8.4,8.09,8.56,8.05,8.38,8.5,8.39,8.7,9.15,8.89,8.44,8.52,9.0,8.7,8.59,8.43,8.53,8.43,8.43,8.54,8.49,8.69,8.55,8.56,8.55,8.75,8.57,8.78,8.68,9.57,9.57,8.77,8.64,8.59,9.74,8.76,9.0,8.83,9.82,10.02,8.91,10.06,9.14,9.03,9.07,9.02,9.06,8.35,8.43,8.03,8.27,8.76,8.67,9.54,9.69,9.61,9.4,9.85,9.85,9.82,10.17,7.36,8.32,7.83,7.89,7.9,7.96,8.03,8.04,7.94,7.97,7.97,7.86,8.1,8.05,7.08,8.21,8.03,8.08,8.12,8.08,8.96,8.27,8.39,8.22,8.24,8.6,9.13,8.9,8.54,8.79,8.79,9.23,9.42,11.64,10.79,13.24,13.3,16.19,11.52,10.99,14.68,14.96,14.4,8.21,8.43,8.28,8.31,7.88,8.03,7.96,8.42,8.03,8.1,7.99,8.52,8.55,8.6,9.85,9.57,10.56,11.14,13.44,8.15,8.21,8.12,8.44,8.38,8.11,7.9,7.99,8.11,8.41,8.23,8.18,8.81,8.68,8.6,8.33,8.44,8.53,8.38,9.49,8.93,8.32,8.79,8.58,8.65,9.65,8.79,8.81,8.99,8.89,9.14,5.87,10.09,11.41,11.62,11.53,10.17,11.32,12.24,6.96,6.93,12.5,9.7,11.27,9.57,9.77,9.26,9.32,7.59,9.95,10.88,11.22,6.65,5.43,5.79,8.83,9.76,8.61,8.67,8.76,9.04,8.53,8.52,9.07,9.41,8.95,9.08,8.83,8.34,8.93,8.39,8.28,8.71,8.61,8.67,6.47,9.45,9.18,8.4,8.44,8.48,8.62],\"xaxis\":\"x7\",\"yaxis\":\"y7\",\"type\":\"histogram\"},{\"histfunc\":\"count\",\"histnorm\":\"\",\"marker\":{\"color\":\"rgba(128, 128, 0, 1.0)\",\"line\":{\"color\":\"#4D5663\",\"width\":1.3}},\"name\":\"Ba\",\"opacity\":0.8,\"orientation\":\"v\",\"x\":[0.0,0.0,0.0,0.0,0.0,0.0,0.0,0.0,0.0,0.0,0.0,0.0,0.0,0.0,0.0,0.0,0.0,0.0,0.0,0.0,0.0,0.0,0.0,0.0,0.0,0.0,0.0,0.0,0.0,0.0,0.0,0.0,0.09,0.0,0.0,0.0,0.11,0.0,0.0,0.0,0.0,0.0,0.0,0.0,0.0,0.0,0.0,0.0,0.0,0.0,0.0,0.0,0.0,0.0,0.0,0.0,0.0,0.0,0.0,0.0,0.0,0.69,0.0,0.0,0.0,0.0,0.0,0.0,0.0,0.0,0.0,0.0,0.0,0.0,0.0,0.0,0.0,0.0,0.0,0.0,0.0,0.0,0.0,0.0,0.0,0.0,0.0,0.0,0.0,0.0,0.0,0.0,0.0,0.0,0.0,0.0,0.0,0.0,0.0,0.14,0.11,0.0,0.0,0.0,0.0,0.0,3.15,0.0,0.0,0.0,0.0,0.0,0.0,0.0,0.0,0.0,0.0,0.0,0.0,0.0,0.0,0.0,0.0,0.0,0.0,0.0,0.0,0.0,0.27,0.0,0.0,0.0,0.0,0.0,0.0,0.0,0.0,0.0,0.0,0.0,0.0,0.09,0.06,0.0,0.0,0.0,0.0,0.0,0.0,0.0,0.0,0.0,0.0,0.0,0.0,0.0,0.0,0.0,0.0,0.0,0.0,0.15,0.0,2.2,0.0,0.0,0.0,0.0,0.0,0.0,0.0,0.0,0.0,0.0,0.24,0.0,0.0,0.0,0.0,0.0,0.0,0.0,0.0,0.0,0.0,1.19,1.63,0.0,0.0,1.68,0.76,0.64,0.4,1.59,1.57,0.61,0.81,0.66,0.64,0.53,0.63,0.0,0.56,1.71,0.67,1.55,1.38,2.88,0.54,1.06,1.59,1.64,1.57,1.67],\"xaxis\":\"x8\",\"yaxis\":\"y8\",\"type\":\"histogram\"},{\"histfunc\":\"count\",\"histnorm\":\"\",\"marker\":{\"color\":\"rgba(251, 128, 114, 1.0)\",\"line\":{\"color\":\"#4D5663\",\"width\":1.3}},\"name\":\"Fe\",\"opacity\":0.8,\"orientation\":\"v\",\"x\":[0.0,0.0,0.0,0.0,0.0,0.26,0.0,0.0,0.0,0.11,0.24,0.0,0.24,0.17,0.0,0.0,0.0,0.0,0.0,0.07,0.19,0.0,0.0,0.0,0.0,0.0,0.0,0.0,0.0,0.0,0.14,0.0,0.22,0.06,0.0,0.0,0.0,0.0,0.0,0.0,0.0,0.0,0.0,0.0,0.3,0.0,0.16,0.1,0.0,0.0,0.16,0.11,0.0,0.0,0.09,0.24,0.31,0.0,0.0,0.11,0.0,0.0,0.11,0.0,0.07,0.0,0.17,0.17,0.16,0.03,0.12,0.32,0.0,0.0,0.0,0.0,0.0,0.0,0.14,0.0,0.0,0.0,0.0,0.09,0.0,0.0,0.0,0.1,0.0,0.09,0.22,0.0,0.19,0.0,0.0,0.0,0.15,0.24,0.0,0.0,0.22,0.0,0.2,0.0,0.0,0.34,0.28,0.24,0.08,0.0,0.0,0.0,0.0,0.14,0.0,0.0,0.1,0.0,0.29,0.0,0.0,0.21,0.0,0.0,0.0,0.12,0.0,0.17,0.17,0.18,0.0,0.1,0.0,0.15,0.0,0.28,0.12,0.0,0.0,0.0,0.0,0.17,0.25,0.0,0.24,0.35,0.0,0.0,0.1,0.0,0.17,0.0,0.0,0.0,0.0,0.0,0.0,0.0,0.0,0.09,0.0,0.24,0.37,0.0,0.0,0.0,0.0,0.0,0.0,0.0,0.0,0.0,0.0,0.0,0.51,0.28,0.0,0.0,0.0,0.0,0.0,0.0,0.0,0.0,0.0,0.0,0.0,0.0,0.0,0.0,0.0,0.09,0.09,0.08,0.07,0.05,0.01,0.0,0.0,0.0,0.0,0.0,0.0,0.0,0.0,0.0,0.0,0.0,0.0,0.0,0.0,0.0,0.0,0.0],\"xaxis\":\"x9\",\"yaxis\":\"y9\",\"type\":\"histogram\"}],                        {\"barmode\":\"overlay\",\"legend\":{\"bgcolor\":\"#F5F6F9\",\"font\":{\"color\":\"#4D5663\"}},\"paper_bgcolor\":\"#F5F6F9\",\"plot_bgcolor\":\"#F5F6F9\",\"template\":{\"data\":{\"barpolar\":[{\"marker\":{\"line\":{\"color\":\"#E5ECF6\",\"width\":0.5},\"pattern\":{\"fillmode\":\"overlay\",\"size\":10,\"solidity\":0.2}},\"type\":\"barpolar\"}],\"bar\":[{\"error_x\":{\"color\":\"#2a3f5f\"},\"error_y\":{\"color\":\"#2a3f5f\"},\"marker\":{\"line\":{\"color\":\"#E5ECF6\",\"width\":0.5},\"pattern\":{\"fillmode\":\"overlay\",\"size\":10,\"solidity\":0.2}},\"type\":\"bar\"}],\"carpet\":[{\"aaxis\":{\"endlinecolor\":\"#2a3f5f\",\"gridcolor\":\"white\",\"linecolor\":\"white\",\"minorgridcolor\":\"white\",\"startlinecolor\":\"#2a3f5f\"},\"baxis\":{\"endlinecolor\":\"#2a3f5f\",\"gridcolor\":\"white\",\"linecolor\":\"white\",\"minorgridcolor\":\"white\",\"startlinecolor\":\"#2a3f5f\"},\"type\":\"carpet\"}],\"choropleth\":[{\"colorbar\":{\"outlinewidth\":0,\"ticks\":\"\"},\"type\":\"choropleth\"}],\"contourcarpet\":[{\"colorbar\":{\"outlinewidth\":0,\"ticks\":\"\"},\"type\":\"contourcarpet\"}],\"contour\":[{\"colorbar\":{\"outlinewidth\":0,\"ticks\":\"\"},\"colorscale\":[[0.0,\"#0d0887\"],[0.1111111111111111,\"#46039f\"],[0.2222222222222222,\"#7201a8\"],[0.3333333333333333,\"#9c179e\"],[0.4444444444444444,\"#bd3786\"],[0.5555555555555556,\"#d8576b\"],[0.6666666666666666,\"#ed7953\"],[0.7777777777777778,\"#fb9f3a\"],[0.8888888888888888,\"#fdca26\"],[1.0,\"#f0f921\"]],\"type\":\"contour\"}],\"heatmapgl\":[{\"colorbar\":{\"outlinewidth\":0,\"ticks\":\"\"},\"colorscale\":[[0.0,\"#0d0887\"],[0.1111111111111111,\"#46039f\"],[0.2222222222222222,\"#7201a8\"],[0.3333333333333333,\"#9c179e\"],[0.4444444444444444,\"#bd3786\"],[0.5555555555555556,\"#d8576b\"],[0.6666666666666666,\"#ed7953\"],[0.7777777777777778,\"#fb9f3a\"],[0.8888888888888888,\"#fdca26\"],[1.0,\"#f0f921\"]],\"type\":\"heatmapgl\"}],\"heatmap\":[{\"colorbar\":{\"outlinewidth\":0,\"ticks\":\"\"},\"colorscale\":[[0.0,\"#0d0887\"],[0.1111111111111111,\"#46039f\"],[0.2222222222222222,\"#7201a8\"],[0.3333333333333333,\"#9c179e\"],[0.4444444444444444,\"#bd3786\"],[0.5555555555555556,\"#d8576b\"],[0.6666666666666666,\"#ed7953\"],[0.7777777777777778,\"#fb9f3a\"],[0.8888888888888888,\"#fdca26\"],[1.0,\"#f0f921\"]],\"type\":\"heatmap\"}],\"histogram2dcontour\":[{\"colorbar\":{\"outlinewidth\":0,\"ticks\":\"\"},\"colorscale\":[[0.0,\"#0d0887\"],[0.1111111111111111,\"#46039f\"],[0.2222222222222222,\"#7201a8\"],[0.3333333333333333,\"#9c179e\"],[0.4444444444444444,\"#bd3786\"],[0.5555555555555556,\"#d8576b\"],[0.6666666666666666,\"#ed7953\"],[0.7777777777777778,\"#fb9f3a\"],[0.8888888888888888,\"#fdca26\"],[1.0,\"#f0f921\"]],\"type\":\"histogram2dcontour\"}],\"histogram2d\":[{\"colorbar\":{\"outlinewidth\":0,\"ticks\":\"\"},\"colorscale\":[[0.0,\"#0d0887\"],[0.1111111111111111,\"#46039f\"],[0.2222222222222222,\"#7201a8\"],[0.3333333333333333,\"#9c179e\"],[0.4444444444444444,\"#bd3786\"],[0.5555555555555556,\"#d8576b\"],[0.6666666666666666,\"#ed7953\"],[0.7777777777777778,\"#fb9f3a\"],[0.8888888888888888,\"#fdca26\"],[1.0,\"#f0f921\"]],\"type\":\"histogram2d\"}],\"histogram\":[{\"marker\":{\"pattern\":{\"fillmode\":\"overlay\",\"size\":10,\"solidity\":0.2}},\"type\":\"histogram\"}],\"mesh3d\":[{\"colorbar\":{\"outlinewidth\":0,\"ticks\":\"\"},\"type\":\"mesh3d\"}],\"parcoords\":[{\"line\":{\"colorbar\":{\"outlinewidth\":0,\"ticks\":\"\"}},\"type\":\"parcoords\"}],\"pie\":[{\"automargin\":true,\"type\":\"pie\"}],\"scatter3d\":[{\"line\":{\"colorbar\":{\"outlinewidth\":0,\"ticks\":\"\"}},\"marker\":{\"colorbar\":{\"outlinewidth\":0,\"ticks\":\"\"}},\"type\":\"scatter3d\"}],\"scattercarpet\":[{\"marker\":{\"colorbar\":{\"outlinewidth\":0,\"ticks\":\"\"}},\"type\":\"scattercarpet\"}],\"scattergeo\":[{\"marker\":{\"colorbar\":{\"outlinewidth\":0,\"ticks\":\"\"}},\"type\":\"scattergeo\"}],\"scattergl\":[{\"marker\":{\"colorbar\":{\"outlinewidth\":0,\"ticks\":\"\"}},\"type\":\"scattergl\"}],\"scattermapbox\":[{\"marker\":{\"colorbar\":{\"outlinewidth\":0,\"ticks\":\"\"}},\"type\":\"scattermapbox\"}],\"scatterpolargl\":[{\"marker\":{\"colorbar\":{\"outlinewidth\":0,\"ticks\":\"\"}},\"type\":\"scatterpolargl\"}],\"scatterpolar\":[{\"marker\":{\"colorbar\":{\"outlinewidth\":0,\"ticks\":\"\"}},\"type\":\"scatterpolar\"}],\"scatter\":[{\"marker\":{\"colorbar\":{\"outlinewidth\":0,\"ticks\":\"\"}},\"type\":\"scatter\"}],\"scatterternary\":[{\"marker\":{\"colorbar\":{\"outlinewidth\":0,\"ticks\":\"\"}},\"type\":\"scatterternary\"}],\"surface\":[{\"colorbar\":{\"outlinewidth\":0,\"ticks\":\"\"},\"colorscale\":[[0.0,\"#0d0887\"],[0.1111111111111111,\"#46039f\"],[0.2222222222222222,\"#7201a8\"],[0.3333333333333333,\"#9c179e\"],[0.4444444444444444,\"#bd3786\"],[0.5555555555555556,\"#d8576b\"],[0.6666666666666666,\"#ed7953\"],[0.7777777777777778,\"#fb9f3a\"],[0.8888888888888888,\"#fdca26\"],[1.0,\"#f0f921\"]],\"type\":\"surface\"}],\"table\":[{\"cells\":{\"fill\":{\"color\":\"#EBF0F8\"},\"line\":{\"color\":\"white\"}},\"header\":{\"fill\":{\"color\":\"#C8D4E3\"},\"line\":{\"color\":\"white\"}},\"type\":\"table\"}]},\"layout\":{\"annotationdefaults\":{\"arrowcolor\":\"#2a3f5f\",\"arrowhead\":0,\"arrowwidth\":1},\"autotypenumbers\":\"strict\",\"coloraxis\":{\"colorbar\":{\"outlinewidth\":0,\"ticks\":\"\"}},\"colorscale\":{\"diverging\":[[0,\"#8e0152\"],[0.1,\"#c51b7d\"],[0.2,\"#de77ae\"],[0.3,\"#f1b6da\"],[0.4,\"#fde0ef\"],[0.5,\"#f7f7f7\"],[0.6,\"#e6f5d0\"],[0.7,\"#b8e186\"],[0.8,\"#7fbc41\"],[0.9,\"#4d9221\"],[1,\"#276419\"]],\"sequential\":[[0.0,\"#0d0887\"],[0.1111111111111111,\"#46039f\"],[0.2222222222222222,\"#7201a8\"],[0.3333333333333333,\"#9c179e\"],[0.4444444444444444,\"#bd3786\"],[0.5555555555555556,\"#d8576b\"],[0.6666666666666666,\"#ed7953\"],[0.7777777777777778,\"#fb9f3a\"],[0.8888888888888888,\"#fdca26\"],[1.0,\"#f0f921\"]],\"sequentialminus\":[[0.0,\"#0d0887\"],[0.1111111111111111,\"#46039f\"],[0.2222222222222222,\"#7201a8\"],[0.3333333333333333,\"#9c179e\"],[0.4444444444444444,\"#bd3786\"],[0.5555555555555556,\"#d8576b\"],[0.6666666666666666,\"#ed7953\"],[0.7777777777777778,\"#fb9f3a\"],[0.8888888888888888,\"#fdca26\"],[1.0,\"#f0f921\"]]},\"colorway\":[\"#636efa\",\"#EF553B\",\"#00cc96\",\"#ab63fa\",\"#FFA15A\",\"#19d3f3\",\"#FF6692\",\"#B6E880\",\"#FF97FF\",\"#FECB52\"],\"font\":{\"color\":\"#2a3f5f\"},\"geo\":{\"bgcolor\":\"white\",\"lakecolor\":\"white\",\"landcolor\":\"#E5ECF6\",\"showlakes\":true,\"showland\":true,\"subunitcolor\":\"white\"},\"hoverlabel\":{\"align\":\"left\"},\"hovermode\":\"closest\",\"mapbox\":{\"style\":\"light\"},\"paper_bgcolor\":\"white\",\"plot_bgcolor\":\"#E5ECF6\",\"polar\":{\"angularaxis\":{\"gridcolor\":\"white\",\"linecolor\":\"white\",\"ticks\":\"\"},\"bgcolor\":\"#E5ECF6\",\"radialaxis\":{\"gridcolor\":\"white\",\"linecolor\":\"white\",\"ticks\":\"\"}},\"scene\":{\"xaxis\":{\"backgroundcolor\":\"#E5ECF6\",\"gridcolor\":\"white\",\"gridwidth\":2,\"linecolor\":\"white\",\"showbackground\":true,\"ticks\":\"\",\"zerolinecolor\":\"white\"},\"yaxis\":{\"backgroundcolor\":\"#E5ECF6\",\"gridcolor\":\"white\",\"gridwidth\":2,\"linecolor\":\"white\",\"showbackground\":true,\"ticks\":\"\",\"zerolinecolor\":\"white\"},\"zaxis\":{\"backgroundcolor\":\"#E5ECF6\",\"gridcolor\":\"white\",\"gridwidth\":2,\"linecolor\":\"white\",\"showbackground\":true,\"ticks\":\"\",\"zerolinecolor\":\"white\"}},\"shapedefaults\":{\"line\":{\"color\":\"#2a3f5f\"}},\"ternary\":{\"aaxis\":{\"gridcolor\":\"white\",\"linecolor\":\"white\",\"ticks\":\"\"},\"baxis\":{\"gridcolor\":\"white\",\"linecolor\":\"white\",\"ticks\":\"\"},\"bgcolor\":\"#E5ECF6\",\"caxis\":{\"gridcolor\":\"white\",\"linecolor\":\"white\",\"ticks\":\"\"}},\"title\":{\"x\":0.05},\"xaxis\":{\"automargin\":true,\"gridcolor\":\"white\",\"linecolor\":\"white\",\"ticks\":\"\",\"title\":{\"standoff\":15},\"zerolinecolor\":\"white\",\"zerolinewidth\":2},\"yaxis\":{\"automargin\":true,\"gridcolor\":\"white\",\"linecolor\":\"white\",\"ticks\":\"\",\"title\":{\"standoff\":15},\"zerolinecolor\":\"white\",\"zerolinewidth\":2}}},\"title\":{\"font\":{\"color\":\"#4D5663\"}},\"xaxis\":{\"anchor\":\"y\",\"domain\":[0.0,0.45],\"gridcolor\":\"#E1E5ED\",\"showgrid\":true,\"tickfont\":{\"color\":\"#4D5663\"},\"title\":{\"font\":{\"color\":\"#4D5663\"},\"text\":\"\"},\"zerolinecolor\":\"#E1E5ED\"},\"yaxis\":{\"anchor\":\"x\",\"domain\":[0.848,1.0],\"gridcolor\":\"#E1E5ED\",\"showgrid\":true,\"tickfont\":{\"color\":\"#4D5663\"},\"title\":{\"font\":{\"color\":\"#4D5663\"},\"text\":\"\"},\"zerolinecolor\":\"#E1E5ED\"},\"xaxis2\":{\"anchor\":\"y2\",\"domain\":[0.55,1.0],\"gridcolor\":\"#E1E5ED\",\"showgrid\":true,\"tickfont\":{\"color\":\"#4D5663\"},\"title\":{\"font\":{\"color\":\"#4D5663\"},\"text\":\"\"},\"zerolinecolor\":\"#E1E5ED\"},\"yaxis2\":{\"anchor\":\"x2\",\"domain\":[0.848,1.0],\"gridcolor\":\"#E1E5ED\",\"showgrid\":true,\"tickfont\":{\"color\":\"#4D5663\"},\"title\":{\"font\":{\"color\":\"#4D5663\"},\"text\":\"\"},\"zerolinecolor\":\"#E1E5ED\"},\"xaxis3\":{\"anchor\":\"y3\",\"domain\":[0.0,0.45],\"gridcolor\":\"#E1E5ED\",\"showgrid\":true,\"tickfont\":{\"color\":\"#4D5663\"},\"title\":{\"font\":{\"color\":\"#4D5663\"},\"text\":\"\"},\"zerolinecolor\":\"#E1E5ED\"},\"yaxis3\":{\"anchor\":\"x3\",\"domain\":[0.6359999999999999,0.7879999999999999],\"gridcolor\":\"#E1E5ED\",\"showgrid\":true,\"tickfont\":{\"color\":\"#4D5663\"},\"title\":{\"font\":{\"color\":\"#4D5663\"},\"text\":\"\"},\"zerolinecolor\":\"#E1E5ED\"},\"xaxis4\":{\"anchor\":\"y4\",\"domain\":[0.55,1.0],\"gridcolor\":\"#E1E5ED\",\"showgrid\":true,\"tickfont\":{\"color\":\"#4D5663\"},\"title\":{\"font\":{\"color\":\"#4D5663\"},\"text\":\"\"},\"zerolinecolor\":\"#E1E5ED\"},\"yaxis4\":{\"anchor\":\"x4\",\"domain\":[0.6359999999999999,0.7879999999999999],\"gridcolor\":\"#E1E5ED\",\"showgrid\":true,\"tickfont\":{\"color\":\"#4D5663\"},\"title\":{\"font\":{\"color\":\"#4D5663\"},\"text\":\"\"},\"zerolinecolor\":\"#E1E5ED\"},\"xaxis5\":{\"anchor\":\"y5\",\"domain\":[0.0,0.45],\"gridcolor\":\"#E1E5ED\",\"showgrid\":true,\"tickfont\":{\"color\":\"#4D5663\"},\"title\":{\"font\":{\"color\":\"#4D5663\"},\"text\":\"\"},\"zerolinecolor\":\"#E1E5ED\"},\"yaxis5\":{\"anchor\":\"x5\",\"domain\":[0.424,0.576],\"gridcolor\":\"#E1E5ED\",\"showgrid\":true,\"tickfont\":{\"color\":\"#4D5663\"},\"title\":{\"font\":{\"color\":\"#4D5663\"},\"text\":\"\"},\"zerolinecolor\":\"#E1E5ED\"},\"xaxis6\":{\"anchor\":\"y6\",\"domain\":[0.55,1.0],\"gridcolor\":\"#E1E5ED\",\"showgrid\":true,\"tickfont\":{\"color\":\"#4D5663\"},\"title\":{\"font\":{\"color\":\"#4D5663\"},\"text\":\"\"},\"zerolinecolor\":\"#E1E5ED\"},\"yaxis6\":{\"anchor\":\"x6\",\"domain\":[0.424,0.576],\"gridcolor\":\"#E1E5ED\",\"showgrid\":true,\"tickfont\":{\"color\":\"#4D5663\"},\"title\":{\"font\":{\"color\":\"#4D5663\"},\"text\":\"\"},\"zerolinecolor\":\"#E1E5ED\"},\"xaxis7\":{\"anchor\":\"y7\",\"domain\":[0.0,0.45],\"gridcolor\":\"#E1E5ED\",\"showgrid\":true,\"tickfont\":{\"color\":\"#4D5663\"},\"title\":{\"font\":{\"color\":\"#4D5663\"},\"text\":\"\"},\"zerolinecolor\":\"#E1E5ED\"},\"yaxis7\":{\"anchor\":\"x7\",\"domain\":[0.212,0.364],\"gridcolor\":\"#E1E5ED\",\"showgrid\":true,\"tickfont\":{\"color\":\"#4D5663\"},\"title\":{\"font\":{\"color\":\"#4D5663\"},\"text\":\"\"},\"zerolinecolor\":\"#E1E5ED\"},\"xaxis8\":{\"anchor\":\"y8\",\"domain\":[0.55,1.0],\"gridcolor\":\"#E1E5ED\",\"showgrid\":true,\"tickfont\":{\"color\":\"#4D5663\"},\"title\":{\"font\":{\"color\":\"#4D5663\"},\"text\":\"\"},\"zerolinecolor\":\"#E1E5ED\"},\"yaxis8\":{\"anchor\":\"x8\",\"domain\":[0.212,0.364],\"gridcolor\":\"#E1E5ED\",\"showgrid\":true,\"tickfont\":{\"color\":\"#4D5663\"},\"title\":{\"font\":{\"color\":\"#4D5663\"},\"text\":\"\"},\"zerolinecolor\":\"#E1E5ED\"},\"xaxis9\":{\"anchor\":\"y9\",\"domain\":[0.0,0.45],\"gridcolor\":\"#E1E5ED\",\"showgrid\":true,\"tickfont\":{\"color\":\"#4D5663\"},\"title\":{\"font\":{\"color\":\"#4D5663\"},\"text\":\"\"},\"zerolinecolor\":\"#E1E5ED\"},\"yaxis9\":{\"anchor\":\"x9\",\"domain\":[0.0,0.152],\"gridcolor\":\"#E1E5ED\",\"showgrid\":true,\"tickfont\":{\"color\":\"#4D5663\"},\"title\":{\"font\":{\"color\":\"#4D5663\"},\"text\":\"\"},\"zerolinecolor\":\"#E1E5ED\"},\"xaxis10\":{\"anchor\":\"y10\",\"domain\":[0.55,1.0],\"gridcolor\":\"#E1E5ED\",\"showgrid\":true,\"tickfont\":{\"color\":\"#4D5663\"},\"title\":{\"font\":{\"color\":\"#4D5663\"},\"text\":\"\"},\"zerolinecolor\":\"#E1E5ED\"},\"yaxis10\":{\"anchor\":\"x10\",\"domain\":[0.0,0.152],\"gridcolor\":\"#E1E5ED\",\"showgrid\":true,\"tickfont\":{\"color\":\"#4D5663\"},\"title\":{\"font\":{\"color\":\"#4D5663\"},\"text\":\"\"},\"zerolinecolor\":\"#E1E5ED\"}},                        {\"showLink\": true, \"linkText\": \"Export to plot.ly\", \"plotlyServerURL\": \"https://plot.ly\", \"responsive\": true}                    ).then(function(){\n",
       "                            \n",
       "var gd = document.getElementById('6d49314e-4eac-4d0c-8802-52cd5a74c184');\n",
       "var x = new MutationObserver(function (mutations, observer) {{\n",
       "        var display = window.getComputedStyle(gd).display;\n",
       "        if (!display || display === 'none') {{\n",
       "            console.log([gd, 'removed!']);\n",
       "            Plotly.purge(gd);\n",
       "            observer.disconnect();\n",
       "        }}\n",
       "}});\n",
       "\n",
       "// Listen for the removal of the full notebook cells\n",
       "var notebookContainer = gd.closest('#notebook-container');\n",
       "if (notebookContainer) {{\n",
       "    x.observe(notebookContainer, {childList: true});\n",
       "}}\n",
       "\n",
       "// Listen for the clearing of the current output cell\n",
       "var outputEl = gd.closest('.output');\n",
       "if (outputEl) {{\n",
       "    x.observe(outputEl, {childList: true});\n",
       "}}\n",
       "\n",
       "                        })                };                });            </script>        </div>"
      ]
     },
     "metadata": {},
     "output_type": "display_data"
    }
   ],
   "source": [
    "df2_r.iplot(kind='hist', subplots=True)"
   ]
  },
  {
   "cell_type": "code",
   "execution_count": 44,
   "id": "39086094",
   "metadata": {},
   "outputs": [
    {
     "data": {
      "text/html": [
       "<div>\n",
       "<style scoped>\n",
       "    .dataframe tbody tr th:only-of-type {\n",
       "        vertical-align: middle;\n",
       "    }\n",
       "\n",
       "    .dataframe tbody tr th {\n",
       "        vertical-align: top;\n",
       "    }\n",
       "\n",
       "    .dataframe thead th {\n",
       "        text-align: right;\n",
       "    }\n",
       "</style>\n",
       "<table border=\"1\" class=\"dataframe\">\n",
       "  <thead>\n",
       "    <tr style=\"text-align: right;\">\n",
       "      <th></th>\n",
       "      <th>RI</th>\n",
       "      <th>Na</th>\n",
       "      <th>Mg</th>\n",
       "      <th>Al</th>\n",
       "      <th>Si</th>\n",
       "      <th>K</th>\n",
       "      <th>Ca</th>\n",
       "      <th>Ba</th>\n",
       "      <th>Fe</th>\n",
       "    </tr>\n",
       "  </thead>\n",
       "  <tbody>\n",
       "    <tr>\n",
       "      <th>0</th>\n",
       "      <td>0.872868</td>\n",
       "      <td>0.284953</td>\n",
       "      <td>1.254639</td>\n",
       "      <td>-0.692442</td>\n",
       "      <td>-1.127082</td>\n",
       "      <td>-0.671705</td>\n",
       "      <td>-0.145766</td>\n",
       "      <td>-0.352877</td>\n",
       "      <td>-0.586451</td>\n",
       "    </tr>\n",
       "    <tr>\n",
       "      <th>1</th>\n",
       "      <td>-0.249333</td>\n",
       "      <td>0.591817</td>\n",
       "      <td>0.636168</td>\n",
       "      <td>-0.170460</td>\n",
       "      <td>0.102319</td>\n",
       "      <td>-0.026213</td>\n",
       "      <td>-0.793734</td>\n",
       "      <td>-0.352877</td>\n",
       "      <td>-0.586451</td>\n",
       "    </tr>\n",
       "    <tr>\n",
       "      <th>2</th>\n",
       "      <td>-0.721318</td>\n",
       "      <td>0.149933</td>\n",
       "      <td>0.601422</td>\n",
       "      <td>0.190912</td>\n",
       "      <td>0.438787</td>\n",
       "      <td>-0.164533</td>\n",
       "      <td>-0.828949</td>\n",
       "      <td>-0.352877</td>\n",
       "      <td>-0.586451</td>\n",
       "    </tr>\n",
       "    <tr>\n",
       "      <th>3</th>\n",
       "      <td>-0.232831</td>\n",
       "      <td>-0.242853</td>\n",
       "      <td>0.698710</td>\n",
       "      <td>-0.310994</td>\n",
       "      <td>-0.052974</td>\n",
       "      <td>0.112107</td>\n",
       "      <td>-0.519052</td>\n",
       "      <td>-0.352877</td>\n",
       "      <td>-0.586451</td>\n",
       "    </tr>\n",
       "    <tr>\n",
       "      <th>4</th>\n",
       "      <td>-0.312045</td>\n",
       "      <td>-0.169205</td>\n",
       "      <td>0.650066</td>\n",
       "      <td>-0.411375</td>\n",
       "      <td>0.555256</td>\n",
       "      <td>0.081369</td>\n",
       "      <td>-0.624699</td>\n",
       "      <td>-0.352877</td>\n",
       "      <td>-0.586451</td>\n",
       "    </tr>\n",
       "    <tr>\n",
       "      <th>...</th>\n",
       "      <td>...</td>\n",
       "      <td>...</td>\n",
       "      <td>...</td>\n",
       "      <td>...</td>\n",
       "      <td>...</td>\n",
       "      <td>...</td>\n",
       "      <td>...</td>\n",
       "      <td>...</td>\n",
       "      <td>...</td>\n",
       "    </tr>\n",
       "    <tr>\n",
       "      <th>209</th>\n",
       "      <td>-0.704815</td>\n",
       "      <td>0.898681</td>\n",
       "      <td>-1.865511</td>\n",
       "      <td>2.881125</td>\n",
       "      <td>-0.052974</td>\n",
       "      <td>-0.640968</td>\n",
       "      <td>0.157088</td>\n",
       "      <td>1.783978</td>\n",
       "      <td>-0.586451</td>\n",
       "    </tr>\n",
       "    <tr>\n",
       "      <th>210</th>\n",
       "      <td>-0.500178</td>\n",
       "      <td>1.856097</td>\n",
       "      <td>-1.865511</td>\n",
       "      <td>1.094342</td>\n",
       "      <td>0.529374</td>\n",
       "      <td>-0.763919</td>\n",
       "      <td>-0.392276</td>\n",
       "      <td>2.852405</td>\n",
       "      <td>-0.586451</td>\n",
       "    </tr>\n",
       "    <tr>\n",
       "      <th>211</th>\n",
       "      <td>0.754046</td>\n",
       "      <td>1.168721</td>\n",
       "      <td>-1.865511</td>\n",
       "      <td>1.154570</td>\n",
       "      <td>0.995252</td>\n",
       "      <td>-0.763919</td>\n",
       "      <td>-0.364103</td>\n",
       "      <td>2.953200</td>\n",
       "      <td>-0.586451</td>\n",
       "    </tr>\n",
       "    <tr>\n",
       "      <th>212</th>\n",
       "      <td>-0.612399</td>\n",
       "      <td>1.193270</td>\n",
       "      <td>-1.865511</td>\n",
       "      <td>0.993960</td>\n",
       "      <td>1.241133</td>\n",
       "      <td>-0.763919</td>\n",
       "      <td>-0.335931</td>\n",
       "      <td>2.812087</td>\n",
       "      <td>-0.586451</td>\n",
       "    </tr>\n",
       "    <tr>\n",
       "      <th>213</th>\n",
       "      <td>-0.414363</td>\n",
       "      <td>1.009152</td>\n",
       "      <td>-1.865511</td>\n",
       "      <td>1.275028</td>\n",
       "      <td>0.917606</td>\n",
       "      <td>-0.763919</td>\n",
       "      <td>-0.237327</td>\n",
       "      <td>3.013677</td>\n",
       "      <td>-0.586451</td>\n",
       "    </tr>\n",
       "  </tbody>\n",
       "</table>\n",
       "<p>214 rows × 9 columns</p>\n",
       "</div>"
      ],
      "text/plain": [
       "           RI        Na        Mg        Al        Si         K        Ca  \\\n",
       "0    0.872868  0.284953  1.254639 -0.692442 -1.127082 -0.671705 -0.145766   \n",
       "1   -0.249333  0.591817  0.636168 -0.170460  0.102319 -0.026213 -0.793734   \n",
       "2   -0.721318  0.149933  0.601422  0.190912  0.438787 -0.164533 -0.828949   \n",
       "3   -0.232831 -0.242853  0.698710 -0.310994 -0.052974  0.112107 -0.519052   \n",
       "4   -0.312045 -0.169205  0.650066 -0.411375  0.555256  0.081369 -0.624699   \n",
       "..        ...       ...       ...       ...       ...       ...       ...   \n",
       "209 -0.704815  0.898681 -1.865511  2.881125 -0.052974 -0.640968  0.157088   \n",
       "210 -0.500178  1.856097 -1.865511  1.094342  0.529374 -0.763919 -0.392276   \n",
       "211  0.754046  1.168721 -1.865511  1.154570  0.995252 -0.763919 -0.364103   \n",
       "212 -0.612399  1.193270 -1.865511  0.993960  1.241133 -0.763919 -0.335931   \n",
       "213 -0.414363  1.009152 -1.865511  1.275028  0.917606 -0.763919 -0.237327   \n",
       "\n",
       "           Ba        Fe  \n",
       "0   -0.352877 -0.586451  \n",
       "1   -0.352877 -0.586451  \n",
       "2   -0.352877 -0.586451  \n",
       "3   -0.352877 -0.586451  \n",
       "4   -0.352877 -0.586451  \n",
       "..        ...       ...  \n",
       "209  1.783978 -0.586451  \n",
       "210  2.852405 -0.586451  \n",
       "211  2.953200 -0.586451  \n",
       "212  2.812087 -0.586451  \n",
       "213  3.013677 -0.586451  \n",
       "\n",
       "[214 rows x 9 columns]"
      ]
     },
     "execution_count": 44,
     "metadata": {},
     "output_type": "execute_result"
    }
   ],
   "source": [
    "### Standard Normalization\n",
    "\n",
    "scaler = StandardScaler()\n",
    "df2_scaled = scaler.fit_transform(df2_r)\n",
    "\n",
    "df2_scaled = pd.DataFrame(df2_scaled, columns=df2_r.columns)\n",
    "df2_scaled"
   ]
  },
  {
   "cell_type": "code",
   "execution_count": 45,
   "id": "648e1228",
   "metadata": {},
   "outputs": [
    {
     "data": {
      "text/html": [
       "<div>\n",
       "<style scoped>\n",
       "    .dataframe tbody tr th:only-of-type {\n",
       "        vertical-align: middle;\n",
       "    }\n",
       "\n",
       "    .dataframe tbody tr th {\n",
       "        vertical-align: top;\n",
       "    }\n",
       "\n",
       "    .dataframe thead th {\n",
       "        text-align: right;\n",
       "    }\n",
       "</style>\n",
       "<table border=\"1\" class=\"dataframe\">\n",
       "  <thead>\n",
       "    <tr style=\"text-align: right;\">\n",
       "      <th></th>\n",
       "      <th>RI</th>\n",
       "      <th>Na</th>\n",
       "      <th>Mg</th>\n",
       "      <th>Al</th>\n",
       "      <th>Si</th>\n",
       "      <th>K</th>\n",
       "      <th>Ca</th>\n",
       "      <th>Ba</th>\n",
       "      <th>Fe</th>\n",
       "    </tr>\n",
       "  </thead>\n",
       "  <tbody>\n",
       "    <tr>\n",
       "      <th>RI</th>\n",
       "      <td>1.004695</td>\n",
       "      <td>-0.192786</td>\n",
       "      <td>-0.122848</td>\n",
       "      <td>-0.409238</td>\n",
       "      <td>-0.544597</td>\n",
       "      <td>-0.291193</td>\n",
       "      <td>0.814207</td>\n",
       "      <td>-0.000388</td>\n",
       "      <td>0.143681</td>\n",
       "    </tr>\n",
       "    <tr>\n",
       "      <th>Na</th>\n",
       "      <td>-0.192786</td>\n",
       "      <td>1.004695</td>\n",
       "      <td>-0.275017</td>\n",
       "      <td>0.157530</td>\n",
       "      <td>-0.070137</td>\n",
       "      <td>-0.267336</td>\n",
       "      <td>-0.276736</td>\n",
       "      <td>0.328136</td>\n",
       "      <td>-0.242479</td>\n",
       "    </tr>\n",
       "    <tr>\n",
       "      <th>Mg</th>\n",
       "      <td>-0.122848</td>\n",
       "      <td>-0.275017</td>\n",
       "      <td>1.004695</td>\n",
       "      <td>-0.484060</td>\n",
       "      <td>-0.166706</td>\n",
       "      <td>0.005421</td>\n",
       "      <td>-0.445833</td>\n",
       "      <td>-0.494573</td>\n",
       "      <td>0.083449</td>\n",
       "    </tr>\n",
       "    <tr>\n",
       "      <th>Al</th>\n",
       "      <td>-0.409238</td>\n",
       "      <td>0.157530</td>\n",
       "      <td>-0.484060</td>\n",
       "      <td>1.004695</td>\n",
       "      <td>-0.005550</td>\n",
       "      <td>0.327489</td>\n",
       "      <td>-0.260811</td>\n",
       "      <td>0.481655</td>\n",
       "      <td>-0.074751</td>\n",
       "    </tr>\n",
       "    <tr>\n",
       "      <th>Si</th>\n",
       "      <td>-0.544597</td>\n",
       "      <td>-0.070137</td>\n",
       "      <td>-0.166706</td>\n",
       "      <td>-0.005550</td>\n",
       "      <td>1.004695</td>\n",
       "      <td>-0.194239</td>\n",
       "      <td>-0.209712</td>\n",
       "      <td>-0.102631</td>\n",
       "      <td>-0.094643</td>\n",
       "    </tr>\n",
       "    <tr>\n",
       "      <th>K</th>\n",
       "      <td>-0.291193</td>\n",
       "      <td>-0.267336</td>\n",
       "      <td>0.005421</td>\n",
       "      <td>0.327489</td>\n",
       "      <td>-0.194239</td>\n",
       "      <td>1.004695</td>\n",
       "      <td>-0.319328</td>\n",
       "      <td>-0.042818</td>\n",
       "      <td>-0.007755</td>\n",
       "    </tr>\n",
       "    <tr>\n",
       "      <th>Ca</th>\n",
       "      <td>0.814207</td>\n",
       "      <td>-0.276736</td>\n",
       "      <td>-0.445833</td>\n",
       "      <td>-0.260811</td>\n",
       "      <td>-0.209712</td>\n",
       "      <td>-0.319328</td>\n",
       "      <td>1.004695</td>\n",
       "      <td>-0.113371</td>\n",
       "      <td>0.125555</td>\n",
       "    </tr>\n",
       "    <tr>\n",
       "      <th>Ba</th>\n",
       "      <td>-0.000388</td>\n",
       "      <td>0.328136</td>\n",
       "      <td>-0.494573</td>\n",
       "      <td>0.481655</td>\n",
       "      <td>-0.102631</td>\n",
       "      <td>-0.042818</td>\n",
       "      <td>-0.113371</td>\n",
       "      <td>1.004695</td>\n",
       "      <td>-0.058967</td>\n",
       "    </tr>\n",
       "    <tr>\n",
       "      <th>Fe</th>\n",
       "      <td>0.143681</td>\n",
       "      <td>-0.242479</td>\n",
       "      <td>0.083449</td>\n",
       "      <td>-0.074751</td>\n",
       "      <td>-0.094643</td>\n",
       "      <td>-0.007755</td>\n",
       "      <td>0.125555</td>\n",
       "      <td>-0.058967</td>\n",
       "      <td>1.004695</td>\n",
       "    </tr>\n",
       "  </tbody>\n",
       "</table>\n",
       "</div>"
      ],
      "text/plain": [
       "          RI        Na        Mg        Al        Si         K        Ca  \\\n",
       "RI  1.004695 -0.192786 -0.122848 -0.409238 -0.544597 -0.291193  0.814207   \n",
       "Na -0.192786  1.004695 -0.275017  0.157530 -0.070137 -0.267336 -0.276736   \n",
       "Mg -0.122848 -0.275017  1.004695 -0.484060 -0.166706  0.005421 -0.445833   \n",
       "Al -0.409238  0.157530 -0.484060  1.004695 -0.005550  0.327489 -0.260811   \n",
       "Si -0.544597 -0.070137 -0.166706 -0.005550  1.004695 -0.194239 -0.209712   \n",
       "K  -0.291193 -0.267336  0.005421  0.327489 -0.194239  1.004695 -0.319328   \n",
       "Ca  0.814207 -0.276736 -0.445833 -0.260811 -0.209712 -0.319328  1.004695   \n",
       "Ba -0.000388  0.328136 -0.494573  0.481655 -0.102631 -0.042818 -0.113371   \n",
       "Fe  0.143681 -0.242479  0.083449 -0.074751 -0.094643 -0.007755  0.125555   \n",
       "\n",
       "          Ba        Fe  \n",
       "RI -0.000388  0.143681  \n",
       "Na  0.328136 -0.242479  \n",
       "Mg -0.494573  0.083449  \n",
       "Al  0.481655 -0.074751  \n",
       "Si -0.102631 -0.094643  \n",
       "K  -0.042818 -0.007755  \n",
       "Ca -0.113371  0.125555  \n",
       "Ba  1.004695 -0.058967  \n",
       "Fe -0.058967  1.004695  "
      ]
     },
     "execution_count": 45,
     "metadata": {},
     "output_type": "execute_result"
    }
   ],
   "source": [
    "## Covariance\n",
    "\n",
    "sig = df2_scaled.cov()\n",
    "sig"
   ]
  },
  {
   "cell_type": "code",
   "execution_count": 46,
   "id": "797ce164",
   "metadata": {},
   "outputs": [
    {
     "data": {
      "text/plain": [
       "(array([2.52295323e+00, 2.05969694e+00, 1.41143951e+00, 1.16329842e+00,\n",
       "        9.18293337e-01, 5.30112353e-01, 3.70690643e-01, 6.41527269e-02,\n",
       "        1.61637096e-03]),\n",
       " array([[-0.54517662,  0.28568318,  0.08691083, -0.14738099,  0.0735427 ,\n",
       "         -0.11528772, -0.08186724, -0.7522159 ,  0.02573194],\n",
       "        [ 0.2581256 ,  0.27035007, -0.38491962, -0.49124204, -0.1536833 ,\n",
       "          0.55811757, -0.14858006, -0.12769315, -0.31193718],\n",
       "        [-0.11088095, -0.59355826,  0.00841796, -0.37878577, -0.12350912,\n",
       "         -0.30818598,  0.20604537, -0.07689061, -0.57727335],\n",
       "        [ 0.42870863,  0.29521154,  0.32923712,  0.13750592, -0.01410888,\n",
       "          0.01885731,  0.69923557, -0.27444105, -0.19222686],\n",
       "        [ 0.22883635, -0.15509891, -0.45870884,  0.65253771, -0.00850012,\n",
       "         -0.08609797, -0.21606658, -0.37992298, -0.29807321],\n",
       "        [ 0.21934405, -0.15397013,  0.66257412,  0.03853544,  0.30703984,\n",
       "          0.24363237, -0.50412141, -0.10981168, -0.26050863],\n",
       "        [-0.49230609,  0.3453798 , -0.00098473,  0.27644322,  0.18818774,\n",
       "          0.14866937,  0.09913463,  0.39870468, -0.57932321],\n",
       "        [ 0.25037512,  0.48470218,  0.07405473, -0.13317545, -0.25133426,\n",
       "         -0.65721884, -0.35178255,  0.14493235, -0.1982282 ],\n",
       "        [-0.18584154, -0.06203879,  0.28445055,  0.23049202, -0.87326405,\n",
       "          0.24304431, -0.07372136, -0.01627141, -0.01466944]]))"
      ]
     },
     "execution_count": 46,
     "metadata": {},
     "output_type": "execute_result"
    }
   ],
   "source": [
    "### Finding the Principal axes\n",
    "\n",
    "vals2, vecs2 = np.linalg.eig(sig)\n",
    "vals2, vecs2"
   ]
  },
  {
   "cell_type": "code",
   "execution_count": 47,
   "id": "a7234014",
   "metadata": {},
   "outputs": [
    {
     "name": "stdout",
     "output_type": "stream",
     "text": [
      "<class 'pandas.core.series.Series'>\n"
     ]
    },
    {
     "data": {
      "text/plain": [
       "0     -1.151140\n",
       "1      0.574137\n",
       "2      0.940160\n",
       "3      0.142083\n",
       "4      0.351092\n",
       "         ...   \n",
       "209    2.383835\n",
       "210    2.397652\n",
       "211    1.680246\n",
       "212    2.369748\n",
       "213    2.262649\n",
       "Length: 214, dtype: float64"
      ]
     },
     "execution_count": 47,
     "metadata": {},
     "output_type": "execute_result"
    }
   ],
   "source": [
    "### PC1\n",
    "\n",
    "pc1 = df2_scaled @ vecs2[:, 0]\n",
    "print(type(pc1))\n",
    "pc1"
   ]
  },
  {
   "cell_type": "code",
   "execution_count": 48,
   "id": "1b46019a",
   "metadata": {},
   "outputs": [
    {
     "data": {
      "text/plain": [
       "array([2.52295323e+00, 2.05969694e+00, 1.41143951e+00, 1.16329842e+00,\n",
       "       9.18293337e-01, 5.30112353e-01, 3.70690643e-01, 6.41527269e-02,\n",
       "       1.61637096e-03])"
      ]
     },
     "execution_count": 48,
     "metadata": {},
     "output_type": "execute_result"
    }
   ],
   "source": [
    "vals2"
   ]
  },
  {
   "cell_type": "code",
   "execution_count": 49,
   "id": "da2ea9bc",
   "metadata": {},
   "outputs": [
    {
     "data": {
      "text/plain": [
       "array([1.61637096e-03, 6.41527269e-02, 3.70690643e-01, 5.30112353e-01,\n",
       "       9.18293337e-01, 1.16329842e+00, 1.41143951e+00, 2.05969694e+00,\n",
       "       2.52295323e+00])"
      ]
     },
     "execution_count": 49,
     "metadata": {},
     "output_type": "execute_result"
    }
   ],
   "source": [
    "vals2.sort()\n",
    "vals2"
   ]
  },
  {
   "cell_type": "code",
   "execution_count": 50,
   "id": "3e823ee6",
   "metadata": {},
   "outputs": [
    {
     "name": "stdout",
     "output_type": "stream",
     "text": [
      "PC2: \n"
     ]
    },
    {
     "data": {
      "text/plain": [
       "0     -0.529488\n",
       "1     -0.759788\n",
       "2     -0.929836\n",
       "3     -0.961677\n",
       "4     -1.091249\n",
       "         ...   \n",
       "209    3.061677\n",
       "210    3.108236\n",
       "211    3.284823\n",
       "212    2.756873\n",
       "213    3.028592\n",
       "Length: 214, dtype: float64"
      ]
     },
     "execution_count": 50,
     "metadata": {},
     "output_type": "execute_result"
    }
   ],
   "source": [
    "### PC2\n",
    "\n",
    "pc2 = df2_scaled @ vecs2[:, 1]\n",
    "print(\"PC2: \")\n",
    "pc2"
   ]
  },
  {
   "cell_type": "code",
   "execution_count": 51,
   "id": "1dd98b58",
   "metadata": {},
   "outputs": [
    {
     "data": {
      "text/plain": [
       "(214,)"
      ]
     },
     "execution_count": 51,
     "metadata": {},
     "output_type": "execute_result"
    }
   ],
   "source": [
    "pc1.shape"
   ]
  },
  {
   "cell_type": "markdown",
   "id": "d7919016",
   "metadata": {},
   "source": [
    "### # Ways to prove that the consequent Principal Axes are actually represent the dataset:\n",
    "\n",
    "- ### `Product of PC1 and PC2 matrices must be 0. (property of matrix)`\n",
    "- ### `Reverse engineer the step and see if you're able to get the original dataset.`\n",
    "- ### `Cross-check w the scikit-learn library.`"
   ]
  },
  {
   "cell_type": "code",
   "execution_count": 52,
   "id": "2a962b15",
   "metadata": {},
   "outputs": [],
   "source": [
    "from sklearn.decomposition import PCA"
   ]
  },
  {
   "cell_type": "code",
   "execution_count": 53,
   "id": "8c1c698e",
   "metadata": {},
   "outputs": [
    {
     "data": {
      "text/plain": [
       "array([[ 1.15113957e+00, -5.29487638e-01],\n",
       "       [-5.74137172e-01, -7.59787774e-01],\n",
       "       [-9.40159722e-01, -9.29835966e-01],\n",
       "       [-1.42083283e-01, -9.61677440e-01],\n",
       "       [-3.51092291e-01, -1.09124921e+00],\n",
       "       [-2.90266583e-01, -1.32400756e+00],\n",
       "       [-2.52671444e-01, -1.11614958e+00],\n",
       "       [-1.20299466e-01, -1.22184622e+00],\n",
       "       [-2.08160308e-02, -3.21932609e-01],\n",
       "       [-2.35222894e-03, -1.06581344e+00],\n",
       "       [-3.82514937e-01, -1.38013403e+00],\n",
       "       [-1.33538675e-02, -1.10471913e+00],\n",
       "       [-3.09724390e-01, -1.42304024e+00],\n",
       "       [ 1.56521013e-01, -1.23592823e+00],\n",
       "       [-8.99566628e-02, -1.18125211e+00],\n",
       "       [-1.15255023e-01, -1.16028212e+00],\n",
       "       [ 1.73458320e-01, -1.18243967e+00],\n",
       "       [ 1.45812372e+00,  9.88413780e-02],\n",
       "       [ 5.47316267e-01, -2.95660130e-01],\n",
       "       [-3.08817022e-01, -7.63162157e-01],\n",
       "       [ 2.05673879e-01, -9.99182661e-01],\n",
       "       [ 1.21605345e+00, -4.36896108e-01],\n",
       "       [ 4.11679297e-02, -1.02788338e+00],\n",
       "       [-1.13206012e-01, -1.02762181e+00],\n",
       "       [-1.47523366e-01, -9.33767049e-01],\n",
       "       [-5.04865218e-02, -1.04723075e+00],\n",
       "       [-1.55773980e-01, -7.38149546e-01],\n",
       "       [-2.17093779e-01, -1.03946718e+00],\n",
       "       [-1.15093633e-01, -1.05293936e+00],\n",
       "       [-6.58374915e-02, -9.02875839e-01],\n",
       "       [ 2.98261451e-01, -1.16489328e+00],\n",
       "       [-2.22363433e-02, -1.16273745e+00],\n",
       "       [ 3.96586112e-01, -1.07307343e+00],\n",
       "       [-6.90862734e-02, -1.16390421e+00],\n",
       "       [ 8.17537725e-02, -9.66019429e-01],\n",
       "       [-3.88918640e-01, -1.00978004e+00],\n",
       "       [ 2.57422809e-01, -9.89360442e-02],\n",
       "       [ 2.70430953e-02, -9.41150868e-01],\n",
       "       [ 1.93311245e+00, -1.42114298e-01],\n",
       "       [ 1.93311245e+00, -1.42114298e-01],\n",
       "       [ 2.13978802e-01, -1.06505169e+00],\n",
       "       [ 1.73653764e-02, -1.10093167e+00],\n",
       "       [-9.91042449e-02, -7.46806921e-01],\n",
       "       [ 1.90784649e+00, -1.35146218e-01],\n",
       "       [ 7.55238909e-01, -1.19430193e+00],\n",
       "       [ 4.15149070e-01, -2.93287264e-01],\n",
       "       [ 6.04423395e-01, -7.80199849e-01],\n",
       "       [ 2.97136159e+00,  4.63140502e-01],\n",
       "       [ 2.07281161e+00, -1.93673881e-01],\n",
       "       [ 3.93111591e-01, -3.40258187e-01],\n",
       "       [ 2.72721095e+00, -1.13038577e-01],\n",
       "       [ 7.23068883e-01, -4.74891927e-01],\n",
       "       [ 1.06160451e-01, -4.14506038e-01],\n",
       "       [ 1.81361046e-01, -4.09957896e-01],\n",
       "       [ 1.71804895e-01, -5.10287786e-01],\n",
       "       [ 4.59256767e-01, -9.72071790e-01],\n",
       "       [-4.23198376e-01, -1.81655603e+00],\n",
       "       [ 1.58405624e-02, -9.57454062e-01],\n",
       "       [-3.27242420e-01, -1.10236197e+00],\n",
       "       [ 3.73730855e-02, -1.05432062e+00],\n",
       "       [ 4.57306871e-01, -5.51911400e-01],\n",
       "       [ 2.36220840e-01,  5.68330203e-01],\n",
       "       [ 1.88483803e+00, -2.96475700e-01],\n",
       "       [ 1.90646324e+00,  1.85186825e-01],\n",
       "       [ 1.76739012e+00, -2.34851172e-01],\n",
       "       [ 1.20709914e+00, -1.68166022e-02],\n",
       "       [ 2.09535866e+00, -4.27013874e-01],\n",
       "       [ 2.06574480e+00, -4.47085324e-01],\n",
       "       [ 2.00488480e+00, -3.63498656e-01],\n",
       "       [ 2.25195536e+00,  2.79739773e-02],\n",
       "       [-1.11062971e+00, -3.60459191e-01],\n",
       "       [ 7.49344065e-01, -8.70094723e-01],\n",
       "       [-9.35068761e-01, -1.20394562e+00],\n",
       "       [-8.81333556e-01, -9.72313068e-01],\n",
       "       [-9.22562290e-01, -1.19692928e+00],\n",
       "       [-8.78041073e-01, -1.20892921e+00],\n",
       "       [-6.85088615e-01, -8.41639892e-01],\n",
       "       [-6.90359145e-01, -1.06629931e+00],\n",
       "       [-4.62997748e-01, -9.88247287e-01],\n",
       "       [-1.07450035e+00, -9.64788704e-01],\n",
       "       [-1.21369799e+00, -7.79098155e-01],\n",
       "       [-9.09189665e-01, -1.13899985e+00],\n",
       "       [-5.35657351e-01, -1.06978417e+00],\n",
       "       [-6.51404126e-01, -1.11647242e+00],\n",
       "       [-2.31637606e+00, -5.73982461e-01],\n",
       "       [-6.19527617e-01, -8.77061910e-01],\n",
       "       [-8.67763488e-01, -1.07801813e+00],\n",
       "       [-5.36304118e-01, -9.23478860e-01],\n",
       "       [-6.50903533e-01, -1.06424608e+00],\n",
       "       [-7.55392780e-01, -1.09926663e+00],\n",
       "       [ 9.91658801e-01, -1.02189999e+00],\n",
       "       [-5.62642120e-01, -1.06581042e+00],\n",
       "       [-3.06796378e-01, -9.64066395e-01],\n",
       "       [-7.34604026e-01, -9.22386904e-01],\n",
       "       [-6.55247560e-01, -1.14303255e+00],\n",
       "       [ 9.46407531e-02, -4.56164629e-01],\n",
       "       [ 9.04286720e-01, -8.98187688e-01],\n",
       "       [ 6.13895376e-01, -1.40234153e+00],\n",
       "       [-6.54109481e-01, -7.10902736e-01],\n",
       "       [-1.33583022e-01, -4.11998638e-01],\n",
       "       [-2.26479128e-02, -8.10349081e-01],\n",
       "       [-7.23703277e-02, -5.16663086e-01],\n",
       "       [ 9.83504760e-01, -1.02010847e+00],\n",
       "       [ 3.85238194e+00,  1.34506467e+00],\n",
       "       [ 2.35136469e+00,  1.14019846e+00],\n",
       "       [ 3.33328693e+00,  2.02616879e+00],\n",
       "       [ 3.64021336e+00,  6.19344465e+00],\n",
       "       [ 7.13869786e+00,  4.00443669e+00],\n",
       "       [ 1.69502290e+00,  2.07414559e+00],\n",
       "       [ 7.41593451e-01,  7.85341417e-01],\n",
       "       [ 4.51874493e+00,  2.02772563e+00],\n",
       "       [ 4.87303441e+00,  2.11110882e+00],\n",
       "       [ 4.59649709e+00,  2.69944760e+00],\n",
       "       [ 3.23984511e-01, -9.15170462e-01],\n",
       "       [ 2.59209029e-01, -1.01845622e+00],\n",
       "       [ 2.86272002e-02, -8.03704365e-01],\n",
       "       [ 1.86714046e-01, -8.88809019e-01],\n",
       "       [-8.34974605e-01, -5.23690716e-01],\n",
       "       [-6.31138456e-02, -1.09080518e+00],\n",
       "       [-6.88645250e-01, -8.44544670e-01],\n",
       "       [ 9.33354363e-02, -7.97513650e-01],\n",
       "       [-3.25952384e-01, -1.16131445e+00],\n",
       "       [-5.72010313e-01, -9.28041764e-01],\n",
       "       [-7.81415457e-01, -6.41887105e-01],\n",
       "       [ 7.93041028e-01, -6.04328270e-01],\n",
       "       [ 2.72746438e-01, -7.60850930e-01],\n",
       "       [-1.21350033e-01, -1.06270367e+00],\n",
       "       [ 1.11574391e+00,  6.20438569e-01],\n",
       "       [ 6.40905488e-01,  9.00575079e-01],\n",
       "       [ 1.06594039e+00,  1.36757767e+00],\n",
       "       [ 1.37738839e+00,  1.60336370e+00],\n",
       "       [ 3.41894371e+00,  3.13489973e+00],\n",
       "       [-2.30106379e-03, -1.02447346e+00],\n",
       "       [ 9.43164121e-02, -6.45011377e-01],\n",
       "       [-1.20536745e-01, -1.01574215e+00],\n",
       "       [ 6.14443758e-01, -1.09156288e+00],\n",
       "       [ 3.37682286e-01, -1.29110463e+00],\n",
       "       [-5.41321804e-01, -1.03138006e+00],\n",
       "       [-7.66226327e-01, -1.21918683e+00],\n",
       "       [-7.74831821e-01, -1.08145439e+00],\n",
       "       [-6.58328771e-01, -7.80730458e-01],\n",
       "       [ 4.79061318e-01, -1.00897795e+00],\n",
       "       [-6.25511768e-02, -1.22086276e+00],\n",
       "       [-7.02191754e-01, -7.51136992e-01],\n",
       "       [ 3.02639624e-01, -1.04410159e+00],\n",
       "       [ 9.68425776e-01, -1.14896334e+00],\n",
       "       [ 1.15965177e-01, -7.37970348e-01],\n",
       "       [-4.92429807e-01, -9.56241961e-01],\n",
       "       [-1.66864635e-01, -9.65406470e-01],\n",
       "       [-7.09007624e-02, -1.30120252e+00],\n",
       "       [-3.15800764e-01, -7.53169864e-01],\n",
       "       [ 1.52912927e+00,  5.44240128e-02],\n",
       "       [ 5.95438880e-01, -9.54422853e-01],\n",
       "       [-4.47183180e-01, -9.57421674e-01],\n",
       "       [-2.28073900e-03, -9.59297592e-01],\n",
       "       [-2.77448819e-01, -1.01028758e+00],\n",
       "       [-2.62625463e-01, -7.71749068e-01],\n",
       "       [ 1.74711568e+00, -1.83206568e-01],\n",
       "       [-8.19412962e-02, -3.43555681e-01],\n",
       "       [ 7.70000955e-02, -2.78969006e-01],\n",
       "       [ 1.06061322e-01, -2.83081850e-01],\n",
       "       [ 1.21897823e+00, -6.73372800e-01],\n",
       "       [ 2.19327703e+00, -1.60194716e-01],\n",
       "       [-4.32287332e+00,  2.65385680e+00],\n",
       "       [ 2.60337952e-01,  5.48033322e-01],\n",
       "       [ 1.80337643e+00,  5.28727703e-01],\n",
       "       [ 1.78618611e+00,  3.12751888e-01],\n",
       "       [ 6.83776477e-01,  1.39728332e+00],\n",
       "       [-7.95024676e-01,  7.94729609e-01],\n",
       "       [ 5.44543846e-01,  1.76724509e+00],\n",
       "       [ 1.92981829e+00,  2.49244227e+00],\n",
       "       [-4.38953460e+00, -1.03449577e-01],\n",
       "       [-4.43253973e+00, -1.68680125e-01],\n",
       "       [ 1.59504215e+00,  2.11331608e+00],\n",
       "       [ 1.01004447e+00,  8.84077930e-01],\n",
       "       [ 1.63107556e+00,  1.31861732e+00],\n",
       "       [ 2.56498778e-01,  6.39225236e-01],\n",
       "       [ 6.54463516e-01,  3.42545752e-01],\n",
       "       [-1.99650272e-01,  7.40225310e-01],\n",
       "       [-1.44389955e-01,  6.39849281e-01],\n",
       "       [-2.32566823e+00, -4.62400329e-01],\n",
       "       [-2.73475886e-01,  1.78882182e+00],\n",
       "       [-6.68969638e-02,  2.24369392e+00],\n",
       "       [ 1.11416397e+00,  1.45711253e+00],\n",
       "       [-3.28279679e+00, -4.17913576e-02],\n",
       "       [-3.95051181e+00, -7.28506609e-01],\n",
       "       [-2.76034579e+00,  1.26705494e+00],\n",
       "       [ 1.06709874e+00, -7.14334989e-02],\n",
       "       [ 5.88963889e-01,  1.91167950e+00],\n",
       "       [-2.17032226e-02,  3.47383505e+00],\n",
       "       [-1.38770709e+00,  1.08914537e+00],\n",
       "       [-2.14926480e+00,  2.29560843e+00],\n",
       "       [-2.10698079e+00,  2.13071878e+00],\n",
       "       [-2.08135612e+00,  3.07840526e+00],\n",
       "       [-2.16116939e+00,  2.89977062e+00],\n",
       "       [-2.29846438e+00,  2.21466938e+00],\n",
       "       [-2.10499822e+00,  2.37404264e+00],\n",
       "       [-1.95865705e+00,  2.46318823e+00],\n",
       "       [-2.39038043e+00,  2.40058515e+00],\n",
       "       [-2.34025986e+00,  2.43366642e+00],\n",
       "       [-2.67936046e+00,  2.13082037e+00],\n",
       "       [-1.37738556e+00, -8.70759297e-01],\n",
       "       [-2.73231156e+00,  2.03728730e+00],\n",
       "       [-2.52519849e+00,  3.12098266e+00],\n",
       "       [-2.26974017e+00,  2.34831576e+00],\n",
       "       [-2.04532108e+00,  3.07594965e+00],\n",
       "       [-2.18787696e+00,  2.85648463e+00],\n",
       "       [-3.55709771e+00,  3.46675073e+00],\n",
       "       [-1.99364680e+00,  2.59939654e+00],\n",
       "       [-2.38383457e+00,  3.06167702e+00],\n",
       "       [-2.39765190e+00,  3.10823570e+00],\n",
       "       [-1.68024627e+00,  3.28482346e+00],\n",
       "       [-2.36974768e+00,  2.75687280e+00],\n",
       "       [-2.26264885e+00,  3.02859155e+00]])"
      ]
     },
     "execution_count": 53,
     "metadata": {},
     "output_type": "execute_result"
    }
   ],
   "source": [
    "## Components: PC1 and PC2\n",
    "\n",
    "pca = PCA(n_components=2)\n",
    "comps = pca.fit_transform(df2_scaled)\n",
    "comps"
   ]
  },
  {
   "cell_type": "code",
   "execution_count": 54,
   "id": "8ad50abd",
   "metadata": {},
   "outputs": [
    {
     "data": {
      "text/plain": [
       "array([ 1.15113957e+00, -5.74137172e-01, -9.40159722e-01, -1.42083283e-01,\n",
       "       -3.51092291e-01, -2.90266583e-01, -2.52671444e-01, -1.20299466e-01,\n",
       "       -2.08160308e-02, -2.35222894e-03, -3.82514937e-01, -1.33538675e-02,\n",
       "       -3.09724390e-01,  1.56521013e-01, -8.99566628e-02, -1.15255023e-01,\n",
       "        1.73458320e-01,  1.45812372e+00,  5.47316267e-01, -3.08817022e-01,\n",
       "        2.05673879e-01,  1.21605345e+00,  4.11679297e-02, -1.13206012e-01,\n",
       "       -1.47523366e-01, -5.04865218e-02, -1.55773980e-01, -2.17093779e-01,\n",
       "       -1.15093633e-01, -6.58374915e-02,  2.98261451e-01, -2.22363433e-02,\n",
       "        3.96586112e-01, -6.90862734e-02,  8.17537725e-02, -3.88918640e-01,\n",
       "        2.57422809e-01,  2.70430953e-02,  1.93311245e+00,  1.93311245e+00,\n",
       "        2.13978802e-01,  1.73653764e-02, -9.91042449e-02,  1.90784649e+00,\n",
       "        7.55238909e-01,  4.15149070e-01,  6.04423395e-01,  2.97136159e+00,\n",
       "        2.07281161e+00,  3.93111591e-01,  2.72721095e+00,  7.23068883e-01,\n",
       "        1.06160451e-01,  1.81361046e-01,  1.71804895e-01,  4.59256767e-01,\n",
       "       -4.23198376e-01,  1.58405624e-02, -3.27242420e-01,  3.73730855e-02,\n",
       "        4.57306871e-01,  2.36220840e-01,  1.88483803e+00,  1.90646324e+00,\n",
       "        1.76739012e+00,  1.20709914e+00,  2.09535866e+00,  2.06574480e+00,\n",
       "        2.00488480e+00,  2.25195536e+00, -1.11062971e+00,  7.49344065e-01,\n",
       "       -9.35068761e-01, -8.81333556e-01, -9.22562290e-01, -8.78041073e-01,\n",
       "       -6.85088615e-01, -6.90359145e-01, -4.62997748e-01, -1.07450035e+00,\n",
       "       -1.21369799e+00, -9.09189665e-01, -5.35657351e-01, -6.51404126e-01,\n",
       "       -2.31637606e+00, -6.19527617e-01, -8.67763488e-01, -5.36304118e-01,\n",
       "       -6.50903533e-01, -7.55392780e-01,  9.91658801e-01, -5.62642120e-01,\n",
       "       -3.06796378e-01, -7.34604026e-01, -6.55247560e-01,  9.46407531e-02,\n",
       "        9.04286720e-01,  6.13895376e-01, -6.54109481e-01, -1.33583022e-01,\n",
       "       -2.26479128e-02, -7.23703277e-02,  9.83504760e-01,  3.85238194e+00,\n",
       "        2.35136469e+00,  3.33328693e+00,  3.64021336e+00,  7.13869786e+00,\n",
       "        1.69502290e+00,  7.41593451e-01,  4.51874493e+00,  4.87303441e+00,\n",
       "        4.59649709e+00,  3.23984511e-01,  2.59209029e-01,  2.86272002e-02,\n",
       "        1.86714046e-01, -8.34974605e-01, -6.31138456e-02, -6.88645250e-01,\n",
       "        9.33354363e-02, -3.25952384e-01, -5.72010313e-01, -7.81415457e-01,\n",
       "        7.93041028e-01,  2.72746438e-01, -1.21350033e-01,  1.11574391e+00,\n",
       "        6.40905488e-01,  1.06594039e+00,  1.37738839e+00,  3.41894371e+00,\n",
       "       -2.30106379e-03,  9.43164121e-02, -1.20536745e-01,  6.14443758e-01,\n",
       "        3.37682286e-01, -5.41321804e-01, -7.66226327e-01, -7.74831821e-01,\n",
       "       -6.58328771e-01,  4.79061318e-01, -6.25511768e-02, -7.02191754e-01,\n",
       "        3.02639624e-01,  9.68425776e-01,  1.15965177e-01, -4.92429807e-01,\n",
       "       -1.66864635e-01, -7.09007624e-02, -3.15800764e-01,  1.52912927e+00,\n",
       "        5.95438880e-01, -4.47183180e-01, -2.28073900e-03, -2.77448819e-01,\n",
       "       -2.62625463e-01,  1.74711568e+00, -8.19412962e-02,  7.70000955e-02,\n",
       "        1.06061322e-01,  1.21897823e+00,  2.19327703e+00, -4.32287332e+00,\n",
       "        2.60337952e-01,  1.80337643e+00,  1.78618611e+00,  6.83776477e-01,\n",
       "       -7.95024676e-01,  5.44543846e-01,  1.92981829e+00, -4.38953460e+00,\n",
       "       -4.43253973e+00,  1.59504215e+00,  1.01004447e+00,  1.63107556e+00,\n",
       "        2.56498778e-01,  6.54463516e-01, -1.99650272e-01, -1.44389955e-01,\n",
       "       -2.32566823e+00, -2.73475886e-01, -6.68969638e-02,  1.11416397e+00,\n",
       "       -3.28279679e+00, -3.95051181e+00, -2.76034579e+00,  1.06709874e+00,\n",
       "        5.88963889e-01, -2.17032226e-02, -1.38770709e+00, -2.14926480e+00,\n",
       "       -2.10698079e+00, -2.08135612e+00, -2.16116939e+00, -2.29846438e+00,\n",
       "       -2.10499822e+00, -1.95865705e+00, -2.39038043e+00, -2.34025986e+00,\n",
       "       -2.67936046e+00, -1.37738556e+00, -2.73231156e+00, -2.52519849e+00,\n",
       "       -2.26974017e+00, -2.04532108e+00, -2.18787696e+00, -3.55709771e+00,\n",
       "       -1.99364680e+00, -2.38383457e+00, -2.39765190e+00, -1.68024627e+00,\n",
       "       -2.36974768e+00, -2.26264885e+00])"
      ]
     },
     "execution_count": 54,
     "metadata": {},
     "output_type": "execute_result"
    }
   ],
   "source": [
    "# Components\n",
    "\n",
    "pc1_ = comps[:, 0]\n",
    "pc1_"
   ]
  },
  {
   "cell_type": "code",
   "execution_count": 55,
   "id": "5887ff2e",
   "metadata": {},
   "outputs": [
    {
     "data": {
      "text/plain": [
       "array([-1.15113957e+00,  5.74137172e-01,  9.40159722e-01,  1.42083283e-01,\n",
       "        3.51092291e-01,  2.90266583e-01,  2.52671444e-01,  1.20299466e-01,\n",
       "        2.08160308e-02,  2.35222894e-03,  3.82514937e-01,  1.33538675e-02,\n",
       "        3.09724390e-01, -1.56521013e-01,  8.99566628e-02,  1.15255023e-01,\n",
       "       -1.73458320e-01, -1.45812372e+00, -5.47316267e-01,  3.08817022e-01,\n",
       "       -2.05673879e-01, -1.21605345e+00, -4.11679297e-02,  1.13206012e-01,\n",
       "        1.47523366e-01,  5.04865218e-02,  1.55773980e-01,  2.17093779e-01,\n",
       "        1.15093633e-01,  6.58374915e-02, -2.98261451e-01,  2.22363433e-02,\n",
       "       -3.96586112e-01,  6.90862734e-02, -8.17537725e-02,  3.88918640e-01,\n",
       "       -2.57422809e-01, -2.70430953e-02, -1.93311245e+00, -1.93311245e+00,\n",
       "       -2.13978802e-01, -1.73653764e-02,  9.91042449e-02, -1.90784649e+00,\n",
       "       -7.55238909e-01, -4.15149070e-01, -6.04423395e-01, -2.97136159e+00,\n",
       "       -2.07281161e+00, -3.93111591e-01, -2.72721095e+00, -7.23068883e-01,\n",
       "       -1.06160451e-01, -1.81361046e-01, -1.71804895e-01, -4.59256767e-01,\n",
       "        4.23198376e-01, -1.58405624e-02,  3.27242420e-01, -3.73730855e-02,\n",
       "       -4.57306871e-01, -2.36220840e-01, -1.88483803e+00, -1.90646324e+00,\n",
       "       -1.76739012e+00, -1.20709914e+00, -2.09535866e+00, -2.06574480e+00,\n",
       "       -2.00488480e+00, -2.25195536e+00,  1.11062971e+00, -7.49344065e-01,\n",
       "        9.35068761e-01,  8.81333556e-01,  9.22562290e-01,  8.78041073e-01,\n",
       "        6.85088615e-01,  6.90359145e-01,  4.62997748e-01,  1.07450035e+00,\n",
       "        1.21369799e+00,  9.09189665e-01,  5.35657351e-01,  6.51404126e-01,\n",
       "        2.31637606e+00,  6.19527617e-01,  8.67763488e-01,  5.36304118e-01,\n",
       "        6.50903533e-01,  7.55392780e-01, -9.91658801e-01,  5.62642120e-01,\n",
       "        3.06796378e-01,  7.34604026e-01,  6.55247560e-01, -9.46407531e-02,\n",
       "       -9.04286720e-01, -6.13895376e-01,  6.54109481e-01,  1.33583022e-01,\n",
       "        2.26479128e-02,  7.23703277e-02, -9.83504760e-01, -3.85238194e+00,\n",
       "       -2.35136469e+00, -3.33328693e+00, -3.64021336e+00, -7.13869786e+00,\n",
       "       -1.69502290e+00, -7.41593451e-01, -4.51874493e+00, -4.87303441e+00,\n",
       "       -4.59649709e+00, -3.23984511e-01, -2.59209029e-01, -2.86272002e-02,\n",
       "       -1.86714046e-01,  8.34974605e-01,  6.31138456e-02,  6.88645250e-01,\n",
       "       -9.33354363e-02,  3.25952384e-01,  5.72010313e-01,  7.81415457e-01,\n",
       "       -7.93041028e-01, -2.72746438e-01,  1.21350033e-01, -1.11574391e+00,\n",
       "       -6.40905488e-01, -1.06594039e+00, -1.37738839e+00, -3.41894371e+00,\n",
       "        2.30106379e-03, -9.43164121e-02,  1.20536745e-01, -6.14443758e-01,\n",
       "       -3.37682286e-01,  5.41321804e-01,  7.66226327e-01,  7.74831821e-01,\n",
       "        6.58328771e-01, -4.79061318e-01,  6.25511768e-02,  7.02191754e-01,\n",
       "       -3.02639624e-01, -9.68425776e-01, -1.15965177e-01,  4.92429807e-01,\n",
       "        1.66864635e-01,  7.09007624e-02,  3.15800764e-01, -1.52912927e+00,\n",
       "       -5.95438880e-01,  4.47183180e-01,  2.28073900e-03,  2.77448819e-01,\n",
       "        2.62625463e-01, -1.74711568e+00,  8.19412962e-02, -7.70000955e-02,\n",
       "       -1.06061322e-01, -1.21897823e+00, -2.19327703e+00,  4.32287332e+00,\n",
       "       -2.60337952e-01, -1.80337643e+00, -1.78618611e+00, -6.83776477e-01,\n",
       "        7.95024676e-01, -5.44543846e-01, -1.92981829e+00,  4.38953460e+00,\n",
       "        4.43253973e+00, -1.59504215e+00, -1.01004447e+00, -1.63107556e+00,\n",
       "       -2.56498778e-01, -6.54463516e-01,  1.99650272e-01,  1.44389955e-01,\n",
       "        2.32566823e+00,  2.73475886e-01,  6.68969638e-02, -1.11416397e+00,\n",
       "        3.28279679e+00,  3.95051181e+00,  2.76034579e+00, -1.06709874e+00,\n",
       "       -5.88963889e-01,  2.17032226e-02,  1.38770709e+00,  2.14926480e+00,\n",
       "        2.10698079e+00,  2.08135612e+00,  2.16116939e+00,  2.29846438e+00,\n",
       "        2.10499822e+00,  1.95865705e+00,  2.39038043e+00,  2.34025986e+00,\n",
       "        2.67936046e+00,  1.37738556e+00,  2.73231156e+00,  2.52519849e+00,\n",
       "        2.26974017e+00,  2.04532108e+00,  2.18787696e+00,  3.55709771e+00,\n",
       "        1.99364680e+00,  2.38383457e+00,  2.39765190e+00,  1.68024627e+00,\n",
       "        2.36974768e+00,  2.26264885e+00])"
      ]
     },
     "execution_count": 55,
     "metadata": {},
     "output_type": "execute_result"
    }
   ],
   "source": [
    "np.array(pc1)"
   ]
  },
  {
   "cell_type": "code",
   "execution_count": 56,
   "id": "3efcf360",
   "metadata": {},
   "outputs": [],
   "source": [
    "### Let's see how many pricipal axes are we supposed to select\n",
    "## Let's plot Screen Plot"
   ]
  },
  {
   "cell_type": "code",
   "execution_count": 57,
   "id": "a267e179",
   "metadata": {},
   "outputs": [
    {
     "data": {
      "text/plain": [
       "array([[ 1.15113957, -0.52948764, -0.37209565, ..., -0.39560005,\n",
       "        -0.19716008,  0.01634649],\n",
       "       [-0.57413717, -0.75978777, -0.55670817, ..., -0.02415793,\n",
       "        -0.28421356, -0.0107898 ],\n",
       "       [-0.94015972, -0.92983597, -0.55490744, ..., -0.36751757,\n",
       "        -0.09594067,  0.02164019],\n",
       "       ...,\n",
       "       [-1.68024627,  3.28482346, -0.93034851, ...,  0.67412231,\n",
       "        -0.89170969,  0.04628358],\n",
       "       [-2.36974768,  2.7568728 , -1.23470076, ...,  0.67889932,\n",
       "         0.07446015, -0.02730068],\n",
       "       [-2.26264885,  3.02859155, -0.89084474, ...,  0.46246107,\n",
       "         0.0633149 , -0.01944978]])"
      ]
     },
     "execution_count": 57,
     "metadata": {},
     "output_type": "execute_result"
    }
   ],
   "source": [
    "pca = PCA()\n",
    "pcs = pca.fit_transform(df2_scaled)\n",
    "pcs"
   ]
  },
  {
   "cell_type": "code",
   "execution_count": 58,
   "id": "1333ef06",
   "metadata": {},
   "outputs": [
    {
     "data": {
      "text/plain": [
       "array([2.79018192e-01, 2.27785798e-01, 1.56093777e-01, 1.28651383e-01,\n",
       "       1.01555805e-01, 5.86261325e-02, 4.09953826e-02, 7.09477197e-03,\n",
       "       1.78757536e-04])"
      ]
     },
     "execution_count": 58,
     "metadata": {},
     "output_type": "execute_result"
    }
   ],
   "source": [
    "## EVRs\n",
    "\n",
    "evrs = pca.explained_variance_ratio_\n",
    "evrs"
   ]
  },
  {
   "cell_type": "code",
   "execution_count": 59,
   "id": "d4d434bc",
   "metadata": {},
   "outputs": [
    {
     "data": {
      "text/plain": [
       "array([0.27901819, 0.50680399, 0.66289777, 0.79154915, 0.89310496,\n",
       "       0.95173109, 0.99272647, 0.99982124, 1.        ])"
      ]
     },
     "execution_count": 59,
     "metadata": {},
     "output_type": "execute_result"
    }
   ],
   "source": [
    "np.cumsum(evrs)"
   ]
  },
  {
   "cell_type": "code",
   "execution_count": 60,
   "id": "53c9b287",
   "metadata": {},
   "outputs": [
    {
     "data": {
      "text/plain": [
       "Text(0.5, 1.0, 'Screen Plot')"
      ]
     },
     "execution_count": 60,
     "metadata": {},
     "output_type": "execute_result"
    },
    {
     "data": {
      "image/png": "[encoded data removed]",
      "text/plain": [
       "<Figure size 432x288 with 1 Axes>"
      ]
     },
     "metadata": {
      "needs_background": "light"
     },
     "output_type": "display_data"
    }
   ],
   "source": [
    "## Screen Plot\n",
    "\n",
    "import matplotlib.pyplot as plt\n",
    "\n",
    "plt.figure()\n",
    "sns.lineplot(data=np.cumsum(evrs))\n",
    "plt.xlabel(\"Number of Principal Axes\")\n",
    "plt.ylabel(\"Explained Variance Ratio\")\n",
    "plt.title(\"Screen Plot\")"
   ]
  }
 ],
 "metadata": {
  "kernelspec": {
   "display_name": "Python 3 (ipykernel)",
   "language": "python",
   "name": "python3"
  },
  "language_info": {
   "codemirror_mode": {
    "name": "ipython",
    "version": 3
   },
   "file_extension": ".py",
   "mimetype": "text/x-python",
   "name": "python",
   "nbconvert_exporter": "python",
   "pygments_lexer": "ipython3",
   "version": "3.9.12"
  }
 },
 "nbformat": 4,
 "nbformat_minor": 5
}
