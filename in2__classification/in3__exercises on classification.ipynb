{
 "cells": [
  {
   "cell_type": "markdown",
   "id": "35ac6bcf",
   "metadata": {},
   "source": [
    "### 1. A classifier on MNIST dataset with 97% accuracy on test data."
   ]
  },
  {
   "cell_type": "code",
   "execution_count": 1,
   "id": "1d5375d1",
   "metadata": {},
   "outputs": [],
   "source": [
    "from sklearn.datasets import fetch_openml\n",
    "import pandas as pd\n",
    "import numpy as np\n",
    "\n",
    "import matplotlib.pyplot as plt\n",
    "import seaborn as sns\n",
    "import plotly.express as px"
   ]
  },
  {
   "cell_type": "code",
   "execution_count": 2,
   "id": "29a756da",
   "metadata": {},
   "outputs": [],
   "source": [
    "import warnings\n",
    "\n",
    "warnings.filterwarnings('ignore')"
   ]
  },
  {
   "cell_type": "code",
   "execution_count": 3,
   "id": "140eff4f",
   "metadata": {},
   "outputs": [],
   "source": [
    "## Loading the MNIST dataset\n",
    "\n",
    "mnist = fetch_openml('mnist_784', version=1)"
   ]
  },
  {
   "cell_type": "code",
   "execution_count": 4,
   "id": "7d93bd00",
   "metadata": {},
   "outputs": [
    {
     "data": {
      "text/plain": [
       "dict_keys(['data', 'target', 'frame', 'categories', 'feature_names', 'target_names', 'DESCR', 'details', 'url'])"
      ]
     },
     "execution_count": 4,
     "metadata": {},
     "output_type": "execute_result"
    }
   ],
   "source": [
    "mnist.keys()"
   ]
  },
  {
   "cell_type": "code",
   "execution_count": 5,
   "id": "59a9cac0",
   "metadata": {},
   "outputs": [
    {
     "name": "stdout",
     "output_type": "stream",
     "text": [
      "(70000, 784)\n",
      "(70000,)\n"
     ]
    }
   ],
   "source": [
    "X, y = mnist[\"data\"], mnist[\"target\"]\n",
    "\n",
    "# features\n",
    "print(X.shape)\n",
    "\n",
    "# labels\n",
    "print(y.shape)"
   ]
  },
  {
   "cell_type": "code",
   "execution_count": 6,
   "id": "00a28e66",
   "metadata": {},
   "outputs": [
    {
     "name": "stderr",
     "output_type": "stream",
     "text": [
      "[Parallel(n_jobs=1)]: Using backend SequentialBackend with 1 concurrent workers.\n"
     ]
    },
    {
     "name": "stdout",
     "output_type": "stream",
     "text": [
      "[CV] END ................................ score: (test=0.968) total time=  55.6s\n"
     ]
    },
    {
     "name": "stderr",
     "output_type": "stream",
     "text": [
      "[Parallel(n_jobs=1)]: Done   1 out of   1 | elapsed:   55.7s remaining:    0.0s\n"
     ]
    },
    {
     "name": "stdout",
     "output_type": "stream",
     "text": [
      "[CV] END ................................ score: (test=0.967) total time=  46.6s\n"
     ]
    },
    {
     "name": "stderr",
     "output_type": "stream",
     "text": [
      "[Parallel(n_jobs=1)]: Done   2 out of   2 | elapsed:  1.7min remaining:    0.0s\n"
     ]
    },
    {
     "name": "stdout",
     "output_type": "stream",
     "text": [
      "[CV] END ................................ score: (test=0.968) total time=  46.6s\n"
     ]
    },
    {
     "name": "stderr",
     "output_type": "stream",
     "text": [
      "[Parallel(n_jobs=1)]: Done   3 out of   3 | elapsed:  2.5min finished\n"
     ]
    }
   ],
   "source": [
    "## Train test split\n",
    "X_train, X_test, y_train, y_test = X.iloc[:60000], X.iloc[60000:], y[:60000], y[60000:]\n",
    "\n",
    "## Training a KNN classifier on MNIST dataset\n",
    "from sklearn.neighbors import KNeighborsClassifier\n",
    "knn_clf = KNeighborsClassifier()\n",
    "\n",
    "## Computing accuracy via cross-validation\n",
    "from sklearn.model_selection import cross_val_score\n",
    "scores = cross_val_score(knn_clf, X_train, y_train, cv=3, verbose=3)"
   ]
  },
  {
   "cell_type": "code",
   "execution_count": 7,
   "id": "e04f84c8",
   "metadata": {},
   "outputs": [
    {
     "data": {
      "text/plain": [
       "0.9674166666666667"
      ]
     },
     "execution_count": 7,
     "metadata": {},
     "output_type": "execute_result"
    }
   ],
   "source": [
    "## Mean accuracy\n",
    "\n",
    "scores.mean()"
   ]
  },
  {
   "cell_type": "markdown",
   "id": "acc46563",
   "metadata": {},
   "source": [
    "=> We're already getting some fair amount of accuracy. Let's increase it even more by tweaking some parameters via GridSearchCV."
   ]
  },
  {
   "cell_type": "code",
   "execution_count": 8,
   "id": "08576182",
   "metadata": {},
   "outputs": [
    {
     "name": "stdout",
     "output_type": "stream",
     "text": [
      "Fitting 3 folds for each of 6 candidates, totalling 18 fits\n",
      "[CV 1/3] END ....n_neighbors=3, weights=uniform;, score=0.969 total time=  43.6s\n",
      "[CV 2/3] END ....n_neighbors=3, weights=uniform;, score=0.968 total time=  45.7s\n",
      "[CV 3/3] END ....n_neighbors=3, weights=uniform;, score=0.968 total time=  48.4s\n",
      "[CV 1/3] END ...n_neighbors=3, weights=distance;, score=0.970 total time=  44.0s\n",
      "[CV 2/3] END ...n_neighbors=3, weights=distance;, score=0.969 total time=  45.0s\n",
      "[CV 3/3] END ...n_neighbors=3, weights=distance;, score=0.969 total time=  44.9s\n",
      "[CV 1/3] END ....n_neighbors=4, weights=uniform;, score=0.966 total time=  52.6s\n",
      "[CV 2/3] END ....n_neighbors=4, weights=uniform;, score=0.966 total time=  51.0s\n",
      "[CV 3/3] END ....n_neighbors=4, weights=uniform;, score=0.967 total time=  51.7s\n",
      "[CV 1/3] END ...n_neighbors=4, weights=distance;, score=0.971 total time=  49.6s\n",
      "[CV 2/3] END ...n_neighbors=4, weights=distance;, score=0.970 total time=  50.0s\n",
      "[CV 3/3] END ...n_neighbors=4, weights=distance;, score=0.970 total time=  50.6s\n",
      "[CV 1/3] END ....n_neighbors=5, weights=uniform;, score=0.968 total time=  51.2s\n",
      "[CV 2/3] END ....n_neighbors=5, weights=uniform;, score=0.967 total time=  51.7s\n",
      "[CV 3/3] END ....n_neighbors=5, weights=uniform;, score=0.968 total time=  52.1s\n",
      "[CV 1/3] END ...n_neighbors=5, weights=distance;, score=0.969 total time=  49.9s\n",
      "[CV 2/3] END ...n_neighbors=5, weights=distance;, score=0.968 total time=  50.3s\n",
      "[CV 3/3] END ...n_neighbors=5, weights=distance;, score=0.969 total time=  51.7s\n"
     ]
    },
    {
     "data": {
      "text/plain": [
       "GridSearchCV(cv=3, estimator=KNeighborsClassifier(),\n",
       "             param_grid={'n_neighbors': [3, 4, 5],\n",
       "                         'weights': ['uniform', 'distance']},\n",
       "             verbose=3)"
      ]
     },
     "execution_count": 8,
     "metadata": {},
     "output_type": "execute_result"
    }
   ],
   "source": [
    "## Hyperparameter Tuning\n",
    "from sklearn.model_selection import GridSearchCV\n",
    "\n",
    "# Params to be hypertuned\n",
    "grid_params = {\n",
    "    \"n_neighbors\": [3, 4, 5],\n",
    "    \"weights\": ['uniform', 'distance']\n",
    "}\n",
    "\n",
    "# Grid Search\n",
    "grid_search = GridSearchCV(param_grid=grid_params, estimator=knn_clf, cv=3, verbose=3)\n",
    "grid_search.fit(X_train, y_train)"
   ]
  },
  {
   "cell_type": "code",
   "execution_count": 9,
   "id": "de46ac5e",
   "metadata": {},
   "outputs": [
    {
     "name": "stdout",
     "output_type": "stream",
     "text": [
      "best_params:  {'n_neighbors': 4, 'weights': 'distance'}\n"
     ]
    },
    {
     "data": {
      "text/plain": [
       "KNeighborsClassifier(n_neighbors=4, weights='distance')"
      ]
     },
     "execution_count": 9,
     "metadata": {},
     "output_type": "execute_result"
    }
   ],
   "source": [
    "## best params\n",
    "best_params = grid_search.best_params_\n",
    "print(\"best_params: \", best_params)\n",
    "\n",
    "## best estimator\n",
    "best_knn_clf = grid_search.best_estimator_\n",
    "best_knn_clf"
   ]
  },
  {
   "cell_type": "code",
   "execution_count": 8,
   "id": "b59b6f84",
   "metadata": {},
   "outputs": [
    {
     "data": {
      "text/plain": [
       "KNeighborsClassifier(n_neighbors=4, weights='distance')"
      ]
     },
     "execution_count": 8,
     "metadata": {},
     "output_type": "execute_result"
    }
   ],
   "source": [
    "# KNN Classifier w best params\n",
    "\n",
    "best_knn_clf = KNeighborsClassifier(n_neighbors=4, weights=\"distance\")\n",
    "best_knn_clf.fit(X_train, y_train)"
   ]
  },
  {
   "cell_type": "code",
   "execution_count": 9,
   "id": "1739137f",
   "metadata": {},
   "outputs": [
    {
     "data": {
      "text/plain": [
       "0.9714"
      ]
     },
     "execution_count": 9,
     "metadata": {},
     "output_type": "execute_result"
    }
   ],
   "source": [
    "# Computing accuracy of the best KNN clf on test data\n",
    "\n",
    "best_knn_clf.score(X_test, y_test)"
   ]
  },
  {
   "cell_type": "markdown",
   "id": "6418f270",
   "metadata": {},
   "source": [
    "=> Woa, we got what we wanted, 97% accuracy on the test data,"
   ]
  },
  {
   "cell_type": "markdown",
   "id": "7d07231b",
   "metadata": {},
   "source": [
    "### 3. Tackle the `titanic` dataset."
   ]
  },
  {
   "cell_type": "code",
   "execution_count": null,
   "id": "15a62780",
   "metadata": {},
   "outputs": [],
   "source": []
  }
 ],
 "metadata": {
  "kernelspec": {
   "display_name": "Python 3 (ipykernel)",
   "language": "python",
   "name": "python3"
  },
  "language_info": {
   "codemirror_mode": {
    "name": "ipython",
    "version": 3
   },
   "file_extension": ".py",
   "mimetype": "text/x-python",
   "name": "python",
   "nbconvert_exporter": "python",
   "pygments_lexer": "ipython3",
   "version": "3.9.12"
  }
 },
 "nbformat": 4,
 "nbformat_minor": 5
}
