{
 "cells": [
  {
   "cell_type": "code",
   "execution_count": 1,
   "id": "4eed2a2a",
   "metadata": {},
   "outputs": [],
   "source": [
    "# %pip install pandas-datareader"
   ]
  },
  {
   "cell_type": "code",
   "execution_count": 2,
   "id": "25fbe4ff",
   "metadata": {},
   "outputs": [],
   "source": [
    "# !pip install yfinance --upgrade --no-cache-dir"
   ]
  },
  {
   "cell_type": "code",
   "execution_count": 3,
   "id": "4a9ba247",
   "metadata": {},
   "outputs": [
    {
     "data": {
      "application/javascript": [
       "IPython.notebook.set_autosave_interval(30000)"
      ]
     },
     "metadata": {},
     "output_type": "display_data"
    },
    {
     "name": "stdout",
     "output_type": "stream",
     "text": [
      "Autosaving every 30 seconds\n"
     ]
    }
   ],
   "source": [
    "%autosave 30"
   ]
  },
  {
   "cell_type": "code",
   "execution_count": 4,
   "id": "e3ed9504",
   "metadata": {},
   "outputs": [],
   "source": [
    "from pandas_datareader import data as pdr\n",
    "# import pandas_datareader.data as pdweb\n",
    "import yfinance as yf\n",
    "yf.pdr_override()\n",
    "\n",
    "import pandas as pd\n",
    "from datetime import datetime\n",
    "from datetime import date\n",
    "import matplotlib.pyplot as plt\n",
    "import seaborn as sns"
   ]
  },
  {
   "cell_type": "code",
   "execution_count": 5,
   "id": "e00155c9",
   "metadata": {},
   "outputs": [
    {
     "name": "stdout",
     "output_type": "stream",
     "text": [
      "[*********************100%***********************]  1 of 1 completed\n"
     ]
    },
    {
     "data": {
      "text/html": [
       "<div>\n",
       "<style scoped>\n",
       "    .dataframe tbody tr th:only-of-type {\n",
       "        vertical-align: middle;\n",
       "    }\n",
       "\n",
       "    .dataframe tbody tr th {\n",
       "        vertical-align: top;\n",
       "    }\n",
       "\n",
       "    .dataframe thead th {\n",
       "        text-align: right;\n",
       "    }\n",
       "</style>\n",
       "<table border=\"1\" class=\"dataframe\">\n",
       "  <thead>\n",
       "    <tr style=\"text-align: right;\">\n",
       "      <th></th>\n",
       "      <th>Open</th>\n",
       "      <th>High</th>\n",
       "      <th>Low</th>\n",
       "      <th>Close</th>\n",
       "      <th>Adj Close</th>\n",
       "      <th>Volume</th>\n",
       "    </tr>\n",
       "    <tr>\n",
       "      <th>Date</th>\n",
       "      <th></th>\n",
       "      <th></th>\n",
       "      <th></th>\n",
       "      <th></th>\n",
       "      <th></th>\n",
       "      <th></th>\n",
       "    </tr>\n",
       "  </thead>\n",
       "  <tbody>\n",
       "    <tr>\n",
       "      <th>2010-06-29 00:00:00-04:00</th>\n",
       "      <td>1.266667</td>\n",
       "      <td>1.666667</td>\n",
       "      <td>1.169333</td>\n",
       "      <td>1.592667</td>\n",
       "      <td>1.592667</td>\n",
       "      <td>281494500</td>\n",
       "    </tr>\n",
       "    <tr>\n",
       "      <th>2010-06-30 00:00:00-04:00</th>\n",
       "      <td>1.719333</td>\n",
       "      <td>2.028000</td>\n",
       "      <td>1.553333</td>\n",
       "      <td>1.588667</td>\n",
       "      <td>1.588667</td>\n",
       "      <td>257806500</td>\n",
       "    </tr>\n",
       "    <tr>\n",
       "      <th>2010-07-01 00:00:00-04:00</th>\n",
       "      <td>1.666667</td>\n",
       "      <td>1.728000</td>\n",
       "      <td>1.351333</td>\n",
       "      <td>1.464000</td>\n",
       "      <td>1.464000</td>\n",
       "      <td>123282000</td>\n",
       "    </tr>\n",
       "    <tr>\n",
       "      <th>2010-07-02 00:00:00-04:00</th>\n",
       "      <td>1.533333</td>\n",
       "      <td>1.540000</td>\n",
       "      <td>1.247333</td>\n",
       "      <td>1.280000</td>\n",
       "      <td>1.280000</td>\n",
       "      <td>77097000</td>\n",
       "    </tr>\n",
       "    <tr>\n",
       "      <th>2010-07-06 00:00:00-04:00</th>\n",
       "      <td>1.333333</td>\n",
       "      <td>1.333333</td>\n",
       "      <td>1.055333</td>\n",
       "      <td>1.074000</td>\n",
       "      <td>1.074000</td>\n",
       "      <td>103003500</td>\n",
       "    </tr>\n",
       "    <tr>\n",
       "      <th>...</th>\n",
       "      <td>...</td>\n",
       "      <td>...</td>\n",
       "      <td>...</td>\n",
       "      <td>...</td>\n",
       "      <td>...</td>\n",
       "      <td>...</td>\n",
       "    </tr>\n",
       "    <tr>\n",
       "      <th>2023-01-09 00:00:00-05:00</th>\n",
       "      <td>118.959999</td>\n",
       "      <td>123.519997</td>\n",
       "      <td>117.110001</td>\n",
       "      <td>119.769997</td>\n",
       "      <td>119.769997</td>\n",
       "      <td>190284000</td>\n",
       "    </tr>\n",
       "    <tr>\n",
       "      <th>2023-01-10 00:00:00-05:00</th>\n",
       "      <td>121.070000</td>\n",
       "      <td>122.760002</td>\n",
       "      <td>114.919998</td>\n",
       "      <td>118.849998</td>\n",
       "      <td>118.849998</td>\n",
       "      <td>167642500</td>\n",
       "    </tr>\n",
       "    <tr>\n",
       "      <th>2023-01-11 00:00:00-05:00</th>\n",
       "      <td>122.089996</td>\n",
       "      <td>125.949997</td>\n",
       "      <td>120.510002</td>\n",
       "      <td>123.220001</td>\n",
       "      <td>123.220001</td>\n",
       "      <td>183810800</td>\n",
       "    </tr>\n",
       "    <tr>\n",
       "      <th>2023-01-12 00:00:00-05:00</th>\n",
       "      <td>122.559998</td>\n",
       "      <td>124.129997</td>\n",
       "      <td>117.000000</td>\n",
       "      <td>123.559998</td>\n",
       "      <td>123.559998</td>\n",
       "      <td>169400900</td>\n",
       "    </tr>\n",
       "    <tr>\n",
       "      <th>2023-01-13 00:00:00-05:00</th>\n",
       "      <td>116.550003</td>\n",
       "      <td>122.629997</td>\n",
       "      <td>115.599998</td>\n",
       "      <td>122.400002</td>\n",
       "      <td>122.400002</td>\n",
       "      <td>180439300</td>\n",
       "    </tr>\n",
       "  </tbody>\n",
       "</table>\n",
       "<p>3159 rows × 6 columns</p>\n",
       "</div>"
      ],
      "text/plain": [
       "                                 Open        High         Low       Close  \\\n",
       "Date                                                                        \n",
       "2010-06-29 00:00:00-04:00    1.266667    1.666667    1.169333    1.592667   \n",
       "2010-06-30 00:00:00-04:00    1.719333    2.028000    1.553333    1.588667   \n",
       "2010-07-01 00:00:00-04:00    1.666667    1.728000    1.351333    1.464000   \n",
       "2010-07-02 00:00:00-04:00    1.533333    1.540000    1.247333    1.280000   \n",
       "2010-07-06 00:00:00-04:00    1.333333    1.333333    1.055333    1.074000   \n",
       "...                               ...         ...         ...         ...   \n",
       "2023-01-09 00:00:00-05:00  118.959999  123.519997  117.110001  119.769997   \n",
       "2023-01-10 00:00:00-05:00  121.070000  122.760002  114.919998  118.849998   \n",
       "2023-01-11 00:00:00-05:00  122.089996  125.949997  120.510002  123.220001   \n",
       "2023-01-12 00:00:00-05:00  122.559998  124.129997  117.000000  123.559998   \n",
       "2023-01-13 00:00:00-05:00  116.550003  122.629997  115.599998  122.400002   \n",
       "\n",
       "                            Adj Close     Volume  \n",
       "Date                                              \n",
       "2010-06-29 00:00:00-04:00    1.592667  281494500  \n",
       "2010-06-30 00:00:00-04:00    1.588667  257806500  \n",
       "2010-07-01 00:00:00-04:00    1.464000  123282000  \n",
       "2010-07-02 00:00:00-04:00    1.280000   77097000  \n",
       "2010-07-06 00:00:00-04:00    1.074000  103003500  \n",
       "...                               ...        ...  \n",
       "2023-01-09 00:00:00-05:00  119.769997  190284000  \n",
       "2023-01-10 00:00:00-05:00  118.849998  167642500  \n",
       "2023-01-11 00:00:00-05:00  123.220001  183810800  \n",
       "2023-01-12 00:00:00-05:00  123.559998  169400900  \n",
       "2023-01-13 00:00:00-05:00  122.400002  180439300  \n",
       "\n",
       "[3159 rows x 6 columns]"
      ]
     },
     "execution_count": 5,
     "metadata": {},
     "output_type": "execute_result"
    }
   ],
   "source": [
    "tsla = pdr.get_data_yahoo('TSLA')\n",
    "tsla"
   ]
  },
  {
   "cell_type": "code",
   "execution_count": 6,
   "id": "5c4b5f1d",
   "metadata": {},
   "outputs": [
    {
     "name": "stdout",
     "output_type": "stream",
     "text": [
      "datetime64[ns]\n"
     ]
    },
    {
     "data": {
      "text/html": [
       "<div>\n",
       "<style scoped>\n",
       "    .dataframe tbody tr th:only-of-type {\n",
       "        vertical-align: middle;\n",
       "    }\n",
       "\n",
       "    .dataframe tbody tr th {\n",
       "        vertical-align: top;\n",
       "    }\n",
       "\n",
       "    .dataframe thead th {\n",
       "        text-align: right;\n",
       "    }\n",
       "</style>\n",
       "<table border=\"1\" class=\"dataframe\">\n",
       "  <thead>\n",
       "    <tr style=\"text-align: right;\">\n",
       "      <th></th>\n",
       "      <th>Open</th>\n",
       "      <th>High</th>\n",
       "      <th>Low</th>\n",
       "      <th>Close</th>\n",
       "      <th>Adj Close</th>\n",
       "      <th>Volume</th>\n",
       "    </tr>\n",
       "    <tr>\n",
       "      <th>Date</th>\n",
       "      <th></th>\n",
       "      <th></th>\n",
       "      <th></th>\n",
       "      <th></th>\n",
       "      <th></th>\n",
       "      <th></th>\n",
       "    </tr>\n",
       "  </thead>\n",
       "  <tbody>\n",
       "    <tr>\n",
       "      <th>2010-06-29</th>\n",
       "      <td>1.266667</td>\n",
       "      <td>1.666667</td>\n",
       "      <td>1.169333</td>\n",
       "      <td>1.592667</td>\n",
       "      <td>1.592667</td>\n",
       "      <td>281494500</td>\n",
       "    </tr>\n",
       "    <tr>\n",
       "      <th>2010-06-30</th>\n",
       "      <td>1.719333</td>\n",
       "      <td>2.028000</td>\n",
       "      <td>1.553333</td>\n",
       "      <td>1.588667</td>\n",
       "      <td>1.588667</td>\n",
       "      <td>257806500</td>\n",
       "    </tr>\n",
       "    <tr>\n",
       "      <th>2010-07-01</th>\n",
       "      <td>1.666667</td>\n",
       "      <td>1.728000</td>\n",
       "      <td>1.351333</td>\n",
       "      <td>1.464000</td>\n",
       "      <td>1.464000</td>\n",
       "      <td>123282000</td>\n",
       "    </tr>\n",
       "    <tr>\n",
       "      <th>2010-07-02</th>\n",
       "      <td>1.533333</td>\n",
       "      <td>1.540000</td>\n",
       "      <td>1.247333</td>\n",
       "      <td>1.280000</td>\n",
       "      <td>1.280000</td>\n",
       "      <td>77097000</td>\n",
       "    </tr>\n",
       "    <tr>\n",
       "      <th>2010-07-06</th>\n",
       "      <td>1.333333</td>\n",
       "      <td>1.333333</td>\n",
       "      <td>1.055333</td>\n",
       "      <td>1.074000</td>\n",
       "      <td>1.074000</td>\n",
       "      <td>103003500</td>\n",
       "    </tr>\n",
       "  </tbody>\n",
       "</table>\n",
       "</div>"
      ],
      "text/plain": [
       "                Open      High       Low     Close  Adj Close     Volume\n",
       "Date                                                                    \n",
       "2010-06-29  1.266667  1.666667  1.169333  1.592667   1.592667  281494500\n",
       "2010-06-30  1.719333  2.028000  1.553333  1.588667   1.588667  257806500\n",
       "2010-07-01  1.666667  1.728000  1.351333  1.464000   1.464000  123282000\n",
       "2010-07-02  1.533333  1.540000  1.247333  1.280000   1.280000   77097000\n",
       "2010-07-06  1.333333  1.333333  1.055333  1.074000   1.074000  103003500"
      ]
     },
     "execution_count": 6,
     "metadata": {},
     "output_type": "execute_result"
    }
   ],
   "source": [
    "## Keep only dates in \"Date\" feature\n",
    "\n",
    "tsla = tsla.reset_index()\n",
    "tsla.Date = pd.to_datetime(pd.to_datetime(tsla.Date).dt.date)\n",
    "print(tsla.Date.dtype)\n",
    "tsla.set_index(\"Date\", inplace=True)\n",
    "tsla.head()"
   ]
  },
  {
   "cell_type": "code",
   "execution_count": 7,
   "id": "2d327cde",
   "metadata": {},
   "outputs": [
    {
     "data": {
      "text/plain": [
       "Date         datetime64[ns]\n",
       "Open                float64\n",
       "High                float64\n",
       "Low                 float64\n",
       "Close               float64\n",
       "Adj Close           float64\n",
       "Volume                int64\n",
       "dtype: object"
      ]
     },
     "execution_count": 7,
     "metadata": {},
     "output_type": "execute_result"
    }
   ],
   "source": [
    "tsla.reset_index().dtypes"
   ]
  },
  {
   "cell_type": "code",
   "execution_count": 8,
   "id": "c9c07c69",
   "metadata": {},
   "outputs": [
    {
     "data": {
      "image/png": "[encoded data removed]",
      "text/plain": [
       "<Figure size 800x400 with 1 Axes>"
      ]
     },
     "metadata": {},
     "output_type": "display_data"
    }
   ],
   "source": [
    "## Plot the \"High\" feature\n",
    "\n",
    "plt.figure(figsize=(8, 4))\n",
    "plt.plot(tsla.High)\n",
    "plt.xlabel(\"Date\")\n",
    "plt.ylabel(\"High\")\n",
    "plt.title(\"TSLA Stock Price\")\n",
    "plt.show()"
   ]
  },
  {
   "cell_type": "code",
   "execution_count": 9,
   "id": "1a37a2b3",
   "metadata": {},
   "outputs": [
    {
     "data": {
      "image/png": "[encoded data removed]",
      "text/plain": [
       "<Figure size 1000x400 with 1 Axes>"
      ]
     },
     "metadata": {},
     "output_type": "display_data"
    }
   ],
   "source": [
    "## Plot within a desired limit\n",
    "\n",
    "plt.figure(figsize=(10, 4))\n",
    "sns.lineplot(x=tsla.index, y=tsla.High, color=\"red\", linestyle=\"--\")\n",
    "plt.xlim([date(2020, 1, 1), date(2020, 9, 1)])\n",
    "plt.title(\"TSLA Stock Price\")\n",
    "plt.show()"
   ]
  },
  {
   "cell_type": "code",
   "execution_count": 10,
   "id": "384fadfc",
   "metadata": {},
   "outputs": [],
   "source": [
    "## Certain part of the dataset\n",
    "\n",
    "idx = tsla.loc[date(2020, 1, 1): date(2021, 9, 1)].index\n",
    "share_open = tsla.loc[date(2020, 1, 1): date(2021, 9, 1)]['Open']"
   ]
  },
  {
   "cell_type": "code",
   "execution_count": 11,
   "id": "edebf2e8",
   "metadata": {},
   "outputs": [
    {
     "data": {
      "text/plain": [
       "[<matplotlib.lines.Line2D at 0x216fc5dd0d0>]"
      ]
     },
     "execution_count": 11,
     "metadata": {},
     "output_type": "execute_result"
    },
    {
     "data": {
      "image/png": "[encoded data removed]",
      "text/plain": [
       "<Figure size 640x480 with 1 Axes>"
      ]
     },
     "metadata": {},
     "output_type": "display_data"
    }
   ],
   "source": [
    "fig, ax = plt.subplots()\n",
    "plt.tight_layout()\n",
    "fig.autofmt_xdate()  # prevents overlapping\n",
    "ax.plot(idx, share_open)"
   ]
  },
  {
   "cell_type": "markdown",
   "id": "01c04f14",
   "metadata": {},
   "source": [
    "## # Time Resampling:\n",
    "\n",
    "**https://towardsdatascience.com/resample-function-of-pandas-79b17ec82a78**"
   ]
  },
  {
   "cell_type": "code",
   "execution_count": 12,
   "id": "07d15b5a",
   "metadata": {},
   "outputs": [
    {
     "data": {
      "text/html": [
       "<div>\n",
       "<style scoped>\n",
       "    .dataframe tbody tr th:only-of-type {\n",
       "        vertical-align: middle;\n",
       "    }\n",
       "\n",
       "    .dataframe tbody tr th {\n",
       "        vertical-align: top;\n",
       "    }\n",
       "\n",
       "    .dataframe thead th {\n",
       "        text-align: right;\n",
       "    }\n",
       "</style>\n",
       "<table border=\"1\" class=\"dataframe\">\n",
       "  <thead>\n",
       "    <tr style=\"text-align: right;\">\n",
       "      <th></th>\n",
       "      <th>Open</th>\n",
       "      <th>High</th>\n",
       "      <th>Low</th>\n",
       "      <th>Close</th>\n",
       "      <th>Adj Close</th>\n",
       "      <th>Volume</th>\n",
       "    </tr>\n",
       "    <tr>\n",
       "      <th>Date</th>\n",
       "      <th></th>\n",
       "      <th></th>\n",
       "      <th></th>\n",
       "      <th></th>\n",
       "      <th></th>\n",
       "      <th></th>\n",
       "    </tr>\n",
       "  </thead>\n",
       "  <tbody>\n",
       "    <tr>\n",
       "      <th>2010-06-29</th>\n",
       "      <td>1.266667</td>\n",
       "      <td>1.666667</td>\n",
       "      <td>1.169333</td>\n",
       "      <td>1.592667</td>\n",
       "      <td>1.592667</td>\n",
       "      <td>281494500</td>\n",
       "    </tr>\n",
       "    <tr>\n",
       "      <th>2010-06-30</th>\n",
       "      <td>1.719333</td>\n",
       "      <td>2.028000</td>\n",
       "      <td>1.553333</td>\n",
       "      <td>1.588667</td>\n",
       "      <td>1.588667</td>\n",
       "      <td>257806500</td>\n",
       "    </tr>\n",
       "    <tr>\n",
       "      <th>2010-07-01</th>\n",
       "      <td>1.666667</td>\n",
       "      <td>1.728000</td>\n",
       "      <td>1.351333</td>\n",
       "      <td>1.464000</td>\n",
       "      <td>1.464000</td>\n",
       "      <td>123282000</td>\n",
       "    </tr>\n",
       "    <tr>\n",
       "      <th>2010-07-02</th>\n",
       "      <td>1.533333</td>\n",
       "      <td>1.540000</td>\n",
       "      <td>1.247333</td>\n",
       "      <td>1.280000</td>\n",
       "      <td>1.280000</td>\n",
       "      <td>77097000</td>\n",
       "    </tr>\n",
       "    <tr>\n",
       "      <th>2010-07-06</th>\n",
       "      <td>1.333333</td>\n",
       "      <td>1.333333</td>\n",
       "      <td>1.055333</td>\n",
       "      <td>1.074000</td>\n",
       "      <td>1.074000</td>\n",
       "      <td>103003500</td>\n",
       "    </tr>\n",
       "  </tbody>\n",
       "</table>\n",
       "</div>"
      ],
      "text/plain": [
       "                Open      High       Low     Close  Adj Close     Volume\n",
       "Date                                                                    \n",
       "2010-06-29  1.266667  1.666667  1.169333  1.592667   1.592667  281494500\n",
       "2010-06-30  1.719333  2.028000  1.553333  1.588667   1.588667  257806500\n",
       "2010-07-01  1.666667  1.728000  1.351333  1.464000   1.464000  123282000\n",
       "2010-07-02  1.533333  1.540000  1.247333  1.280000   1.280000   77097000\n",
       "2010-07-06  1.333333  1.333333  1.055333  1.074000   1.074000  103003500"
      ]
     },
     "execution_count": 12,
     "metadata": {},
     "output_type": "execute_result"
    }
   ],
   "source": [
    "tsla.head()"
   ]
  },
  {
   "cell_type": "markdown",
   "id": "1a3df208",
   "metadata": {},
   "source": [
    "### \"A\": Year End Frequency"
   ]
  },
  {
   "cell_type": "code",
   "execution_count": 13,
   "id": "e1b8275c",
   "metadata": {},
   "outputs": [
    {
     "data": {
      "text/html": [
       "<div>\n",
       "<style scoped>\n",
       "    .dataframe tbody tr th:only-of-type {\n",
       "        vertical-align: middle;\n",
       "    }\n",
       "\n",
       "    .dataframe tbody tr th {\n",
       "        vertical-align: top;\n",
       "    }\n",
       "\n",
       "    .dataframe thead th {\n",
       "        text-align: right;\n",
       "    }\n",
       "</style>\n",
       "<table border=\"1\" class=\"dataframe\">\n",
       "  <thead>\n",
       "    <tr style=\"text-align: right;\">\n",
       "      <th></th>\n",
       "      <th>Open</th>\n",
       "      <th>High</th>\n",
       "      <th>Low</th>\n",
       "      <th>Close</th>\n",
       "      <th>Adj Close</th>\n",
       "      <th>Volume</th>\n",
       "    </tr>\n",
       "    <tr>\n",
       "      <th>Date</th>\n",
       "      <th></th>\n",
       "      <th></th>\n",
       "      <th></th>\n",
       "      <th></th>\n",
       "      <th></th>\n",
       "      <th></th>\n",
       "    </tr>\n",
       "  </thead>\n",
       "  <tbody>\n",
       "    <tr>\n",
       "      <th>2010-12-31</th>\n",
       "      <td>2.391333</td>\n",
       "      <td>2.428000</td>\n",
       "      <td>2.316667</td>\n",
       "      <td>2.364667</td>\n",
       "      <td>2.364667</td>\n",
       "      <td>281494500</td>\n",
       "    </tr>\n",
       "    <tr>\n",
       "      <th>2011-12-31</th>\n",
       "      <td>2.308667</td>\n",
       "      <td>2.333333</td>\n",
       "      <td>2.268667</td>\n",
       "      <td>2.329333</td>\n",
       "      <td>2.329333</td>\n",
       "      <td>172767000</td>\n",
       "    </tr>\n",
       "    <tr>\n",
       "      <th>2012-12-31</th>\n",
       "      <td>2.546000</td>\n",
       "      <td>2.663333</td>\n",
       "      <td>2.474000</td>\n",
       "      <td>2.534000</td>\n",
       "      <td>2.534000</td>\n",
       "      <td>85206000</td>\n",
       "    </tr>\n",
       "    <tr>\n",
       "      <th>2013-12-31</th>\n",
       "      <td>12.930667</td>\n",
       "      <td>12.966667</td>\n",
       "      <td>12.558000</td>\n",
       "      <td>12.891333</td>\n",
       "      <td>12.891333</td>\n",
       "      <td>557458500</td>\n",
       "    </tr>\n",
       "    <tr>\n",
       "      <th>2014-12-31</th>\n",
       "      <td>19.177999</td>\n",
       "      <td>19.427999</td>\n",
       "      <td>18.693333</td>\n",
       "      <td>19.069332</td>\n",
       "      <td>19.069332</td>\n",
       "      <td>490225500</td>\n",
       "    </tr>\n",
       "    <tr>\n",
       "      <th>2015-12-31</th>\n",
       "      <td>18.680000</td>\n",
       "      <td>19.110001</td>\n",
       "      <td>18.420000</td>\n",
       "      <td>18.817333</td>\n",
       "      <td>18.817333</td>\n",
       "      <td>234744000</td>\n",
       "    </tr>\n",
       "    <tr>\n",
       "      <th>2016-12-31</th>\n",
       "      <td>17.763332</td>\n",
       "      <td>17.955999</td>\n",
       "      <td>16.967333</td>\n",
       "      <td>17.694668</td>\n",
       "      <td>17.694668</td>\n",
       "      <td>356136000</td>\n",
       "    </tr>\n",
       "    <tr>\n",
       "      <th>2017-12-31</th>\n",
       "      <td>25.779333</td>\n",
       "      <td>25.974001</td>\n",
       "      <td>25.290001</td>\n",
       "      <td>25.666668</td>\n",
       "      <td>25.666668</td>\n",
       "      <td>296871000</td>\n",
       "    </tr>\n",
       "    <tr>\n",
       "      <th>2018-12-31</th>\n",
       "      <td>25.000000</td>\n",
       "      <td>25.830667</td>\n",
       "      <td>24.474667</td>\n",
       "      <td>25.304667</td>\n",
       "      <td>25.304667</td>\n",
       "      <td>504745500</td>\n",
       "    </tr>\n",
       "    <tr>\n",
       "      <th>2019-12-31</th>\n",
       "      <td>29.000000</td>\n",
       "      <td>29.020666</td>\n",
       "      <td>28.423332</td>\n",
       "      <td>28.729334</td>\n",
       "      <td>28.729334</td>\n",
       "      <td>450091500</td>\n",
       "    </tr>\n",
       "    <tr>\n",
       "      <th>2020-12-31</th>\n",
       "      <td>233.330002</td>\n",
       "      <td>239.573334</td>\n",
       "      <td>230.373337</td>\n",
       "      <td>235.223328</td>\n",
       "      <td>235.223328</td>\n",
       "      <td>914082000</td>\n",
       "    </tr>\n",
       "    <tr>\n",
       "      <th>2021-12-31</th>\n",
       "      <td>411.470001</td>\n",
       "      <td>414.496674</td>\n",
       "      <td>405.666656</td>\n",
       "      <td>409.970001</td>\n",
       "      <td>409.970001</td>\n",
       "      <td>268189500</td>\n",
       "    </tr>\n",
       "    <tr>\n",
       "      <th>2022-12-31</th>\n",
       "      <td>396.516663</td>\n",
       "      <td>402.666656</td>\n",
       "      <td>378.679993</td>\n",
       "      <td>399.926666</td>\n",
       "      <td>399.926666</td>\n",
       "      <td>221923300</td>\n",
       "    </tr>\n",
       "    <tr>\n",
       "      <th>2023-12-31</th>\n",
       "      <td>122.559998</td>\n",
       "      <td>125.949997</td>\n",
       "      <td>120.510002</td>\n",
       "      <td>123.559998</td>\n",
       "      <td>123.559998</td>\n",
       "      <td>231402800</td>\n",
       "    </tr>\n",
       "  </tbody>\n",
       "</table>\n",
       "</div>"
      ],
      "text/plain": [
       "                  Open        High         Low       Close   Adj Close  \\\n",
       "Date                                                                     \n",
       "2010-12-31    2.391333    2.428000    2.316667    2.364667    2.364667   \n",
       "2011-12-31    2.308667    2.333333    2.268667    2.329333    2.329333   \n",
       "2012-12-31    2.546000    2.663333    2.474000    2.534000    2.534000   \n",
       "2013-12-31   12.930667   12.966667   12.558000   12.891333   12.891333   \n",
       "2014-12-31   19.177999   19.427999   18.693333   19.069332   19.069332   \n",
       "2015-12-31   18.680000   19.110001   18.420000   18.817333   18.817333   \n",
       "2016-12-31   17.763332   17.955999   16.967333   17.694668   17.694668   \n",
       "2017-12-31   25.779333   25.974001   25.290001   25.666668   25.666668   \n",
       "2018-12-31   25.000000   25.830667   24.474667   25.304667   25.304667   \n",
       "2019-12-31   29.000000   29.020666   28.423332   28.729334   28.729334   \n",
       "2020-12-31  233.330002  239.573334  230.373337  235.223328  235.223328   \n",
       "2021-12-31  411.470001  414.496674  405.666656  409.970001  409.970001   \n",
       "2022-12-31  396.516663  402.666656  378.679993  399.926666  399.926666   \n",
       "2023-12-31  122.559998  125.949997  120.510002  123.559998  123.559998   \n",
       "\n",
       "               Volume  \n",
       "Date                   \n",
       "2010-12-31  281494500  \n",
       "2011-12-31  172767000  \n",
       "2012-12-31   85206000  \n",
       "2013-12-31  557458500  \n",
       "2014-12-31  490225500  \n",
       "2015-12-31  234744000  \n",
       "2016-12-31  356136000  \n",
       "2017-12-31  296871000  \n",
       "2018-12-31  504745500  \n",
       "2019-12-31  450091500  \n",
       "2020-12-31  914082000  \n",
       "2021-12-31  268189500  \n",
       "2022-12-31  221923300  \n",
       "2023-12-31  231402800  "
      ]
     },
     "execution_count": 13,
     "metadata": {},
     "output_type": "execute_result"
    }
   ],
   "source": [
    "## Resampling the data in regard to `rule A`\n",
    "\n",
    "tsla.resample(rule='A').max()"
   ]
  },
  {
   "cell_type": "code",
   "execution_count": 14,
   "id": "78e73f4e",
   "metadata": {},
   "outputs": [
    {
     "data": {
      "text/plain": [
       "<AxesSubplot:xlabel='Date'>"
      ]
     },
     "execution_count": 14,
     "metadata": {},
     "output_type": "execute_result"
    },
    {
     "data": {
      "image/png": "[encoded data removed]",
      "text/plain": [
       "<Figure size 640x480 with 1 Axes>"
      ]
     },
     "metadata": {},
     "output_type": "display_data"
    }
   ],
   "source": [
    "## Plot the resampled data\n",
    "\n",
    "tsla.resample(rule='A').max()['Open'].plot()"
   ]
  },
  {
   "cell_type": "markdown",
   "id": "f8af025f",
   "metadata": {},
   "source": [
    "### \"QS\": Quarter Start Frequency"
   ]
  },
  {
   "cell_type": "code",
   "execution_count": 15,
   "id": "635c108b",
   "metadata": {},
   "outputs": [
    {
     "data": {
      "text/plain": [
       "<AxesSubplot:xlabel='Date'>"
      ]
     },
     "execution_count": 15,
     "metadata": {},
     "output_type": "execute_result"
    },
    {
     "data": {
      "image/png": "[encoded data removed]",
      "text/plain": [
       "<Figure size 640x480 with 1 Axes>"
      ]
     },
     "metadata": {},
     "output_type": "display_data"
    }
   ],
   "source": [
    "tsla.resample(\"QS\").mean()['High'].plot()"
   ]
  },
  {
   "cell_type": "markdown",
   "id": "66b56976",
   "metadata": {},
   "source": [
    "### \"BA\": Business End Frequency"
   ]
  },
  {
   "cell_type": "code",
   "execution_count": 16,
   "id": "9434cffd",
   "metadata": {},
   "outputs": [
    {
     "data": {
      "text/plain": [
       "<AxesSubplot:xlabel='Date'>"
      ]
     },
     "execution_count": 16,
     "metadata": {},
     "output_type": "execute_result"
    },
    {
     "data": {
      "image/png": "[encoded data removed]",
      "text/plain": [
       "<Figure size 640x480 with 1 Axes>"
      ]
     },
     "metadata": {},
     "output_type": "display_data"
    }
   ],
   "source": [
    "tsla.resample(\"BA\").mean()[\"High\"].plot(kind='bar')"
   ]
  },
  {
   "cell_type": "markdown",
   "id": "e12de3d4",
   "metadata": {},
   "source": [
    "### \"M\": Calendar Month End"
   ]
  },
  {
   "cell_type": "code",
   "execution_count": 17,
   "id": "d4c9ebb9",
   "metadata": {},
   "outputs": [
    {
     "data": {
      "text/plain": [
       "<AxesSubplot:xlabel='Date'>"
      ]
     },
     "execution_count": 17,
     "metadata": {},
     "output_type": "execute_result"
    },
    {
     "data": {
      "image/png": "[encoded data removed]",
      "text/plain": [
       "<Figure size 2000x600 with 1 Axes>"
      ]
     },
     "metadata": {},
     "output_type": "display_data"
    }
   ],
   "source": [
    "tsla.tail(1000).resample(\"M\").max()['Open'].plot(kind='bar', figsize=(20, 6))"
   ]
  },
  {
   "cell_type": "markdown",
   "id": "896c7a17",
   "metadata": {},
   "source": [
    "## # Rolling:\n",
    "\n",
    "A **`Rolling`** average continuously updates the average of a data set to include all the data in the set until that point. \n",
    "\n",
    "For example, the rolling average of return quantities at March 2012 would be calculated by adding the return quantities in January, February, and March, and then dividing that sum by three.\n",
    "\n",
    "### Why Rolling?\n",
    "\n",
    "To get a smoothened version of the given curve."
   ]
  },
  {
   "cell_type": "code",
   "execution_count": 18,
   "id": "f715ca48",
   "metadata": {},
   "outputs": [
    {
     "data": {
      "text/plain": [
       "Date\n",
       "2010-06-29         NaN\n",
       "2010-06-30         NaN\n",
       "2010-07-01         NaN\n",
       "2010-07-02         NaN\n",
       "2010-07-06         NaN\n",
       "2010-07-07         NaN\n",
       "2010-07-08         NaN\n",
       "2010-07-09         NaN\n",
       "2010-07-12         NaN\n",
       "2010-07-13    1.421333\n",
       "2010-07-14    1.389000\n",
       "2010-07-15    1.329533\n",
       "2010-07-16    1.298733\n",
       "2010-07-19    1.293067\n",
       "2010-07-20    1.305400\n",
       "Name: High, dtype: float64"
      ]
     },
     "execution_count": 18,
     "metadata": {},
     "output_type": "execute_result"
    }
   ],
   "source": [
    "## Rolling down by 10 records\n",
    "\n",
    "tsla['High'].rolling(10).mean().head(15)"
   ]
  },
  {
   "cell_type": "code",
   "execution_count": 19,
   "id": "7bfb4142",
   "metadata": {},
   "outputs": [
    {
     "data": {
      "text/html": [
       "<div>\n",
       "<style scoped>\n",
       "    .dataframe tbody tr th:only-of-type {\n",
       "        vertical-align: middle;\n",
       "    }\n",
       "\n",
       "    .dataframe tbody tr th {\n",
       "        vertical-align: top;\n",
       "    }\n",
       "\n",
       "    .dataframe thead th {\n",
       "        text-align: right;\n",
       "    }\n",
       "</style>\n",
       "<table border=\"1\" class=\"dataframe\">\n",
       "  <thead>\n",
       "    <tr style=\"text-align: right;\">\n",
       "      <th></th>\n",
       "      <th>Open</th>\n",
       "      <th>High</th>\n",
       "      <th>Low</th>\n",
       "      <th>Close</th>\n",
       "      <th>Adj Close</th>\n",
       "      <th>Volume</th>\n",
       "      <th>Open: 30 days Rolling</th>\n",
       "    </tr>\n",
       "    <tr>\n",
       "      <th>Date</th>\n",
       "      <th></th>\n",
       "      <th></th>\n",
       "      <th></th>\n",
       "      <th></th>\n",
       "      <th></th>\n",
       "      <th></th>\n",
       "      <th></th>\n",
       "    </tr>\n",
       "  </thead>\n",
       "  <tbody>\n",
       "    <tr>\n",
       "      <th>2010-06-29</th>\n",
       "      <td>1.266667</td>\n",
       "      <td>1.666667</td>\n",
       "      <td>1.169333</td>\n",
       "      <td>1.592667</td>\n",
       "      <td>1.592667</td>\n",
       "      <td>281494500</td>\n",
       "      <td>NaN</td>\n",
       "    </tr>\n",
       "    <tr>\n",
       "      <th>2010-06-30</th>\n",
       "      <td>1.719333</td>\n",
       "      <td>2.028000</td>\n",
       "      <td>1.553333</td>\n",
       "      <td>1.588667</td>\n",
       "      <td>1.588667</td>\n",
       "      <td>257806500</td>\n",
       "      <td>NaN</td>\n",
       "    </tr>\n",
       "    <tr>\n",
       "      <th>2010-07-01</th>\n",
       "      <td>1.666667</td>\n",
       "      <td>1.728000</td>\n",
       "      <td>1.351333</td>\n",
       "      <td>1.464000</td>\n",
       "      <td>1.464000</td>\n",
       "      <td>123282000</td>\n",
       "      <td>NaN</td>\n",
       "    </tr>\n",
       "    <tr>\n",
       "      <th>2010-07-02</th>\n",
       "      <td>1.533333</td>\n",
       "      <td>1.540000</td>\n",
       "      <td>1.247333</td>\n",
       "      <td>1.280000</td>\n",
       "      <td>1.280000</td>\n",
       "      <td>77097000</td>\n",
       "      <td>NaN</td>\n",
       "    </tr>\n",
       "    <tr>\n",
       "      <th>2010-07-06</th>\n",
       "      <td>1.333333</td>\n",
       "      <td>1.333333</td>\n",
       "      <td>1.055333</td>\n",
       "      <td>1.074000</td>\n",
       "      <td>1.074000</td>\n",
       "      <td>103003500</td>\n",
       "      <td>NaN</td>\n",
       "    </tr>\n",
       "    <tr>\n",
       "      <th>2010-07-07</th>\n",
       "      <td>1.093333</td>\n",
       "      <td>1.108667</td>\n",
       "      <td>0.998667</td>\n",
       "      <td>1.053333</td>\n",
       "      <td>1.053333</td>\n",
       "      <td>103825500</td>\n",
       "      <td>NaN</td>\n",
       "    </tr>\n",
       "    <tr>\n",
       "      <th>2010-07-08</th>\n",
       "      <td>1.076000</td>\n",
       "      <td>1.168000</td>\n",
       "      <td>1.038000</td>\n",
       "      <td>1.164000</td>\n",
       "      <td>1.164000</td>\n",
       "      <td>115671000</td>\n",
       "      <td>NaN</td>\n",
       "    </tr>\n",
       "    <tr>\n",
       "      <th>2010-07-09</th>\n",
       "      <td>1.172000</td>\n",
       "      <td>1.193333</td>\n",
       "      <td>1.103333</td>\n",
       "      <td>1.160000</td>\n",
       "      <td>1.160000</td>\n",
       "      <td>60759000</td>\n",
       "      <td>NaN</td>\n",
       "    </tr>\n",
       "    <tr>\n",
       "      <th>2010-07-12</th>\n",
       "      <td>1.196667</td>\n",
       "      <td>1.204667</td>\n",
       "      <td>1.133333</td>\n",
       "      <td>1.136667</td>\n",
       "      <td>1.136667</td>\n",
       "      <td>33037500</td>\n",
       "      <td>NaN</td>\n",
       "    </tr>\n",
       "    <tr>\n",
       "      <th>2010-07-13</th>\n",
       "      <td>1.159333</td>\n",
       "      <td>1.242667</td>\n",
       "      <td>1.126667</td>\n",
       "      <td>1.209333</td>\n",
       "      <td>1.209333</td>\n",
       "      <td>40201500</td>\n",
       "      <td>NaN</td>\n",
       "    </tr>\n",
       "    <tr>\n",
       "      <th>2010-07-14</th>\n",
       "      <td>1.196000</td>\n",
       "      <td>1.343333</td>\n",
       "      <td>1.184000</td>\n",
       "      <td>1.322667</td>\n",
       "      <td>1.322667</td>\n",
       "      <td>62928000</td>\n",
       "      <td>NaN</td>\n",
       "    </tr>\n",
       "    <tr>\n",
       "      <th>2010-07-15</th>\n",
       "      <td>1.329333</td>\n",
       "      <td>1.433333</td>\n",
       "      <td>1.266667</td>\n",
       "      <td>1.326000</td>\n",
       "      <td>1.326000</td>\n",
       "      <td>56097000</td>\n",
       "      <td>NaN</td>\n",
       "    </tr>\n",
       "    <tr>\n",
       "      <th>2010-07-16</th>\n",
       "      <td>1.380000</td>\n",
       "      <td>1.420000</td>\n",
       "      <td>1.336667</td>\n",
       "      <td>1.376000</td>\n",
       "      <td>1.376000</td>\n",
       "      <td>39319500</td>\n",
       "      <td>NaN</td>\n",
       "    </tr>\n",
       "    <tr>\n",
       "      <th>2010-07-19</th>\n",
       "      <td>1.424667</td>\n",
       "      <td>1.483333</td>\n",
       "      <td>1.394667</td>\n",
       "      <td>1.460667</td>\n",
       "      <td>1.460667</td>\n",
       "      <td>37297500</td>\n",
       "      <td>NaN</td>\n",
       "    </tr>\n",
       "    <tr>\n",
       "      <th>2010-07-20</th>\n",
       "      <td>1.456667</td>\n",
       "      <td>1.456667</td>\n",
       "      <td>1.336667</td>\n",
       "      <td>1.353333</td>\n",
       "      <td>1.353333</td>\n",
       "      <td>27379500</td>\n",
       "      <td>NaN</td>\n",
       "    </tr>\n",
       "    <tr>\n",
       "      <th>2010-07-21</th>\n",
       "      <td>1.377333</td>\n",
       "      <td>1.393333</td>\n",
       "      <td>1.300000</td>\n",
       "      <td>1.348000</td>\n",
       "      <td>1.348000</td>\n",
       "      <td>18787500</td>\n",
       "      <td>NaN</td>\n",
       "    </tr>\n",
       "    <tr>\n",
       "      <th>2010-07-22</th>\n",
       "      <td>1.366667</td>\n",
       "      <td>1.416667</td>\n",
       "      <td>1.358000</td>\n",
       "      <td>1.400000</td>\n",
       "      <td>1.400000</td>\n",
       "      <td>14367000</td>\n",
       "      <td>NaN</td>\n",
       "    </tr>\n",
       "    <tr>\n",
       "      <th>2010-07-23</th>\n",
       "      <td>1.412667</td>\n",
       "      <td>1.437333</td>\n",
       "      <td>1.404000</td>\n",
       "      <td>1.419333</td>\n",
       "      <td>1.419333</td>\n",
       "      <td>9804000</td>\n",
       "      <td>NaN</td>\n",
       "    </tr>\n",
       "    <tr>\n",
       "      <th>2010-07-26</th>\n",
       "      <td>1.433333</td>\n",
       "      <td>1.433333</td>\n",
       "      <td>1.353333</td>\n",
       "      <td>1.396667</td>\n",
       "      <td>1.396667</td>\n",
       "      <td>13833000</td>\n",
       "      <td>NaN</td>\n",
       "    </tr>\n",
       "    <tr>\n",
       "      <th>2010-07-27</th>\n",
       "      <td>1.394000</td>\n",
       "      <td>1.412000</td>\n",
       "      <td>1.350667</td>\n",
       "      <td>1.370000</td>\n",
       "      <td>1.370000</td>\n",
       "      <td>9295500</td>\n",
       "      <td>NaN</td>\n",
       "    </tr>\n",
       "    <tr>\n",
       "      <th>2010-07-28</th>\n",
       "      <td>1.370000</td>\n",
       "      <td>1.393333</td>\n",
       "      <td>1.367333</td>\n",
       "      <td>1.381333</td>\n",
       "      <td>1.381333</td>\n",
       "      <td>7008000</td>\n",
       "      <td>NaN</td>\n",
       "    </tr>\n",
       "    <tr>\n",
       "      <th>2010-07-29</th>\n",
       "      <td>1.384667</td>\n",
       "      <td>1.392000</td>\n",
       "      <td>1.333333</td>\n",
       "      <td>1.356667</td>\n",
       "      <td>1.356667</td>\n",
       "      <td>9240000</td>\n",
       "      <td>NaN</td>\n",
       "    </tr>\n",
       "    <tr>\n",
       "      <th>2010-07-30</th>\n",
       "      <td>1.346667</td>\n",
       "      <td>1.362667</td>\n",
       "      <td>1.303333</td>\n",
       "      <td>1.329333</td>\n",
       "      <td>1.329333</td>\n",
       "      <td>6403500</td>\n",
       "      <td>NaN</td>\n",
       "    </tr>\n",
       "    <tr>\n",
       "      <th>2010-08-02</th>\n",
       "      <td>1.366667</td>\n",
       "      <td>1.398000</td>\n",
       "      <td>1.355333</td>\n",
       "      <td>1.394667</td>\n",
       "      <td>1.394667</td>\n",
       "      <td>10771500</td>\n",
       "      <td>NaN</td>\n",
       "    </tr>\n",
       "    <tr>\n",
       "      <th>2010-08-03</th>\n",
       "      <td>1.400000</td>\n",
       "      <td>1.463333</td>\n",
       "      <td>1.388000</td>\n",
       "      <td>1.463333</td>\n",
       "      <td>1.463333</td>\n",
       "      <td>18457500</td>\n",
       "      <td>NaN</td>\n",
       "    </tr>\n",
       "    <tr>\n",
       "      <th>2010-08-04</th>\n",
       "      <td>1.463333</td>\n",
       "      <td>1.478667</td>\n",
       "      <td>1.390000</td>\n",
       "      <td>1.417333</td>\n",
       "      <td>1.417333</td>\n",
       "      <td>13695000</td>\n",
       "      <td>NaN</td>\n",
       "    </tr>\n",
       "    <tr>\n",
       "      <th>2010-08-05</th>\n",
       "      <td>1.436000</td>\n",
       "      <td>1.436667</td>\n",
       "      <td>1.336667</td>\n",
       "      <td>1.363333</td>\n",
       "      <td>1.363333</td>\n",
       "      <td>11943000</td>\n",
       "      <td>NaN</td>\n",
       "    </tr>\n",
       "    <tr>\n",
       "      <th>2010-08-06</th>\n",
       "      <td>1.340000</td>\n",
       "      <td>1.344000</td>\n",
       "      <td>1.301333</td>\n",
       "      <td>1.306000</td>\n",
       "      <td>1.306000</td>\n",
       "      <td>11128500</td>\n",
       "      <td>NaN</td>\n",
       "    </tr>\n",
       "    <tr>\n",
       "      <th>2010-08-09</th>\n",
       "      <td>1.326667</td>\n",
       "      <td>1.332000</td>\n",
       "      <td>1.296667</td>\n",
       "      <td>1.306667</td>\n",
       "      <td>1.306667</td>\n",
       "      <td>12190500</td>\n",
       "      <td>NaN</td>\n",
       "    </tr>\n",
       "    <tr>\n",
       "      <th>2010-08-10</th>\n",
       "      <td>1.310000</td>\n",
       "      <td>1.310000</td>\n",
       "      <td>1.254667</td>\n",
       "      <td>1.268667</td>\n",
       "      <td>1.268667</td>\n",
       "      <td>19219500</td>\n",
       "      <td>1.357711</td>\n",
       "    </tr>\n",
       "    <tr>\n",
       "      <th>2010-08-11</th>\n",
       "      <td>1.246000</td>\n",
       "      <td>1.258667</td>\n",
       "      <td>1.190000</td>\n",
       "      <td>1.193333</td>\n",
       "      <td>1.193333</td>\n",
       "      <td>11964000</td>\n",
       "      <td>1.357022</td>\n",
       "    </tr>\n",
       "    <tr>\n",
       "      <th>2010-08-12</th>\n",
       "      <td>1.186667</td>\n",
       "      <td>1.193333</td>\n",
       "      <td>1.159333</td>\n",
       "      <td>1.173333</td>\n",
       "      <td>1.173333</td>\n",
       "      <td>10365000</td>\n",
       "      <td>1.339267</td>\n",
       "    </tr>\n",
       "    <tr>\n",
       "      <th>2010-08-13</th>\n",
       "      <td>1.212000</td>\n",
       "      <td>1.230000</td>\n",
       "      <td>1.177333</td>\n",
       "      <td>1.221333</td>\n",
       "      <td>1.221333</td>\n",
       "      <td>9510000</td>\n",
       "      <td>1.324111</td>\n",
       "    </tr>\n",
       "    <tr>\n",
       "      <th>2010-08-16</th>\n",
       "      <td>1.230000</td>\n",
       "      <td>1.253333</td>\n",
       "      <td>1.217333</td>\n",
       "      <td>1.252000</td>\n",
       "      <td>1.252000</td>\n",
       "      <td>7287000</td>\n",
       "      <td>1.314000</td>\n",
       "    </tr>\n",
       "    <tr>\n",
       "      <th>2010-08-17</th>\n",
       "      <td>1.264000</td>\n",
       "      <td>1.293333</td>\n",
       "      <td>1.252000</td>\n",
       "      <td>1.276667</td>\n",
       "      <td>1.276667</td>\n",
       "      <td>6718500</td>\n",
       "      <td>1.311689</td>\n",
       "    </tr>\n",
       "  </tbody>\n",
       "</table>\n",
       "</div>"
      ],
      "text/plain": [
       "                Open      High       Low     Close  Adj Close     Volume  \\\n",
       "Date                                                                       \n",
       "2010-06-29  1.266667  1.666667  1.169333  1.592667   1.592667  281494500   \n",
       "2010-06-30  1.719333  2.028000  1.553333  1.588667   1.588667  257806500   \n",
       "2010-07-01  1.666667  1.728000  1.351333  1.464000   1.464000  123282000   \n",
       "2010-07-02  1.533333  1.540000  1.247333  1.280000   1.280000   77097000   \n",
       "2010-07-06  1.333333  1.333333  1.055333  1.074000   1.074000  103003500   \n",
       "2010-07-07  1.093333  1.108667  0.998667  1.053333   1.053333  103825500   \n",
       "2010-07-08  1.076000  1.168000  1.038000  1.164000   1.164000  115671000   \n",
       "2010-07-09  1.172000  1.193333  1.103333  1.160000   1.160000   60759000   \n",
       "2010-07-12  1.196667  1.204667  1.133333  1.136667   1.136667   33037500   \n",
       "2010-07-13  1.159333  1.242667  1.126667  1.209333   1.209333   40201500   \n",
       "2010-07-14  1.196000  1.343333  1.184000  1.322667   1.322667   62928000   \n",
       "2010-07-15  1.329333  1.433333  1.266667  1.326000   1.326000   56097000   \n",
       "2010-07-16  1.380000  1.420000  1.336667  1.376000   1.376000   39319500   \n",
       "2010-07-19  1.424667  1.483333  1.394667  1.460667   1.460667   37297500   \n",
       "2010-07-20  1.456667  1.456667  1.336667  1.353333   1.353333   27379500   \n",
       "2010-07-21  1.377333  1.393333  1.300000  1.348000   1.348000   18787500   \n",
       "2010-07-22  1.366667  1.416667  1.358000  1.400000   1.400000   14367000   \n",
       "2010-07-23  1.412667  1.437333  1.404000  1.419333   1.419333    9804000   \n",
       "2010-07-26  1.433333  1.433333  1.353333  1.396667   1.396667   13833000   \n",
       "2010-07-27  1.394000  1.412000  1.350667  1.370000   1.370000    9295500   \n",
       "2010-07-28  1.370000  1.393333  1.367333  1.381333   1.381333    7008000   \n",
       "2010-07-29  1.384667  1.392000  1.333333  1.356667   1.356667    9240000   \n",
       "2010-07-30  1.346667  1.362667  1.303333  1.329333   1.329333    6403500   \n",
       "2010-08-02  1.366667  1.398000  1.355333  1.394667   1.394667   10771500   \n",
       "2010-08-03  1.400000  1.463333  1.388000  1.463333   1.463333   18457500   \n",
       "2010-08-04  1.463333  1.478667  1.390000  1.417333   1.417333   13695000   \n",
       "2010-08-05  1.436000  1.436667  1.336667  1.363333   1.363333   11943000   \n",
       "2010-08-06  1.340000  1.344000  1.301333  1.306000   1.306000   11128500   \n",
       "2010-08-09  1.326667  1.332000  1.296667  1.306667   1.306667   12190500   \n",
       "2010-08-10  1.310000  1.310000  1.254667  1.268667   1.268667   19219500   \n",
       "2010-08-11  1.246000  1.258667  1.190000  1.193333   1.193333   11964000   \n",
       "2010-08-12  1.186667  1.193333  1.159333  1.173333   1.173333   10365000   \n",
       "2010-08-13  1.212000  1.230000  1.177333  1.221333   1.221333    9510000   \n",
       "2010-08-16  1.230000  1.253333  1.217333  1.252000   1.252000    7287000   \n",
       "2010-08-17  1.264000  1.293333  1.252000  1.276667   1.276667    6718500   \n",
       "\n",
       "            Open: 30 days Rolling  \n",
       "Date                               \n",
       "2010-06-29                    NaN  \n",
       "2010-06-30                    NaN  \n",
       "2010-07-01                    NaN  \n",
       "2010-07-02                    NaN  \n",
       "2010-07-06                    NaN  \n",
       "2010-07-07                    NaN  \n",
       "2010-07-08                    NaN  \n",
       "2010-07-09                    NaN  \n",
       "2010-07-12                    NaN  \n",
       "2010-07-13                    NaN  \n",
       "2010-07-14                    NaN  \n",
       "2010-07-15                    NaN  \n",
       "2010-07-16                    NaN  \n",
       "2010-07-19                    NaN  \n",
       "2010-07-20                    NaN  \n",
       "2010-07-21                    NaN  \n",
       "2010-07-22                    NaN  \n",
       "2010-07-23                    NaN  \n",
       "2010-07-26                    NaN  \n",
       "2010-07-27                    NaN  \n",
       "2010-07-28                    NaN  \n",
       "2010-07-29                    NaN  \n",
       "2010-07-30                    NaN  \n",
       "2010-08-02                    NaN  \n",
       "2010-08-03                    NaN  \n",
       "2010-08-04                    NaN  \n",
       "2010-08-05                    NaN  \n",
       "2010-08-06                    NaN  \n",
       "2010-08-09                    NaN  \n",
       "2010-08-10               1.357711  \n",
       "2010-08-11               1.357022  \n",
       "2010-08-12               1.339267  \n",
       "2010-08-13               1.324111  \n",
       "2010-08-16               1.314000  \n",
       "2010-08-17               1.311689  "
      ]
     },
     "execution_count": 19,
     "metadata": {},
     "output_type": "execute_result"
    }
   ],
   "source": [
    "## Creating a '30 days rolling' \"Open\" feauture\n",
    "\n",
    "tsla['Open: 30 days Rolling'] = tsla['Open'].rolling(30).mean()\n",
    "tsla.head(35)"
   ]
  },
  {
   "cell_type": "code",
   "execution_count": 20,
   "id": "7a555035",
   "metadata": {},
   "outputs": [
    {
     "data": {
      "text/plain": [
       "<AxesSubplot:xlabel='Date'>"
      ]
     },
     "execution_count": 20,
     "metadata": {},
     "output_type": "execute_result"
    },
    {
     "data": {
      "image/png": "[encoded data removed]",
      "text/plain": [
       "<Figure size 1000x600 with 1 Axes>"
      ]
     },
     "metadata": {},
     "output_type": "display_data"
    }
   ],
   "source": [
    "## Plotting the rolling feature against the original\n",
    "\n",
    "tsla[['Open', 'Open: 30 days Rolling']].plot(figsize=(10, 6))"
   ]
  },
  {
   "cell_type": "markdown",
   "id": "e11b3959",
   "metadata": {},
   "source": [
    "### # Mini-task:\n",
    "\n",
    "1. Load the Microsoft Data using Pandas Data reader.\n",
    "2. Get the maximum price of the share from 2017 to 2022.\n",
    "3. Date of the highest price of the stock out of all these 5 years?\n",
    "4. Date of the lowest price of the stock out of all these 5 years?"
   ]
  },
  {
   "cell_type": "code",
   "execution_count": 21,
   "id": "fe15e96f",
   "metadata": {},
   "outputs": [
    {
     "name": "stdout",
     "output_type": "stream",
     "text": [
      "[*********************100%***********************]  1 of 1 completed\n"
     ]
    },
    {
     "data": {
      "text/html": [
       "<div>\n",
       "<style scoped>\n",
       "    .dataframe tbody tr th:only-of-type {\n",
       "        vertical-align: middle;\n",
       "    }\n",
       "\n",
       "    .dataframe tbody tr th {\n",
       "        vertical-align: top;\n",
       "    }\n",
       "\n",
       "    .dataframe thead th {\n",
       "        text-align: right;\n",
       "    }\n",
       "</style>\n",
       "<table border=\"1\" class=\"dataframe\">\n",
       "  <thead>\n",
       "    <tr style=\"text-align: right;\">\n",
       "      <th></th>\n",
       "      <th>Open</th>\n",
       "      <th>High</th>\n",
       "      <th>Low</th>\n",
       "      <th>Close</th>\n",
       "      <th>Adj Close</th>\n",
       "      <th>Volume</th>\n",
       "    </tr>\n",
       "    <tr>\n",
       "      <th>Date</th>\n",
       "      <th></th>\n",
       "      <th></th>\n",
       "      <th></th>\n",
       "      <th></th>\n",
       "      <th></th>\n",
       "      <th></th>\n",
       "    </tr>\n",
       "  </thead>\n",
       "  <tbody>\n",
       "    <tr>\n",
       "      <th>1986-03-13 00:00:00-05:00</th>\n",
       "      <td>0.088542</td>\n",
       "      <td>0.101563</td>\n",
       "      <td>0.088542</td>\n",
       "      <td>0.097222</td>\n",
       "      <td>0.060809</td>\n",
       "      <td>1031788800</td>\n",
       "    </tr>\n",
       "    <tr>\n",
       "      <th>1986-03-14 00:00:00-05:00</th>\n",
       "      <td>0.097222</td>\n",
       "      <td>0.102431</td>\n",
       "      <td>0.097222</td>\n",
       "      <td>0.100694</td>\n",
       "      <td>0.062980</td>\n",
       "      <td>308160000</td>\n",
       "    </tr>\n",
       "    <tr>\n",
       "      <th>1986-03-17 00:00:00-05:00</th>\n",
       "      <td>0.100694</td>\n",
       "      <td>0.103299</td>\n",
       "      <td>0.100694</td>\n",
       "      <td>0.102431</td>\n",
       "      <td>0.064067</td>\n",
       "      <td>133171200</td>\n",
       "    </tr>\n",
       "    <tr>\n",
       "      <th>1986-03-18 00:00:00-05:00</th>\n",
       "      <td>0.102431</td>\n",
       "      <td>0.103299</td>\n",
       "      <td>0.098958</td>\n",
       "      <td>0.099826</td>\n",
       "      <td>0.062437</td>\n",
       "      <td>67766400</td>\n",
       "    </tr>\n",
       "    <tr>\n",
       "      <th>1986-03-19 00:00:00-05:00</th>\n",
       "      <td>0.099826</td>\n",
       "      <td>0.100694</td>\n",
       "      <td>0.097222</td>\n",
       "      <td>0.098090</td>\n",
       "      <td>0.061351</td>\n",
       "      <td>47894400</td>\n",
       "    </tr>\n",
       "    <tr>\n",
       "      <th>...</th>\n",
       "      <td>...</td>\n",
       "      <td>...</td>\n",
       "      <td>...</td>\n",
       "      <td>...</td>\n",
       "      <td>...</td>\n",
       "      <td>...</td>\n",
       "    </tr>\n",
       "    <tr>\n",
       "      <th>2023-01-09 00:00:00-05:00</th>\n",
       "      <td>226.449997</td>\n",
       "      <td>231.240005</td>\n",
       "      <td>226.410004</td>\n",
       "      <td>227.119995</td>\n",
       "      <td>227.119995</td>\n",
       "      <td>27369800</td>\n",
       "    </tr>\n",
       "    <tr>\n",
       "      <th>2023-01-10 00:00:00-05:00</th>\n",
       "      <td>227.759995</td>\n",
       "      <td>231.309998</td>\n",
       "      <td>227.330002</td>\n",
       "      <td>228.850006</td>\n",
       "      <td>228.850006</td>\n",
       "      <td>27033900</td>\n",
       "    </tr>\n",
       "    <tr>\n",
       "      <th>2023-01-11 00:00:00-05:00</th>\n",
       "      <td>231.289993</td>\n",
       "      <td>235.949997</td>\n",
       "      <td>231.110001</td>\n",
       "      <td>235.770004</td>\n",
       "      <td>235.770004</td>\n",
       "      <td>28669300</td>\n",
       "    </tr>\n",
       "    <tr>\n",
       "      <th>2023-01-12 00:00:00-05:00</th>\n",
       "      <td>235.259995</td>\n",
       "      <td>239.899994</td>\n",
       "      <td>233.559998</td>\n",
       "      <td>238.509995</td>\n",
       "      <td>238.509995</td>\n",
       "      <td>27269500</td>\n",
       "    </tr>\n",
       "    <tr>\n",
       "      <th>2023-01-13 00:00:00-05:00</th>\n",
       "      <td>237.000000</td>\n",
       "      <td>239.369995</td>\n",
       "      <td>234.919998</td>\n",
       "      <td>239.229996</td>\n",
       "      <td>239.229996</td>\n",
       "      <td>21317700</td>\n",
       "    </tr>\n",
       "  </tbody>\n",
       "</table>\n",
       "<p>9286 rows × 6 columns</p>\n",
       "</div>"
      ],
      "text/plain": [
       "                                 Open        High         Low       Close  \\\n",
       "Date                                                                        \n",
       "1986-03-13 00:00:00-05:00    0.088542    0.101563    0.088542    0.097222   \n",
       "1986-03-14 00:00:00-05:00    0.097222    0.102431    0.097222    0.100694   \n",
       "1986-03-17 00:00:00-05:00    0.100694    0.103299    0.100694    0.102431   \n",
       "1986-03-18 00:00:00-05:00    0.102431    0.103299    0.098958    0.099826   \n",
       "1986-03-19 00:00:00-05:00    0.099826    0.100694    0.097222    0.098090   \n",
       "...                               ...         ...         ...         ...   \n",
       "2023-01-09 00:00:00-05:00  226.449997  231.240005  226.410004  227.119995   \n",
       "2023-01-10 00:00:00-05:00  227.759995  231.309998  227.330002  228.850006   \n",
       "2023-01-11 00:00:00-05:00  231.289993  235.949997  231.110001  235.770004   \n",
       "2023-01-12 00:00:00-05:00  235.259995  239.899994  233.559998  238.509995   \n",
       "2023-01-13 00:00:00-05:00  237.000000  239.369995  234.919998  239.229996   \n",
       "\n",
       "                            Adj Close      Volume  \n",
       "Date                                               \n",
       "1986-03-13 00:00:00-05:00    0.060809  1031788800  \n",
       "1986-03-14 00:00:00-05:00    0.062980   308160000  \n",
       "1986-03-17 00:00:00-05:00    0.064067   133171200  \n",
       "1986-03-18 00:00:00-05:00    0.062437    67766400  \n",
       "1986-03-19 00:00:00-05:00    0.061351    47894400  \n",
       "...                               ...         ...  \n",
       "2023-01-09 00:00:00-05:00  227.119995    27369800  \n",
       "2023-01-10 00:00:00-05:00  228.850006    27033900  \n",
       "2023-01-11 00:00:00-05:00  235.770004    28669300  \n",
       "2023-01-12 00:00:00-05:00  238.509995    27269500  \n",
       "2023-01-13 00:00:00-05:00  239.229996    21317700  \n",
       "\n",
       "[9286 rows x 6 columns]"
      ]
     },
     "execution_count": 21,
     "metadata": {},
     "output_type": "execute_result"
    }
   ],
   "source": [
    "## 1. Load MSFT stock data\n",
    "\n",
    "msft = pdr.get_data_yahoo('MSFT')\n",
    "msft"
   ]
  },
  {
   "cell_type": "code",
   "execution_count": 22,
   "id": "498063ae",
   "metadata": {},
   "outputs": [
    {
     "data": {
      "text/plain": [
       "Date         datetime64[ns, America/New_York]\n",
       "Open                                  float64\n",
       "High                                  float64\n",
       "Low                                   float64\n",
       "Close                                 float64\n",
       "Adj Close                             float64\n",
       "Volume                                  int64\n",
       "dtype: object"
      ]
     },
     "execution_count": 22,
     "metadata": {},
     "output_type": "execute_result"
    }
   ],
   "source": [
    "msft.reset_index().dtypes"
   ]
  },
  {
   "cell_type": "code",
   "execution_count": 23,
   "id": "a9790c39",
   "metadata": {},
   "outputs": [
    {
     "data": {
      "text/plain": [
       "Date         datetime64[ns]\n",
       "Open                float64\n",
       "High                float64\n",
       "Low                 float64\n",
       "Close               float64\n",
       "Adj Close           float64\n",
       "Volume                int64\n",
       "dtype: object"
      ]
     },
     "execution_count": 23,
     "metadata": {},
     "output_type": "execute_result"
    }
   ],
   "source": [
    "# Keep only the date in \"Date\" feature\n",
    "\n",
    "msft.reset_index(inplace=True)\n",
    "msft.Date = pd.to_datetime(pd.to_datetime(msft.Date).dt.date)\n",
    "msft.set_index(\"Date\", inplace=True)\n",
    "msft.reset_index().dtypes"
   ]
  },
  {
   "cell_type": "code",
   "execution_count": 24,
   "id": "70852a6a",
   "metadata": {},
   "outputs": [
    {
     "data": {
      "text/plain": [
       "<AxesSubplot:title={'center':'MSFT Stock'}, xlabel='Date', ylabel='Open'>"
      ]
     },
     "execution_count": 24,
     "metadata": {},
     "output_type": "execute_result"
    },
    {
     "data": {
      "image/png": "[encoded data removed]",
      "text/plain": [
       "<Figure size 1000x600 with 1 Axes>"
      ]
     },
     "metadata": {},
     "output_type": "display_data"
    }
   ],
   "source": [
    "msft['Open'].plot(figsize=(10, 6), xlabel='Date', ylabel='Open', title='MSFT Stock')"
   ]
  },
  {
   "cell_type": "code",
   "execution_count": 25,
   "id": "0446fbc5",
   "metadata": {},
   "outputs": [
    {
     "data": {
      "text/plain": [
       "Date\n",
       "2017-12-31     87.120003\n",
       "2018-12-31    115.419998\n",
       "2019-12-31    159.449997\n",
       "2020-12-31    229.270004\n",
       "2021-12-31    344.619995\n",
       "2022-12-31    335.350006\n",
       "Freq: A-DEC, Name: Open, dtype: float64"
      ]
     },
     "execution_count": 25,
     "metadata": {},
     "output_type": "execute_result"
    }
   ],
   "source": [
    "## 2. Maximum price of share from 2017 to 2022\n",
    "\n",
    "msft.resample('A').max()['Open'].loc[\"2017-12-31\":\"2022-12-31\"]"
   ]
  },
  {
   "cell_type": "code",
   "execution_count": 26,
   "id": "e354e9b5",
   "metadata": {},
   "outputs": [
    {
     "data": {
      "text/plain": [
       "Timestamp('2021-11-22 00:00:00')"
      ]
     },
     "execution_count": 26,
     "metadata": {},
     "output_type": "execute_result"
    }
   ],
   "source": [
    "## 3. Date of the highest price of the share from 2017 to 2022\n",
    "\n",
    "# filter records from 2017 to 2022\n",
    "msft_17_22 = msft[(msft.index.year>=2017) & (msft.index.year<=2022)]\n",
    "\n",
    "# Date of highest price of the share\n",
    "msft_17_22.idxmax()['Open']"
   ]
  },
  {
   "cell_type": "code",
   "execution_count": 27,
   "id": "29528f0d",
   "metadata": {},
   "outputs": [
    {
     "data": {
      "text/plain": [
       "Timestamp('2017-01-05 00:00:00')"
      ]
     },
     "execution_count": 27,
     "metadata": {},
     "output_type": "execute_result"
    }
   ],
   "source": [
    "## 3. Date of the lowest price of the share from 2017 to 2022\n",
    "\n",
    "msft_17_22.idxmin()['Open']"
   ]
  }
 ],
 "metadata": {
  "kernelspec": {
   "display_name": "Python 3 (ipykernel)",
   "language": "python",
   "name": "python3"
  },
  "language_info": {
   "codemirror_mode": {
    "name": "ipython",
    "version": 3
   },
   "file_extension": ".py",
   "mimetype": "text/x-python",
   "name": "python",
   "nbconvert_exporter": "python",
   "pygments_lexer": "ipython3",
   "version": "3.9.13"
  }
 },
 "nbformat": 4,
 "nbformat_minor": 5
}
